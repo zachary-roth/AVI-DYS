{
 "cells": [
  {
   "attachments": {},
   "cell_type": "markdown",
   "id": "761817ba",
   "metadata": {},
   "source": [
    "# AVI-DYS (Different Video Folders)\n",
    "\n",
    "https://deeplabcut.github.io/DeepLabCut/docs/standardDeepLabCut_UserGuide.html"
   ]
  },
  {
   "attachments": {},
   "cell_type": "markdown",
   "id": "9314e141",
   "metadata": {},
   "source": [
    "## Set Up\n",
    "\n",
    "### Import Libraries"
   ]
  },
  {
   "cell_type": "code",
   "execution_count": 1,
   "id": "7dac6c65",
   "metadata": {},
   "outputs": [
    {
     "name": "stdout",
     "output_type": "stream",
     "text": [
      "Loading DLC 2.3.0...\n"
     ]
    }
   ],
   "source": [
    "import deeplabcut\n",
    "import napari\n",
    "import os\n",
    "import yaml"
   ]
  },
  {
   "attachments": {},
   "cell_type": "markdown",
   "id": "b044b02c",
   "metadata": {},
   "source": [
    "### Specify Notebook Parameters\n",
    "\n",
    "If you are using this notebook for the first time, pass the gpu you want to use and the directory containing the video files"
   ]
  },
  {
   "cell_type": "code",
   "execution_count": 2,
   "id": "00e5b33e",
   "metadata": {},
   "outputs": [],
   "source": [
    "notebook_gpu = 1\n",
    "videoDir = \"C:\\\\Users\\\\zacha\\\\Data\\\\AVI-DYS\\\\DATA\\\\cropped\""
   ]
  },
  {
   "attachments": {},
   "cell_type": "markdown",
   "id": "3ca397ba",
   "metadata": {},
   "source": [
    "If you've already created a project, paste the config path below"
   ]
  },
  {
   "cell_type": "code",
   "execution_count": null,
   "id": "d77e7fa9",
   "metadata": {},
   "outputs": [],
   "source": [
    "config_path = \"C:\\\\Users\\\\zacha\\\\Repos\\\\AVI-DYS\\\\AVI-DYS-lower-limb-zach_roth-2023-04-19\\\\config.yaml\"\n",
    "# Windows users\n",
    "project_path=config_path.rsplit('\\\\',1)[0]\n",
    "# Mac or Linux users\n",
    "# project_path=config_path.rsplit('/',1)[0]"
   ]
  },
  {
   "attachments": {},
   "cell_type": "markdown",
   "id": "4e3a7904",
   "metadata": {},
   "source": [
    "### Create a helper function to return the paths of videos in a directory"
   ]
  },
  {
   "cell_type": "code",
   "execution_count": 8,
   "id": "342aca29",
   "metadata": {},
   "outputs": [],
   "source": [
    "def getVideos(videoDir):\n",
    "    videos = os.listdir(videoDir)\n",
    "    videos.sort()\n",
    "    videos_path = []\n",
    "    for video in videos:\n",
    "        videos_path.append(os.path.join(videoDir, video))\n",
    "    return videos_path"
   ]
  },
  {
   "cell_type": "code",
   "execution_count": 9,
   "id": "1c324142",
   "metadata": {},
   "outputs": [],
   "source": [
    "# Get a list of videos\n",
    "videos_path = getVideos(videoDir)"
   ]
  },
  {
   "attachments": {},
   "cell_type": "markdown",
   "id": "728e6cda",
   "metadata": {},
   "source": [
    "## (A) Create a New Project"
   ]
  },
  {
   "cell_type": "code",
   "execution_count": null,
   "id": "6e21ff06",
   "metadata": {},
   "outputs": [],
   "source": [
    "deeplabcut.create_project.new.create_new_project?"
   ]
  },
  {
   "cell_type": "code",
   "execution_count": 11,
   "id": "7d1d23e0",
   "metadata": {},
   "outputs": [
    {
     "name": "stdout",
     "output_type": "stream",
     "text": [
      "Created \"C:\\Users\\zacha\\Repos\\AVI-DYS\\AVI-DYS-lower-limb-zach_roth-2023-04-19\\videos\"\n",
      "Created \"C:\\Users\\zacha\\Repos\\AVI-DYS\\AVI-DYS-lower-limb-zach_roth-2023-04-19\\labeled-data\"\n",
      "Created \"C:\\Users\\zacha\\Repos\\AVI-DYS\\AVI-DYS-lower-limb-zach_roth-2023-04-19\\training-datasets\"\n",
      "Created \"C:\\Users\\zacha\\Repos\\AVI-DYS\\AVI-DYS-lower-limb-zach_roth-2023-04-19\\dlc-models\"\n",
      "Copying the videos\n",
      "C:\\Users\\zacha\\Repos\\AVI-DYS\\AVI-DYS-lower-limb-zach_roth-2023-04-19\\videos\\001-11cropped.mp4\n",
      "C:\\Users\\zacha\\Repos\\AVI-DYS\\AVI-DYS-lower-limb-zach_roth-2023-04-19\\videos\\001-12cropped.mp4\n",
      "C:\\Users\\zacha\\Repos\\AVI-DYS\\AVI-DYS-lower-limb-zach_roth-2023-04-19\\videos\\003-11cropped.mp4\n",
      "C:\\Users\\zacha\\Repos\\AVI-DYS\\AVI-DYS-lower-limb-zach_roth-2023-04-19\\videos\\003-12cropped.mp4\n",
      "C:\\Users\\zacha\\Repos\\AVI-DYS\\AVI-DYS-lower-limb-zach_roth-2023-04-19\\videos\\004-11cropped.mp4\n",
      "C:\\Users\\zacha\\Repos\\AVI-DYS\\AVI-DYS-lower-limb-zach_roth-2023-04-19\\videos\\004-12cropped.mp4\n",
      "C:\\Users\\zacha\\Repos\\AVI-DYS\\AVI-DYS-lower-limb-zach_roth-2023-04-19\\videos\\005-11cropped.mp4\n",
      "C:\\Users\\zacha\\Repos\\AVI-DYS\\AVI-DYS-lower-limb-zach_roth-2023-04-19\\videos\\005-12cropped.mp4\n",
      "C:\\Users\\zacha\\Repos\\AVI-DYS\\AVI-DYS-lower-limb-zach_roth-2023-04-19\\videos\\115-11cropped.mp4\n",
      "C:\\Users\\zacha\\Repos\\AVI-DYS\\AVI-DYS-lower-limb-zach_roth-2023-04-19\\videos\\115-12cropped.mp4\n",
      "C:\\Users\\zacha\\Repos\\AVI-DYS\\AVI-DYS-lower-limb-zach_roth-2023-04-19\\videos\\116-11cropped.mp4\n",
      "C:\\Users\\zacha\\Repos\\AVI-DYS\\AVI-DYS-lower-limb-zach_roth-2023-04-19\\videos\\116-12cropped.mp4\n",
      "C:\\Users\\zacha\\Repos\\AVI-DYS\\AVI-DYS-lower-limb-zach_roth-2023-04-19\\videos\\117-11cropped.mp4\n",
      "C:\\Users\\zacha\\Repos\\AVI-DYS\\AVI-DYS-lower-limb-zach_roth-2023-04-19\\videos\\117-12cropped.mp4\n",
      "C:\\Users\\zacha\\Repos\\AVI-DYS\\AVI-DYS-lower-limb-zach_roth-2023-04-19\\videos\\118-11cropped.mp4\n",
      "C:\\Users\\zacha\\Repos\\AVI-DYS\\AVI-DYS-lower-limb-zach_roth-2023-04-19\\videos\\118-12cropped.mp4\n",
      "C:\\Users\\zacha\\Repos\\AVI-DYS\\AVI-DYS-lower-limb-zach_roth-2023-04-19\\videos\\120-11cropped.mp4\n",
      "C:\\Users\\zacha\\Repos\\AVI-DYS\\AVI-DYS-lower-limb-zach_roth-2023-04-19\\videos\\120-12cropped.mp4\n",
      "C:\\Users\\zacha\\Repos\\AVI-DYS\\AVI-DYS-lower-limb-zach_roth-2023-04-19\\videos\\121-11cropped.mp4\n",
      "C:\\Users\\zacha\\Repos\\AVI-DYS\\AVI-DYS-lower-limb-zach_roth-2023-04-19\\videos\\121-12cropped.mp4\n",
      "C:\\Users\\zacha\\Repos\\AVI-DYS\\AVI-DYS-lower-limb-zach_roth-2023-04-19\\videos\\122-11cropped.mp4\n",
      "C:\\Users\\zacha\\Repos\\AVI-DYS\\AVI-DYS-lower-limb-zach_roth-2023-04-19\\videos\\122-12cropped.mp4\n",
      "C:\\Users\\zacha\\Repos\\AVI-DYS\\AVI-DYS-lower-limb-zach_roth-2023-04-19\\videos\\123-11cropped.mp4\n",
      "C:\\Users\\zacha\\Repos\\AVI-DYS\\AVI-DYS-lower-limb-zach_roth-2023-04-19\\videos\\123-12cropped.mp4\n",
      "C:\\Users\\zacha\\Repos\\AVI-DYS\\AVI-DYS-lower-limb-zach_roth-2023-04-19\\videos\\125-11cropped.mp4\n",
      "C:\\Users\\zacha\\Repos\\AVI-DYS\\AVI-DYS-lower-limb-zach_roth-2023-04-19\\videos\\125-12cropped.mp4\n",
      "C:\\Users\\zacha\\Repos\\AVI-DYS\\AVI-DYS-lower-limb-zach_roth-2023-04-19\\videos\\126-11cropped.mp4\n",
      "C:\\Users\\zacha\\Repos\\AVI-DYS\\AVI-DYS-lower-limb-zach_roth-2023-04-19\\videos\\126-12cropped.mp4\n",
      "C:\\Users\\zacha\\Repos\\AVI-DYS\\AVI-DYS-lower-limb-zach_roth-2023-04-19\\videos\\127-11cropped.mp4\n",
      "C:\\Users\\zacha\\Repos\\AVI-DYS\\AVI-DYS-lower-limb-zach_roth-2023-04-19\\videos\\127-12cropped.mp4\n",
      "C:\\Users\\zacha\\Repos\\AVI-DYS\\AVI-DYS-lower-limb-zach_roth-2023-04-19\\videos\\128-11cropped.mp4\n",
      "C:\\Users\\zacha\\Repos\\AVI-DYS\\AVI-DYS-lower-limb-zach_roth-2023-04-19\\videos\\128-12cropped.mp4\n",
      "C:\\Users\\zacha\\Repos\\AVI-DYS\\AVI-DYS-lower-limb-zach_roth-2023-04-19\\videos\\129-11cropped.mp4\n",
      "C:\\Users\\zacha\\Repos\\AVI-DYS\\AVI-DYS-lower-limb-zach_roth-2023-04-19\\videos\\129-12cropped.mp4\n",
      "C:\\Users\\zacha\\Repos\\AVI-DYS\\AVI-DYS-lower-limb-zach_roth-2023-04-19\\videos\\130-11cropped.mp4\n",
      "C:\\Users\\zacha\\Repos\\AVI-DYS\\AVI-DYS-lower-limb-zach_roth-2023-04-19\\videos\\130-12cropped.mp4\n",
      "C:\\Users\\zacha\\Repos\\AVI-DYS\\AVI-DYS-lower-limb-zach_roth-2023-04-19\\videos\\131-11cropped.mp4\n",
      "C:\\Users\\zacha\\Repos\\AVI-DYS\\AVI-DYS-lower-limb-zach_roth-2023-04-19\\videos\\131-12cropped.mp4\n",
      "C:\\Users\\zacha\\Repos\\AVI-DYS\\AVI-DYS-lower-limb-zach_roth-2023-04-19\\videos\\132-11cropped.mp4\n",
      "C:\\Users\\zacha\\Repos\\AVI-DYS\\AVI-DYS-lower-limb-zach_roth-2023-04-19\\videos\\132-12cropped.mp4\n",
      "C:\\Users\\zacha\\Repos\\AVI-DYS\\AVI-DYS-lower-limb-zach_roth-2023-04-19\\videos\\133-11cropped.mp4\n",
      "C:\\Users\\zacha\\Repos\\AVI-DYS\\AVI-DYS-lower-limb-zach_roth-2023-04-19\\videos\\133-12cropped.mp4\n",
      "C:\\Users\\zacha\\Repos\\AVI-DYS\\AVI-DYS-lower-limb-zach_roth-2023-04-19\\videos\\135-11cropped.mp4\n",
      "C:\\Users\\zacha\\Repos\\AVI-DYS\\AVI-DYS-lower-limb-zach_roth-2023-04-19\\videos\\135-12cropped.mp4\n",
      "C:\\Users\\zacha\\Repos\\AVI-DYS\\AVI-DYS-lower-limb-zach_roth-2023-04-19\\videos\\137-11cropped.mp4\n",
      "C:\\Users\\zacha\\Repos\\AVI-DYS\\AVI-DYS-lower-limb-zach_roth-2023-04-19\\videos\\137-12cropped.mp4\n",
      "C:\\Users\\zacha\\Repos\\AVI-DYS\\AVI-DYS-lower-limb-zach_roth-2023-04-19\\videos\\138-11cropped.mp4\n",
      "C:\\Users\\zacha\\Repos\\AVI-DYS\\AVI-DYS-lower-limb-zach_roth-2023-04-19\\videos\\138-12cropped.mp4\n",
      "C:\\Users\\zacha\\Repos\\AVI-DYS\\AVI-DYS-lower-limb-zach_roth-2023-04-19\\videos\\139-11cropped.mp4\n",
      "C:\\Users\\zacha\\Repos\\AVI-DYS\\AVI-DYS-lower-limb-zach_roth-2023-04-19\\videos\\139-12cropped.mp4\n",
      "C:\\Users\\zacha\\Repos\\AVI-DYS\\AVI-DYS-lower-limb-zach_roth-2023-04-19\\videos\\151-11cropped.mp4\n",
      "C:\\Users\\zacha\\Repos\\AVI-DYS\\AVI-DYS-lower-limb-zach_roth-2023-04-19\\videos\\151-12cropped.mp4\n",
      "C:\\Users\\zacha\\Repos\\AVI-DYS\\AVI-DYS-lower-limb-zach_roth-2023-04-19\\videos\\152-11cropped.mp4\n",
      "C:\\Users\\zacha\\Repos\\AVI-DYS\\AVI-DYS-lower-limb-zach_roth-2023-04-19\\videos\\152-12cropped.mp4\n",
      "C:\\Users\\zacha\\Repos\\AVI-DYS\\AVI-DYS-lower-limb-zach_roth-2023-04-19\\videos\\155-11cropped.mp4\n",
      "C:\\Users\\zacha\\Repos\\AVI-DYS\\AVI-DYS-lower-limb-zach_roth-2023-04-19\\videos\\155-12cropped.mp4\n",
      "C:\\Users\\zacha\\Repos\\AVI-DYS\\AVI-DYS-lower-limb-zach_roth-2023-04-19\\videos\\156-11cropped.mp4\n",
      "C:\\Users\\zacha\\Repos\\AVI-DYS\\AVI-DYS-lower-limb-zach_roth-2023-04-19\\videos\\156-12cropped.mp4\n",
      "C:\\Users\\zacha\\Repos\\AVI-DYS\\AVI-DYS-lower-limb-zach_roth-2023-04-19\\videos\\301-11cropped.mp4\n",
      "C:\\Users\\zacha\\Repos\\AVI-DYS\\AVI-DYS-lower-limb-zach_roth-2023-04-19\\videos\\301-12cropped.mp4\n",
      "C:\\Users\\zacha\\Repos\\AVI-DYS\\AVI-DYS-lower-limb-zach_roth-2023-04-19\\videos\\303-11cropped.mp4\n",
      "C:\\Users\\zacha\\Repos\\AVI-DYS\\AVI-DYS-lower-limb-zach_roth-2023-04-19\\videos\\303-12cropped.mp4\n",
      "C:\\Users\\zacha\\Repos\\AVI-DYS\\AVI-DYS-lower-limb-zach_roth-2023-04-19\\videos\\304-11cropped.mp4\n",
      "C:\\Users\\zacha\\Repos\\AVI-DYS\\AVI-DYS-lower-limb-zach_roth-2023-04-19\\videos\\304-12cropped.mp4\n",
      "C:\\Users\\zacha\\Repos\\AVI-DYS\\AVI-DYS-lower-limb-zach_roth-2023-04-19\\videos\\305-11cropped.mp4\n",
      "C:\\Users\\zacha\\Repos\\AVI-DYS\\AVI-DYS-lower-limb-zach_roth-2023-04-19\\videos\\305-12cropped.mp4\n",
      "C:\\Users\\zacha\\Repos\\AVI-DYS\\AVI-DYS-lower-limb-zach_roth-2023-04-19\\videos\\306-11cropped.mp4\n",
      "C:\\Users\\zacha\\Repos\\AVI-DYS\\AVI-DYS-lower-limb-zach_roth-2023-04-19\\videos\\306-12cropped.mp4\n",
      "C:\\Users\\zacha\\Repos\\AVI-DYS\\AVI-DYS-lower-limb-zach_roth-2023-04-19\\videos\\307-11cropped.mp4\n",
      "C:\\Users\\zacha\\Repos\\AVI-DYS\\AVI-DYS-lower-limb-zach_roth-2023-04-19\\videos\\307-12cropped.mp4\n",
      "C:\\Users\\zacha\\Repos\\AVI-DYS\\AVI-DYS-lower-limb-zach_roth-2023-04-19\\videos\\308-11cropped.mp4\n",
      "C:\\Users\\zacha\\Repos\\AVI-DYS\\AVI-DYS-lower-limb-zach_roth-2023-04-19\\videos\\308-12cropped.mp4\n",
      "C:\\Users\\zacha\\Repos\\AVI-DYS\\AVI-DYS-lower-limb-zach_roth-2023-04-19\\videos\\309-11cropped.mp4\n",
      "C:\\Users\\zacha\\Repos\\AVI-DYS\\AVI-DYS-lower-limb-zach_roth-2023-04-19\\videos\\309-12cropped.mp4\n",
      "Generated \"C:\\Users\\zacha\\Repos\\AVI-DYS\\AVI-DYS-lower-limb-zach_roth-2023-04-19\\config.yaml\"\n",
      "\n",
      "A new project with name AVI-DYS-lower-limb-zach_roth-2023-04-19 is created at C:\\Users\\zacha\\Repos\\AVI-DYS and a configurable file (config.yaml) is stored there. Change the parameters in this file to adapt to your project's needs.\n",
      " Once you have changed the configuration file, use the function 'extract_frames' to select frames for labeling.\n",
      ". [OPTIONAL] Use the function 'add_new_videos' to add new videos to your project (at any stage).\n"
     ]
    }
   ],
   "source": [
    "config_path=deeplabcut.create_project.new.create_new_project(\n",
    "            project = 'AVI-DYS-lower-limb',\n",
    "            experimenter = 'zach_roth',\n",
    "            videos = videos_path,\n",
    "            working_directory=os.getcwd(),\n",
    "            copy_videos=True,\n",
    "            videotype='.mp4',\n",
    "            multianimal=False,\n",
    "            )"
   ]
  },
  {
   "attachments": {},
   "cell_type": "markdown",
   "id": "f837edae",
   "metadata": {},
   "source": [
    "### (B) Configure the Project"
   ]
  },
  {
   "attachments": {},
   "cell_type": "markdown",
   "id": "7f2ad75c",
   "metadata": {},
   "source": [
    "#### Create a helper function to modify .yaml config files"
   ]
  },
  {
   "cell_type": "code",
   "execution_count": 12,
   "id": "360cecd7",
   "metadata": {},
   "outputs": [],
   "source": [
    " def modify_yaml(filename,write_file, key,value):\n",
    "    with open(f'{filename}', 'r') as f:\n",
    "        data = yaml.safe_load(f)\n",
    "        data[f'{key}'] = value\n",
    "    with open(f'{write_file}', 'w') as file:\n",
    "        yaml.dump(data,file,sort_keys=False)\n",
    "    print(f\"{key} modified!\")"
   ]
  },
  {
   "cell_type": "code",
   "execution_count": 13,
   "id": "bec5da2c",
   "metadata": {},
   "outputs": [],
   "source": [
    "# Create a list of bodyparts\n",
    "bodyparts = ['RKNE',\n",
    "             'RANK',\n",
    "             'RD3M',\n",
    "             'RD1M',\n",
    "             'RHLX',\n",
    "             'LHLX',\n",
    "             'LD1M',\n",
    "             'LD3M',\n",
    "             'LANK',\n",
    "             'LKNE']"
   ]
  },
  {
   "cell_type": "code",
   "execution_count": 14,
   "id": "91b13b27",
   "metadata": {},
   "outputs": [
    {
     "name": "stdout",
     "output_type": "stream",
     "text": [
      "bodyparts modified!\n"
     ]
    }
   ],
   "source": [
    "modify_yaml(config_path, config_path, 'bodyparts', bodyparts)"
   ]
  },
  {
   "cell_type": "code",
   "execution_count": 15,
   "id": "b42d9d6d",
   "metadata": {},
   "outputs": [
    {
     "name": "stdout",
     "output_type": "stream",
     "text": [
      "numframes2pick modified!\n"
     ]
    }
   ],
   "source": [
    "modify_yaml(config_path, config_path, 'numframes2pick', 10)"
   ]
  },
  {
   "cell_type": "code",
   "execution_count": 16,
   "id": "f5698205",
   "metadata": {},
   "outputs": [],
   "source": [
    "skeleton  = [['RKNE','RANK'],\n",
    "             ['RANK','RD3M'],\n",
    "             ['RANK','RD1M'],\n",
    "             ['RD1M','RHLX'],\n",
    "             ['LKNE','LANK'],\n",
    "             ['LANK','LD3M'],\n",
    "             ['LANK','LD1M'],\n",
    "             ['LD1M','LHLX']]"
   ]
  },
  {
   "cell_type": "code",
   "execution_count": 17,
   "id": "8e8b5a1d",
   "metadata": {},
   "outputs": [
    {
     "name": "stdout",
     "output_type": "stream",
     "text": [
      "skeleton modified!\n"
     ]
    }
   ],
   "source": [
    "modify_yaml(config_path, config_path, 'skeleton', skeleton)"
   ]
  },
  {
   "cell_type": "code",
   "execution_count": 18,
   "id": "a98d719c",
   "metadata": {},
   "outputs": [
    {
     "name": "stdout",
     "output_type": "stream",
     "text": [
      "pcutoff modified!\n"
     ]
    }
   ],
   "source": [
    "modify_yaml(config_path, config_path, 'pcutoff', 0.8)"
   ]
  },
  {
   "cell_type": "code",
   "execution_count": 19,
   "id": "9e121eb4",
   "metadata": {},
   "outputs": [
    {
     "name": "stdout",
     "output_type": "stream",
     "text": [
      "dotsize modified!\n"
     ]
    }
   ],
   "source": [
    "modify_yaml(config_path, config_path, 'dotsize', 10)"
   ]
  },
  {
   "cell_type": "code",
   "execution_count": 20,
   "id": "ecb1ef80",
   "metadata": {},
   "outputs": [
    {
     "name": "stdout",
     "output_type": "stream",
     "text": [
      "default_net_type modified!\n"
     ]
    }
   ],
   "source": [
    "modify_yaml(config_path, config_path, 'default_net_type', 'resnet_152')"
   ]
  },
  {
   "cell_type": "code",
   "execution_count": 21,
   "id": "e19dd51d",
   "metadata": {
    "scrolled": true
   },
   "outputs": [
    {
     "name": "stdout",
     "output_type": "stream",
     "text": [
      "default_augmenter modified!\n"
     ]
    }
   ],
   "source": [
    "modify_yaml(config_path, config_path, 'default_augmenter', 'imgaug')"
   ]
  },
  {
   "cell_type": "code",
   "execution_count": 22,
   "id": "781dc9f8",
   "metadata": {},
   "outputs": [
    {
     "name": "stdout",
     "output_type": "stream",
     "text": [
      "skeleton_color modified!\n"
     ]
    }
   ],
   "source": [
    "modify_yaml(config_path, config_path, 'skeleton_color', 'white')"
   ]
  },
  {
   "attachments": {},
   "cell_type": "markdown",
   "id": "2a5036f3",
   "metadata": {},
   "source": [
    "## Crop the videos using the GUI"
   ]
  },
  {
   "cell_type": "code",
   "execution_count": null,
   "id": "51bf34bd",
   "metadata": {
    "scrolled": true
   },
   "outputs": [],
   "source": [
    "## In the command prompt type:\n",
    "# conda activate DEEPLABCUT (or the name of your DLC env)\n",
    "# python -m deeplabcut"
   ]
  },
  {
   "attachments": {},
   "cell_type": "markdown",
   "id": "d71fd7ee",
   "metadata": {},
   "source": [
    "## (C) Data Selection (extract frames)"
   ]
  },
  {
   "cell_type": "code",
   "execution_count": null,
   "id": "ca913193",
   "metadata": {},
   "outputs": [],
   "source": [
    "deeplabcut.extract_frames?"
   ]
  },
  {
   "cell_type": "code",
   "execution_count": 24,
   "id": "776793ed",
   "metadata": {},
   "outputs": [
    {
     "name": "stdout",
     "output_type": "stream",
     "text": [
      "Config file read successfully.\n",
      "Extracting frames based on kmeans ...\n",
      "Kmeans-quantization based extracting of frames from 0.0  seconds to 8.24  seconds.\n",
      "Extracting and downsampling... 206  frames from the video.\n"
     ]
    },
    {
     "name": "stderr",
     "output_type": "stream",
     "text": [
      "206it [00:00, 1572.52it/s]"
     ]
    },
    {
     "name": "stdout",
     "output_type": "stream",
     "text": [
      "Kmeans clustering ... (this might take a while)\n"
     ]
    },
    {
     "name": "stderr",
     "output_type": "stream",
     "text": [
      "\n",
      "C:\\Users\\zacha\\anaconda3\\envs\\dlc-gpu1\\lib\\site-packages\\sklearn\\cluster\\_kmeans.py:870: FutureWarning: The default value of `n_init` will change from 3 to 'auto' in 1.4. Set the value of `n_init` explicitly to suppress the warning\n",
      "  warnings.warn(\n"
     ]
    },
    {
     "name": "stdout",
     "output_type": "stream",
     "text": [
      "Extracting frames based on kmeans ...\n",
      "Kmeans-quantization based extracting of frames from 0.0  seconds to 16.08  seconds.\n",
      "Extracting and downsampling... 402  frames from the video.\n"
     ]
    },
    {
     "name": "stderr",
     "output_type": "stream",
     "text": [
      "402it [00:00, 1062.18it/s]\n",
      "C:\\Users\\zacha\\anaconda3\\envs\\dlc-gpu1\\lib\\site-packages\\sklearn\\cluster\\_kmeans.py:870: FutureWarning: The default value of `n_init` will change from 3 to 'auto' in 1.4. Set the value of `n_init` explicitly to suppress the warning\n",
      "  warnings.warn(\n"
     ]
    },
    {
     "name": "stdout",
     "output_type": "stream",
     "text": [
      "Kmeans clustering ... (this might take a while)\n",
      "Extracting frames based on kmeans ...\n",
      "Kmeans-quantization based extracting of frames from 0.0  seconds to 5.4  seconds.\n",
      "Extracting and downsampling... 135  frames from the video.\n"
     ]
    },
    {
     "name": "stderr",
     "output_type": "stream",
     "text": [
      "135it [00:00, 1261.64it/s]"
     ]
    },
    {
     "name": "stdout",
     "output_type": "stream",
     "text": [
      "Kmeans clustering ... (this might take a while)\n"
     ]
    },
    {
     "name": "stderr",
     "output_type": "stream",
     "text": [
      "\n",
      "C:\\Users\\zacha\\anaconda3\\envs\\dlc-gpu1\\lib\\site-packages\\sklearn\\cluster\\_kmeans.py:870: FutureWarning: The default value of `n_init` will change from 3 to 'auto' in 1.4. Set the value of `n_init` explicitly to suppress the warning\n",
      "  warnings.warn(\n"
     ]
    },
    {
     "name": "stdout",
     "output_type": "stream",
     "text": [
      "Extracting frames based on kmeans ...\n",
      "Kmeans-quantization based extracting of frames from 0.0  seconds to 12.48  seconds.\n",
      "Extracting and downsampling... 312  frames from the video.\n"
     ]
    },
    {
     "name": "stderr",
     "output_type": "stream",
     "text": [
      "312it [00:00, 1411.76it/s]\n",
      "C:\\Users\\zacha\\anaconda3\\envs\\dlc-gpu1\\lib\\site-packages\\sklearn\\cluster\\_kmeans.py:870: FutureWarning: The default value of `n_init` will change from 3 to 'auto' in 1.4. Set the value of `n_init` explicitly to suppress the warning\n",
      "  warnings.warn(\n"
     ]
    },
    {
     "name": "stdout",
     "output_type": "stream",
     "text": [
      "Kmeans clustering ... (this might take a while)\n",
      "Extracting frames based on kmeans ...\n",
      "Kmeans-quantization based extracting of frames from 0.0  seconds to 11.36  seconds.\n",
      "Extracting and downsampling... 284  frames from the video.\n"
     ]
    },
    {
     "name": "stderr",
     "output_type": "stream",
     "text": [
      "284it [00:00, 818.45it/s]\n",
      "C:\\Users\\zacha\\anaconda3\\envs\\dlc-gpu1\\lib\\site-packages\\sklearn\\cluster\\_kmeans.py:870: FutureWarning: The default value of `n_init` will change from 3 to 'auto' in 1.4. Set the value of `n_init` explicitly to suppress the warning\n",
      "  warnings.warn(\n"
     ]
    },
    {
     "name": "stdout",
     "output_type": "stream",
     "text": [
      "Kmeans clustering ... (this might take a while)\n",
      "Extracting frames based on kmeans ...\n",
      "Kmeans-quantization based extracting of frames from 0.0  seconds to 11.12  seconds.\n",
      "Extracting and downsampling... 278  frames from the video.\n"
     ]
    },
    {
     "name": "stderr",
     "output_type": "stream",
     "text": [
      "278it [00:00, 815.25it/s]\n",
      "C:\\Users\\zacha\\anaconda3\\envs\\dlc-gpu1\\lib\\site-packages\\sklearn\\cluster\\_kmeans.py:870: FutureWarning: The default value of `n_init` will change from 3 to 'auto' in 1.4. Set the value of `n_init` explicitly to suppress the warning\n",
      "  warnings.warn(\n"
     ]
    },
    {
     "name": "stdout",
     "output_type": "stream",
     "text": [
      "Kmeans clustering ... (this might take a while)\n",
      "Extracting frames based on kmeans ...\n",
      "Kmeans-quantization based extracting of frames from 0.0  seconds to 13.0  seconds.\n",
      "Extracting and downsampling... 325  frames from the video.\n"
     ]
    },
    {
     "name": "stderr",
     "output_type": "stream",
     "text": [
      "325it [00:00, 1351.15it/s]\n",
      "C:\\Users\\zacha\\anaconda3\\envs\\dlc-gpu1\\lib\\site-packages\\sklearn\\cluster\\_kmeans.py:870: FutureWarning: The default value of `n_init` will change from 3 to 'auto' in 1.4. Set the value of `n_init` explicitly to suppress the warning\n",
      "  warnings.warn(\n"
     ]
    },
    {
     "name": "stdout",
     "output_type": "stream",
     "text": [
      "Kmeans clustering ... (this might take a while)\n",
      "Extracting frames based on kmeans ...\n",
      "Kmeans-quantization based extracting of frames from 0.0  seconds to 8.12  seconds.\n",
      "Extracting and downsampling... 203  frames from the video.\n"
     ]
    },
    {
     "name": "stderr",
     "output_type": "stream",
     "text": [
      "203it [00:00, 1429.58it/s]"
     ]
    },
    {
     "name": "stdout",
     "output_type": "stream",
     "text": [
      "Kmeans clustering ... (this might take a while)\n"
     ]
    },
    {
     "name": "stderr",
     "output_type": "stream",
     "text": [
      "\n",
      "C:\\Users\\zacha\\anaconda3\\envs\\dlc-gpu1\\lib\\site-packages\\sklearn\\cluster\\_kmeans.py:870: FutureWarning: The default value of `n_init` will change from 3 to 'auto' in 1.4. Set the value of `n_init` explicitly to suppress the warning\n",
      "  warnings.warn(\n"
     ]
    },
    {
     "name": "stdout",
     "output_type": "stream",
     "text": [
      "Extracting frames based on kmeans ...\n",
      "Kmeans-quantization based extracting of frames from 0.0  seconds to 19.44  seconds.\n",
      "Extracting and downsampling... 486  frames from the video.\n"
     ]
    },
    {
     "name": "stderr",
     "output_type": "stream",
     "text": [
      "486it [00:00, 2466.98it/s]\n",
      "C:\\Users\\zacha\\anaconda3\\envs\\dlc-gpu1\\lib\\site-packages\\sklearn\\cluster\\_kmeans.py:870: FutureWarning: The default value of `n_init` will change from 3 to 'auto' in 1.4. Set the value of `n_init` explicitly to suppress the warning\n",
      "  warnings.warn(\n"
     ]
    },
    {
     "name": "stdout",
     "output_type": "stream",
     "text": [
      "Kmeans clustering ... (this might take a while)\n",
      "Extracting frames based on kmeans ...\n",
      "Kmeans-quantization based extracting of frames from 0.0  seconds to 15.72  seconds.\n",
      "Extracting and downsampling... 393  frames from the video.\n"
     ]
    },
    {
     "name": "stderr",
     "output_type": "stream",
     "text": [
      "393it [00:00, 2298.25it/s]"
     ]
    },
    {
     "name": "stdout",
     "output_type": "stream",
     "text": [
      "Kmeans clustering ... (this might take a while)\n"
     ]
    },
    {
     "name": "stderr",
     "output_type": "stream",
     "text": [
      "\n",
      "C:\\Users\\zacha\\anaconda3\\envs\\dlc-gpu1\\lib\\site-packages\\sklearn\\cluster\\_kmeans.py:870: FutureWarning: The default value of `n_init` will change from 3 to 'auto' in 1.4. Set the value of `n_init` explicitly to suppress the warning\n",
      "  warnings.warn(\n"
     ]
    },
    {
     "name": "stdout",
     "output_type": "stream",
     "text": [
      "Extracting frames based on kmeans ...\n",
      "Kmeans-quantization based extracting of frames from 0.0  seconds to 19.0  seconds.\n",
      "Extracting and downsampling... 475  frames from the video.\n"
     ]
    },
    {
     "name": "stderr",
     "output_type": "stream",
     "text": [
      "475it [00:00, 1503.16it/s]\n",
      "C:\\Users\\zacha\\anaconda3\\envs\\dlc-gpu1\\lib\\site-packages\\sklearn\\cluster\\_kmeans.py:870: FutureWarning: The default value of `n_init` will change from 3 to 'auto' in 1.4. Set the value of `n_init` explicitly to suppress the warning\n",
      "  warnings.warn(\n"
     ]
    },
    {
     "name": "stdout",
     "output_type": "stream",
     "text": [
      "Kmeans clustering ... (this might take a while)\n",
      "Extracting frames based on kmeans ...\n",
      "Kmeans-quantization based extracting of frames from 0.0  seconds to 26.73  seconds.\n",
      "Extracting and downsampling... 802  frames from the video.\n"
     ]
    },
    {
     "name": "stderr",
     "output_type": "stream",
     "text": [
      "802it [00:00, 1053.69it/s]\n",
      "C:\\Users\\zacha\\anaconda3\\envs\\dlc-gpu1\\lib\\site-packages\\sklearn\\cluster\\_kmeans.py:870: FutureWarning: The default value of `n_init` will change from 3 to 'auto' in 1.4. Set the value of `n_init` explicitly to suppress the warning\n",
      "  warnings.warn(\n"
     ]
    },
    {
     "name": "stdout",
     "output_type": "stream",
     "text": [
      "Kmeans clustering ... (this might take a while)\n",
      "Extracting frames based on kmeans ...\n",
      "Kmeans-quantization based extracting of frames from 0.0  seconds to 55.44  seconds.\n",
      "Extracting and downsampling... 1386  frames from the video.\n"
     ]
    },
    {
     "name": "stderr",
     "output_type": "stream",
     "text": [
      "1386it [00:14, 93.48it/s] \n",
      "C:\\Users\\zacha\\anaconda3\\envs\\dlc-gpu1\\lib\\site-packages\\sklearn\\cluster\\_kmeans.py:870: FutureWarning: The default value of `n_init` will change from 3 to 'auto' in 1.4. Set the value of `n_init` explicitly to suppress the warning\n",
      "  warnings.warn(\n"
     ]
    },
    {
     "name": "stdout",
     "output_type": "stream",
     "text": [
      "Kmeans clustering ... (this might take a while)\n",
      "Extracting frames based on kmeans ...\n",
      "Kmeans-quantization based extracting of frames from 0.0  seconds to 50.28  seconds.\n",
      "Extracting and downsampling... 1257  frames from the video.\n"
     ]
    },
    {
     "name": "stderr",
     "output_type": "stream",
     "text": [
      "1257it [00:01, 1116.57it/s]\n",
      "C:\\Users\\zacha\\anaconda3\\envs\\dlc-gpu1\\lib\\site-packages\\sklearn\\cluster\\_kmeans.py:870: FutureWarning: The default value of `n_init` will change from 3 to 'auto' in 1.4. Set the value of `n_init` explicitly to suppress the warning\n",
      "  warnings.warn(\n"
     ]
    },
    {
     "name": "stdout",
     "output_type": "stream",
     "text": [
      "Kmeans clustering ... (this might take a while)\n",
      "Extracting frames based on kmeans ...\n",
      "Kmeans-quantization based extracting of frames from 0.0  seconds to 10.6  seconds.\n",
      "Extracting and downsampling... 265  frames from the video.\n"
     ]
    },
    {
     "name": "stderr",
     "output_type": "stream",
     "text": [
      "265it [00:00, 1840.30it/s]"
     ]
    },
    {
     "name": "stdout",
     "output_type": "stream",
     "text": [
      "Kmeans clustering ... (this might take a while)\n"
     ]
    },
    {
     "name": "stderr",
     "output_type": "stream",
     "text": [
      "\n",
      "C:\\Users\\zacha\\anaconda3\\envs\\dlc-gpu1\\lib\\site-packages\\sklearn\\cluster\\_kmeans.py:870: FutureWarning: The default value of `n_init` will change from 3 to 'auto' in 1.4. Set the value of `n_init` explicitly to suppress the warning\n",
      "  warnings.warn(\n"
     ]
    },
    {
     "name": "stdout",
     "output_type": "stream",
     "text": [
      "Extracting frames based on kmeans ...\n",
      "Kmeans-quantization based extracting of frames from 0.0  seconds to 14.4  seconds.\n",
      "Extracting and downsampling... 360  frames from the video.\n"
     ]
    },
    {
     "name": "stderr",
     "output_type": "stream",
     "text": [
      "360it [00:03, 91.99it/s]\n",
      "C:\\Users\\zacha\\anaconda3\\envs\\dlc-gpu1\\lib\\site-packages\\sklearn\\cluster\\_kmeans.py:870: FutureWarning: The default value of `n_init` will change from 3 to 'auto' in 1.4. Set the value of `n_init` explicitly to suppress the warning\n",
      "  warnings.warn(\n"
     ]
    },
    {
     "name": "stdout",
     "output_type": "stream",
     "text": [
      "Kmeans clustering ... (this might take a while)\n",
      "Extracting frames based on kmeans ...\n",
      "Kmeans-quantization based extracting of frames from 0.0  seconds to 24.24  seconds.\n",
      "Extracting and downsampling... 606  frames from the video.\n"
     ]
    },
    {
     "name": "stderr",
     "output_type": "stream",
     "text": [
      "606it [00:00, 1986.88it/s]\n",
      "C:\\Users\\zacha\\anaconda3\\envs\\dlc-gpu1\\lib\\site-packages\\sklearn\\cluster\\_kmeans.py:870: FutureWarning: The default value of `n_init` will change from 3 to 'auto' in 1.4. Set the value of `n_init` explicitly to suppress the warning\n",
      "  warnings.warn(\n"
     ]
    },
    {
     "name": "stdout",
     "output_type": "stream",
     "text": [
      "Kmeans clustering ... (this might take a while)\n",
      "Extracting frames based on kmeans ...\n",
      "Kmeans-quantization based extracting of frames from 0.0  seconds to 31.28  seconds.\n",
      "Extracting and downsampling... 782  frames from the video.\n"
     ]
    },
    {
     "name": "stderr",
     "output_type": "stream",
     "text": [
      "782it [00:00, 1822.86it/s]\n",
      "C:\\Users\\zacha\\anaconda3\\envs\\dlc-gpu1\\lib\\site-packages\\sklearn\\cluster\\_kmeans.py:870: FutureWarning: The default value of `n_init` will change from 3 to 'auto' in 1.4. Set the value of `n_init` explicitly to suppress the warning\n",
      "  warnings.warn(\n"
     ]
    },
    {
     "name": "stdout",
     "output_type": "stream",
     "text": [
      "Kmeans clustering ... (this might take a while)\n",
      "Extracting frames based on kmeans ...\n",
      "Kmeans-quantization based extracting of frames from 0.0  seconds to 29.2  seconds.\n",
      "Extracting and downsampling... 730  frames from the video.\n"
     ]
    },
    {
     "name": "stderr",
     "output_type": "stream",
     "text": [
      "730it [00:00, 2232.41it/s]\n",
      "C:\\Users\\zacha\\anaconda3\\envs\\dlc-gpu1\\lib\\site-packages\\sklearn\\cluster\\_kmeans.py:870: FutureWarning: The default value of `n_init` will change from 3 to 'auto' in 1.4. Set the value of `n_init` explicitly to suppress the warning\n",
      "  warnings.warn(\n"
     ]
    },
    {
     "name": "stdout",
     "output_type": "stream",
     "text": [
      "Kmeans clustering ... (this might take a while)\n",
      "Extracting frames based on kmeans ...\n",
      "Kmeans-quantization based extracting of frames from 0.0  seconds to 26.8  seconds.\n",
      "Extracting and downsampling... 670  frames from the video.\n"
     ]
    },
    {
     "name": "stderr",
     "output_type": "stream",
     "text": [
      "670it [00:00, 2067.90it/s]\n",
      "C:\\Users\\zacha\\anaconda3\\envs\\dlc-gpu1\\lib\\site-packages\\sklearn\\cluster\\_kmeans.py:870: FutureWarning: The default value of `n_init` will change from 3 to 'auto' in 1.4. Set the value of `n_init` explicitly to suppress the warning\n",
      "  warnings.warn(\n"
     ]
    },
    {
     "name": "stdout",
     "output_type": "stream",
     "text": [
      "Kmeans clustering ... (this might take a while)\n",
      "Extracting frames based on kmeans ...\n",
      "Kmeans-quantization based extracting of frames from 0.0  seconds to 26.68  seconds.\n",
      "Extracting and downsampling... 667  frames from the video.\n"
     ]
    },
    {
     "name": "stderr",
     "output_type": "stream",
     "text": [
      "667it [00:00, 2363.35it/s]\n",
      "C:\\Users\\zacha\\anaconda3\\envs\\dlc-gpu1\\lib\\site-packages\\sklearn\\cluster\\_kmeans.py:870: FutureWarning: The default value of `n_init` will change from 3 to 'auto' in 1.4. Set the value of `n_init` explicitly to suppress the warning\n",
      "  warnings.warn(\n"
     ]
    },
    {
     "name": "stdout",
     "output_type": "stream",
     "text": [
      "Kmeans clustering ... (this might take a while)\n",
      "Extracting frames based on kmeans ...\n",
      "Kmeans-quantization based extracting of frames from 0.0  seconds to 29.72  seconds.\n",
      "Extracting and downsampling... 743  frames from the video.\n"
     ]
    },
    {
     "name": "stderr",
     "output_type": "stream",
     "text": [
      "743it [00:00, 2279.27it/s]\n",
      "C:\\Users\\zacha\\anaconda3\\envs\\dlc-gpu1\\lib\\site-packages\\sklearn\\cluster\\_kmeans.py:870: FutureWarning: The default value of `n_init` will change from 3 to 'auto' in 1.4. Set the value of `n_init` explicitly to suppress the warning\n",
      "  warnings.warn(\n"
     ]
    },
    {
     "name": "stdout",
     "output_type": "stream",
     "text": [
      "Kmeans clustering ... (this might take a while)\n",
      "Extracting frames based on kmeans ...\n",
      "Kmeans-quantization based extracting of frames from 0.0  seconds to 31.28  seconds.\n",
      "Extracting and downsampling... 782  frames from the video.\n"
     ]
    },
    {
     "name": "stderr",
     "output_type": "stream",
     "text": [
      "782it [00:00, 1974.77it/s]\n",
      "C:\\Users\\zacha\\anaconda3\\envs\\dlc-gpu1\\lib\\site-packages\\sklearn\\cluster\\_kmeans.py:870: FutureWarning: The default value of `n_init` will change from 3 to 'auto' in 1.4. Set the value of `n_init` explicitly to suppress the warning\n",
      "  warnings.warn(\n"
     ]
    },
    {
     "name": "stdout",
     "output_type": "stream",
     "text": [
      "Kmeans clustering ... (this might take a while)\n",
      "Extracting frames based on kmeans ...\n",
      "Kmeans-quantization based extracting of frames from 0.0  seconds to 28.4  seconds.\n",
      "Extracting and downsampling... 710  frames from the video.\n"
     ]
    },
    {
     "name": "stderr",
     "output_type": "stream",
     "text": [
      "710it [00:00, 1698.57it/s]\n",
      "C:\\Users\\zacha\\anaconda3\\envs\\dlc-gpu1\\lib\\site-packages\\sklearn\\cluster\\_kmeans.py:870: FutureWarning: The default value of `n_init` will change from 3 to 'auto' in 1.4. Set the value of `n_init` explicitly to suppress the warning\n",
      "  warnings.warn(\n"
     ]
    },
    {
     "name": "stdout",
     "output_type": "stream",
     "text": [
      "Kmeans clustering ... (this might take a while)\n",
      "Extracting frames based on kmeans ...\n",
      "Kmeans-quantization based extracting of frames from 0.0  seconds to 33.08  seconds.\n",
      "Extracting and downsampling... 827  frames from the video.\n"
     ]
    },
    {
     "name": "stderr",
     "output_type": "stream",
     "text": [
      "827it [00:00, 2576.33it/s]\n",
      "C:\\Users\\zacha\\anaconda3\\envs\\dlc-gpu1\\lib\\site-packages\\sklearn\\cluster\\_kmeans.py:870: FutureWarning: The default value of `n_init` will change from 3 to 'auto' in 1.4. Set the value of `n_init` explicitly to suppress the warning\n",
      "  warnings.warn(\n"
     ]
    },
    {
     "name": "stdout",
     "output_type": "stream",
     "text": [
      "Kmeans clustering ... (this might take a while)\n",
      "Extracting frames based on kmeans ...\n",
      "Kmeans-quantization based extracting of frames from 0.0  seconds to 34.04  seconds.\n",
      "Extracting and downsampling... 851  frames from the video.\n"
     ]
    },
    {
     "name": "stderr",
     "output_type": "stream",
     "text": [
      "851it [00:00, 2438.40it/s]\n",
      "C:\\Users\\zacha\\anaconda3\\envs\\dlc-gpu1\\lib\\site-packages\\sklearn\\cluster\\_kmeans.py:870: FutureWarning: The default value of `n_init` will change from 3 to 'auto' in 1.4. Set the value of `n_init` explicitly to suppress the warning\n",
      "  warnings.warn(\n"
     ]
    },
    {
     "name": "stdout",
     "output_type": "stream",
     "text": [
      "Kmeans clustering ... (this might take a while)\n",
      "Extracting frames based on kmeans ...\n",
      "Kmeans-quantization based extracting of frames from 0.0  seconds to 22.32  seconds.\n",
      "Extracting and downsampling... 558  frames from the video.\n"
     ]
    },
    {
     "name": "stderr",
     "output_type": "stream",
     "text": [
      "558it [00:00, 2906.23it/s]\n",
      "C:\\Users\\zacha\\anaconda3\\envs\\dlc-gpu1\\lib\\site-packages\\sklearn\\cluster\\_kmeans.py:870: FutureWarning: The default value of `n_init` will change from 3 to 'auto' in 1.4. Set the value of `n_init` explicitly to suppress the warning\n",
      "  warnings.warn(\n"
     ]
    },
    {
     "name": "stdout",
     "output_type": "stream",
     "text": [
      "Kmeans clustering ... (this might take a while)\n",
      "Extracting frames based on kmeans ...\n",
      "Kmeans-quantization based extracting of frames from 0.0  seconds to 26.0  seconds.\n",
      "Extracting and downsampling... 650  frames from the video.\n"
     ]
    },
    {
     "name": "stderr",
     "output_type": "stream",
     "text": [
      "650it [00:00, 3095.26it/s]\n",
      "C:\\Users\\zacha\\anaconda3\\envs\\dlc-gpu1\\lib\\site-packages\\sklearn\\cluster\\_kmeans.py:870: FutureWarning: The default value of `n_init` will change from 3 to 'auto' in 1.4. Set the value of `n_init` explicitly to suppress the warning\n",
      "  warnings.warn(\n"
     ]
    },
    {
     "name": "stdout",
     "output_type": "stream",
     "text": [
      "Kmeans clustering ... (this might take a while)\n",
      "Extracting frames based on kmeans ...\n",
      "Kmeans-quantization based extracting of frames from 0.0  seconds to 19.28  seconds.\n",
      "Extracting and downsampling... 482  frames from the video.\n"
     ]
    },
    {
     "name": "stderr",
     "output_type": "stream",
     "text": [
      "482it [00:00, 2605.40it/s]\n",
      "C:\\Users\\zacha\\anaconda3\\envs\\dlc-gpu1\\lib\\site-packages\\sklearn\\cluster\\_kmeans.py:870: FutureWarning: The default value of `n_init` will change from 3 to 'auto' in 1.4. Set the value of `n_init` explicitly to suppress the warning\n",
      "  warnings.warn(\n"
     ]
    },
    {
     "name": "stdout",
     "output_type": "stream",
     "text": [
      "Kmeans clustering ... (this might take a while)\n",
      "Extracting frames based on kmeans ...\n",
      "Kmeans-quantization based extracting of frames from 0.0  seconds to 17.88  seconds.\n",
      "Extracting and downsampling... 447  frames from the video.\n"
     ]
    },
    {
     "name": "stderr",
     "output_type": "stream",
     "text": [
      "447it [00:00, 2403.22it/s]\n",
      "C:\\Users\\zacha\\anaconda3\\envs\\dlc-gpu1\\lib\\site-packages\\sklearn\\cluster\\_kmeans.py:870: FutureWarning: The default value of `n_init` will change from 3 to 'auto' in 1.4. Set the value of `n_init` explicitly to suppress the warning\n",
      "  warnings.warn(\n"
     ]
    },
    {
     "name": "stdout",
     "output_type": "stream",
     "text": [
      "Kmeans clustering ... (this might take a while)\n",
      "Extracting frames based on kmeans ...\n",
      "Kmeans-quantization based extracting of frames from 0.0  seconds to 17.92  seconds.\n",
      "Extracting and downsampling... 448  frames from the video.\n"
     ]
    },
    {
     "name": "stderr",
     "output_type": "stream",
     "text": [
      "448it [00:00, 1799.19it/s]\n",
      "C:\\Users\\zacha\\anaconda3\\envs\\dlc-gpu1\\lib\\site-packages\\sklearn\\cluster\\_kmeans.py:870: FutureWarning: The default value of `n_init` will change from 3 to 'auto' in 1.4. Set the value of `n_init` explicitly to suppress the warning\n",
      "  warnings.warn(\n"
     ]
    },
    {
     "name": "stdout",
     "output_type": "stream",
     "text": [
      "Kmeans clustering ... (this might take a while)\n",
      "Extracting frames based on kmeans ...\n",
      "Kmeans-quantization based extracting of frames from 0.0  seconds to 17.24  seconds.\n",
      "Extracting and downsampling... 431  frames from the video.\n"
     ]
    },
    {
     "name": "stderr",
     "output_type": "stream",
     "text": [
      "431it [00:00, 1823.53it/s]\n",
      "C:\\Users\\zacha\\anaconda3\\envs\\dlc-gpu1\\lib\\site-packages\\sklearn\\cluster\\_kmeans.py:870: FutureWarning: The default value of `n_init` will change from 3 to 'auto' in 1.4. Set the value of `n_init` explicitly to suppress the warning\n",
      "  warnings.warn(\n"
     ]
    },
    {
     "name": "stdout",
     "output_type": "stream",
     "text": [
      "Kmeans clustering ... (this might take a while)\n",
      "Extracting frames based on kmeans ...\n",
      "Kmeans-quantization based extracting of frames from 0.0  seconds to 18.16  seconds.\n",
      "Extracting and downsampling... 454  frames from the video.\n"
     ]
    },
    {
     "name": "stderr",
     "output_type": "stream",
     "text": [
      "454it [00:00, 2751.52it/s]"
     ]
    },
    {
     "name": "stdout",
     "output_type": "stream",
     "text": [
      "Kmeans clustering ... (this might take a while)\n"
     ]
    },
    {
     "name": "stderr",
     "output_type": "stream",
     "text": [
      "\n",
      "C:\\Users\\zacha\\anaconda3\\envs\\dlc-gpu1\\lib\\site-packages\\sklearn\\cluster\\_kmeans.py:870: FutureWarning: The default value of `n_init` will change from 3 to 'auto' in 1.4. Set the value of `n_init` explicitly to suppress the warning\n",
      "  warnings.warn(\n"
     ]
    },
    {
     "name": "stdout",
     "output_type": "stream",
     "text": [
      "Extracting frames based on kmeans ...\n",
      "Kmeans-quantization based extracting of frames from 0.0  seconds to 16.04  seconds.\n",
      "Extracting and downsampling... 401  frames from the video.\n"
     ]
    },
    {
     "name": "stderr",
     "output_type": "stream",
     "text": [
      "401it [00:00, 2655.64it/s]"
     ]
    },
    {
     "name": "stdout",
     "output_type": "stream",
     "text": [
      "Kmeans clustering ... (this might take a while)\n"
     ]
    },
    {
     "name": "stderr",
     "output_type": "stream",
     "text": [
      "\n",
      "C:\\Users\\zacha\\anaconda3\\envs\\dlc-gpu1\\lib\\site-packages\\sklearn\\cluster\\_kmeans.py:870: FutureWarning: The default value of `n_init` will change from 3 to 'auto' in 1.4. Set the value of `n_init` explicitly to suppress the warning\n",
      "  warnings.warn(\n"
     ]
    },
    {
     "name": "stdout",
     "output_type": "stream",
     "text": [
      "Extracting frames based on kmeans ...\n",
      "Kmeans-quantization based extracting of frames from 0.0  seconds to 15.52  seconds.\n",
      "Extracting and downsampling... 388  frames from the video.\n"
     ]
    },
    {
     "name": "stderr",
     "output_type": "stream",
     "text": [
      "388it [00:00, 2242.78it/s]"
     ]
    },
    {
     "name": "stdout",
     "output_type": "stream",
     "text": [
      "Kmeans clustering ... (this might take a while)\n"
     ]
    },
    {
     "name": "stderr",
     "output_type": "stream",
     "text": [
      "\n",
      "C:\\Users\\zacha\\anaconda3\\envs\\dlc-gpu1\\lib\\site-packages\\sklearn\\cluster\\_kmeans.py:870: FutureWarning: The default value of `n_init` will change from 3 to 'auto' in 1.4. Set the value of `n_init` explicitly to suppress the warning\n",
      "  warnings.warn(\n"
     ]
    },
    {
     "name": "stdout",
     "output_type": "stream",
     "text": [
      "Extracting frames based on kmeans ...\n",
      "Kmeans-quantization based extracting of frames from 0.0  seconds to 17.04  seconds.\n",
      "Extracting and downsampling... 426  frames from the video.\n"
     ]
    },
    {
     "name": "stderr",
     "output_type": "stream",
     "text": [
      "426it [00:00, 2130.00it/s]\n",
      "C:\\Users\\zacha\\anaconda3\\envs\\dlc-gpu1\\lib\\site-packages\\sklearn\\cluster\\_kmeans.py:870: FutureWarning: The default value of `n_init` will change from 3 to 'auto' in 1.4. Set the value of `n_init` explicitly to suppress the warning\n",
      "  warnings.warn(\n"
     ]
    },
    {
     "name": "stdout",
     "output_type": "stream",
     "text": [
      "Kmeans clustering ... (this might take a while)\n",
      "Extracting frames based on kmeans ...\n",
      "Kmeans-quantization based extracting of frames from 0.0  seconds to 11.4  seconds.\n",
      "Extracting and downsampling... 285  frames from the video.\n"
     ]
    },
    {
     "name": "stderr",
     "output_type": "stream",
     "text": [
      "285it [00:00, 2126.87it/s]"
     ]
    },
    {
     "name": "stdout",
     "output_type": "stream",
     "text": [
      "Kmeans clustering ... (this might take a while)\n"
     ]
    },
    {
     "name": "stderr",
     "output_type": "stream",
     "text": [
      "\n",
      "C:\\Users\\zacha\\anaconda3\\envs\\dlc-gpu1\\lib\\site-packages\\sklearn\\cluster\\_kmeans.py:870: FutureWarning: The default value of `n_init` will change from 3 to 'auto' in 1.4. Set the value of `n_init` explicitly to suppress the warning\n",
      "  warnings.warn(\n"
     ]
    },
    {
     "name": "stdout",
     "output_type": "stream",
     "text": [
      "Extracting frames based on kmeans ...\n",
      "Kmeans-quantization based extracting of frames from 0.0  seconds to 16.32  seconds.\n",
      "Extracting and downsampling... 408  frames from the video.\n"
     ]
    },
    {
     "name": "stderr",
     "output_type": "stream",
     "text": [
      "408it [00:00, 1718.24it/s]\n",
      "C:\\Users\\zacha\\anaconda3\\envs\\dlc-gpu1\\lib\\site-packages\\sklearn\\cluster\\_kmeans.py:870: FutureWarning: The default value of `n_init` will change from 3 to 'auto' in 1.4. Set the value of `n_init` explicitly to suppress the warning\n",
      "  warnings.warn(\n"
     ]
    },
    {
     "name": "stdout",
     "output_type": "stream",
     "text": [
      "Kmeans clustering ... (this might take a while)\n",
      "Extracting frames based on kmeans ...\n",
      "Kmeans-quantization based extracting of frames from 0.0  seconds to 15.0  seconds.\n",
      "Extracting and downsampling... 375  frames from the video.\n"
     ]
    },
    {
     "name": "stderr",
     "output_type": "stream",
     "text": [
      "375it [00:00, 1470.59it/s]\n",
      "C:\\Users\\zacha\\anaconda3\\envs\\dlc-gpu1\\lib\\site-packages\\sklearn\\cluster\\_kmeans.py:870: FutureWarning: The default value of `n_init` will change from 3 to 'auto' in 1.4. Set the value of `n_init` explicitly to suppress the warning\n",
      "  warnings.warn(\n"
     ]
    },
    {
     "name": "stdout",
     "output_type": "stream",
     "text": [
      "Kmeans clustering ... (this might take a while)\n",
      "Extracting frames based on kmeans ...\n",
      "Kmeans-quantization based extracting of frames from 0.0  seconds to 27.72  seconds.\n",
      "Extracting and downsampling... 693  frames from the video.\n"
     ]
    },
    {
     "name": "stderr",
     "output_type": "stream",
     "text": [
      "693it [00:00, 1550.22it/s]\n",
      "C:\\Users\\zacha\\anaconda3\\envs\\dlc-gpu1\\lib\\site-packages\\sklearn\\cluster\\_kmeans.py:870: FutureWarning: The default value of `n_init` will change from 3 to 'auto' in 1.4. Set the value of `n_init` explicitly to suppress the warning\n",
      "  warnings.warn(\n"
     ]
    },
    {
     "name": "stdout",
     "output_type": "stream",
     "text": [
      "Kmeans clustering ... (this might take a while)\n",
      "Extracting frames based on kmeans ...\n",
      "Kmeans-quantization based extracting of frames from 0.0  seconds to 23.28  seconds.\n",
      "Extracting and downsampling... 582  frames from the video.\n"
     ]
    },
    {
     "name": "stderr",
     "output_type": "stream",
     "text": [
      "582it [00:00, 1966.22it/s]\n",
      "C:\\Users\\zacha\\anaconda3\\envs\\dlc-gpu1\\lib\\site-packages\\sklearn\\cluster\\_kmeans.py:870: FutureWarning: The default value of `n_init` will change from 3 to 'auto' in 1.4. Set the value of `n_init` explicitly to suppress the warning\n",
      "  warnings.warn(\n"
     ]
    },
    {
     "name": "stdout",
     "output_type": "stream",
     "text": [
      "Kmeans clustering ... (this might take a while)\n",
      "Extracting frames based on kmeans ...\n",
      "Kmeans-quantization based extracting of frames from 0.0  seconds to 22.32  seconds.\n",
      "Extracting and downsampling... 558  frames from the video.\n"
     ]
    },
    {
     "name": "stderr",
     "output_type": "stream",
     "text": [
      "558it [00:00, 1754.72it/s]\n",
      "C:\\Users\\zacha\\anaconda3\\envs\\dlc-gpu1\\lib\\site-packages\\sklearn\\cluster\\_kmeans.py:870: FutureWarning: The default value of `n_init` will change from 3 to 'auto' in 1.4. Set the value of `n_init` explicitly to suppress the warning\n",
      "  warnings.warn(\n"
     ]
    },
    {
     "name": "stdout",
     "output_type": "stream",
     "text": [
      "Kmeans clustering ... (this might take a while)\n",
      "Extracting frames based on kmeans ...\n",
      "Kmeans-quantization based extracting of frames from 0.0  seconds to 29.28  seconds.\n",
      "Extracting and downsampling... 732  frames from the video.\n"
     ]
    },
    {
     "name": "stderr",
     "output_type": "stream",
     "text": [
      "732it [00:00, 2400.01it/s]\n",
      "C:\\Users\\zacha\\anaconda3\\envs\\dlc-gpu1\\lib\\site-packages\\sklearn\\cluster\\_kmeans.py:870: FutureWarning: The default value of `n_init` will change from 3 to 'auto' in 1.4. Set the value of `n_init` explicitly to suppress the warning\n",
      "  warnings.warn(\n"
     ]
    },
    {
     "name": "stdout",
     "output_type": "stream",
     "text": [
      "Kmeans clustering ... (this might take a while)\n",
      "Extracting frames based on kmeans ...\n",
      "Kmeans-quantization based extracting of frames from 0.0  seconds to 16.64  seconds.\n",
      "Extracting and downsampling... 416  frames from the video.\n"
     ]
    },
    {
     "name": "stderr",
     "output_type": "stream",
     "text": [
      "416it [00:00, 1740.58it/s]\n",
      "C:\\Users\\zacha\\anaconda3\\envs\\dlc-gpu1\\lib\\site-packages\\sklearn\\cluster\\_kmeans.py:870: FutureWarning: The default value of `n_init` will change from 3 to 'auto' in 1.4. Set the value of `n_init` explicitly to suppress the warning\n",
      "  warnings.warn(\n"
     ]
    },
    {
     "name": "stdout",
     "output_type": "stream",
     "text": [
      "Kmeans clustering ... (this might take a while)\n",
      "Extracting frames based on kmeans ...\n",
      "Kmeans-quantization based extracting of frames from 0.0  seconds to 40.6  seconds.\n",
      "Extracting and downsampling... 1015  frames from the video.\n"
     ]
    },
    {
     "name": "stderr",
     "output_type": "stream",
     "text": [
      "1015it [00:00, 1996.72it/s]\n",
      "C:\\Users\\zacha\\anaconda3\\envs\\dlc-gpu1\\lib\\site-packages\\sklearn\\cluster\\_kmeans.py:870: FutureWarning: The default value of `n_init` will change from 3 to 'auto' in 1.4. Set the value of `n_init` explicitly to suppress the warning\n",
      "  warnings.warn(\n"
     ]
    },
    {
     "name": "stdout",
     "output_type": "stream",
     "text": [
      "Kmeans clustering ... (this might take a while)\n",
      "Extracting frames based on kmeans ...\n",
      "Kmeans-quantization based extracting of frames from 0.0  seconds to 36.76  seconds.\n",
      "Extracting and downsampling... 919  frames from the video.\n"
     ]
    },
    {
     "name": "stderr",
     "output_type": "stream",
     "text": [
      "919it [00:00, 1904.46it/s]\n",
      "C:\\Users\\zacha\\anaconda3\\envs\\dlc-gpu1\\lib\\site-packages\\sklearn\\cluster\\_kmeans.py:870: FutureWarning: The default value of `n_init` will change from 3 to 'auto' in 1.4. Set the value of `n_init` explicitly to suppress the warning\n",
      "  warnings.warn(\n"
     ]
    },
    {
     "name": "stdout",
     "output_type": "stream",
     "text": [
      "Kmeans clustering ... (this might take a while)\n",
      "Extracting frames based on kmeans ...\n",
      "Kmeans-quantization based extracting of frames from 0.0  seconds to 24.92  seconds.\n",
      "Extracting and downsampling... 623  frames from the video.\n"
     ]
    },
    {
     "name": "stderr",
     "output_type": "stream",
     "text": [
      "623it [00:00, 2170.74it/s]\n",
      "C:\\Users\\zacha\\anaconda3\\envs\\dlc-gpu1\\lib\\site-packages\\sklearn\\cluster\\_kmeans.py:870: FutureWarning: The default value of `n_init` will change from 3 to 'auto' in 1.4. Set the value of `n_init` explicitly to suppress the warning\n",
      "  warnings.warn(\n"
     ]
    },
    {
     "name": "stdout",
     "output_type": "stream",
     "text": [
      "Kmeans clustering ... (this might take a while)\n",
      "Extracting frames based on kmeans ...\n",
      "Kmeans-quantization based extracting of frames from 0.0  seconds to 21.28  seconds.\n",
      "Extracting and downsampling... 532  frames from the video.\n"
     ]
    },
    {
     "name": "stderr",
     "output_type": "stream",
     "text": [
      "532it [00:00, 2180.32it/s]\n",
      "C:\\Users\\zacha\\anaconda3\\envs\\dlc-gpu1\\lib\\site-packages\\sklearn\\cluster\\_kmeans.py:870: FutureWarning: The default value of `n_init` will change from 3 to 'auto' in 1.4. Set the value of `n_init` explicitly to suppress the warning\n",
      "  warnings.warn(\n"
     ]
    },
    {
     "name": "stdout",
     "output_type": "stream",
     "text": [
      "Kmeans clustering ... (this might take a while)\n",
      "Extracting frames based on kmeans ...\n",
      "Kmeans-quantization based extracting of frames from 0.0  seconds to 25.44  seconds.\n",
      "Extracting and downsampling... 636  frames from the video.\n"
     ]
    },
    {
     "name": "stderr",
     "output_type": "stream",
     "text": [
      "636it [00:00, 1338.95it/s]\n",
      "C:\\Users\\zacha\\anaconda3\\envs\\dlc-gpu1\\lib\\site-packages\\sklearn\\cluster\\_kmeans.py:870: FutureWarning: The default value of `n_init` will change from 3 to 'auto' in 1.4. Set the value of `n_init` explicitly to suppress the warning\n",
      "  warnings.warn(\n"
     ]
    },
    {
     "name": "stdout",
     "output_type": "stream",
     "text": [
      "Kmeans clustering ... (this might take a while)\n",
      "Extracting frames based on kmeans ...\n",
      "Kmeans-quantization based extracting of frames from 0.0  seconds to 28.52  seconds.\n",
      "Extracting and downsampling... 713  frames from the video.\n"
     ]
    },
    {
     "name": "stderr",
     "output_type": "stream",
     "text": [
      "713it [00:00, 1658.14it/s]\n",
      "C:\\Users\\zacha\\anaconda3\\envs\\dlc-gpu1\\lib\\site-packages\\sklearn\\cluster\\_kmeans.py:870: FutureWarning: The default value of `n_init` will change from 3 to 'auto' in 1.4. Set the value of `n_init` explicitly to suppress the warning\n",
      "  warnings.warn(\n"
     ]
    },
    {
     "name": "stdout",
     "output_type": "stream",
     "text": [
      "Kmeans clustering ... (this might take a while)\n",
      "Extracting frames based on kmeans ...\n",
      "Kmeans-quantization based extracting of frames from 0.0  seconds to 39.76  seconds.\n",
      "Extracting and downsampling... 994  frames from the video.\n"
     ]
    },
    {
     "name": "stderr",
     "output_type": "stream",
     "text": [
      "994it [00:02, 349.87it/s]\n",
      "C:\\Users\\zacha\\anaconda3\\envs\\dlc-gpu1\\lib\\site-packages\\sklearn\\cluster\\_kmeans.py:870: FutureWarning: The default value of `n_init` will change from 3 to 'auto' in 1.4. Set the value of `n_init` explicitly to suppress the warning\n",
      "  warnings.warn(\n"
     ]
    },
    {
     "name": "stdout",
     "output_type": "stream",
     "text": [
      "Kmeans clustering ... (this might take a while)\n",
      "Extracting frames based on kmeans ...\n",
      "Kmeans-quantization based extracting of frames from 0.0  seconds to 42.8  seconds.\n",
      "Extracting and downsampling... 1070  frames from the video.\n"
     ]
    },
    {
     "name": "stderr",
     "output_type": "stream",
     "text": [
      "1070it [00:02, 361.00it/s]\n",
      "C:\\Users\\zacha\\anaconda3\\envs\\dlc-gpu1\\lib\\site-packages\\sklearn\\cluster\\_kmeans.py:870: FutureWarning: The default value of `n_init` will change from 3 to 'auto' in 1.4. Set the value of `n_init` explicitly to suppress the warning\n",
      "  warnings.warn(\n"
     ]
    },
    {
     "name": "stdout",
     "output_type": "stream",
     "text": [
      "Kmeans clustering ... (this might take a while)\n",
      "Extracting frames based on kmeans ...\n",
      "Kmeans-quantization based extracting of frames from 0.0  seconds to 40.56  seconds.\n",
      "Extracting and downsampling... 1014  frames from the video.\n"
     ]
    },
    {
     "name": "stderr",
     "output_type": "stream",
     "text": [
      "1014it [00:03, 306.48it/s]\n",
      "C:\\Users\\zacha\\anaconda3\\envs\\dlc-gpu1\\lib\\site-packages\\sklearn\\cluster\\_kmeans.py:870: FutureWarning: The default value of `n_init` will change from 3 to 'auto' in 1.4. Set the value of `n_init` explicitly to suppress the warning\n",
      "  warnings.warn(\n"
     ]
    },
    {
     "name": "stdout",
     "output_type": "stream",
     "text": [
      "Kmeans clustering ... (this might take a while)\n",
      "Extracting frames based on kmeans ...\n",
      "Kmeans-quantization based extracting of frames from 0.0  seconds to 43.36  seconds.\n",
      "Extracting and downsampling... 1084  frames from the video.\n"
     ]
    },
    {
     "name": "stderr",
     "output_type": "stream",
     "text": [
      "1084it [00:03, 314.37it/s]\n",
      "C:\\Users\\zacha\\anaconda3\\envs\\dlc-gpu1\\lib\\site-packages\\sklearn\\cluster\\_kmeans.py:870: FutureWarning: The default value of `n_init` will change from 3 to 'auto' in 1.4. Set the value of `n_init` explicitly to suppress the warning\n",
      "  warnings.warn(\n"
     ]
    },
    {
     "name": "stdout",
     "output_type": "stream",
     "text": [
      "Kmeans clustering ... (this might take a while)\n",
      "Extracting frames based on kmeans ...\n",
      "Kmeans-quantization based extracting of frames from 0.0  seconds to 18.24  seconds.\n",
      "Extracting and downsampling... 456  frames from the video.\n"
     ]
    },
    {
     "name": "stderr",
     "output_type": "stream",
     "text": [
      "456it [00:01, 369.23it/s]\n",
      "C:\\Users\\zacha\\anaconda3\\envs\\dlc-gpu1\\lib\\site-packages\\sklearn\\cluster\\_kmeans.py:870: FutureWarning: The default value of `n_init` will change from 3 to 'auto' in 1.4. Set the value of `n_init` explicitly to suppress the warning\n",
      "  warnings.warn(\n"
     ]
    },
    {
     "name": "stdout",
     "output_type": "stream",
     "text": [
      "Kmeans clustering ... (this might take a while)\n",
      "Extracting frames based on kmeans ...\n",
      "Kmeans-quantization based extracting of frames from 0.0  seconds to 21.32  seconds.\n",
      "Extracting and downsampling... 533  frames from the video.\n"
     ]
    },
    {
     "name": "stderr",
     "output_type": "stream",
     "text": [
      "533it [00:03, 146.63it/s]\n",
      "C:\\Users\\zacha\\anaconda3\\envs\\dlc-gpu1\\lib\\site-packages\\sklearn\\cluster\\_kmeans.py:870: FutureWarning: The default value of `n_init` will change from 3 to 'auto' in 1.4. Set the value of `n_init` explicitly to suppress the warning\n",
      "  warnings.warn(\n"
     ]
    },
    {
     "name": "stdout",
     "output_type": "stream",
     "text": [
      "Kmeans clustering ... (this might take a while)\n",
      "Extracting frames based on kmeans ...\n",
      "Kmeans-quantization based extracting of frames from 0.0  seconds to 28.16  seconds.\n",
      "Extracting and downsampling... 704  frames from the video.\n"
     ]
    },
    {
     "name": "stderr",
     "output_type": "stream",
     "text": [
      "704it [00:02, 295.77it/s]\n",
      "C:\\Users\\zacha\\anaconda3\\envs\\dlc-gpu1\\lib\\site-packages\\sklearn\\cluster\\_kmeans.py:870: FutureWarning: The default value of `n_init` will change from 3 to 'auto' in 1.4. Set the value of `n_init` explicitly to suppress the warning\n",
      "  warnings.warn(\n"
     ]
    },
    {
     "name": "stdout",
     "output_type": "stream",
     "text": [
      "Kmeans clustering ... (this might take a while)\n",
      "Extracting frames based on kmeans ...\n",
      "Kmeans-quantization based extracting of frames from 0.0  seconds to 11.12  seconds.\n",
      "Extracting and downsampling... 278  frames from the video.\n"
     ]
    },
    {
     "name": "stderr",
     "output_type": "stream",
     "text": [
      "278it [00:03, 86.28it/s]\n",
      "C:\\Users\\zacha\\anaconda3\\envs\\dlc-gpu1\\lib\\site-packages\\sklearn\\cluster\\_kmeans.py:870: FutureWarning: The default value of `n_init` will change from 3 to 'auto' in 1.4. Set the value of `n_init` explicitly to suppress the warning\n",
      "  warnings.warn(\n"
     ]
    },
    {
     "name": "stdout",
     "output_type": "stream",
     "text": [
      "Kmeans clustering ... (this might take a while)\n",
      "Extracting frames based on kmeans ...\n",
      "Kmeans-quantization based extracting of frames from 0.0  seconds to 10.88  seconds.\n",
      "Extracting and downsampling... 272  frames from the video.\n"
     ]
    },
    {
     "name": "stderr",
     "output_type": "stream",
     "text": [
      "272it [00:00, 978.43it/s]\n",
      "C:\\Users\\zacha\\anaconda3\\envs\\dlc-gpu1\\lib\\site-packages\\sklearn\\cluster\\_kmeans.py:870: FutureWarning: The default value of `n_init` will change from 3 to 'auto' in 1.4. Set the value of `n_init` explicitly to suppress the warning\n",
      "  warnings.warn(\n"
     ]
    },
    {
     "name": "stdout",
     "output_type": "stream",
     "text": [
      "Kmeans clustering ... (this might take a while)\n",
      "Extracting frames based on kmeans ...\n",
      "Kmeans-quantization based extracting of frames from 0.0  seconds to 27.64  seconds.\n",
      "Extracting and downsampling... 691  frames from the video.\n"
     ]
    },
    {
     "name": "stderr",
     "output_type": "stream",
     "text": [
      "691it [00:00, 1295.51it/s]\n",
      "C:\\Users\\zacha\\anaconda3\\envs\\dlc-gpu1\\lib\\site-packages\\sklearn\\cluster\\_kmeans.py:870: FutureWarning: The default value of `n_init` will change from 3 to 'auto' in 1.4. Set the value of `n_init` explicitly to suppress the warning\n",
      "  warnings.warn(\n"
     ]
    },
    {
     "name": "stdout",
     "output_type": "stream",
     "text": [
      "Kmeans clustering ... (this might take a while)\n",
      "Extracting frames based on kmeans ...\n",
      "Kmeans-quantization based extracting of frames from 0.0  seconds to 24.96  seconds.\n",
      "Extracting and downsampling... 624  frames from the video.\n"
     ]
    },
    {
     "name": "stderr",
     "output_type": "stream",
     "text": [
      "624it [00:01, 363.17it/s]\n",
      "C:\\Users\\zacha\\anaconda3\\envs\\dlc-gpu1\\lib\\site-packages\\sklearn\\cluster\\_kmeans.py:870: FutureWarning: The default value of `n_init` will change from 3 to 'auto' in 1.4. Set the value of `n_init` explicitly to suppress the warning\n",
      "  warnings.warn(\n"
     ]
    },
    {
     "name": "stdout",
     "output_type": "stream",
     "text": [
      "Kmeans clustering ... (this might take a while)\n",
      "Extracting frames based on kmeans ...\n",
      "Kmeans-quantization based extracting of frames from 0.0  seconds to 54.24  seconds.\n",
      "Extracting and downsampling... 1356  frames from the video.\n"
     ]
    },
    {
     "name": "stderr",
     "output_type": "stream",
     "text": [
      "1356it [00:04, 279.27it/s]\n",
      "C:\\Users\\zacha\\anaconda3\\envs\\dlc-gpu1\\lib\\site-packages\\sklearn\\cluster\\_kmeans.py:870: FutureWarning: The default value of `n_init` will change from 3 to 'auto' in 1.4. Set the value of `n_init` explicitly to suppress the warning\n",
      "  warnings.warn(\n"
     ]
    },
    {
     "name": "stdout",
     "output_type": "stream",
     "text": [
      "Kmeans clustering ... (this might take a while)\n",
      "Extracting frames based on kmeans ...\n",
      "Kmeans-quantization based extracting of frames from 0.0  seconds to 27.44  seconds.\n",
      "Extracting and downsampling... 686  frames from the video.\n"
     ]
    },
    {
     "name": "stderr",
     "output_type": "stream",
     "text": [
      "686it [00:00, 1469.61it/s]\n",
      "C:\\Users\\zacha\\anaconda3\\envs\\dlc-gpu1\\lib\\site-packages\\sklearn\\cluster\\_kmeans.py:870: FutureWarning: The default value of `n_init` will change from 3 to 'auto' in 1.4. Set the value of `n_init` explicitly to suppress the warning\n",
      "  warnings.warn(\n"
     ]
    },
    {
     "name": "stdout",
     "output_type": "stream",
     "text": [
      "Kmeans clustering ... (this might take a while)\n",
      "Extracting frames based on kmeans ...\n",
      "Kmeans-quantization based extracting of frames from 0.0  seconds to 36.44  seconds.\n",
      "Extracting and downsampling... 911  frames from the video.\n"
     ]
    },
    {
     "name": "stderr",
     "output_type": "stream",
     "text": [
      "911it [00:00, 1479.37it/s]\n",
      "C:\\Users\\zacha\\anaconda3\\envs\\dlc-gpu1\\lib\\site-packages\\sklearn\\cluster\\_kmeans.py:870: FutureWarning: The default value of `n_init` will change from 3 to 'auto' in 1.4. Set the value of `n_init` explicitly to suppress the warning\n",
      "  warnings.warn(\n"
     ]
    },
    {
     "name": "stdout",
     "output_type": "stream",
     "text": [
      "Kmeans clustering ... (this might take a while)\n",
      "Extracting frames based on kmeans ...\n",
      "Kmeans-quantization based extracting of frames from 0.0  seconds to 31.2  seconds.\n",
      "Extracting and downsampling... 780  frames from the video.\n"
     ]
    },
    {
     "name": "stderr",
     "output_type": "stream",
     "text": [
      "780it [00:00, 934.57it/s]\n",
      "C:\\Users\\zacha\\anaconda3\\envs\\dlc-gpu1\\lib\\site-packages\\sklearn\\cluster\\_kmeans.py:870: FutureWarning: The default value of `n_init` will change from 3 to 'auto' in 1.4. Set the value of `n_init` explicitly to suppress the warning\n",
      "  warnings.warn(\n"
     ]
    },
    {
     "name": "stdout",
     "output_type": "stream",
     "text": [
      "Kmeans clustering ... (this might take a while)\n",
      "Extracting frames based on kmeans ...\n",
      "Kmeans-quantization based extracting of frames from 0.0  seconds to 36.0  seconds.\n",
      "Extracting and downsampling... 900  frames from the video.\n"
     ]
    },
    {
     "name": "stderr",
     "output_type": "stream",
     "text": [
      "900it [00:00, 936.85it/s]\n",
      "C:\\Users\\zacha\\anaconda3\\envs\\dlc-gpu1\\lib\\site-packages\\sklearn\\cluster\\_kmeans.py:870: FutureWarning: The default value of `n_init` will change from 3 to 'auto' in 1.4. Set the value of `n_init` explicitly to suppress the warning\n",
      "  warnings.warn(\n"
     ]
    },
    {
     "name": "stdout",
     "output_type": "stream",
     "text": [
      "Kmeans clustering ... (this might take a while)\n",
      "Extracting frames based on kmeans ...\n",
      "Kmeans-quantization based extracting of frames from 0.0  seconds to 13.92  seconds.\n",
      "Extracting and downsampling... 348  frames from the video.\n"
     ]
    },
    {
     "name": "stderr",
     "output_type": "stream",
     "text": [
      "348it [00:00, 478.91it/s]\n",
      "C:\\Users\\zacha\\anaconda3\\envs\\dlc-gpu1\\lib\\site-packages\\sklearn\\cluster\\_kmeans.py:870: FutureWarning: The default value of `n_init` will change from 3 to 'auto' in 1.4. Set the value of `n_init` explicitly to suppress the warning\n",
      "  warnings.warn(\n"
     ]
    },
    {
     "name": "stdout",
     "output_type": "stream",
     "text": [
      "Kmeans clustering ... (this might take a while)\n",
      "Extracting frames based on kmeans ...\n",
      "Kmeans-quantization based extracting of frames from 0.0  seconds to 10.56  seconds.\n",
      "Extracting and downsampling... 264  frames from the video.\n"
     ]
    },
    {
     "name": "stderr",
     "output_type": "stream",
     "text": [
      "264it [00:00, 494.38it/s]\n",
      "C:\\Users\\zacha\\anaconda3\\envs\\dlc-gpu1\\lib\\site-packages\\sklearn\\cluster\\_kmeans.py:870: FutureWarning: The default value of `n_init` will change from 3 to 'auto' in 1.4. Set the value of `n_init` explicitly to suppress the warning\n",
      "  warnings.warn(\n"
     ]
    },
    {
     "name": "stdout",
     "output_type": "stream",
     "text": [
      "Kmeans clustering ... (this might take a while)\n",
      "Extracting frames based on kmeans ...\n",
      "Kmeans-quantization based extracting of frames from 0.0  seconds to 19.68  seconds.\n",
      "Extracting and downsampling... 492  frames from the video.\n"
     ]
    },
    {
     "name": "stderr",
     "output_type": "stream",
     "text": [
      "492it [00:00, 1769.79it/s]\n",
      "C:\\Users\\zacha\\anaconda3\\envs\\dlc-gpu1\\lib\\site-packages\\sklearn\\cluster\\_kmeans.py:870: FutureWarning: The default value of `n_init` will change from 3 to 'auto' in 1.4. Set the value of `n_init` explicitly to suppress the warning\n",
      "  warnings.warn(\n"
     ]
    },
    {
     "name": "stdout",
     "output_type": "stream",
     "text": [
      "Kmeans clustering ... (this might take a while)\n",
      "Extracting frames based on kmeans ...\n",
      "Kmeans-quantization based extracting of frames from 0.0  seconds to 19.16  seconds.\n",
      "Extracting and downsampling... 479  frames from the video.\n"
     ]
    },
    {
     "name": "stderr",
     "output_type": "stream",
     "text": [
      "479it [00:00, 1602.01it/s]\n",
      "C:\\Users\\zacha\\anaconda3\\envs\\dlc-gpu1\\lib\\site-packages\\sklearn\\cluster\\_kmeans.py:870: FutureWarning: The default value of `n_init` will change from 3 to 'auto' in 1.4. Set the value of `n_init` explicitly to suppress the warning\n",
      "  warnings.warn(\n"
     ]
    },
    {
     "name": "stdout",
     "output_type": "stream",
     "text": [
      "Kmeans clustering ... (this might take a while)\n",
      "Extracting frames based on kmeans ...\n",
      "Kmeans-quantization based extracting of frames from 0.0  seconds to 17.76  seconds.\n",
      "Extracting and downsampling... 444  frames from the video.\n"
     ]
    },
    {
     "name": "stderr",
     "output_type": "stream",
     "text": [
      "444it [00:00, 1193.55it/s]\n",
      "C:\\Users\\zacha\\anaconda3\\envs\\dlc-gpu1\\lib\\site-packages\\sklearn\\cluster\\_kmeans.py:870: FutureWarning: The default value of `n_init` will change from 3 to 'auto' in 1.4. Set the value of `n_init` explicitly to suppress the warning\n",
      "  warnings.warn(\n"
     ]
    },
    {
     "name": "stdout",
     "output_type": "stream",
     "text": [
      "Kmeans clustering ... (this might take a while)\n",
      "Extracting frames based on kmeans ...\n",
      "Kmeans-quantization based extracting of frames from 0.0  seconds to 17.28  seconds.\n",
      "Extracting and downsampling... 432  frames from the video.\n"
     ]
    },
    {
     "name": "stderr",
     "output_type": "stream",
     "text": [
      "432it [00:00, 1272.23it/s]\n",
      "C:\\Users\\zacha\\anaconda3\\envs\\dlc-gpu1\\lib\\site-packages\\sklearn\\cluster\\_kmeans.py:870: FutureWarning: The default value of `n_init` will change from 3 to 'auto' in 1.4. Set the value of `n_init` explicitly to suppress the warning\n",
      "  warnings.warn(\n"
     ]
    },
    {
     "name": "stdout",
     "output_type": "stream",
     "text": [
      "Kmeans clustering ... (this might take a while)\n",
      "Extracting frames based on kmeans ...\n",
      "Kmeans-quantization based extracting of frames from 0.0  seconds to 21.12  seconds.\n",
      "Extracting and downsampling... 528  frames from the video.\n"
     ]
    },
    {
     "name": "stderr",
     "output_type": "stream",
     "text": [
      "528it [00:00, 1232.21it/s]\n",
      "C:\\Users\\zacha\\anaconda3\\envs\\dlc-gpu1\\lib\\site-packages\\sklearn\\cluster\\_kmeans.py:870: FutureWarning: The default value of `n_init` will change from 3 to 'auto' in 1.4. Set the value of `n_init` explicitly to suppress the warning\n",
      "  warnings.warn(\n"
     ]
    },
    {
     "name": "stdout",
     "output_type": "stream",
     "text": [
      "Kmeans clustering ... (this might take a while)\n",
      "Extracting frames based on kmeans ...\n",
      "Kmeans-quantization based extracting of frames from 0.0  seconds to 15.04  seconds.\n",
      "Extracting and downsampling... 376  frames from the video.\n"
     ]
    },
    {
     "name": "stderr",
     "output_type": "stream",
     "text": [
      "376it [00:00, 1373.69it/s]\n",
      "C:\\Users\\zacha\\anaconda3\\envs\\dlc-gpu1\\lib\\site-packages\\sklearn\\cluster\\_kmeans.py:870: FutureWarning: The default value of `n_init` will change from 3 to 'auto' in 1.4. Set the value of `n_init` explicitly to suppress the warning\n",
      "  warnings.warn(\n"
     ]
    },
    {
     "name": "stdout",
     "output_type": "stream",
     "text": [
      "Kmeans clustering ... (this might take a while)\n",
      "Frames were successfully extracted, for the videos listed in the config.yaml file.\n",
      "\n",
      "You can now label the frames using the function 'label_frames' (Note, you should label frames extracted from diverse videos (and many videos; we do not recommend training on single videos!)).\n"
     ]
    }
   ],
   "source": [
    "deeplabcut.extract_frames(\n",
    "    config_path,\n",
    "    mode='automatic',\n",
    "    algo='kmeans',\n",
    "    crop=False,\n",
    "    userfeedback=False,\n",
    "    cluster_step=1,\n",
    "    cluster_resizewidth=30,\n",
    "    cluster_color=False,\n",
    "    opencv=True,\n",
    "    slider_width=25,\n",
    "    config3d=None,\n",
    "    extracted_cam=0,\n",
    "    videos_list=None,\n",
    ")"
   ]
  },
  {
   "attachments": {},
   "cell_type": "markdown",
   "id": "7a5b0ee0",
   "metadata": {},
   "source": [
    "## (D) Label Frames\n",
    "\n",
    "#### Option 1: access the napari labelling GUI via the notebook"
   ]
  },
  {
   "cell_type": "code",
   "execution_count": 43,
   "id": "69fd4083",
   "metadata": {},
   "outputs": [
    {
     "name": "stderr",
     "output_type": "stream",
     "text": [
      "WARNING: DirectWrite: CreateFontFaceFromHDC() failed (Indicates an error in an input file such as a font file.) for QFontDef(Family=\"MS Sans Serif\", pointsize=12, pixelsize=16, styleHint=5, weight=400, stretch=100, hintingPreference=0) LOGFONT(\"MS Sans Serif\", lfWidth=0, lfHeight=-16) dpi=144\n"
     ]
    },
    {
     "data": {
      "text/plain": [
       "Viewer(axes=Axes(visible=False, labels=True, colored=True, dashed=False, arrows=True), camera=Camera(center=(0.0, 0.0, 0.0), zoom=1.0, angles=(0.0, 0.0, 90.0), perspective=0.0, interactive=True), cursor=Cursor(position=(1.0, 1.0), scaled=True, size=1, style=<CursorStyle.STANDARD: 'standard'>), dims=Dims(ndim=2, ndisplay=2, last_used=0, range=((0, 2, 1), (0, 2, 1)), current_step=(0, 0), order=(0, 1), axis_labels=('0', '1')), grid=GridCanvas(stride=1, shape=(-1, -1), enabled=False), layers=[], scale_bar=ScaleBar(visible=False, colored=False, color=array([1., 0., 1., 1.], dtype=float32), ticks=True, position=<Position.BOTTOM_RIGHT: 'bottom_right'>, font_size=10.0, box=False, box_color=array([0. , 0. , 0. , 0.6], dtype=float32), unit=None), text_overlay=TextOverlay(visible=False, color=array([0.5, 0.5, 0.5, 1. ], dtype=float32), font_size=10.0, position=<TextOverlayPosition.TOP_LEFT: 'top_left'>, text=''), overlays=Overlays(interaction_box=InteractionBox(points=None, show=False, show_handle=False, show_vertices=False, selection_box_drag=None, selection_box_final=None, transform_start=<napari.utils.transforms.transforms.Affine object at 0x0000022A86C6BAC0>, transform_drag=<napari.utils.transforms.transforms.Affine object at 0x0000022A86C6BB20>, transform_final=<napari.utils.transforms.transforms.Affine object at 0x0000022A86C6BB80>, transform=<napari.utils.transforms.transforms.Affine object at 0x0000022A86C6BBE0>, allow_new_selection=True, selected_vertex=None)), help='', status='Ready', tooltip=Tooltip(visible=True, text=''), theme='dark', title='napari', mouse_over_canvas=False, mouse_move_callbacks=[<function InteractionBoxMouseBindings.initialize_mouse_events.<locals>.mouse_move at 0x0000022AA0996DC0>], mouse_drag_callbacks=[<function InteractionBoxMouseBindings.initialize_mouse_events.<locals>.mouse_drag at 0x0000022AA096C040>], mouse_double_click_callbacks=[], mouse_wheel_callbacks=[<function dims_scroll at 0x0000022A86BCA0D0>], _persisted_mouse_event={}, _mouse_drag_gen={}, _mouse_wheel_gen={}, keymap={'Shift': <function InteractionBoxMouseBindings.initialize_key_events.<locals>.hold_to_lock_aspect_ratio at 0x0000022AA0958310>, 'Control-Shift-R': <function InteractionBoxMouseBindings._reset_active_layer_affine at 0x0000022AA09C23A0>, 'Control-Shift-A': <function InteractionBoxMouseBindings._transform_active_layer at 0x0000022AA09C2280>})"
      ]
     },
     "execution_count": 43,
     "metadata": {},
     "output_type": "execute_result"
    }
   ],
   "source": [
    "napari.Viewer()"
   ]
  },
  {
   "attachments": {},
   "cell_type": "markdown",
   "id": "ad8efd9e",
   "metadata": {},
   "source": [
    "#### Option 2: access the napari labelling GUI via the Deeplabcut GUI"
   ]
  },
  {
   "cell_type": "code",
   "execution_count": null,
   "id": "3e1271b1",
   "metadata": {},
   "outputs": [],
   "source": [
    "# in the python command console type:\n",
    "\n",
    "# conda activate DEEPLABCUT\n",
    "# python -m deeplabcut"
   ]
  },
  {
   "attachments": {},
   "cell_type": "markdown",
   "id": "98fc6980",
   "metadata": {},
   "source": [
    "## (E) Check Annotated Frames"
   ]
  },
  {
   "cell_type": "code",
   "execution_count": null,
   "id": "8f270a83",
   "metadata": {},
   "outputs": [],
   "source": [
    "deeplabcut.check_labels?"
   ]
  },
  {
   "cell_type": "code",
   "execution_count": 3,
   "id": "f4dbddda",
   "metadata": {
    "scrolled": true
   },
   "outputs": [
    {
     "name": "stdout",
     "output_type": "stream",
     "text": [
      "Creating images with labels by zach_roth.\n"
     ]
    },
    {
     "name": "stderr",
     "output_type": "stream",
     "text": [
      "100%|██████████| 10/10 [00:00<00:00, 16.79it/s]\n",
      "100%|██████████| 10/10 [00:00<00:00, 11.97it/s]\n",
      "100%|██████████| 10/10 [00:00<00:00, 12.36it/s]\n",
      "100%|██████████| 10/10 [00:00<00:00, 13.53it/s]\n",
      "100%|██████████| 10/10 [00:01<00:00,  8.49it/s]\n",
      "100%|██████████| 10/10 [00:01<00:00,  8.41it/s]\n",
      "100%|██████████| 10/10 [00:00<00:00, 12.44it/s]\n",
      "100%|██████████| 10/10 [00:00<00:00, 13.35it/s]\n",
      "100%|██████████| 10/10 [00:00<00:00, 22.57it/s]\n",
      "100%|██████████| 10/10 [00:00<00:00, 21.87it/s]\n",
      "100%|██████████| 10/10 [00:00<00:00, 15.53it/s]\n",
      "100%|██████████| 10/10 [00:00<00:00, 10.38it/s]\n",
      "100%|██████████| 10/10 [00:02<00:00,  4.33it/s]\n",
      "100%|██████████| 10/10 [00:00<00:00, 10.40it/s]\n",
      "100%|██████████| 10/10 [00:00<00:00, 17.82it/s]\n",
      "100%|██████████| 10/10 [00:02<00:00,  4.62it/s]\n",
      "100%|██████████| 10/10 [00:00<00:00, 17.63it/s]\n",
      "100%|██████████| 10/10 [00:00<00:00, 16.32it/s]\n",
      "100%|██████████| 10/10 [00:00<00:00, 21.53it/s]\n",
      "100%|██████████| 10/10 [00:00<00:00, 19.04it/s]\n",
      "100%|██████████| 10/10 [00:00<00:00, 22.07it/s]\n",
      "100%|██████████| 10/10 [00:00<00:00, 23.47it/s]\n",
      "100%|██████████| 10/10 [00:00<00:00, 18.17it/s]\n",
      "100%|██████████| 10/10 [00:00<00:00, 15.09it/s]\n",
      "100%|██████████| 10/10 [00:00<00:00, 24.04it/s]\n",
      "100%|██████████| 10/10 [00:00<00:00, 22.72it/s]\n",
      "100%|██████████| 10/10 [00:00<00:00, 26.95it/s]\n",
      "100%|██████████| 10/10 [00:00<00:00, 30.72it/s]\n",
      "100%|██████████| 10/10 [00:00<00:00, 23.64it/s]\n",
      "100%|██████████| 10/10 [00:00<00:00, 21.68it/s]\n",
      "100%|██████████| 10/10 [00:00<00:00, 16.91it/s]\n",
      "100%|██████████| 10/10 [00:00<00:00, 16.77it/s]\n",
      "100%|██████████| 10/10 [00:00<00:00, 24.99it/s]\n",
      "100%|██████████| 10/10 [00:00<00:00, 25.76it/s]\n",
      "100%|██████████| 10/10 [00:00<00:00, 21.59it/s]\n",
      "100%|██████████| 10/10 [00:00<00:00, 22.51it/s]\n",
      "100%|██████████| 10/10 [00:00<00:00, 17.76it/s]\n",
      "100%|██████████| 10/10 [00:00<00:00, 15.69it/s]\n",
      "100%|██████████| 10/10 [00:00<00:00, 16.16it/s]\n",
      "100%|██████████| 10/10 [00:00<00:00, 15.99it/s]\n",
      "100%|██████████| 10/10 [00:00<00:00, 19.71it/s]\n",
      "100%|██████████| 10/10 [00:00<00:00, 17.70it/s]\n",
      "100%|██████████| 10/10 [00:00<00:00, 20.48it/s]\n",
      "100%|██████████| 10/10 [00:00<00:00, 16.10it/s]\n",
      "100%|██████████| 10/10 [00:00<00:00, 17.76it/s]\n",
      "100%|██████████| 10/10 [00:00<00:00, 17.36it/s]\n",
      "100%|██████████| 10/10 [00:00<00:00, 19.95it/s]\n",
      "100%|██████████| 10/10 [00:00<00:00, 20.08it/s]\n",
      "100%|██████████| 10/10 [00:00<00:00, 12.53it/s]\n",
      "100%|██████████| 10/10 [00:00<00:00, 16.27it/s]\n",
      "100%|██████████| 10/10 [00:01<00:00,  5.56it/s]\n",
      "100%|██████████| 10/10 [00:01<00:00,  5.83it/s]\n",
      "100%|██████████| 10/10 [00:01<00:00,  5.19it/s]\n",
      "100%|██████████| 10/10 [00:01<00:00,  5.24it/s]\n",
      "100%|██████████| 10/10 [00:01<00:00,  5.81it/s]\n",
      "100%|██████████| 10/10 [00:03<00:00,  2.61it/s]\n",
      "100%|██████████| 10/10 [00:02<00:00,  4.43it/s]\n",
      "100%|██████████| 10/10 [00:03<00:00,  3.05it/s]\n",
      "100%|██████████| 10/10 [00:01<00:00,  9.60it/s]\n",
      "100%|██████████| 10/10 [00:00<00:00, 13.10it/s]\n",
      "100%|██████████| 10/10 [00:01<00:00,  5.64it/s]\n",
      "100%|██████████| 10/10 [00:02<00:00,  4.92it/s]\n",
      "100%|██████████| 10/10 [00:00<00:00, 14.64it/s]\n",
      "100%|██████████| 10/10 [00:00<00:00, 13.57it/s]\n",
      "100%|██████████| 10/10 [00:01<00:00,  8.33it/s]\n",
      "100%|██████████| 10/10 [00:01<00:00,  8.31it/s]\n",
      "100%|██████████| 10/10 [00:01<00:00,  7.99it/s]\n",
      "100%|██████████| 10/10 [00:01<00:00,  8.45it/s]\n",
      "100%|██████████| 10/10 [00:00<00:00, 18.35it/s]\n",
      "100%|██████████| 10/10 [00:00<00:00, 18.87it/s]\n",
      "100%|██████████| 10/10 [00:00<00:00, 14.05it/s]\n",
      "100%|██████████| 10/10 [00:00<00:00, 14.27it/s]\n",
      "100%|██████████| 10/10 [00:00<00:00, 11.86it/s]\n",
      "100%|██████████| 10/10 [00:00<00:00, 13.73it/s]"
     ]
    },
    {
     "name": "stdout",
     "output_type": "stream",
     "text": [
      "If all the labels are ok, then use the function 'create_training_dataset' to create the training dataset!\n"
     ]
    },
    {
     "name": "stderr",
     "output_type": "stream",
     "text": [
      "\n"
     ]
    }
   ],
   "source": [
    "deeplabcut.check_labels(\n",
    "    config_path,\n",
    "    Labels='+',\n",
    "    scale=1,\n",
    "    dpi=300,\n",
    "    draw_skeleton=True,\n",
    "    visualizeindividuals=False,\n",
    ")"
   ]
  },
  {
   "attachments": {},
   "cell_type": "markdown",
   "id": "7dd32941",
   "metadata": {},
   "source": [
    "## (F) Create Training Dataset(s)"
   ]
  },
  {
   "cell_type": "code",
   "execution_count": null,
   "id": "12b7ac78",
   "metadata": {},
   "outputs": [],
   "source": [
    "deeplabcut.create_training_dataset?"
   ]
  },
  {
   "cell_type": "code",
   "execution_count": 4,
   "id": "40a683e7",
   "metadata": {
    "scrolled": true
   },
   "outputs": [
    {
     "name": "stdout",
     "output_type": "stream",
     "text": [
      "The training dataset is successfully created. Use the function 'train_network' to start training. Happy training!\n",
      "The training dataset is successfully created. Use the function 'train_network' to start training. Happy training!\n",
      "The training dataset is successfully created. Use the function 'train_network' to start training. Happy training!\n"
     ]
    },
    {
     "data": {
      "text/plain": [
       "[(0.95,\n",
       "  1,\n",
       "  (array([196, 187,  14,  31, 682, 680, 301, 710, 467,  27,  40, 363,  55,\n",
       "          157, 193, 170, 624, 392, 671,  79, 263, 635, 258, 162, 390, 313,\n",
       "          202, 243, 637, 443,   8, 700, 653, 175, 403, 502, 704, 558,  75,\n",
       "          334, 283,   1, 272, 494, 598, 638, 369, 365, 601,  85, 516, 575,\n",
       "          491, 532, 566, 332, 428, 662, 436, 408, 299, 350, 719, 351, 451,\n",
       "          250, 514, 407, 362, 271, 501, 563, 665, 656, 103, 711, 498, 596,\n",
       "          344, 267, 211, 681, 181,  50, 268, 534, 364, 493, 302, 142,  10,\n",
       "           68, 331, 214, 505, 733, 303, 585, 215, 231, 386, 614, 739, 385,\n",
       "          495, 557, 669, 316, 592, 356, 113, 395, 252,  49, 632, 156, 481,\n",
       "          122, 434, 462,  37, 172,  48, 437, 294, 648,  18, 524, 419,  76,\n",
       "           64, 588,  52, 651, 546, 654, 210, 476, 521, 499, 489, 118, 222,\n",
       "          695, 519, 520, 240,  97, 509, 391, 504, 247, 576, 251,  17, 616,\n",
       "          511, 333, 327, 578, 679, 573, 666, 591,  45, 306,  62, 360, 608,\n",
       "          261, 140, 602, 523, 127, 204, 354, 730, 144, 249,  21, 587, 382,\n",
       "           35, 584, 533, 293,  77, 568, 230, 266, 109, 315, 101, 686, 737,\n",
       "          239, 540, 279, 473, 319, 346, 729, 456, 242, 165, 188, 318, 375,\n",
       "           34, 535, 310, 736, 453, 672, 612, 155, 338, 255, 490, 200, 236,\n",
       "          527,  12, 161, 235, 330, 479, 278, 582, 159, 366, 413, 229,  78,\n",
       "           92, 513,  66, 312, 734, 470, 673, 698, 441, 399, 570, 655,  15,\n",
       "          478, 245, 731,   6, 412,  71, 424, 457, 337, 417, 104, 425, 380,\n",
       "          406,  90, 572, 454, 325, 218, 545, 285, 205, 367, 190, 465, 358,\n",
       "          194, 487, 132, 233, 173, 178, 715, 738, 206, 416,  96, 670, 317,\n",
       "          415,  89, 579, 179,   0,  46, 171, 609, 352, 107, 133, 422, 223,\n",
       "          427, 102, 108, 213, 460, 355, 246, 449, 397, 125, 435, 529, 389,\n",
       "          597, 224,  26, 482, 517, 474,   3, 134, 506, 186, 463, 295, 685,\n",
       "          404, 583, 664, 225, 604, 402, 497, 496, 724, 468, 484, 613, 556,\n",
       "          112, 713, 649,  20,  65, 298, 126, 259, 549, 374, 339, 618, 137,\n",
       "          471,   7, 342, 718, 309, 642, 185, 503, 353, 432, 153,  54,  30,\n",
       "          401, 657, 100, 418, 607, 699, 237, 641,  56,  60, 728, 262, 628,\n",
       "          264, 687, 676, 208, 447, 658, 167,  38, 400, 636, 603, 300, 477,\n",
       "          466, 626, 163, 124, 154, 336,  59, 586, 304, 691, 580, 343, 409,\n",
       "          311, 526, 158,  51, 530, 500, 732, 361, 548, 492, 219, 308,  74,\n",
       "          282, 485,   4, 593, 571, 458, 650,   5, 141, 538, 135, 483, 378,\n",
       "          661,  22, 667, 276, 284, 270, 426, 706, 281, 420, 220, 668, 320,\n",
       "          439, 372, 120,  81, 725,  13, 452, 716, 708, 160, 721, 238, 379,\n",
       "          480, 518, 440, 577, 722, 195, 191, 116, 564, 605, 164, 106,  16,\n",
       "           63, 384, 683, 105, 522, 694, 329, 475, 345, 644, 405, 690,  93,\n",
       "          702, 433,  83, 623, 348, 634, 455, 198, 145, 414, 150, 531,  39,\n",
       "          542, 717, 674, 569, 322, 253, 714, 536, 726, 357,  69,   2, 340,\n",
       "          221, 688, 146, 289, 241,  29, 114, 508, 595, 176, 168, 347, 376,\n",
       "          561, 645, 630, 567, 189, 136, 446, 620, 254, 652, 290, 696, 625,\n",
       "          232,  33,  88,  44, 341,  61, 735, 199, 429, 553, 394, 297,  73,\n",
       "          393, 547, 541, 631, 615, 621, 217, 539, 647, 421, 138, 212, 622,\n",
       "          619, 640, 678, 234,  67,  24, 381, 216, 129, 349, 111, 166, 207,\n",
       "          438, 552, 274, 627, 590, 525, 287, 469, 326, 121, 507, 228, 445,\n",
       "          117, 464,  25, 110, 149, 152, 528, 461, 139, 260, 323, 663, 248,\n",
       "          450, 410,  19, 328, 296, 269, 226,  94, 515, 280, 286, 589, 689,\n",
       "          444, 184, 371, 646, 720, 275, 692, 182,  32,  80, 307,  11,  43,\n",
       "           86,  36,  58,  41, 411, 562, 209, 148, 594, 123, 574,  98, 377,\n",
       "          130,  23, 643, 555, 370, 512, 383, 201, 368, 554, 610, 387, 292,\n",
       "          256, 606, 197,  95, 712, 169, 581, 305, 560, 373, 227, 660, 143,\n",
       "          180, 131, 703,  47, 324, 203,  84, 633, 565, 611, 398,  91,  82,\n",
       "          430, 119, 291,  57, 321, 257, 701, 442,  42, 617, 388, 335, 273,\n",
       "          488, 550,  53, 693, 128,  28, 183, 459, 510, 675, 151, 244, 543,\n",
       "          544]),\n",
       "   array([639, 697, 265, 288, 423, 147, 659, 177,  99, 448, 431, 709, 115,\n",
       "           72, 537, 677, 727, 174,  87, 551, 486, 705, 314, 396, 600, 472,\n",
       "           70, 599, 277, 723,   9, 359, 707, 192, 629, 559, 684]))),\n",
       " (0.95,\n",
       "  2,\n",
       "  (array([706, 497, 388,  54, 151, 369, 481, 496, 233, 427, 617,   9, 362,\n",
       "          627, 650, 556, 564, 579,  25, 339, 577, 310, 169,   6, 654, 428,\n",
       "          590, 315, 475, 527, 204, 594,  66, 730, 139, 163, 152, 182, 202,\n",
       "          408, 498, 512, 177, 558,  82, 335, 442, 440, 404, 305, 122, 717,\n",
       "          554, 652, 292, 331, 159, 609, 455,  18, 175, 191, 436, 289, 637,\n",
       "          678, 438, 658, 341, 673, 120, 372,  67, 483, 393, 614, 612, 471,\n",
       "          302, 494, 125, 254, 219, 342, 443, 603,  93, 299, 690,  31, 540,\n",
       "           72, 262, 632, 170, 532, 136, 567, 587, 201,  26, 477,   4, 729,\n",
       "           89, 682, 268,  34, 378, 468, 387,  52, 727, 279, 704, 700, 450,\n",
       "          615, 714, 563, 115,  14, 333, 260, 141, 192, 698,  53, 568, 444,\n",
       "          326, 696, 337, 422, 357, 256, 146, 368, 409,  76,   5, 309, 517,\n",
       "           22, 739, 189,  17, 653, 353, 379, 361,  63, 187, 400, 641, 412,\n",
       "          701, 648, 231,  27, 278, 520, 319, 164, 248, 580, 142, 211, 663,\n",
       "          376, 657, 515, 585,   2, 669,  85, 242, 107, 322, 148, 639, 516,\n",
       "          174, 375, 171, 217, 112,  80, 529, 227, 229,  19, 629,  96, 223,\n",
       "          178, 253, 344, 731, 153, 656, 499,   1, 539, 207, 467,  69, 332,\n",
       "           48, 118, 161, 308, 642, 576, 330, 482, 113, 121, 133, 237, 581,\n",
       "          390, 429, 246, 215, 530, 392,  45, 321,  98,  55, 381, 513, 524,\n",
       "          707, 307,  84, 480, 224,  46, 454, 232, 218, 688, 607, 485, 317,\n",
       "          303, 602, 126, 104, 712, 298, 108, 434, 616, 684, 575, 619, 604,\n",
       "          670, 636, 659, 360,  37, 275, 667, 677, 446, 456, 184, 295,  23,\n",
       "          488, 130,  42, 181, 674, 274, 536, 137, 334, 620, 598,  47, 355,\n",
       "          718, 220, 561, 555, 668, 625, 398, 424, 621, 140, 622, 693,  39,\n",
       "          465, 661, 522, 258, 425, 526, 681, 414, 646, 329, 280,  58, 241,\n",
       "          325, 234, 645, 277,  56, 702, 423, 525, 511, 695, 435, 716, 545,\n",
       "           29, 270,  35, 147, 114, 286, 347, 570, 124, 198,  12, 176, 651,\n",
       "           50, 601, 350, 458, 128, 291, 633, 354, 501,  36, 694, 548, 574,\n",
       "          683, 544,  61, 549, 708,  92, 109, 364, 719,  40, 221,  75, 473,\n",
       "          212, 288, 699, 247, 655, 715, 584, 186, 156, 738, 312,   8, 464,\n",
       "           86, 479, 572, 487, 687, 293, 591, 692, 623, 593,  32, 445, 676,\n",
       "          734, 461, 583, 502, 519, 407, 535, 597, 611, 420, 452, 143, 703,\n",
       "          557, 243, 578, 401,  73, 588, 179, 723, 671, 203, 697, 665, 102,\n",
       "          285,  94, 631, 259, 618, 518, 138, 432, 304, 251, 411, 528, 249,\n",
       "          630,  99, 474, 383, 426, 160, 538, 689, 149, 638, 168, 162,  74,\n",
       "          613, 733, 551, 635, 644, 166,  20, 273, 431, 194, 240,  41, 208,\n",
       "           57, 343, 433,  49, 193, 489, 600, 210, 628,  95, 569,  77, 459,\n",
       "          640, 491,  44,  91, 245, 235, 300, 666, 686, 276, 462, 547, 402,\n",
       "          269, 726, 546, 314, 313, 634, 283, 327,  28, 399, 271, 406, 553,\n",
       "          338, 466, 363, 352, 306, 543, 320, 506, 195, 222,  21,  70, 336,\n",
       "          105, 500,  10, 173, 737, 505, 724, 705, 287,  64, 415, 324, 416,\n",
       "          534, 205, 328, 486, 172,  33, 257, 418, 565, 281, 713, 542, 213,\n",
       "          472, 106, 131,  15, 439, 373, 476, 562, 448, 284, 129, 103,  60,\n",
       "          685,  78, 391, 165,   3, 236, 349, 185, 470, 371, 117, 672, 252,\n",
       "          507, 311, 664, 395, 358, 263, 359, 722, 419, 377, 720, 430,  16,\n",
       "           51, 550, 493, 301, 351, 582, 537,  11, 732, 649,  97, 226, 111,\n",
       "          196, 183, 469, 244, 709, 441, 533, 725,  81, 728, 397, 267, 589,\n",
       "          386,  24, 132, 265, 370, 340,  88,  38, 610, 571, 449, 294, 261,\n",
       "          266, 679, 514, 510, 405, 599, 356, 608, 239, 199, 710, 282, 119,\n",
       "          691, 365, 374, 453, 110,  43, 297, 680, 463, 503, 647, 134, 345,\n",
       "          410, 447, 367,  87, 384, 200,  65, 508, 167, 272, 216, 382, 238,\n",
       "          606, 225, 541, 478, 490,  59, 296, 209, 188, 552, 736, 250, 316,\n",
       "          214, 451, 123, 586, 660, 531, 255,  30, 662, 504, 230, 157, 385,\n",
       "          100, 380, 197, 264, 101,  13, 437,  68, 421, 624,  71, 675, 566,\n",
       "          290,  90, 523, 626, 495, 559, 155, 721, 158, 509,   7, 366, 711,\n",
       "          228]),\n",
       "   array([417, 206,  79, 190, 492, 521, 145, 560, 318, 116, 596, 457, 144,\n",
       "          323, 573, 643,   0, 735, 592, 180, 135,  83, 154, 460, 348, 484,\n",
       "          127, 595, 389, 403, 150, 346, 413, 605, 396, 394,  62]))),\n",
       " (0.95,\n",
       "  3,\n",
       "  (array([ 70, 530,  24, 648, 570, 314,  22, 682,  44, 332, 716, 148, 720,\n",
       "          543, 651, 210, 521, 688, 661, 599, 622, 124, 244, 418, 536, 690,\n",
       "           93, 529, 630, 405,  98, 132, 508, 593, 419, 479, 346, 436, 160,\n",
       "          162, 595, 383, 426, 567, 499, 698, 451, 156,  69, 444, 494, 452,\n",
       "          176, 493, 517, 396, 191, 643,  10, 135, 325,  39, 242, 545, 609,\n",
       "           74, 671, 708, 585, 220, 340, 552, 409, 364, 388, 475, 731,  71,\n",
       "          684, 375, 477, 246, 575, 673, 286, 130, 212, 163, 617, 512, 613,\n",
       "           53, 490, 653, 334, 433, 680, 514, 179, 652, 471, 268, 389, 320,\n",
       "          307, 498, 596, 417, 669,  86, 170, 353, 190, 174, 611, 446, 412,\n",
       "          109, 129, 211, 192, 182, 238, 180, 105, 343, 481,  13, 449, 107,\n",
       "          248, 183,   1, 563, 263,  76, 440, 737, 632, 199, 329, 271,  65,\n",
       "          410, 707, 349, 442, 558, 289, 350, 224, 730, 120,  14, 258, 387,\n",
       "          138, 204, 397, 467, 657, 414,   8, 252, 205, 634, 206, 305, 218,\n",
       "          495, 195, 580, 117, 714,  48, 269, 607, 300, 275, 485, 695, 662,\n",
       "           26, 489, 104, 578, 374, 478, 274, 116, 568, 658, 518, 591, 619,\n",
       "          123, 548, 425, 487,  40, 245, 439, 579, 441, 226, 636,  97, 559,\n",
       "          251, 685, 276,  27, 683, 628, 296, 413, 125, 457, 710,  32,  59,\n",
       "          370, 384, 422, 133, 691, 665, 402,  90, 718, 699, 391, 540,  56,\n",
       "          400, 627, 257, 213, 333, 188, 399, 712, 709, 678, 557, 178,  57,\n",
       "           11, 112, 463,  88, 565, 629, 472, 509, 281, 379, 157, 100, 264,\n",
       "          401, 448, 686,  18, 229, 200, 134, 466, 553,  47, 480, 194, 175,\n",
       "          114, 528,  17, 411, 719, 408, 207, 723, 145, 576, 464, 621, 428,\n",
       "          437, 228, 556, 304, 403, 404, 694, 236, 525, 128, 259,  30, 668,\n",
       "          476, 598, 713,  78, 361, 366, 633, 356, 338, 618, 454, 283, 386,\n",
       "          424, 461, 649, 149, 625, 610, 239, 398, 606, 647, 588, 216,  60,\n",
       "          644,   6, 562, 496, 465, 201, 503,  33, 167, 623, 555,  84, 165,\n",
       "            7, 728, 161,  37, 249, 430, 674, 173, 603, 492, 520, 537, 153,\n",
       "          354, 450, 664, 659, 158, 566,  29, 443, 266, 459, 569, 488, 642,\n",
       "          654, 136, 726, 342, 638, 532,  68, 277, 586, 711, 608, 290,  23,\n",
       "          215, 358, 697, 635, 230, 605,  80, 385, 270, 119,  20, 323, 666,\n",
       "          735, 725, 624, 549, 233, 486, 453,  16, 285, 501,  67, 221, 390,\n",
       "            0, 254, 616,  94, 670, 143, 303, 316, 237,  41, 655, 703, 279,\n",
       "          308, 232, 253, 589, 250, 672, 355, 363, 371, 297, 317, 660,  21,\n",
       "          313, 347, 550, 406, 564,  31, 166, 352, 331, 592, 507, 137, 542,\n",
       "          330,  62, 535, 677, 127, 594, 715, 302, 631, 359, 369, 282, 309,\n",
       "          291, 483, 445, 306, 702, 243, 336, 111,   3, 222,  87, 455, 421,\n",
       "            2, 235, 141, 561, 458, 692, 284, 164, 581,   9, 322, 469, 705,\n",
       "          574,  77,  28, 393, 432, 262, 198, 531, 240, 590, 172, 734, 687,\n",
       "          739, 378, 324, 539, 722, 573, 372, 287, 675, 572, 381, 438, 299,\n",
       "          547,  12, 186,  81, 256, 470, 491, 106,  85, 202,  15, 474, 171,\n",
       "          118, 727, 380, 582, 502, 696, 676, 327, 416, 154, 736, 367, 301,\n",
       "          620, 197,  83, 435, 310, 187, 729, 203, 415, 516, 554, 344, 294,\n",
       "          602, 219, 150, 612, 382, 144, 515, 260, 319, 272, 667, 500,  51,\n",
       "           75, 732, 639, 368, 295, 460, 546, 571, 706, 177, 420, 733, 139,\n",
       "          523,  34, 184, 376, 101, 700, 462, 577, 234, 110, 431, 506, 597,\n",
       "          429, 600, 181,  61, 704, 209,  35, 227,  46, 456, 526,  92, 519,\n",
       "          394, 147, 524,  50,  72,  25,  36, 373, 121, 721, 288, 142, 447,\n",
       "          312, 267, 103, 223, 362, 497, 168, 738, 541, 345,  63, 146, 533,\n",
       "          337, 152, 427, 587, 357,  49, 615,  42, 407, 663,  55,  43, 351,\n",
       "          511, 280, 522, 311, 241, 626, 641, 646, 584, 255, 538,  99, 693,\n",
       "          217, 473, 335, 551, 261, 328, 365,  66,   4, 527, 225, 140,  73,\n",
       "            5,  58, 423, 583,  91, 108,  95, 604, 701, 681, 392, 131, 278,\n",
       "           96, 645, 185, 656, 208, 169, 196, 637,  19, 126, 468, 292,  54,\n",
       "          189, 505, 247,  64, 395, 115, 265, 513, 155, 113,  79,  89, 102,\n",
       "           82]),\n",
       "   array([717, 151, 484, 614, 326, 434, 544, 341, 321, 348, 510, 231, 534,\n",
       "          689, 122,  45, 214, 560, 193, 482,  38, 679, 640, 273, 724, 650,\n",
       "          298,  52, 601, 377, 360, 339, 504, 315, 159, 293, 318])))]"
      ]
     },
     "execution_count": 4,
     "metadata": {},
     "output_type": "execute_result"
    }
   ],
   "source": [
    "deeplabcut.create_training_dataset(\n",
    "    config_path,\n",
    "    num_shuffles=3,\n",
    "    Shuffles=None,\n",
    "    windows2linux=False,\n",
    "    userfeedback=False,\n",
    "    trainIndices=None,\n",
    "    testIndices=None,\n",
    "    net_type='resnet_152',\n",
    "    augmenter_type='imgaug',\n",
    "    posecfg_template=None,\n",
    ")"
   ]
  },
  {
   "attachments": {},
   "cell_type": "markdown",
   "id": "305a4c0f",
   "metadata": {},
   "source": [
    "## (G) Train The Network"
   ]
  },
  {
   "cell_type": "code",
   "execution_count": 72,
   "id": "f79e4b6d",
   "metadata": {},
   "outputs": [],
   "source": [
    "pose_cfg_path = \"C:\\\\Users\\\\zacha\\\\Repos\\\\AVI-DYS\\\\AVI-DYS-lower-limb-zach_roth-2023-04-07\\\\dlc-models\\iteration-0\\\\AVI-DYS-lower-limbApr7-trainset95shuffle1\\\\train\\\\pose_cfg.yaml\""
   ]
  },
  {
   "cell_type": "code",
   "execution_count": null,
   "id": "18d1aa01",
   "metadata": {},
   "outputs": [],
   "source": [
    "deeplabcut.train_network?"
   ]
  },
  {
   "cell_type": "code",
   "execution_count": 5,
   "id": "cd4d53d0",
   "metadata": {
    "scrolled": true
   },
   "outputs": [
    {
     "name": "stderr",
     "output_type": "stream",
     "text": [
      "Config:\n",
      "{'all_joints': [[0], [1], [2], [3], [4], [5], [6], [7], [8], [9]],\n",
      " 'all_joints_names': ['RKNE',\n",
      "                      'RANK',\n",
      "                      'RD3M',\n",
      "                      'RD1M',\n",
      "                      'RHLX',\n",
      "                      'LHLX',\n",
      "                      'LD1M',\n",
      "                      'LD3M',\n",
      "                      'LANK',\n",
      "                      'LKNE'],\n",
      " 'alpha_r': 0.02,\n",
      " 'apply_prob': 0.5,\n",
      " 'batch_size': 1,\n",
      " 'contrast': {'clahe': True,\n",
      "              'claheratio': 0.1,\n",
      "              'histeq': True,\n",
      "              'histeqratio': 0.1},\n",
      " 'convolution': {'edge': False,\n",
      "                 'emboss': {'alpha': [0.0, 1.0], 'strength': [0.5, 1.5]},\n",
      "                 'embossratio': 0.1,\n",
      "                 'sharpen': False,\n",
      "                 'sharpenratio': 0.3},\n",
      " 'crop_pad': 0,\n",
      " 'cropratio': 0.4,\n",
      " 'dataset': 'training-datasets\\\\iteration-0\\\\UnaugmentedDataSet_AVI-DYS-lower-limbApr19\\\\AVI-DYS-lower-limb_zach_roth95shuffle1.mat',\n",
      " 'dataset_type': 'imgaug',\n",
      " 'decay_steps': 30000,\n",
      " 'deterministic': False,\n",
      " 'display_iters': 1000,\n",
      " 'fg_fraction': 0.25,\n",
      " 'global_scale': 0.8,\n",
      " 'init_weights': 'C:\\\\Users\\\\zacha\\\\anaconda3\\\\envs\\\\dlc-gpu1\\\\lib\\\\site-packages\\\\deeplabcut\\\\pose_estimation_tensorflow\\\\models\\\\pretrained\\\\resnet_v1_152.ckpt',\n",
      " 'intermediate_supervision': False,\n",
      " 'intermediate_supervision_layer': 12,\n",
      " 'location_refinement': True,\n",
      " 'locref_huber_loss': True,\n",
      " 'locref_loss_weight': 0.05,\n",
      " 'locref_stdev': 7.2801,\n",
      " 'log_dir': 'log',\n",
      " 'lr_init': 0.0005,\n",
      " 'max_input_size': 1500,\n",
      " 'mean_pixel': [123.68, 116.779, 103.939],\n",
      " 'metadataset': 'training-datasets\\\\iteration-0\\\\UnaugmentedDataSet_AVI-DYS-lower-limbApr19\\\\Documentation_data-AVI-DYS-lower-limb_95shuffle1.pickle',\n",
      " 'min_input_size': 64,\n",
      " 'mirror': False,\n",
      " 'multi_stage': False,\n",
      " 'multi_step': [[0.005, 10000],\n",
      "                [0.02, 430000],\n",
      "                [0.002, 730000],\n",
      "                [0.001, 1030000]],\n",
      " 'net_type': 'resnet_152',\n",
      " 'num_joints': 10,\n",
      " 'optimizer': 'sgd',\n",
      " 'pairwise_huber_loss': False,\n",
      " 'pairwise_predict': False,\n",
      " 'partaffinityfield_predict': False,\n",
      " 'pos_dist_thresh': 17,\n",
      " 'project_path': 'C:\\\\Users\\\\zacha\\\\Repos\\\\AVI-DYS\\\\AVI-DYS-lower-limb-zach_roth-2023-04-19',\n",
      " 'regularize': False,\n",
      " 'rotation': 25,\n",
      " 'rotratio': 0.4,\n",
      " 'save_iters': 50000,\n",
      " 'scale_jitter_lo': 0.5,\n",
      " 'scale_jitter_up': 1.25,\n",
      " 'scoremap_dir': 'test',\n",
      " 'shuffle': True,\n",
      " 'snapshot_prefix': 'C:\\\\Users\\\\zacha\\\\Repos\\\\AVI-DYS\\\\AVI-DYS-lower-limb-zach_roth-2023-04-19\\\\dlc-models\\\\iteration-0\\\\AVI-DYS-lower-limbApr19-trainset95shuffle1\\\\train\\\\snapshot',\n",
      " 'stride': 8.0,\n",
      " 'weigh_negatives': False,\n",
      " 'weigh_only_present_joints': False,\n",
      " 'weigh_part_predictions': False,\n",
      " 'weight_decay': 0.0001}\n"
     ]
    },
    {
     "name": "stdout",
     "output_type": "stream",
     "text": [
      "Selecting single-animal trainer\n",
      "Batch Size is 1\n"
     ]
    },
    {
     "name": "stderr",
     "output_type": "stream",
     "text": [
      "C:\\Users\\zacha\\anaconda3\\envs\\dlc-gpu1\\lib\\site-packages\\tensorflow\\python\\keras\\engine\\base_layer_v1.py:1694: UserWarning: `layer.apply` is deprecated and will be removed in a future version. Please use `layer.__call__` method instead.\n",
      "  warnings.warn('`layer.apply` is deprecated and '\n"
     ]
    },
    {
     "name": "stdout",
     "output_type": "stream",
     "text": [
      "Loading ImageNet-pretrained resnet_152\n",
      "Max_iters overwritten as 1000000\n",
      "Display_iters overwritten as 1000\n",
      "Save_iters overwritten as 10000\n",
      "Training parameter:\n",
      "{'stride': 8.0, 'weigh_part_predictions': False, 'weigh_negatives': False, 'fg_fraction': 0.25, 'mean_pixel': [123.68, 116.779, 103.939], 'shuffle': True, 'snapshot_prefix': 'C:\\\\Users\\\\zacha\\\\Repos\\\\AVI-DYS\\\\AVI-DYS-lower-limb-zach_roth-2023-04-19\\\\dlc-models\\\\iteration-0\\\\AVI-DYS-lower-limbApr19-trainset95shuffle1\\\\train\\\\snapshot', 'log_dir': 'log', 'global_scale': 0.8, 'location_refinement': True, 'locref_stdev': 7.2801, 'locref_loss_weight': 0.05, 'locref_huber_loss': True, 'optimizer': 'sgd', 'intermediate_supervision': False, 'intermediate_supervision_layer': 12, 'regularize': False, 'weight_decay': 0.0001, 'crop_pad': 0, 'scoremap_dir': 'test', 'batch_size': 1, 'dataset_type': 'imgaug', 'deterministic': False, 'mirror': False, 'pairwise_huber_loss': False, 'weigh_only_present_joints': False, 'partaffinityfield_predict': False, 'pairwise_predict': False, 'all_joints': [[0], [1], [2], [3], [4], [5], [6], [7], [8], [9]], 'all_joints_names': ['RKNE', 'RANK', 'RD3M', 'RD1M', 'RHLX', 'LHLX', 'LD1M', 'LD3M', 'LANK', 'LKNE'], 'alpha_r': 0.02, 'apply_prob': 0.5, 'contrast': {'clahe': True, 'claheratio': 0.1, 'histeq': True, 'histeqratio': 0.1, 'gamma': False, 'sigmoid': False, 'log': False, 'linear': False}, 'convolution': {'edge': False, 'emboss': {'alpha': [0.0, 1.0], 'strength': [0.5, 1.5]}, 'embossratio': 0.1, 'sharpen': False, 'sharpenratio': 0.3}, 'cropratio': 0.4, 'dataset': 'training-datasets\\\\iteration-0\\\\UnaugmentedDataSet_AVI-DYS-lower-limbApr19\\\\AVI-DYS-lower-limb_zach_roth95shuffle1.mat', 'decay_steps': 30000, 'display_iters': 1000, 'init_weights': 'C:\\\\Users\\\\zacha\\\\anaconda3\\\\envs\\\\dlc-gpu1\\\\lib\\\\site-packages\\\\deeplabcut\\\\pose_estimation_tensorflow\\\\models\\\\pretrained\\\\resnet_v1_152.ckpt', 'lr_init': 0.0005, 'max_input_size': 1500, 'metadataset': 'training-datasets\\\\iteration-0\\\\UnaugmentedDataSet_AVI-DYS-lower-limbApr19\\\\Documentation_data-AVI-DYS-lower-limb_95shuffle1.pickle', 'min_input_size': 64, 'multi_stage': False, 'multi_step': [[0.005, 10000], [0.02, 430000], [0.002, 730000], [0.001, 1030000]], 'net_type': 'resnet_152', 'num_joints': 10, 'pos_dist_thresh': 17, 'project_path': 'C:\\\\Users\\\\zacha\\\\Repos\\\\AVI-DYS\\\\AVI-DYS-lower-limb-zach_roth-2023-04-19', 'rotation': 25, 'rotratio': 0.4, 'save_iters': 50000, 'scale_jitter_lo': 0.5, 'scale_jitter_up': 1.25, 'covering': True, 'elastic_transform': True, 'motion_blur': True, 'motion_blur_params': {'k': 7, 'angle': (-90, 90)}}\n",
      "Starting training....\n"
     ]
    },
    {
     "name": "stderr",
     "output_type": "stream",
     "text": [
      "iteration: 1000 loss: 0.0387 lr: 0.005\n",
      "iteration: 2000 loss: 0.0264 lr: 0.005\n",
      "iteration: 3000 loss: 0.0224 lr: 0.005\n",
      "iteration: 4000 loss: 0.0201 lr: 0.005\n",
      "iteration: 5000 loss: 0.0184 lr: 0.005\n",
      "iteration: 6000 loss: 0.0174 lr: 0.005\n",
      "iteration: 7000 loss: 0.0159 lr: 0.005\n",
      "iteration: 8000 loss: 0.0152 lr: 0.005\n",
      "iteration: 9000 loss: 0.0146 lr: 0.005\n",
      "iteration: 10000 loss: 0.0146 lr: 0.005\n",
      "iteration: 11000 loss: 0.0177 lr: 0.02\n",
      "iteration: 12000 loss: 0.0158 lr: 0.02\n",
      "iteration: 13000 loss: 0.0149 lr: 0.02\n",
      "iteration: 14000 loss: 0.0135 lr: 0.02\n",
      "iteration: 15000 loss: 0.0130 lr: 0.02\n",
      "iteration: 16000 loss: 0.0124 lr: 0.02\n",
      "iteration: 17000 loss: 0.0123 lr: 0.02\n",
      "iteration: 18000 loss: 0.0115 lr: 0.02\n",
      "iteration: 19000 loss: 0.0112 lr: 0.02\n",
      "iteration: 20000 loss: 0.0106 lr: 0.02\n",
      "iteration: 21000 loss: 0.0109 lr: 0.02\n",
      "iteration: 22000 loss: 0.0103 lr: 0.02\n",
      "iteration: 23000 loss: 0.0103 lr: 0.02\n",
      "iteration: 24000 loss: 0.0103 lr: 0.02\n",
      "iteration: 25000 loss: 0.0102 lr: 0.02\n",
      "iteration: 26000 loss: 0.0096 lr: 0.02\n",
      "iteration: 27000 loss: 0.0093 lr: 0.02\n",
      "iteration: 28000 loss: 0.0096 lr: 0.02\n",
      "iteration: 29000 loss: 0.0095 lr: 0.02\n",
      "iteration: 30000 loss: 0.0091 lr: 0.02\n",
      "iteration: 31000 loss: 0.0094 lr: 0.02\n",
      "iteration: 32000 loss: 0.0091 lr: 0.02\n",
      "iteration: 33000 loss: 0.0090 lr: 0.02\n",
      "iteration: 34000 loss: 0.0085 lr: 0.02\n",
      "iteration: 35000 loss: 0.0090 lr: 0.02\n",
      "iteration: 36000 loss: 0.0088 lr: 0.02\n",
      "iteration: 37000 loss: 0.0081 lr: 0.02\n",
      "iteration: 38000 loss: 0.0085 lr: 0.02\n",
      "iteration: 39000 loss: 0.0079 lr: 0.02\n",
      "iteration: 40000 loss: 0.0089 lr: 0.02\n",
      "iteration: 41000 loss: 0.0080 lr: 0.02\n",
      "iteration: 42000 loss: 0.0082 lr: 0.02\n",
      "iteration: 43000 loss: 0.0081 lr: 0.02\n",
      "iteration: 44000 loss: 0.0078 lr: 0.02\n",
      "iteration: 45000 loss: 0.0077 lr: 0.02\n",
      "iteration: 46000 loss: 0.0077 lr: 0.02\n",
      "iteration: 47000 loss: 0.0081 lr: 0.02\n",
      "iteration: 48000 loss: 0.0077 lr: 0.02\n",
      "iteration: 49000 loss: 0.0079 lr: 0.02\n",
      "iteration: 50000 loss: 0.0076 lr: 0.02\n",
      "iteration: 51000 loss: 0.0077 lr: 0.02\n",
      "iteration: 52000 loss: 0.0077 lr: 0.02\n",
      "iteration: 53000 loss: 0.0078 lr: 0.02\n",
      "iteration: 54000 loss: 0.0075 lr: 0.02\n",
      "iteration: 55000 loss: 0.0077 lr: 0.02\n",
      "iteration: 56000 loss: 0.0076 lr: 0.02\n",
      "iteration: 57000 loss: 0.0072 lr: 0.02\n",
      "iteration: 58000 loss: 0.0076 lr: 0.02\n",
      "iteration: 59000 loss: 0.0074 lr: 0.02\n",
      "iteration: 60000 loss: 0.0077 lr: 0.02\n",
      "iteration: 61000 loss: 0.0072 lr: 0.02\n",
      "iteration: 62000 loss: 0.0074 lr: 0.02\n",
      "iteration: 63000 loss: 0.0068 lr: 0.02\n",
      "iteration: 64000 loss: 0.0072 lr: 0.02\n",
      "iteration: 65000 loss: 0.0074 lr: 0.02\n",
      "iteration: 66000 loss: 0.0067 lr: 0.02\n",
      "iteration: 67000 loss: 0.0068 lr: 0.02\n",
      "iteration: 68000 loss: 0.0072 lr: 0.02\n",
      "iteration: 69000 loss: 0.0071 lr: 0.02\n",
      "iteration: 70000 loss: 0.0068 lr: 0.02\n",
      "iteration: 71000 loss: 0.0071 lr: 0.02\n",
      "iteration: 72000 loss: 0.0065 lr: 0.02\n",
      "iteration: 73000 loss: 0.0067 lr: 0.02\n",
      "iteration: 74000 loss: 0.0072 lr: 0.02\n",
      "iteration: 75000 loss: 0.0065 lr: 0.02\n",
      "iteration: 76000 loss: 0.0068 lr: 0.02\n",
      "iteration: 77000 loss: 0.0065 lr: 0.02\n",
      "iteration: 78000 loss: 0.0068 lr: 0.02\n",
      "iteration: 79000 loss: 0.0066 lr: 0.02\n",
      "iteration: 80000 loss: 0.0069 lr: 0.02\n",
      "iteration: 81000 loss: 0.0070 lr: 0.02\n",
      "iteration: 82000 loss: 0.0066 lr: 0.02\n",
      "iteration: 83000 loss: 0.0067 lr: 0.02\n",
      "iteration: 84000 loss: 0.0066 lr: 0.02\n",
      "iteration: 85000 loss: 0.0065 lr: 0.02\n",
      "iteration: 86000 loss: 0.0064 lr: 0.02\n",
      "iteration: 87000 loss: 0.0066 lr: 0.02\n",
      "iteration: 88000 loss: 0.0064 lr: 0.02\n",
      "iteration: 89000 loss: 0.0063 lr: 0.02\n",
      "iteration: 90000 loss: 0.0065 lr: 0.02\n",
      "iteration: 91000 loss: 0.0067 lr: 0.02\n",
      "iteration: 92000 loss: 0.0065 lr: 0.02\n",
      "iteration: 93000 loss: 0.0062 lr: 0.02\n",
      "iteration: 94000 loss: 0.0063 lr: 0.02\n",
      "iteration: 95000 loss: 0.0064 lr: 0.02\n",
      "iteration: 96000 loss: 0.0063 lr: 0.02\n",
      "iteration: 97000 loss: 0.0060 lr: 0.02\n",
      "iteration: 98000 loss: 0.0061 lr: 0.02\n",
      "iteration: 99000 loss: 0.0064 lr: 0.02\n",
      "iteration: 100000 loss: 0.0064 lr: 0.02\n",
      "iteration: 101000 loss: 0.0062 lr: 0.02\n",
      "iteration: 102000 loss: 0.0060 lr: 0.02\n",
      "iteration: 103000 loss: 0.0059 lr: 0.02\n",
      "iteration: 104000 loss: 0.0063 lr: 0.02\n",
      "iteration: 105000 loss: 0.0059 lr: 0.02\n",
      "iteration: 106000 loss: 0.0061 lr: 0.02\n",
      "iteration: 107000 loss: 0.0058 lr: 0.02\n",
      "iteration: 108000 loss: 0.0062 lr: 0.02\n",
      "iteration: 109000 loss: 0.0059 lr: 0.02\n",
      "iteration: 110000 loss: 0.0061 lr: 0.02\n",
      "iteration: 111000 loss: 0.0063 lr: 0.02\n",
      "iteration: 112000 loss: 0.0059 lr: 0.02\n",
      "iteration: 113000 loss: 0.0060 lr: 0.02\n",
      "iteration: 114000 loss: 0.0061 lr: 0.02\n",
      "iteration: 115000 loss: 0.0058 lr: 0.02\n",
      "iteration: 116000 loss: 0.0062 lr: 0.02\n",
      "iteration: 117000 loss: 0.0061 lr: 0.02\n",
      "iteration: 118000 loss: 0.0058 lr: 0.02\n",
      "iteration: 119000 loss: 0.0060 lr: 0.02\n",
      "iteration: 120000 loss: 0.0060 lr: 0.02\n",
      "iteration: 121000 loss: 0.0059 lr: 0.02\n",
      "iteration: 122000 loss: 0.0060 lr: 0.02\n",
      "iteration: 123000 loss: 0.0058 lr: 0.02\n",
      "iteration: 124000 loss: 0.0058 lr: 0.02\n",
      "iteration: 125000 loss: 0.0058 lr: 0.02\n",
      "iteration: 126000 loss: 0.0055 lr: 0.02\n",
      "iteration: 127000 loss: 0.0057 lr: 0.02\n",
      "iteration: 128000 loss: 0.0057 lr: 0.02\n",
      "iteration: 129000 loss: 0.0057 lr: 0.02\n",
      "iteration: 130000 loss: 0.0056 lr: 0.02\n",
      "iteration: 131000 loss: 0.0056 lr: 0.02\n",
      "iteration: 132000 loss: 0.0056 lr: 0.02\n",
      "iteration: 133000 loss: 0.0055 lr: 0.02\n",
      "iteration: 134000 loss: 0.0060 lr: 0.02\n",
      "iteration: 135000 loss: 0.0054 lr: 0.02\n",
      "iteration: 136000 loss: 0.0060 lr: 0.02\n",
      "iteration: 137000 loss: 0.0058 lr: 0.02\n",
      "iteration: 138000 loss: 0.0062 lr: 0.02\n",
      "iteration: 139000 loss: 0.0054 lr: 0.02\n",
      "iteration: 140000 loss: 0.0056 lr: 0.02\n",
      "iteration: 141000 loss: 0.0055 lr: 0.02\n",
      "iteration: 142000 loss: 0.0054 lr: 0.02\n",
      "iteration: 143000 loss: 0.0057 lr: 0.02\n",
      "iteration: 144000 loss: 0.0056 lr: 0.02\n",
      "iteration: 145000 loss: 0.0056 lr: 0.02\n",
      "iteration: 146000 loss: 0.0052 lr: 0.02\n",
      "iteration: 147000 loss: 0.0054 lr: 0.02\n",
      "iteration: 148000 loss: 0.0056 lr: 0.02\n",
      "iteration: 149000 loss: 0.0055 lr: 0.02\n",
      "iteration: 150000 loss: 0.0059 lr: 0.02\n",
      "iteration: 151000 loss: 0.0055 lr: 0.02\n",
      "iteration: 152000 loss: 0.0057 lr: 0.02\n",
      "iteration: 153000 loss: 0.0055 lr: 0.02\n",
      "iteration: 154000 loss: 0.0056 lr: 0.02\n",
      "iteration: 155000 loss: 0.0059 lr: 0.02\n",
      "iteration: 156000 loss: 0.0056 lr: 0.02\n",
      "iteration: 157000 loss: 0.0055 lr: 0.02\n",
      "iteration: 158000 loss: 0.0056 lr: 0.02\n",
      "iteration: 159000 loss: 0.0054 lr: 0.02\n",
      "iteration: 160000 loss: 0.0054 lr: 0.02\n",
      "iteration: 161000 loss: 0.0053 lr: 0.02\n",
      "iteration: 162000 loss: 0.0054 lr: 0.02\n",
      "iteration: 163000 loss: 0.0055 lr: 0.02\n",
      "iteration: 164000 loss: 0.0054 lr: 0.02\n",
      "iteration: 165000 loss: 0.0052 lr: 0.02\n",
      "iteration: 166000 loss: 0.0054 lr: 0.02\n",
      "iteration: 167000 loss: 0.0052 lr: 0.02\n",
      "iteration: 168000 loss: 0.0052 lr: 0.02\n",
      "iteration: 169000 loss: 0.0053 lr: 0.02\n",
      "iteration: 170000 loss: 0.0052 lr: 0.02\n",
      "iteration: 171000 loss: 0.0052 lr: 0.02\n",
      "iteration: 172000 loss: 0.0051 lr: 0.02\n",
      "iteration: 173000 loss: 0.0052 lr: 0.02\n",
      "iteration: 174000 loss: 0.0052 lr: 0.02\n",
      "iteration: 175000 loss: 0.0052 lr: 0.02\n",
      "iteration: 176000 loss: 0.0050 lr: 0.02\n",
      "iteration: 177000 loss: 0.0051 lr: 0.02\n",
      "iteration: 178000 loss: 0.0050 lr: 0.02\n",
      "iteration: 179000 loss: 0.0050 lr: 0.02\n",
      "iteration: 180000 loss: 0.0051 lr: 0.02\n",
      "iteration: 181000 loss: 0.0053 lr: 0.02\n",
      "iteration: 182000 loss: 0.0050 lr: 0.02\n",
      "iteration: 183000 loss: 0.0050 lr: 0.02\n",
      "iteration: 184000 loss: 0.0054 lr: 0.02\n",
      "iteration: 185000 loss: 0.0050 lr: 0.02\n",
      "iteration: 186000 loss: 0.0052 lr: 0.02\n",
      "iteration: 187000 loss: 0.0052 lr: 0.02\n",
      "iteration: 188000 loss: 0.0049 lr: 0.02\n",
      "iteration: 189000 loss: 0.0049 lr: 0.02\n",
      "iteration: 190000 loss: 0.0051 lr: 0.02\n",
      "iteration: 191000 loss: 0.0053 lr: 0.02\n",
      "iteration: 192000 loss: 0.0050 lr: 0.02\n",
      "iteration: 193000 loss: 0.0053 lr: 0.02\n",
      "iteration: 194000 loss: 0.0050 lr: 0.02\n",
      "iteration: 195000 loss: 0.0052 lr: 0.02\n",
      "iteration: 196000 loss: 0.0049 lr: 0.02\n",
      "iteration: 197000 loss: 0.0046 lr: 0.02\n",
      "iteration: 198000 loss: 0.0049 lr: 0.02\n",
      "iteration: 199000 loss: 0.0048 lr: 0.02\n",
      "iteration: 200000 loss: 0.0051 lr: 0.02\n",
      "iteration: 201000 loss: 0.0051 lr: 0.02\n",
      "iteration: 202000 loss: 0.0050 lr: 0.02\n",
      "iteration: 203000 loss: 0.0051 lr: 0.02\n",
      "iteration: 204000 loss: 0.0050 lr: 0.02\n",
      "iteration: 205000 loss: 0.0051 lr: 0.02\n",
      "iteration: 206000 loss: 0.0051 lr: 0.02\n",
      "iteration: 207000 loss: 0.0050 lr: 0.02\n",
      "iteration: 208000 loss: 0.0048 lr: 0.02\n"
     ]
    },
    {
     "name": "stderr",
     "output_type": "stream",
     "text": [
      "iteration: 209000 loss: 0.0047 lr: 0.02\n",
      "iteration: 210000 loss: 0.0050 lr: 0.02\n",
      "iteration: 211000 loss: 0.0047 lr: 0.02\n",
      "iteration: 212000 loss: 0.0049 lr: 0.02\n",
      "iteration: 213000 loss: 0.0049 lr: 0.02\n",
      "iteration: 214000 loss: 0.0050 lr: 0.02\n",
      "iteration: 215000 loss: 0.0047 lr: 0.02\n",
      "iteration: 216000 loss: 0.0047 lr: 0.02\n",
      "iteration: 217000 loss: 0.0046 lr: 0.02\n",
      "iteration: 218000 loss: 0.0050 lr: 0.02\n",
      "iteration: 219000 loss: 0.0049 lr: 0.02\n",
      "iteration: 220000 loss: 0.0047 lr: 0.02\n",
      "iteration: 221000 loss: 0.0046 lr: 0.02\n",
      "iteration: 222000 loss: 0.0051 lr: 0.02\n",
      "iteration: 223000 loss: 0.0048 lr: 0.02\n",
      "iteration: 224000 loss: 0.0047 lr: 0.02\n",
      "iteration: 225000 loss: 0.0049 lr: 0.02\n",
      "iteration: 226000 loss: 0.0048 lr: 0.02\n",
      "iteration: 227000 loss: 0.0046 lr: 0.02\n",
      "iteration: 228000 loss: 0.0049 lr: 0.02\n",
      "iteration: 229000 loss: 0.0048 lr: 0.02\n",
      "iteration: 230000 loss: 0.0046 lr: 0.02\n",
      "iteration: 231000 loss: 0.0046 lr: 0.02\n",
      "iteration: 232000 loss: 0.0045 lr: 0.02\n",
      "iteration: 233000 loss: 0.0047 lr: 0.02\n",
      "iteration: 234000 loss: 0.0047 lr: 0.02\n",
      "iteration: 235000 loss: 0.0049 lr: 0.02\n",
      "iteration: 236000 loss: 0.0048 lr: 0.02\n",
      "iteration: 237000 loss: 0.0049 lr: 0.02\n",
      "iteration: 238000 loss: 0.0050 lr: 0.02\n",
      "iteration: 239000 loss: 0.0045 lr: 0.02\n",
      "iteration: 240000 loss: 0.0048 lr: 0.02\n",
      "iteration: 241000 loss: 0.0047 lr: 0.02\n",
      "iteration: 242000 loss: 0.0047 lr: 0.02\n",
      "iteration: 243000 loss: 0.0046 lr: 0.02\n",
      "iteration: 244000 loss: 0.0049 lr: 0.02\n",
      "iteration: 245000 loss: 0.0046 lr: 0.02\n",
      "iteration: 246000 loss: 0.0046 lr: 0.02\n",
      "iteration: 247000 loss: 0.0049 lr: 0.02\n",
      "iteration: 248000 loss: 0.0045 lr: 0.02\n",
      "iteration: 249000 loss: 0.0047 lr: 0.02\n",
      "iteration: 250000 loss: 0.0047 lr: 0.02\n",
      "iteration: 251000 loss: 0.0048 lr: 0.02\n",
      "iteration: 252000 loss: 0.0045 lr: 0.02\n",
      "iteration: 253000 loss: 0.0046 lr: 0.02\n",
      "iteration: 254000 loss: 0.0045 lr: 0.02\n",
      "iteration: 255000 loss: 0.0048 lr: 0.02\n",
      "iteration: 256000 loss: 0.0048 lr: 0.02\n",
      "iteration: 257000 loss: 0.0046 lr: 0.02\n",
      "iteration: 258000 loss: 0.0045 lr: 0.02\n",
      "iteration: 259000 loss: 0.0046 lr: 0.02\n",
      "iteration: 260000 loss: 0.0047 lr: 0.02\n",
      "iteration: 261000 loss: 0.0045 lr: 0.02\n",
      "iteration: 262000 loss: 0.0045 lr: 0.02\n",
      "iteration: 263000 loss: 0.0047 lr: 0.02\n",
      "iteration: 264000 loss: 0.0045 lr: 0.02\n",
      "iteration: 265000 loss: 0.0045 lr: 0.02\n",
      "iteration: 266000 loss: 0.0044 lr: 0.02\n",
      "iteration: 267000 loss: 0.0048 lr: 0.02\n",
      "iteration: 268000 loss: 0.0045 lr: 0.02\n",
      "iteration: 269000 loss: 0.0045 lr: 0.02\n",
      "iteration: 270000 loss: 0.0044 lr: 0.02\n",
      "iteration: 271000 loss: 0.0047 lr: 0.02\n",
      "iteration: 272000 loss: 0.0045 lr: 0.02\n",
      "iteration: 273000 loss: 0.0045 lr: 0.02\n",
      "iteration: 274000 loss: 0.0049 lr: 0.02\n",
      "iteration: 275000 loss: 0.0044 lr: 0.02\n",
      "iteration: 276000 loss: 0.0045 lr: 0.02\n",
      "iteration: 277000 loss: 0.0045 lr: 0.02\n",
      "iteration: 278000 loss: 0.0044 lr: 0.02\n",
      "iteration: 279000 loss: 0.0043 lr: 0.02\n",
      "iteration: 280000 loss: 0.0042 lr: 0.02\n",
      "iteration: 281000 loss: 0.0045 lr: 0.02\n",
      "iteration: 282000 loss: 0.0045 lr: 0.02\n",
      "iteration: 283000 loss: 0.0045 lr: 0.02\n",
      "iteration: 284000 loss: 0.0047 lr: 0.02\n",
      "iteration: 285000 loss: 0.0044 lr: 0.02\n",
      "iteration: 286000 loss: 0.0045 lr: 0.02\n",
      "iteration: 287000 loss: 0.0046 lr: 0.02\n",
      "iteration: 288000 loss: 0.0043 lr: 0.02\n",
      "iteration: 289000 loss: 0.0046 lr: 0.02\n",
      "iteration: 290000 loss: 0.0043 lr: 0.02\n",
      "iteration: 291000 loss: 0.0049 lr: 0.02\n",
      "iteration: 292000 loss: 0.0043 lr: 0.02\n",
      "iteration: 293000 loss: 0.0045 lr: 0.02\n",
      "iteration: 294000 loss: 0.0045 lr: 0.02\n",
      "iteration: 295000 loss: 0.0043 lr: 0.02\n",
      "iteration: 296000 loss: 0.0044 lr: 0.02\n",
      "iteration: 297000 loss: 0.0043 lr: 0.02\n",
      "iteration: 298000 loss: 0.0045 lr: 0.02\n",
      "iteration: 299000 loss: 0.0046 lr: 0.02\n",
      "iteration: 300000 loss: 0.0043 lr: 0.02\n",
      "iteration: 301000 loss: 0.0044 lr: 0.02\n",
      "iteration: 302000 loss: 0.0043 lr: 0.02\n",
      "iteration: 303000 loss: 0.0046 lr: 0.02\n",
      "iteration: 304000 loss: 0.0044 lr: 0.02\n",
      "iteration: 305000 loss: 0.0044 lr: 0.02\n",
      "iteration: 306000 loss: 0.0041 lr: 0.02\n",
      "iteration: 307000 loss: 0.0044 lr: 0.02\n",
      "iteration: 308000 loss: 0.0043 lr: 0.02\n",
      "iteration: 309000 loss: 0.0040 lr: 0.02\n",
      "iteration: 310000 loss: 0.0042 lr: 0.02\n",
      "iteration: 311000 loss: 0.0044 lr: 0.02\n",
      "iteration: 312000 loss: 0.0044 lr: 0.02\n",
      "iteration: 313000 loss: 0.0042 lr: 0.02\n",
      "iteration: 314000 loss: 0.0042 lr: 0.02\n",
      "iteration: 315000 loss: 0.0042 lr: 0.02\n",
      "iteration: 316000 loss: 0.0044 lr: 0.02\n",
      "iteration: 317000 loss: 0.0043 lr: 0.02\n",
      "iteration: 318000 loss: 0.0041 lr: 0.02\n",
      "iteration: 319000 loss: 0.0045 lr: 0.02\n",
      "iteration: 320000 loss: 0.0045 lr: 0.02\n",
      "iteration: 321000 loss: 0.0046 lr: 0.02\n",
      "iteration: 322000 loss: 0.0042 lr: 0.02\n",
      "iteration: 323000 loss: 0.0044 lr: 0.02\n",
      "iteration: 324000 loss: 0.0044 lr: 0.02\n",
      "iteration: 325000 loss: 0.0045 lr: 0.02\n",
      "iteration: 326000 loss: 0.0041 lr: 0.02\n",
      "iteration: 327000 loss: 0.0044 lr: 0.02\n",
      "iteration: 328000 loss: 0.0040 lr: 0.02\n",
      "iteration: 329000 loss: 0.0043 lr: 0.02\n",
      "iteration: 330000 loss: 0.0043 lr: 0.02\n",
      "iteration: 331000 loss: 0.0043 lr: 0.02\n",
      "iteration: 332000 loss: 0.0042 lr: 0.02\n",
      "iteration: 333000 loss: 0.0043 lr: 0.02\n",
      "iteration: 334000 loss: 0.0042 lr: 0.02\n",
      "iteration: 335000 loss: 0.0045 lr: 0.02\n",
      "iteration: 336000 loss: 0.0043 lr: 0.02\n",
      "iteration: 337000 loss: 0.0040 lr: 0.02\n",
      "iteration: 338000 loss: 0.0045 lr: 0.02\n",
      "iteration: 339000 loss: 0.0042 lr: 0.02\n",
      "iteration: 340000 loss: 0.0043 lr: 0.02\n",
      "iteration: 341000 loss: 0.0044 lr: 0.02\n",
      "iteration: 342000 loss: 0.0044 lr: 0.02\n",
      "iteration: 343000 loss: 0.0042 lr: 0.02\n",
      "iteration: 344000 loss: 0.0043 lr: 0.02\n",
      "iteration: 345000 loss: 0.0040 lr: 0.02\n",
      "iteration: 346000 loss: 0.0041 lr: 0.02\n",
      "iteration: 347000 loss: 0.0043 lr: 0.02\n",
      "iteration: 348000 loss: 0.0041 lr: 0.02\n",
      "iteration: 349000 loss: 0.0043 lr: 0.02\n",
      "iteration: 350000 loss: 0.0042 lr: 0.02\n",
      "iteration: 351000 loss: 0.0040 lr: 0.02\n",
      "iteration: 352000 loss: 0.0042 lr: 0.02\n",
      "iteration: 353000 loss: 0.0042 lr: 0.02\n",
      "iteration: 354000 loss: 0.0042 lr: 0.02\n",
      "iteration: 355000 loss: 0.0041 lr: 0.02\n",
      "iteration: 356000 loss: 0.0040 lr: 0.02\n",
      "iteration: 357000 loss: 0.0040 lr: 0.02\n",
      "iteration: 358000 loss: 0.0042 lr: 0.02\n",
      "iteration: 359000 loss: 0.0042 lr: 0.02\n",
      "iteration: 360000 loss: 0.0043 lr: 0.02\n",
      "iteration: 361000 loss: 0.0041 lr: 0.02\n",
      "iteration: 362000 loss: 0.0039 lr: 0.02\n",
      "iteration: 363000 loss: 0.0041 lr: 0.02\n",
      "iteration: 364000 loss: 0.0040 lr: 0.02\n",
      "iteration: 365000 loss: 0.0044 lr: 0.02\n",
      "iteration: 366000 loss: 0.0041 lr: 0.02\n",
      "iteration: 367000 loss: 0.0040 lr: 0.02\n",
      "iteration: 368000 loss: 0.0043 lr: 0.02\n",
      "iteration: 369000 loss: 0.0040 lr: 0.02\n",
      "iteration: 370000 loss: 0.0041 lr: 0.02\n",
      "iteration: 371000 loss: 0.0042 lr: 0.02\n",
      "iteration: 372000 loss: 0.0043 lr: 0.02\n",
      "iteration: 373000 loss: 0.0040 lr: 0.02\n",
      "iteration: 374000 loss: 0.0040 lr: 0.02\n",
      "iteration: 375000 loss: 0.0041 lr: 0.02\n",
      "iteration: 376000 loss: 0.0042 lr: 0.02\n",
      "iteration: 377000 loss: 0.0044 lr: 0.02\n",
      "iteration: 378000 loss: 0.0042 lr: 0.02\n",
      "iteration: 379000 loss: 0.0041 lr: 0.02\n",
      "iteration: 380000 loss: 0.0040 lr: 0.02\n",
      "iteration: 381000 loss: 0.0040 lr: 0.02\n",
      "iteration: 382000 loss: 0.0041 lr: 0.02\n",
      "iteration: 383000 loss: 0.0041 lr: 0.02\n",
      "iteration: 384000 loss: 0.0042 lr: 0.02\n",
      "iteration: 385000 loss: 0.0046 lr: 0.02\n",
      "iteration: 386000 loss: 0.0041 lr: 0.02\n",
      "iteration: 387000 loss: 0.0042 lr: 0.02\n",
      "iteration: 388000 loss: 0.0042 lr: 0.02\n",
      "iteration: 389000 loss: 0.0041 lr: 0.02\n",
      "iteration: 390000 loss: 0.0041 lr: 0.02\n",
      "iteration: 391000 loss: 0.0042 lr: 0.02\n",
      "iteration: 392000 loss: 0.0040 lr: 0.02\n",
      "iteration: 393000 loss: 0.0037 lr: 0.02\n",
      "iteration: 394000 loss: 0.0038 lr: 0.02\n",
      "iteration: 395000 loss: 0.0043 lr: 0.02\n",
      "iteration: 396000 loss: 0.0041 lr: 0.02\n",
      "iteration: 397000 loss: 0.0040 lr: 0.02\n",
      "iteration: 398000 loss: 0.0043 lr: 0.02\n",
      "iteration: 399000 loss: 0.0041 lr: 0.02\n",
      "iteration: 400000 loss: 0.0041 lr: 0.02\n",
      "iteration: 401000 loss: 0.0043 lr: 0.02\n",
      "iteration: 402000 loss: 0.0038 lr: 0.02\n",
      "iteration: 403000 loss: 0.0038 lr: 0.02\n",
      "iteration: 404000 loss: 0.0042 lr: 0.02\n",
      "iteration: 405000 loss: 0.0040 lr: 0.02\n",
      "iteration: 406000 loss: 0.0041 lr: 0.02\n",
      "iteration: 407000 loss: 0.0040 lr: 0.02\n",
      "iteration: 408000 loss: 0.0038 lr: 0.02\n",
      "iteration: 409000 loss: 0.0043 lr: 0.02\n",
      "iteration: 410000 loss: 0.0041 lr: 0.02\n",
      "iteration: 411000 loss: 0.0043 lr: 0.02\n",
      "iteration: 412000 loss: 0.0039 lr: 0.02\n",
      "iteration: 413000 loss: 0.0041 lr: 0.02\n"
     ]
    },
    {
     "name": "stderr",
     "output_type": "stream",
     "text": [
      "iteration: 414000 loss: 0.0041 lr: 0.02\n",
      "iteration: 415000 loss: 0.0041 lr: 0.02\n",
      "iteration: 416000 loss: 0.0040 lr: 0.02\n",
      "iteration: 417000 loss: 0.0037 lr: 0.02\n",
      "iteration: 418000 loss: 0.0039 lr: 0.02\n",
      "iteration: 419000 loss: 0.0038 lr: 0.02\n",
      "iteration: 420000 loss: 0.0039 lr: 0.02\n",
      "iteration: 421000 loss: 0.0039 lr: 0.02\n",
      "iteration: 422000 loss: 0.0038 lr: 0.02\n",
      "iteration: 423000 loss: 0.0039 lr: 0.02\n",
      "iteration: 424000 loss: 0.0038 lr: 0.02\n",
      "iteration: 425000 loss: 0.0038 lr: 0.02\n",
      "iteration: 426000 loss: 0.0039 lr: 0.02\n",
      "iteration: 427000 loss: 0.0039 lr: 0.02\n",
      "iteration: 428000 loss: 0.0039 lr: 0.02\n",
      "iteration: 429000 loss: 0.0037 lr: 0.02\n",
      "iteration: 430000 loss: 0.0040 lr: 0.02\n",
      "iteration: 431000 loss: 0.0036 lr: 0.002\n",
      "iteration: 432000 loss: 0.0035 lr: 0.002\n",
      "iteration: 433000 loss: 0.0035 lr: 0.002\n",
      "iteration: 434000 loss: 0.0035 lr: 0.002\n",
      "iteration: 435000 loss: 0.0034 lr: 0.002\n",
      "iteration: 436000 loss: 0.0035 lr: 0.002\n",
      "iteration: 437000 loss: 0.0034 lr: 0.002\n",
      "iteration: 438000 loss: 0.0034 lr: 0.002\n",
      "iteration: 439000 loss: 0.0034 lr: 0.002\n",
      "iteration: 440000 loss: 0.0033 lr: 0.002\n",
      "iteration: 441000 loss: 0.0032 lr: 0.002\n",
      "iteration: 442000 loss: 0.0033 lr: 0.002\n",
      "iteration: 443000 loss: 0.0032 lr: 0.002\n",
      "iteration: 444000 loss: 0.0033 lr: 0.002\n",
      "iteration: 445000 loss: 0.0031 lr: 0.002\n",
      "iteration: 446000 loss: 0.0034 lr: 0.002\n",
      "iteration: 447000 loss: 0.0034 lr: 0.002\n",
      "iteration: 448000 loss: 0.0031 lr: 0.002\n",
      "iteration: 449000 loss: 0.0032 lr: 0.002\n",
      "iteration: 450000 loss: 0.0033 lr: 0.002\n",
      "iteration: 451000 loss: 0.0032 lr: 0.002\n",
      "iteration: 452000 loss: 0.0033 lr: 0.002\n",
      "iteration: 453000 loss: 0.0031 lr: 0.002\n",
      "iteration: 454000 loss: 0.0031 lr: 0.002\n",
      "iteration: 455000 loss: 0.0031 lr: 0.002\n",
      "iteration: 456000 loss: 0.0034 lr: 0.002\n",
      "iteration: 457000 loss: 0.0031 lr: 0.002\n",
      "iteration: 458000 loss: 0.0033 lr: 0.002\n",
      "iteration: 459000 loss: 0.0032 lr: 0.002\n",
      "iteration: 460000 loss: 0.0032 lr: 0.002\n",
      "iteration: 461000 loss: 0.0033 lr: 0.002\n",
      "iteration: 462000 loss: 0.0033 lr: 0.002\n",
      "iteration: 463000 loss: 0.0033 lr: 0.002\n",
      "iteration: 464000 loss: 0.0034 lr: 0.002\n",
      "iteration: 465000 loss: 0.0031 lr: 0.002\n",
      "iteration: 466000 loss: 0.0032 lr: 0.002\n",
      "iteration: 467000 loss: 0.0032 lr: 0.002\n",
      "iteration: 468000 loss: 0.0032 lr: 0.002\n",
      "iteration: 469000 loss: 0.0033 lr: 0.002\n",
      "iteration: 470000 loss: 0.0032 lr: 0.002\n",
      "iteration: 471000 loss: 0.0033 lr: 0.002\n",
      "iteration: 472000 loss: 0.0032 lr: 0.002\n",
      "iteration: 473000 loss: 0.0030 lr: 0.002\n",
      "iteration: 474000 loss: 0.0032 lr: 0.002\n",
      "iteration: 475000 loss: 0.0033 lr: 0.002\n",
      "iteration: 476000 loss: 0.0032 lr: 0.002\n",
      "iteration: 477000 loss: 0.0032 lr: 0.002\n",
      "iteration: 478000 loss: 0.0032 lr: 0.002\n",
      "iteration: 479000 loss: 0.0030 lr: 0.002\n",
      "iteration: 480000 loss: 0.0031 lr: 0.002\n",
      "iteration: 481000 loss: 0.0031 lr: 0.002\n",
      "iteration: 482000 loss: 0.0032 lr: 0.002\n",
      "iteration: 483000 loss: 0.0031 lr: 0.002\n",
      "iteration: 484000 loss: 0.0032 lr: 0.002\n",
      "iteration: 485000 loss: 0.0032 lr: 0.002\n",
      "iteration: 486000 loss: 0.0032 lr: 0.002\n",
      "iteration: 487000 loss: 0.0031 lr: 0.002\n",
      "iteration: 488000 loss: 0.0031 lr: 0.002\n",
      "iteration: 489000 loss: 0.0031 lr: 0.002\n",
      "iteration: 490000 loss: 0.0032 lr: 0.002\n",
      "iteration: 491000 loss: 0.0031 lr: 0.002\n",
      "iteration: 492000 loss: 0.0030 lr: 0.002\n",
      "iteration: 493000 loss: 0.0031 lr: 0.002\n",
      "iteration: 494000 loss: 0.0031 lr: 0.002\n",
      "iteration: 495000 loss: 0.0031 lr: 0.002\n",
      "iteration: 496000 loss: 0.0033 lr: 0.002\n",
      "iteration: 497000 loss: 0.0032 lr: 0.002\n",
      "iteration: 498000 loss: 0.0031 lr: 0.002\n",
      "iteration: 499000 loss: 0.0031 lr: 0.002\n",
      "iteration: 500000 loss: 0.0031 lr: 0.002\n",
      "iteration: 501000 loss: 0.0032 lr: 0.002\n",
      "iteration: 502000 loss: 0.0030 lr: 0.002\n",
      "iteration: 503000 loss: 0.0031 lr: 0.002\n",
      "iteration: 504000 loss: 0.0032 lr: 0.002\n",
      "iteration: 505000 loss: 0.0032 lr: 0.002\n",
      "iteration: 506000 loss: 0.0031 lr: 0.002\n",
      "iteration: 507000 loss: 0.0033 lr: 0.002\n",
      "iteration: 508000 loss: 0.0031 lr: 0.002\n",
      "iteration: 509000 loss: 0.0032 lr: 0.002\n",
      "iteration: 510000 loss: 0.0031 lr: 0.002\n",
      "iteration: 511000 loss: 0.0032 lr: 0.002\n",
      "iteration: 512000 loss: 0.0031 lr: 0.002\n",
      "iteration: 513000 loss: 0.0033 lr: 0.002\n",
      "iteration: 514000 loss: 0.0032 lr: 0.002\n",
      "iteration: 515000 loss: 0.0032 lr: 0.002\n",
      "iteration: 516000 loss: 0.0030 lr: 0.002\n",
      "iteration: 517000 loss: 0.0029 lr: 0.002\n",
      "iteration: 518000 loss: 0.0031 lr: 0.002\n",
      "iteration: 519000 loss: 0.0032 lr: 0.002\n",
      "iteration: 520000 loss: 0.0030 lr: 0.002\n",
      "iteration: 521000 loss: 0.0032 lr: 0.002\n",
      "iteration: 522000 loss: 0.0030 lr: 0.002\n",
      "iteration: 523000 loss: 0.0031 lr: 0.002\n",
      "iteration: 524000 loss: 0.0033 lr: 0.002\n",
      "iteration: 525000 loss: 0.0032 lr: 0.002\n",
      "iteration: 526000 loss: 0.0032 lr: 0.002\n",
      "iteration: 527000 loss: 0.0033 lr: 0.002\n",
      "iteration: 528000 loss: 0.0032 lr: 0.002\n",
      "iteration: 529000 loss: 0.0033 lr: 0.002\n",
      "iteration: 530000 loss: 0.0031 lr: 0.002\n",
      "iteration: 531000 loss: 0.0032 lr: 0.002\n",
      "iteration: 532000 loss: 0.0030 lr: 0.002\n",
      "iteration: 533000 loss: 0.0030 lr: 0.002\n",
      "iteration: 534000 loss: 0.0033 lr: 0.002\n",
      "iteration: 535000 loss: 0.0032 lr: 0.002\n",
      "iteration: 536000 loss: 0.0031 lr: 0.002\n",
      "iteration: 537000 loss: 0.0032 lr: 0.002\n",
      "iteration: 538000 loss: 0.0030 lr: 0.002\n",
      "iteration: 539000 loss: 0.0031 lr: 0.002\n",
      "iteration: 540000 loss: 0.0030 lr: 0.002\n",
      "iteration: 541000 loss: 0.0031 lr: 0.002\n",
      "iteration: 542000 loss: 0.0031 lr: 0.002\n",
      "iteration: 543000 loss: 0.0031 lr: 0.002\n",
      "iteration: 544000 loss: 0.0032 lr: 0.002\n",
      "iteration: 545000 loss: 0.0030 lr: 0.002\n",
      "iteration: 546000 loss: 0.0030 lr: 0.002\n",
      "iteration: 547000 loss: 0.0031 lr: 0.002\n",
      "iteration: 548000 loss: 0.0030 lr: 0.002\n",
      "iteration: 549000 loss: 0.0029 lr: 0.002\n",
      "iteration: 550000 loss: 0.0032 lr: 0.002\n",
      "iteration: 551000 loss: 0.0031 lr: 0.002\n",
      "iteration: 552000 loss: 0.0032 lr: 0.002\n",
      "iteration: 553000 loss: 0.0032 lr: 0.002\n",
      "iteration: 554000 loss: 0.0030 lr: 0.002\n",
      "iteration: 555000 loss: 0.0031 lr: 0.002\n",
      "iteration: 556000 loss: 0.0030 lr: 0.002\n",
      "iteration: 557000 loss: 0.0031 lr: 0.002\n",
      "iteration: 558000 loss: 0.0030 lr: 0.002\n",
      "iteration: 559000 loss: 0.0032 lr: 0.002\n",
      "iteration: 560000 loss: 0.0032 lr: 0.002\n",
      "iteration: 561000 loss: 0.0030 lr: 0.002\n",
      "iteration: 562000 loss: 0.0031 lr: 0.002\n",
      "iteration: 563000 loss: 0.0029 lr: 0.002\n",
      "iteration: 564000 loss: 0.0031 lr: 0.002\n",
      "iteration: 565000 loss: 0.0031 lr: 0.002\n",
      "iteration: 566000 loss: 0.0029 lr: 0.002\n",
      "iteration: 567000 loss: 0.0029 lr: 0.002\n",
      "iteration: 568000 loss: 0.0030 lr: 0.002\n",
      "iteration: 569000 loss: 0.0033 lr: 0.002\n",
      "iteration: 570000 loss: 0.0032 lr: 0.002\n",
      "iteration: 571000 loss: 0.0031 lr: 0.002\n",
      "iteration: 572000 loss: 0.0031 lr: 0.002\n",
      "iteration: 573000 loss: 0.0030 lr: 0.002\n",
      "iteration: 574000 loss: 0.0032 lr: 0.002\n",
      "iteration: 575000 loss: 0.0031 lr: 0.002\n",
      "iteration: 576000 loss: 0.0032 lr: 0.002\n",
      "iteration: 577000 loss: 0.0030 lr: 0.002\n",
      "iteration: 578000 loss: 0.0030 lr: 0.002\n",
      "iteration: 579000 loss: 0.0031 lr: 0.002\n",
      "iteration: 580000 loss: 0.0031 lr: 0.002\n",
      "iteration: 581000 loss: 0.0030 lr: 0.002\n",
      "iteration: 582000 loss: 0.0030 lr: 0.002\n",
      "iteration: 583000 loss: 0.0031 lr: 0.002\n",
      "iteration: 584000 loss: 0.0029 lr: 0.002\n",
      "iteration: 585000 loss: 0.0031 lr: 0.002\n",
      "iteration: 586000 loss: 0.0031 lr: 0.002\n",
      "iteration: 587000 loss: 0.0030 lr: 0.002\n",
      "iteration: 588000 loss: 0.0030 lr: 0.002\n",
      "iteration: 589000 loss: 0.0031 lr: 0.002\n",
      "iteration: 590000 loss: 0.0030 lr: 0.002\n",
      "iteration: 591000 loss: 0.0031 lr: 0.002\n",
      "iteration: 592000 loss: 0.0031 lr: 0.002\n",
      "iteration: 593000 loss: 0.0031 lr: 0.002\n",
      "iteration: 594000 loss: 0.0030 lr: 0.002\n",
      "iteration: 595000 loss: 0.0030 lr: 0.002\n",
      "iteration: 596000 loss: 0.0030 lr: 0.002\n",
      "iteration: 597000 loss: 0.0030 lr: 0.002\n",
      "iteration: 598000 loss: 0.0031 lr: 0.002\n",
      "iteration: 599000 loss: 0.0031 lr: 0.002\n",
      "iteration: 600000 loss: 0.0031 lr: 0.002\n",
      "iteration: 601000 loss: 0.0031 lr: 0.002\n",
      "iteration: 602000 loss: 0.0029 lr: 0.002\n",
      "iteration: 603000 loss: 0.0030 lr: 0.002\n",
      "iteration: 604000 loss: 0.0031 lr: 0.002\n",
      "iteration: 605000 loss: 0.0031 lr: 0.002\n",
      "iteration: 606000 loss: 0.0031 lr: 0.002\n",
      "iteration: 607000 loss: 0.0029 lr: 0.002\n",
      "iteration: 608000 loss: 0.0031 lr: 0.002\n",
      "iteration: 609000 loss: 0.0031 lr: 0.002\n",
      "iteration: 610000 loss: 0.0030 lr: 0.002\n",
      "iteration: 611000 loss: 0.0029 lr: 0.002\n",
      "iteration: 612000 loss: 0.0030 lr: 0.002\n",
      "iteration: 613000 loss: 0.0028 lr: 0.002\n",
      "iteration: 614000 loss: 0.0030 lr: 0.002\n"
     ]
    },
    {
     "name": "stderr",
     "output_type": "stream",
     "text": [
      "iteration: 615000 loss: 0.0029 lr: 0.002\n",
      "iteration: 616000 loss: 0.0029 lr: 0.002\n",
      "iteration: 617000 loss: 0.0030 lr: 0.002\n",
      "iteration: 618000 loss: 0.0030 lr: 0.002\n",
      "iteration: 619000 loss: 0.0029 lr: 0.002\n",
      "iteration: 620000 loss: 0.0030 lr: 0.002\n",
      "iteration: 621000 loss: 0.0029 lr: 0.002\n",
      "iteration: 622000 loss: 0.0031 lr: 0.002\n",
      "iteration: 623000 loss: 0.0029 lr: 0.002\n",
      "iteration: 624000 loss: 0.0031 lr: 0.002\n",
      "iteration: 625000 loss: 0.0030 lr: 0.002\n",
      "iteration: 626000 loss: 0.0030 lr: 0.002\n",
      "iteration: 627000 loss: 0.0031 lr: 0.002\n",
      "iteration: 628000 loss: 0.0030 lr: 0.002\n",
      "iteration: 629000 loss: 0.0031 lr: 0.002\n",
      "iteration: 630000 loss: 0.0029 lr: 0.002\n",
      "iteration: 631000 loss: 0.0030 lr: 0.002\n",
      "iteration: 632000 loss: 0.0030 lr: 0.002\n",
      "iteration: 633000 loss: 0.0031 lr: 0.002\n",
      "iteration: 634000 loss: 0.0029 lr: 0.002\n",
      "iteration: 635000 loss: 0.0031 lr: 0.002\n",
      "iteration: 636000 loss: 0.0031 lr: 0.002\n",
      "iteration: 637000 loss: 0.0029 lr: 0.002\n",
      "iteration: 638000 loss: 0.0029 lr: 0.002\n",
      "iteration: 639000 loss: 0.0030 lr: 0.002\n",
      "iteration: 640000 loss: 0.0030 lr: 0.002\n",
      "iteration: 641000 loss: 0.0030 lr: 0.002\n",
      "iteration: 642000 loss: 0.0029 lr: 0.002\n",
      "iteration: 643000 loss: 0.0031 lr: 0.002\n",
      "iteration: 644000 loss: 0.0030 lr: 0.002\n",
      "iteration: 645000 loss: 0.0031 lr: 0.002\n",
      "iteration: 646000 loss: 0.0029 lr: 0.002\n",
      "iteration: 647000 loss: 0.0029 lr: 0.002\n",
      "iteration: 648000 loss: 0.0031 lr: 0.002\n",
      "iteration: 649000 loss: 0.0028 lr: 0.002\n",
      "iteration: 650000 loss: 0.0028 lr: 0.002\n",
      "iteration: 651000 loss: 0.0030 lr: 0.002\n",
      "iteration: 652000 loss: 0.0030 lr: 0.002\n",
      "iteration: 653000 loss: 0.0030 lr: 0.002\n",
      "iteration: 654000 loss: 0.0029 lr: 0.002\n",
      "iteration: 655000 loss: 0.0030 lr: 0.002\n",
      "iteration: 656000 loss: 0.0031 lr: 0.002\n",
      "iteration: 657000 loss: 0.0030 lr: 0.002\n",
      "iteration: 658000 loss: 0.0030 lr: 0.002\n",
      "iteration: 659000 loss: 0.0030 lr: 0.002\n",
      "iteration: 660000 loss: 0.0030 lr: 0.002\n",
      "iteration: 661000 loss: 0.0029 lr: 0.002\n",
      "iteration: 662000 loss: 0.0030 lr: 0.002\n",
      "iteration: 663000 loss: 0.0030 lr: 0.002\n",
      "iteration: 664000 loss: 0.0030 lr: 0.002\n",
      "iteration: 665000 loss: 0.0030 lr: 0.002\n",
      "iteration: 666000 loss: 0.0029 lr: 0.002\n",
      "iteration: 667000 loss: 0.0030 lr: 0.002\n",
      "iteration: 668000 loss: 0.0030 lr: 0.002\n",
      "iteration: 669000 loss: 0.0030 lr: 0.002\n",
      "iteration: 670000 loss: 0.0029 lr: 0.002\n",
      "iteration: 671000 loss: 0.0031 lr: 0.002\n",
      "iteration: 672000 loss: 0.0030 lr: 0.002\n",
      "iteration: 673000 loss: 0.0030 lr: 0.002\n",
      "iteration: 674000 loss: 0.0029 lr: 0.002\n",
      "iteration: 675000 loss: 0.0030 lr: 0.002\n",
      "iteration: 676000 loss: 0.0029 lr: 0.002\n",
      "iteration: 677000 loss: 0.0029 lr: 0.002\n",
      "iteration: 678000 loss: 0.0030 lr: 0.002\n",
      "iteration: 679000 loss: 0.0028 lr: 0.002\n",
      "iteration: 680000 loss: 0.0029 lr: 0.002\n",
      "iteration: 681000 loss: 0.0029 lr: 0.002\n",
      "iteration: 682000 loss: 0.0029 lr: 0.002\n",
      "iteration: 683000 loss: 0.0030 lr: 0.002\n",
      "iteration: 684000 loss: 0.0029 lr: 0.002\n",
      "iteration: 685000 loss: 0.0029 lr: 0.002\n",
      "iteration: 686000 loss: 0.0029 lr: 0.002\n",
      "iteration: 687000 loss: 0.0029 lr: 0.002\n",
      "iteration: 688000 loss: 0.0028 lr: 0.002\n",
      "iteration: 689000 loss: 0.0029 lr: 0.002\n",
      "iteration: 690000 loss: 0.0028 lr: 0.002\n",
      "iteration: 691000 loss: 0.0028 lr: 0.002\n",
      "iteration: 692000 loss: 0.0029 lr: 0.002\n",
      "iteration: 693000 loss: 0.0029 lr: 0.002\n",
      "iteration: 694000 loss: 0.0029 lr: 0.002\n",
      "iteration: 695000 loss: 0.0029 lr: 0.002\n",
      "iteration: 696000 loss: 0.0031 lr: 0.002\n",
      "iteration: 697000 loss: 0.0029 lr: 0.002\n",
      "iteration: 698000 loss: 0.0030 lr: 0.002\n",
      "iteration: 699000 loss: 0.0028 lr: 0.002\n",
      "iteration: 700000 loss: 0.0030 lr: 0.002\n",
      "iteration: 701000 loss: 0.0029 lr: 0.002\n",
      "iteration: 702000 loss: 0.0029 lr: 0.002\n",
      "iteration: 703000 loss: 0.0028 lr: 0.002\n",
      "iteration: 704000 loss: 0.0030 lr: 0.002\n",
      "iteration: 705000 loss: 0.0029 lr: 0.002\n",
      "iteration: 706000 loss: 0.0029 lr: 0.002\n",
      "iteration: 707000 loss: 0.0029 lr: 0.002\n",
      "iteration: 708000 loss: 0.0030 lr: 0.002\n",
      "iteration: 709000 loss: 0.0029 lr: 0.002\n",
      "iteration: 710000 loss: 0.0029 lr: 0.002\n",
      "iteration: 711000 loss: 0.0028 lr: 0.002\n",
      "iteration: 712000 loss: 0.0029 lr: 0.002\n",
      "iteration: 713000 loss: 0.0028 lr: 0.002\n",
      "iteration: 714000 loss: 0.0030 lr: 0.002\n",
      "iteration: 715000 loss: 0.0031 lr: 0.002\n",
      "iteration: 716000 loss: 0.0030 lr: 0.002\n",
      "iteration: 717000 loss: 0.0028 lr: 0.002\n",
      "iteration: 718000 loss: 0.0030 lr: 0.002\n",
      "iteration: 719000 loss: 0.0031 lr: 0.002\n",
      "iteration: 720000 loss: 0.0029 lr: 0.002\n",
      "iteration: 721000 loss: 0.0029 lr: 0.002\n",
      "iteration: 722000 loss: 0.0027 lr: 0.002\n",
      "iteration: 723000 loss: 0.0030 lr: 0.002\n",
      "iteration: 724000 loss: 0.0028 lr: 0.002\n",
      "iteration: 725000 loss: 0.0029 lr: 0.002\n",
      "iteration: 726000 loss: 0.0029 lr: 0.002\n",
      "iteration: 727000 loss: 0.0029 lr: 0.002\n",
      "iteration: 728000 loss: 0.0030 lr: 0.002\n",
      "iteration: 729000 loss: 0.0029 lr: 0.002\n",
      "iteration: 730000 loss: 0.0028 lr: 0.002\n",
      "iteration: 731000 loss: 0.0029 lr: 0.001\n",
      "iteration: 732000 loss: 0.0030 lr: 0.001\n",
      "iteration: 733000 loss: 0.0028 lr: 0.001\n",
      "iteration: 734000 loss: 0.0029 lr: 0.001\n",
      "iteration: 735000 loss: 0.0029 lr: 0.001\n",
      "iteration: 736000 loss: 0.0030 lr: 0.001\n",
      "iteration: 737000 loss: 0.0029 lr: 0.001\n",
      "iteration: 738000 loss: 0.0029 lr: 0.001\n",
      "iteration: 739000 loss: 0.0029 lr: 0.001\n",
      "iteration: 740000 loss: 0.0029 lr: 0.001\n",
      "iteration: 741000 loss: 0.0029 lr: 0.001\n",
      "iteration: 742000 loss: 0.0028 lr: 0.001\n",
      "iteration: 743000 loss: 0.0029 lr: 0.001\n",
      "iteration: 744000 loss: 0.0029 lr: 0.001\n",
      "iteration: 745000 loss: 0.0030 lr: 0.001\n",
      "iteration: 746000 loss: 0.0030 lr: 0.001\n",
      "iteration: 747000 loss: 0.0028 lr: 0.001\n",
      "iteration: 748000 loss: 0.0028 lr: 0.001\n",
      "iteration: 749000 loss: 0.0029 lr: 0.001\n",
      "iteration: 750000 loss: 0.0029 lr: 0.001\n",
      "iteration: 751000 loss: 0.0028 lr: 0.001\n",
      "iteration: 752000 loss: 0.0029 lr: 0.001\n",
      "iteration: 753000 loss: 0.0029 lr: 0.001\n",
      "iteration: 754000 loss: 0.0028 lr: 0.001\n",
      "iteration: 755000 loss: 0.0028 lr: 0.001\n",
      "iteration: 756000 loss: 0.0028 lr: 0.001\n",
      "iteration: 757000 loss: 0.0030 lr: 0.001\n",
      "iteration: 758000 loss: 0.0029 lr: 0.001\n",
      "iteration: 759000 loss: 0.0028 lr: 0.001\n",
      "iteration: 760000 loss: 0.0027 lr: 0.001\n",
      "iteration: 761000 loss: 0.0029 lr: 0.001\n",
      "iteration: 762000 loss: 0.0028 lr: 0.001\n",
      "iteration: 763000 loss: 0.0028 lr: 0.001\n",
      "iteration: 764000 loss: 0.0028 lr: 0.001\n",
      "iteration: 765000 loss: 0.0029 lr: 0.001\n",
      "iteration: 766000 loss: 0.0028 lr: 0.001\n",
      "iteration: 767000 loss: 0.0029 lr: 0.001\n",
      "iteration: 768000 loss: 0.0029 lr: 0.001\n",
      "iteration: 769000 loss: 0.0028 lr: 0.001\n",
      "iteration: 770000 loss: 0.0028 lr: 0.001\n",
      "iteration: 771000 loss: 0.0029 lr: 0.001\n",
      "iteration: 772000 loss: 0.0031 lr: 0.001\n",
      "iteration: 773000 loss: 0.0030 lr: 0.001\n",
      "iteration: 774000 loss: 0.0028 lr: 0.001\n",
      "iteration: 775000 loss: 0.0029 lr: 0.001\n",
      "iteration: 776000 loss: 0.0028 lr: 0.001\n",
      "iteration: 777000 loss: 0.0027 lr: 0.001\n",
      "iteration: 778000 loss: 0.0028 lr: 0.001\n",
      "iteration: 779000 loss: 0.0028 lr: 0.001\n",
      "iteration: 780000 loss: 0.0028 lr: 0.001\n",
      "iteration: 781000 loss: 0.0030 lr: 0.001\n",
      "iteration: 782000 loss: 0.0028 lr: 0.001\n",
      "iteration: 783000 loss: 0.0028 lr: 0.001\n",
      "iteration: 784000 loss: 0.0028 lr: 0.001\n",
      "iteration: 785000 loss: 0.0028 lr: 0.001\n",
      "iteration: 786000 loss: 0.0029 lr: 0.001\n",
      "iteration: 787000 loss: 0.0028 lr: 0.001\n",
      "iteration: 788000 loss: 0.0028 lr: 0.001\n",
      "iteration: 789000 loss: 0.0030 lr: 0.001\n",
      "iteration: 790000 loss: 0.0027 lr: 0.001\n",
      "iteration: 791000 loss: 0.0028 lr: 0.001\n",
      "iteration: 792000 loss: 0.0027 lr: 0.001\n",
      "iteration: 793000 loss: 0.0030 lr: 0.001\n",
      "iteration: 794000 loss: 0.0027 lr: 0.001\n",
      "iteration: 795000 loss: 0.0030 lr: 0.001\n",
      "iteration: 796000 loss: 0.0029 lr: 0.001\n",
      "iteration: 797000 loss: 0.0029 lr: 0.001\n",
      "iteration: 798000 loss: 0.0027 lr: 0.001\n",
      "iteration: 799000 loss: 0.0028 lr: 0.001\n",
      "iteration: 800000 loss: 0.0029 lr: 0.001\n",
      "iteration: 801000 loss: 0.0029 lr: 0.001\n",
      "iteration: 802000 loss: 0.0029 lr: 0.001\n",
      "iteration: 803000 loss: 0.0028 lr: 0.001\n",
      "iteration: 804000 loss: 0.0029 lr: 0.001\n",
      "iteration: 805000 loss: 0.0029 lr: 0.001\n",
      "iteration: 806000 loss: 0.0028 lr: 0.001\n",
      "iteration: 807000 loss: 0.0028 lr: 0.001\n",
      "iteration: 808000 loss: 0.0028 lr: 0.001\n",
      "iteration: 809000 loss: 0.0029 lr: 0.001\n",
      "iteration: 810000 loss: 0.0029 lr: 0.001\n",
      "iteration: 811000 loss: 0.0028 lr: 0.001\n",
      "iteration: 812000 loss: 0.0029 lr: 0.001\n",
      "iteration: 813000 loss: 0.0028 lr: 0.001\n",
      "iteration: 814000 loss: 0.0029 lr: 0.001\n"
     ]
    },
    {
     "name": "stderr",
     "output_type": "stream",
     "text": [
      "iteration: 815000 loss: 0.0028 lr: 0.001\n",
      "iteration: 816000 loss: 0.0029 lr: 0.001\n",
      "iteration: 817000 loss: 0.0029 lr: 0.001\n",
      "iteration: 818000 loss: 0.0029 lr: 0.001\n",
      "iteration: 819000 loss: 0.0030 lr: 0.001\n",
      "iteration: 820000 loss: 0.0029 lr: 0.001\n",
      "iteration: 821000 loss: 0.0027 lr: 0.001\n",
      "iteration: 822000 loss: 0.0027 lr: 0.001\n",
      "iteration: 823000 loss: 0.0028 lr: 0.001\n",
      "iteration: 824000 loss: 0.0029 lr: 0.001\n",
      "iteration: 825000 loss: 0.0028 lr: 0.001\n",
      "iteration: 826000 loss: 0.0028 lr: 0.001\n",
      "iteration: 827000 loss: 0.0028 lr: 0.001\n",
      "iteration: 828000 loss: 0.0028 lr: 0.001\n",
      "iteration: 829000 loss: 0.0028 lr: 0.001\n",
      "iteration: 830000 loss: 0.0029 lr: 0.001\n",
      "iteration: 831000 loss: 0.0029 lr: 0.001\n",
      "iteration: 832000 loss: 0.0027 lr: 0.001\n",
      "iteration: 833000 loss: 0.0029 lr: 0.001\n",
      "iteration: 834000 loss: 0.0028 lr: 0.001\n",
      "iteration: 835000 loss: 0.0028 lr: 0.001\n",
      "iteration: 836000 loss: 0.0028 lr: 0.001\n",
      "iteration: 837000 loss: 0.0029 lr: 0.001\n",
      "iteration: 838000 loss: 0.0027 lr: 0.001\n",
      "iteration: 839000 loss: 0.0028 lr: 0.001\n",
      "iteration: 840000 loss: 0.0027 lr: 0.001\n",
      "iteration: 841000 loss: 0.0029 lr: 0.001\n",
      "iteration: 842000 loss: 0.0027 lr: 0.001\n",
      "iteration: 843000 loss: 0.0029 lr: 0.001\n",
      "iteration: 844000 loss: 0.0029 lr: 0.001\n",
      "iteration: 845000 loss: 0.0029 lr: 0.001\n",
      "iteration: 846000 loss: 0.0028 lr: 0.001\n",
      "iteration: 847000 loss: 0.0029 lr: 0.001\n",
      "iteration: 848000 loss: 0.0027 lr: 0.001\n",
      "iteration: 849000 loss: 0.0028 lr: 0.001\n",
      "iteration: 850000 loss: 0.0029 lr: 0.001\n",
      "iteration: 851000 loss: 0.0028 lr: 0.001\n",
      "iteration: 852000 loss: 0.0028 lr: 0.001\n",
      "iteration: 853000 loss: 0.0029 lr: 0.001\n",
      "iteration: 854000 loss: 0.0028 lr: 0.001\n",
      "iteration: 855000 loss: 0.0030 lr: 0.001\n",
      "iteration: 856000 loss: 0.0027 lr: 0.001\n",
      "iteration: 857000 loss: 0.0028 lr: 0.001\n",
      "iteration: 858000 loss: 0.0029 lr: 0.001\n",
      "iteration: 859000 loss: 0.0027 lr: 0.001\n",
      "iteration: 860000 loss: 0.0029 lr: 0.001\n",
      "iteration: 861000 loss: 0.0029 lr: 0.001\n",
      "iteration: 862000 loss: 0.0028 lr: 0.001\n",
      "iteration: 863000 loss: 0.0030 lr: 0.001\n",
      "iteration: 864000 loss: 0.0027 lr: 0.001\n",
      "iteration: 865000 loss: 0.0028 lr: 0.001\n",
      "iteration: 866000 loss: 0.0028 lr: 0.001\n",
      "iteration: 867000 loss: 0.0027 lr: 0.001\n",
      "iteration: 868000 loss: 0.0027 lr: 0.001\n",
      "iteration: 869000 loss: 0.0030 lr: 0.001\n",
      "iteration: 870000 loss: 0.0027 lr: 0.001\n",
      "iteration: 871000 loss: 0.0030 lr: 0.001\n",
      "iteration: 872000 loss: 0.0026 lr: 0.001\n",
      "iteration: 873000 loss: 0.0028 lr: 0.001\n",
      "iteration: 874000 loss: 0.0028 lr: 0.001\n",
      "iteration: 875000 loss: 0.0029 lr: 0.001\n",
      "iteration: 876000 loss: 0.0028 lr: 0.001\n",
      "iteration: 877000 loss: 0.0029 lr: 0.001\n",
      "iteration: 878000 loss: 0.0028 lr: 0.001\n",
      "iteration: 879000 loss: 0.0028 lr: 0.001\n",
      "iteration: 880000 loss: 0.0028 lr: 0.001\n",
      "iteration: 881000 loss: 0.0028 lr: 0.001\n",
      "iteration: 882000 loss: 0.0028 lr: 0.001\n",
      "iteration: 883000 loss: 0.0027 lr: 0.001\n",
      "iteration: 884000 loss: 0.0027 lr: 0.001\n",
      "iteration: 885000 loss: 0.0027 lr: 0.001\n",
      "iteration: 886000 loss: 0.0028 lr: 0.001\n",
      "iteration: 887000 loss: 0.0029 lr: 0.001\n",
      "iteration: 888000 loss: 0.0029 lr: 0.001\n",
      "iteration: 889000 loss: 0.0029 lr: 0.001\n",
      "iteration: 890000 loss: 0.0028 lr: 0.001\n",
      "iteration: 891000 loss: 0.0029 lr: 0.001\n",
      "iteration: 892000 loss: 0.0029 lr: 0.001\n",
      "iteration: 893000 loss: 0.0029 lr: 0.001\n",
      "iteration: 894000 loss: 0.0029 lr: 0.001\n",
      "iteration: 895000 loss: 0.0028 lr: 0.001\n",
      "iteration: 896000 loss: 0.0028 lr: 0.001\n",
      "iteration: 897000 loss: 0.0028 lr: 0.001\n",
      "iteration: 898000 loss: 0.0029 lr: 0.001\n",
      "iteration: 899000 loss: 0.0029 lr: 0.001\n",
      "iteration: 900000 loss: 0.0030 lr: 0.001\n",
      "iteration: 901000 loss: 0.0028 lr: 0.001\n",
      "iteration: 902000 loss: 0.0027 lr: 0.001\n",
      "iteration: 903000 loss: 0.0027 lr: 0.001\n",
      "iteration: 904000 loss: 0.0027 lr: 0.001\n",
      "iteration: 905000 loss: 0.0028 lr: 0.001\n",
      "iteration: 906000 loss: 0.0028 lr: 0.001\n",
      "iteration: 907000 loss: 0.0027 lr: 0.001\n",
      "iteration: 908000 loss: 0.0028 lr: 0.001\n",
      "iteration: 909000 loss: 0.0028 lr: 0.001\n",
      "iteration: 910000 loss: 0.0028 lr: 0.001\n",
      "iteration: 911000 loss: 0.0028 lr: 0.001\n",
      "iteration: 912000 loss: 0.0028 lr: 0.001\n",
      "iteration: 913000 loss: 0.0028 lr: 0.001\n",
      "iteration: 914000 loss: 0.0028 lr: 0.001\n",
      "iteration: 915000 loss: 0.0027 lr: 0.001\n",
      "iteration: 916000 loss: 0.0028 lr: 0.001\n",
      "iteration: 917000 loss: 0.0027 lr: 0.001\n",
      "iteration: 918000 loss: 0.0028 lr: 0.001\n",
      "iteration: 919000 loss: 0.0029 lr: 0.001\n",
      "iteration: 920000 loss: 0.0028 lr: 0.001\n",
      "iteration: 921000 loss: 0.0028 lr: 0.001\n",
      "iteration: 922000 loss: 0.0027 lr: 0.001\n",
      "iteration: 923000 loss: 0.0027 lr: 0.001\n",
      "iteration: 924000 loss: 0.0028 lr: 0.001\n",
      "iteration: 925000 loss: 0.0028 lr: 0.001\n",
      "iteration: 926000 loss: 0.0029 lr: 0.001\n",
      "iteration: 927000 loss: 0.0028 lr: 0.001\n",
      "iteration: 928000 loss: 0.0028 lr: 0.001\n",
      "iteration: 929000 loss: 0.0028 lr: 0.001\n",
      "iteration: 930000 loss: 0.0028 lr: 0.001\n",
      "iteration: 931000 loss: 0.0029 lr: 0.001\n",
      "iteration: 932000 loss: 0.0028 lr: 0.001\n",
      "iteration: 933000 loss: 0.0027 lr: 0.001\n",
      "iteration: 934000 loss: 0.0028 lr: 0.001\n",
      "iteration: 935000 loss: 0.0028 lr: 0.001\n",
      "iteration: 936000 loss: 0.0028 lr: 0.001\n",
      "iteration: 937000 loss: 0.0028 lr: 0.001\n",
      "iteration: 938000 loss: 0.0027 lr: 0.001\n",
      "iteration: 939000 loss: 0.0028 lr: 0.001\n",
      "iteration: 940000 loss: 0.0028 lr: 0.001\n",
      "iteration: 941000 loss: 0.0027 lr: 0.001\n",
      "iteration: 942000 loss: 0.0027 lr: 0.001\n",
      "iteration: 943000 loss: 0.0029 lr: 0.001\n",
      "iteration: 944000 loss: 0.0029 lr: 0.001\n",
      "iteration: 945000 loss: 0.0028 lr: 0.001\n",
      "iteration: 946000 loss: 0.0028 lr: 0.001\n",
      "iteration: 947000 loss: 0.0027 lr: 0.001\n",
      "iteration: 948000 loss: 0.0031 lr: 0.001\n",
      "iteration: 949000 loss: 0.0028 lr: 0.001\n",
      "iteration: 950000 loss: 0.0028 lr: 0.001\n",
      "iteration: 951000 loss: 0.0029 lr: 0.001\n",
      "iteration: 952000 loss: 0.0027 lr: 0.001\n",
      "iteration: 953000 loss: 0.0030 lr: 0.001\n",
      "iteration: 954000 loss: 0.0028 lr: 0.001\n",
      "iteration: 955000 loss: 0.0029 lr: 0.001\n",
      "iteration: 956000 loss: 0.0026 lr: 0.001\n",
      "iteration: 957000 loss: 0.0027 lr: 0.001\n",
      "iteration: 958000 loss: 0.0028 lr: 0.001\n",
      "iteration: 959000 loss: 0.0028 lr: 0.001\n",
      "iteration: 960000 loss: 0.0028 lr: 0.001\n",
      "iteration: 961000 loss: 0.0028 lr: 0.001\n",
      "iteration: 962000 loss: 0.0028 lr: 0.001\n",
      "iteration: 963000 loss: 0.0028 lr: 0.001\n",
      "iteration: 964000 loss: 0.0028 lr: 0.001\n",
      "iteration: 965000 loss: 0.0027 lr: 0.001\n",
      "iteration: 966000 loss: 0.0026 lr: 0.001\n",
      "iteration: 967000 loss: 0.0027 lr: 0.001\n",
      "iteration: 968000 loss: 0.0028 lr: 0.001\n",
      "iteration: 969000 loss: 0.0028 lr: 0.001\n",
      "iteration: 970000 loss: 0.0027 lr: 0.001\n",
      "iteration: 971000 loss: 0.0028 lr: 0.001\n",
      "iteration: 972000 loss: 0.0028 lr: 0.001\n",
      "iteration: 973000 loss: 0.0029 lr: 0.001\n",
      "iteration: 974000 loss: 0.0028 lr: 0.001\n",
      "iteration: 975000 loss: 0.0027 lr: 0.001\n",
      "iteration: 976000 loss: 0.0029 lr: 0.001\n",
      "iteration: 977000 loss: 0.0028 lr: 0.001\n",
      "iteration: 978000 loss: 0.0028 lr: 0.001\n",
      "iteration: 979000 loss: 0.0027 lr: 0.001\n",
      "iteration: 980000 loss: 0.0028 lr: 0.001\n",
      "iteration: 981000 loss: 0.0030 lr: 0.001\n",
      "iteration: 982000 loss: 0.0028 lr: 0.001\n",
      "iteration: 983000 loss: 0.0027 lr: 0.001\n",
      "iteration: 984000 loss: 0.0028 lr: 0.001\n",
      "iteration: 985000 loss: 0.0028 lr: 0.001\n",
      "iteration: 986000 loss: 0.0028 lr: 0.001\n",
      "iteration: 987000 loss: 0.0029 lr: 0.001\n",
      "iteration: 988000 loss: 0.0027 lr: 0.001\n",
      "iteration: 989000 loss: 0.0027 lr: 0.001\n",
      "iteration: 990000 loss: 0.0028 lr: 0.001\n",
      "iteration: 991000 loss: 0.0027 lr: 0.001\n",
      "iteration: 992000 loss: 0.0026 lr: 0.001\n",
      "iteration: 993000 loss: 0.0028 lr: 0.001\n",
      "iteration: 994000 loss: 0.0027 lr: 0.001\n",
      "iteration: 995000 loss: 0.0027 lr: 0.001\n",
      "iteration: 996000 loss: 0.0027 lr: 0.001\n",
      "iteration: 997000 loss: 0.0027 lr: 0.001\n",
      "iteration: 998000 loss: 0.0027 lr: 0.001\n",
      "iteration: 999000 loss: 0.0028 lr: 0.001\n",
      "iteration: 1000000 loss: 0.0027 lr: 0.001\n",
      "Exception in thread Thread-6:\n",
      "Traceback (most recent call last):\n",
      "  File \"C:\\Users\\zacha\\anaconda3\\envs\\dlc-gpu1\\lib\\site-packages\\tensorflow\\python\\client\\session.py\", line 1378, in _do_call\n",
      "    return fn(*args)\n",
      "  File \"C:\\Users\\zacha\\anaconda3\\envs\\dlc-gpu1\\lib\\site-packages\\tensorflow\\python\\client\\session.py\", line 1361, in _run_fn\n",
      "    return self._call_tf_sessionrun(options, feed_dict, fetch_list,\n",
      "  File \"C:\\Users\\zacha\\anaconda3\\envs\\dlc-gpu1\\lib\\site-packages\\tensorflow\\python\\client\\session.py\", line 1454, in _call_tf_sessionrun\n",
      "    return tf_session.TF_SessionRun_wrapper(self._session, options, feed_dict,\n",
      "tensorflow.python.framework.errors_impl.CancelledError: Enqueue operation was cancelled\n",
      "\t [[{{node fifo_queue_enqueue}}]]\n",
      "\n",
      "During handling of the above exception, another exception occurred:\n",
      "\n",
      "Traceback (most recent call last):\n",
      "  File \"C:\\Users\\zacha\\anaconda3\\envs\\dlc-gpu1\\lib\\threading.py\", line 932, in _bootstrap_inner\n",
      "    self.run()\n",
      "  File \"C:\\Users\\zacha\\anaconda3\\envs\\dlc-gpu1\\lib\\threading.py\", line 870, in run\n",
      "    self._target(*self._args, **self._kwargs)\n",
      "  File \"C:\\Users\\zacha\\anaconda3\\envs\\dlc-gpu1\\lib\\site-packages\\deeplabcut\\pose_estimation_tensorflow\\core\\train.py\", line 85, in load_and_enqueue\n",
      "    sess.run(enqueue_op, feed_dict=food)\n",
      "  File \"C:\\Users\\zacha\\anaconda3\\envs\\dlc-gpu1\\lib\\site-packages\\tensorflow\\python\\client\\session.py\", line 968, in run\n",
      "    result = self._run(None, fetches, feed_dict, options_ptr,\n",
      "  File \"C:\\Users\\zacha\\anaconda3\\envs\\dlc-gpu1\\lib\\site-packages\\tensorflow\\python\\client\\session.py\", line 1191, in _run\n",
      "    results = self._do_run(handle, final_targets, final_fetches,\n",
      "  File \"C:\\Users\\zacha\\anaconda3\\envs\\dlc-gpu1\\lib\\site-packages\\tensorflow\\python\\client\\session.py\", line 1371, in _do_run\n",
      "    return self._do_call(_run_fn, feeds, fetches, targets, options,\n",
      "  File \"C:\\Users\\zacha\\anaconda3\\envs\\dlc-gpu1\\lib\\site-packages\\tensorflow\\python\\client\\session.py\", line 1397, in _do_call\n",
      "    raise type(e)(node_def, op, message)  # pylint: disable=no-value-for-parameter\n",
      "tensorflow.python.framework.errors_impl.CancelledError: Graph execution error:\n",
      "\n",
      "Detected at node 'fifo_queue_enqueue' defined at (most recent call last):\n",
      "    File \"C:\\Users\\zacha\\anaconda3\\envs\\dlc-gpu1\\lib\\runpy.py\", line 194, in _run_module_as_main\n",
      "      return _run_code(code, main_globals, None,\n",
      "    File \"C:\\Users\\zacha\\anaconda3\\envs\\dlc-gpu1\\lib\\runpy.py\", line 87, in _run_code\n",
      "      exec(code, run_globals)\n",
      "    File \"C:\\Users\\zacha\\anaconda3\\envs\\dlc-gpu1\\lib\\site-packages\\ipykernel_launcher.py\", line 17, in <module>\n",
      "      app.launch_new_instance()\n",
      "    File \"C:\\Users\\zacha\\anaconda3\\envs\\dlc-gpu1\\lib\\site-packages\\traitlets\\config\\application.py\", line 1043, in launch_instance\n",
      "      app.start()\n",
      "    File \"C:\\Users\\zacha\\anaconda3\\envs\\dlc-gpu1\\lib\\site-packages\\ipykernel\\kernelapp.py\", line 728, in start\n",
      "      self.io_loop.start()\n",
      "    File \"C:\\Users\\zacha\\anaconda3\\envs\\dlc-gpu1\\lib\\site-packages\\tornado\\platform\\asyncio.py\", line 215, in start\n",
      "      self.asyncio_loop.run_forever()\n",
      "    File \"C:\\Users\\zacha\\anaconda3\\envs\\dlc-gpu1\\lib\\asyncio\\base_events.py\", line 570, in run_forever\n",
      "      self._run_once()\n",
      "    File \"C:\\Users\\zacha\\anaconda3\\envs\\dlc-gpu1\\lib\\asyncio\\base_events.py\", line 1859, in _run_once\n",
      "      handle._run()\n",
      "    File \"C:\\Users\\zacha\\anaconda3\\envs\\dlc-gpu1\\lib\\asyncio\\events.py\", line 81, in _run\n",
      "      self._context.run(self._callback, *self._args)\n",
      "    File \"C:\\Users\\zacha\\anaconda3\\envs\\dlc-gpu1\\lib\\site-packages\\ipykernel\\kernelbase.py\", line 513, in dispatch_queue\n",
      "      await self.process_one()\n",
      "    File \"C:\\Users\\zacha\\anaconda3\\envs\\dlc-gpu1\\lib\\site-packages\\ipykernel\\kernelbase.py\", line 502, in process_one\n",
      "      await dispatch(*args)\n",
      "    File \"C:\\Users\\zacha\\anaconda3\\envs\\dlc-gpu1\\lib\\site-packages\\ipykernel\\kernelbase.py\", line 409, in dispatch_shell\n",
      "      await result\n",
      "    File \"C:\\Users\\zacha\\anaconda3\\envs\\dlc-gpu1\\lib\\site-packages\\ipykernel\\kernelbase.py\", line 729, in execute_request\n",
      "      reply_content = await reply_content\n",
      "    File \"C:\\Users\\zacha\\anaconda3\\envs\\dlc-gpu1\\lib\\site-packages\\ipykernel\\ipkernel.py\", line 423, in do_execute\n",
      "      res = shell.run_cell(\n",
      "    File \"C:\\Users\\zacha\\anaconda3\\envs\\dlc-gpu1\\lib\\site-packages\\ipykernel\\zmqshell.py\", line 540, in run_cell\n",
      "      return super().run_cell(*args, **kwargs)\n",
      "    File \"C:\\Users\\zacha\\anaconda3\\envs\\dlc-gpu1\\lib\\site-packages\\IPython\\core\\interactiveshell.py\", line 2945, in run_cell\n",
      "      result = self._run_cell(\n",
      "    File \"C:\\Users\\zacha\\anaconda3\\envs\\dlc-gpu1\\lib\\site-packages\\IPython\\core\\interactiveshell.py\", line 3000, in _run_cell\n",
      "      return runner(coro)\n",
      "    File \"C:\\Users\\zacha\\anaconda3\\envs\\dlc-gpu1\\lib\\site-packages\\IPython\\core\\async_helpers.py\", line 129, in _pseudo_sync_runner\n",
      "      coro.send(None)\n",
      "    File \"C:\\Users\\zacha\\anaconda3\\envs\\dlc-gpu1\\lib\\site-packages\\IPython\\core\\interactiveshell.py\", line 3203, in run_cell_async\n",
      "      has_raised = await self.run_ast_nodes(code_ast.body, cell_name,\n",
      "    File \"C:\\Users\\zacha\\anaconda3\\envs\\dlc-gpu1\\lib\\site-packages\\IPython\\core\\interactiveshell.py\", line 3382, in run_ast_nodes\n",
      "      if await self.run_code(code, result, async_=asy):\n",
      "    File \"C:\\Users\\zacha\\anaconda3\\envs\\dlc-gpu1\\lib\\site-packages\\IPython\\core\\interactiveshell.py\", line 3442, in run_code\n",
      "      exec(code_obj, self.user_global_ns, self.user_ns)\n",
      "    File \"C:\\Users\\zacha\\AppData\\Local\\Temp\\ipykernel_2536\\1595702692.py\", line 1, in <module>\n",
      "      deeplabcut.train_network(\n",
      "    File \"C:\\Users\\zacha\\anaconda3\\envs\\dlc-gpu1\\lib\\site-packages\\deeplabcut\\pose_estimation_tensorflow\\training.py\", line 212, in train_network\n",
      "      train(\n",
      "    File \"C:\\Users\\zacha\\anaconda3\\envs\\dlc-gpu1\\lib\\site-packages\\deeplabcut\\pose_estimation_tensorflow\\core\\train.py\", line 171, in train\n",
      "      batch, enqueue_op, placeholders = setup_preloading(batch_spec)\n",
      "    File \"C:\\Users\\zacha\\anaconda3\\envs\\dlc-gpu1\\lib\\site-packages\\deeplabcut\\pose_estimation_tensorflow\\core\\train.py\", line 71, in setup_preloading\n",
      "      enqueue_op = q.enqueue(placeholders_list)\n",
      "Node: 'fifo_queue_enqueue'\n",
      "Enqueue operation was cancelled\n",
      "\t [[{{node fifo_queue_enqueue}}]]\n",
      "\n",
      "Original stack trace for 'fifo_queue_enqueue':\n",
      "  File \"C:\\Users\\zacha\\anaconda3\\envs\\dlc-gpu1\\lib\\runpy.py\", line 194, in _run_module_as_main\n",
      "    return _run_code(code, main_globals, None,\n",
      "  File \"C:\\Users\\zacha\\anaconda3\\envs\\dlc-gpu1\\lib\\runpy.py\", line 87, in _run_code\n",
      "    exec(code, run_globals)\n",
      "  File \"C:\\Users\\zacha\\anaconda3\\envs\\dlc-gpu1\\lib\\site-packages\\ipykernel_launcher.py\", line 17, in <module>\n",
      "    app.launch_new_instance()\n",
      "  File \"C:\\Users\\zacha\\anaconda3\\envs\\dlc-gpu1\\lib\\site-packages\\traitlets\\config\\application.py\", line 1043, in launch_instance\n",
      "    app.start()\n",
      "  File \"C:\\Users\\zacha\\anaconda3\\envs\\dlc-gpu1\\lib\\site-packages\\ipykernel\\kernelapp.py\", line 728, in start\n",
      "    self.io_loop.start()\n",
      "  File \"C:\\Users\\zacha\\anaconda3\\envs\\dlc-gpu1\\lib\\site-packages\\tornado\\platform\\asyncio.py\", line 215, in start\n",
      "    self.asyncio_loop.run_forever()\n",
      "  File \"C:\\Users\\zacha\\anaconda3\\envs\\dlc-gpu1\\lib\\asyncio\\base_events.py\", line 570, in run_forever\n",
      "    self._run_once()\n",
      "  File \"C:\\Users\\zacha\\anaconda3\\envs\\dlc-gpu1\\lib\\asyncio\\base_events.py\", line 1859, in _run_once\n",
      "    handle._run()\n",
      "  File \"C:\\Users\\zacha\\anaconda3\\envs\\dlc-gpu1\\lib\\asyncio\\events.py\", line 81, in _run\n",
      "    self._context.run(self._callback, *self._args)\n",
      "  File \"C:\\Users\\zacha\\anaconda3\\envs\\dlc-gpu1\\lib\\site-packages\\ipykernel\\kernelbase.py\", line 513, in dispatch_queue\n",
      "    await self.process_one()\n",
      "  File \"C:\\Users\\zacha\\anaconda3\\envs\\dlc-gpu1\\lib\\site-packages\\ipykernel\\kernelbase.py\", line 502, in process_one\n",
      "    await dispatch(*args)\n",
      "  File \"C:\\Users\\zacha\\anaconda3\\envs\\dlc-gpu1\\lib\\site-packages\\ipykernel\\kernelbase.py\", line 409, in dispatch_shell\n",
      "    await result\n",
      "  File \"C:\\Users\\zacha\\anaconda3\\envs\\dlc-gpu1\\lib\\site-packages\\ipykernel\\kernelbase.py\", line 729, in execute_request\n",
      "    reply_content = await reply_content\n",
      "  File \"C:\\Users\\zacha\\anaconda3\\envs\\dlc-gpu1\\lib\\site-packages\\ipykernel\\ipkernel.py\", line 423, in do_execute\n",
      "    res = shell.run_cell(\n",
      "  File \"C:\\Users\\zacha\\anaconda3\\envs\\dlc-gpu1\\lib\\site-packages\\ipykernel\\zmqshell.py\", line 540, in run_cell\n",
      "    return super().run_cell(*args, **kwargs)\n",
      "  File \"C:\\Users\\zacha\\anaconda3\\envs\\dlc-gpu1\\lib\\site-packages\\IPython\\core\\interactiveshell.py\", line 2945, in run_cell\n",
      "    result = self._run_cell(\n",
      "  File \"C:\\Users\\zacha\\anaconda3\\envs\\dlc-gpu1\\lib\\site-packages\\IPython\\core\\interactiveshell.py\", line 3000, in _run_cell\n",
      "    return runner(coro)\n",
      "  File \"C:\\Users\\zacha\\anaconda3\\envs\\dlc-gpu1\\lib\\site-packages\\IPython\\core\\async_helpers.py\", line 129, in _pseudo_sync_runner\n",
      "    coro.send(None)\n",
      "  File \"C:\\Users\\zacha\\anaconda3\\envs\\dlc-gpu1\\lib\\site-packages\\IPython\\core\\interactiveshell.py\", line 3203, in run_cell_async\n",
      "    has_raised = await self.run_ast_nodes(code_ast.body, cell_name,\n",
      "  File \"C:\\Users\\zacha\\anaconda3\\envs\\dlc-gpu1\\lib\\site-packages\\IPython\\core\\interactiveshell.py\", line 3382, in run_ast_nodes\n",
      "    if await self.run_code(code, result, async_=asy):\n",
      "  File \"C:\\Users\\zacha\\anaconda3\\envs\\dlc-gpu1\\lib\\site-packages\\IPython\\core\\interactiveshell.py\", line 3442, in run_code\n",
      "    exec(code_obj, self.user_global_ns, self.user_ns)\n",
      "  File \"C:\\Users\\zacha\\AppData\\Local\\Temp\\ipykernel_2536\\1595702692.py\", line 1, in <module>\n",
      "    deeplabcut.train_network(\n",
      "  File \"C:\\Users\\zacha\\anaconda3\\envs\\dlc-gpu1\\lib\\site-packages\\deeplabcut\\pose_estimation_tensorflow\\training.py\", line 212, in train_network\n",
      "    train(\n",
      "  File \"C:\\Users\\zacha\\anaconda3\\envs\\dlc-gpu1\\lib\\site-packages\\deeplabcut\\pose_estimation_tensorflow\\core\\train.py\", line 171, in train\n",
      "    batch, enqueue_op, placeholders = setup_preloading(batch_spec)\n",
      "  File \"C:\\Users\\zacha\\anaconda3\\envs\\dlc-gpu1\\lib\\site-packages\\deeplabcut\\pose_estimation_tensorflow\\core\\train.py\", line 71, in setup_preloading\n",
      "    enqueue_op = q.enqueue(placeholders_list)\n",
      "  File \"C:\\Users\\zacha\\anaconda3\\envs\\dlc-gpu1\\lib\\site-packages\\tensorflow\\python\\ops\\data_flow_ops.py\", line 346, in enqueue\n",
      "    return gen_data_flow_ops.queue_enqueue_v2(\n",
      "  File \"C:\\Users\\zacha\\anaconda3\\envs\\dlc-gpu1\\lib\\site-packages\\tensorflow\\python\\ops\\gen_data_flow_ops.py\", line 4062, in queue_enqueue_v2\n",
      "    _, _, _op, _outputs = _op_def_library._apply_op_helper(\n",
      "  File \"C:\\Users\\zacha\\anaconda3\\envs\\dlc-gpu1\\lib\\site-packages\\tensorflow\\python\\framework\\op_def_library.py\", line 797, in _apply_op_helper\n",
      "    op = g._create_op_internal(op_type_name, inputs, dtypes=None,\n",
      "  File \"C:\\Users\\zacha\\anaconda3\\envs\\dlc-gpu1\\lib\\site-packages\\tensorflow\\python\\framework\\ops.py\", line 3800, in _create_op_internal\n",
      "    ret = Operation(\n",
      "\n"
     ]
    },
    {
     "name": "stdout",
     "output_type": "stream",
     "text": [
      "The network is now trained and ready to evaluate. Use the function 'evaluate_network' to evaluate the network.\n"
     ]
    }
   ],
   "source": [
    "deeplabcut.train_network(\n",
    "    config_path,\n",
    "    shuffle=1,\n",
    "    trainingsetindex=0,\n",
    "    max_snapshots_to_keep=5,\n",
    "    displayiters=1000,\n",
    "    saveiters=10000,\n",
    "    maxiters=1000000,\n",
    "    allow_growth=True,\n",
    "    gputouse=notebook_gpu,\n",
    "    autotune=False,\n",
    "    keepdeconvweights=True,\n",
    "    modelprefix='',\n",
    ")"
   ]
  },
  {
   "cell_type": "code",
   "execution_count": 6,
   "id": "6be72457",
   "metadata": {},
   "outputs": [
    {
     "name": "stderr",
     "output_type": "stream",
     "text": [
      "Config:\n",
      "{'all_joints': [[0], [1], [2], [3], [4], [5], [6], [7], [8], [9]],\n",
      " 'all_joints_names': ['RKNE',\n",
      "                      'RANK',\n",
      "                      'RD3M',\n",
      "                      'RD1M',\n",
      "                      'RHLX',\n",
      "                      'LHLX',\n",
      "                      'LD1M',\n",
      "                      'LD3M',\n",
      "                      'LANK',\n",
      "                      'LKNE'],\n",
      " 'alpha_r': 0.02,\n",
      " 'apply_prob': 0.5,\n",
      " 'batch_size': 1,\n",
      " 'contrast': {'clahe': True,\n",
      "              'claheratio': 0.1,\n",
      "              'histeq': True,\n",
      "              'histeqratio': 0.1},\n",
      " 'convolution': {'edge': False,\n",
      "                 'emboss': {'alpha': [0.0, 1.0], 'strength': [0.5, 1.5]},\n",
      "                 'embossratio': 0.1,\n",
      "                 'sharpen': False,\n",
      "                 'sharpenratio': 0.3},\n",
      " 'crop_pad': 0,\n",
      " 'cropratio': 0.4,\n",
      " 'dataset': 'training-datasets\\\\iteration-0\\\\UnaugmentedDataSet_AVI-DYS-lower-limbApr19\\\\AVI-DYS-lower-limb_zach_roth95shuffle2.mat',\n",
      " 'dataset_type': 'imgaug',\n",
      " 'decay_steps': 30000,\n",
      " 'deterministic': False,\n",
      " 'display_iters': 1000,\n",
      " 'fg_fraction': 0.25,\n",
      " 'global_scale': 0.8,\n",
      " 'init_weights': 'C:\\\\Users\\\\zacha\\\\anaconda3\\\\envs\\\\dlc-gpu1\\\\lib\\\\site-packages\\\\deeplabcut\\\\pose_estimation_tensorflow\\\\models\\\\pretrained\\\\resnet_v1_152.ckpt',\n",
      " 'intermediate_supervision': False,\n",
      " 'intermediate_supervision_layer': 12,\n",
      " 'location_refinement': True,\n",
      " 'locref_huber_loss': True,\n",
      " 'locref_loss_weight': 0.05,\n",
      " 'locref_stdev': 7.2801,\n",
      " 'log_dir': 'log',\n",
      " 'lr_init': 0.0005,\n",
      " 'max_input_size': 1500,\n",
      " 'mean_pixel': [123.68, 116.779, 103.939],\n",
      " 'metadataset': 'training-datasets\\\\iteration-0\\\\UnaugmentedDataSet_AVI-DYS-lower-limbApr19\\\\Documentation_data-AVI-DYS-lower-limb_95shuffle2.pickle',\n",
      " 'min_input_size': 64,\n",
      " 'mirror': False,\n",
      " 'multi_stage': False,\n",
      " 'multi_step': [[0.005, 10000],\n",
      "                [0.02, 430000],\n",
      "                [0.002, 730000],\n",
      "                [0.001, 1030000]],\n",
      " 'net_type': 'resnet_152',\n",
      " 'num_joints': 10,\n",
      " 'optimizer': 'sgd',\n",
      " 'pairwise_huber_loss': False,\n",
      " 'pairwise_predict': False,\n",
      " 'partaffinityfield_predict': False,\n",
      " 'pos_dist_thresh': 17,\n",
      " 'project_path': 'C:\\\\Users\\\\zacha\\\\Repos\\\\AVI-DYS\\\\AVI-DYS-lower-limb-zach_roth-2023-04-19',\n",
      " 'regularize': False,\n",
      " 'rotation': 25,\n",
      " 'rotratio': 0.4,\n",
      " 'save_iters': 50000,\n",
      " 'scale_jitter_lo': 0.5,\n",
      " 'scale_jitter_up': 1.25,\n",
      " 'scoremap_dir': 'test',\n",
      " 'shuffle': True,\n",
      " 'snapshot_prefix': 'C:\\\\Users\\\\zacha\\\\Repos\\\\AVI-DYS\\\\AVI-DYS-lower-limb-zach_roth-2023-04-19\\\\dlc-models\\\\iteration-0\\\\AVI-DYS-lower-limbApr19-trainset95shuffle2\\\\train\\\\snapshot',\n",
      " 'stride': 8.0,\n",
      " 'weigh_negatives': False,\n",
      " 'weigh_only_present_joints': False,\n",
      " 'weigh_part_predictions': False,\n",
      " 'weight_decay': 0.0001}\n"
     ]
    },
    {
     "name": "stdout",
     "output_type": "stream",
     "text": [
      "Selecting single-animal trainer\n",
      "Batch Size is 1\n",
      "Loading ImageNet-pretrained resnet_152\n",
      "Max_iters overwritten as 1000000\n",
      "Display_iters overwritten as 1000\n",
      "Save_iters overwritten as 10000\n",
      "Training parameter:\n",
      "{'stride': 8.0, 'weigh_part_predictions': False, 'weigh_negatives': False, 'fg_fraction': 0.25, 'mean_pixel': [123.68, 116.779, 103.939], 'shuffle': True, 'snapshot_prefix': 'C:\\\\Users\\\\zacha\\\\Repos\\\\AVI-DYS\\\\AVI-DYS-lower-limb-zach_roth-2023-04-19\\\\dlc-models\\\\iteration-0\\\\AVI-DYS-lower-limbApr19-trainset95shuffle2\\\\train\\\\snapshot', 'log_dir': 'log', 'global_scale': 0.8, 'location_refinement': True, 'locref_stdev': 7.2801, 'locref_loss_weight': 0.05, 'locref_huber_loss': True, 'optimizer': 'sgd', 'intermediate_supervision': False, 'intermediate_supervision_layer': 12, 'regularize': False, 'weight_decay': 0.0001, 'crop_pad': 0, 'scoremap_dir': 'test', 'batch_size': 1, 'dataset_type': 'imgaug', 'deterministic': False, 'mirror': False, 'pairwise_huber_loss': False, 'weigh_only_present_joints': False, 'partaffinityfield_predict': False, 'pairwise_predict': False, 'all_joints': [[0], [1], [2], [3], [4], [5], [6], [7], [8], [9]], 'all_joints_names': ['RKNE', 'RANK', 'RD3M', 'RD1M', 'RHLX', 'LHLX', 'LD1M', 'LD3M', 'LANK', 'LKNE'], 'alpha_r': 0.02, 'apply_prob': 0.5, 'contrast': {'clahe': True, 'claheratio': 0.1, 'histeq': True, 'histeqratio': 0.1, 'gamma': False, 'sigmoid': False, 'log': False, 'linear': False}, 'convolution': {'edge': False, 'emboss': {'alpha': [0.0, 1.0], 'strength': [0.5, 1.5]}, 'embossratio': 0.1, 'sharpen': False, 'sharpenratio': 0.3}, 'cropratio': 0.4, 'dataset': 'training-datasets\\\\iteration-0\\\\UnaugmentedDataSet_AVI-DYS-lower-limbApr19\\\\AVI-DYS-lower-limb_zach_roth95shuffle2.mat', 'decay_steps': 30000, 'display_iters': 1000, 'init_weights': 'C:\\\\Users\\\\zacha\\\\anaconda3\\\\envs\\\\dlc-gpu1\\\\lib\\\\site-packages\\\\deeplabcut\\\\pose_estimation_tensorflow\\\\models\\\\pretrained\\\\resnet_v1_152.ckpt', 'lr_init': 0.0005, 'max_input_size': 1500, 'metadataset': 'training-datasets\\\\iteration-0\\\\UnaugmentedDataSet_AVI-DYS-lower-limbApr19\\\\Documentation_data-AVI-DYS-lower-limb_95shuffle2.pickle', 'min_input_size': 64, 'multi_stage': False, 'multi_step': [[0.005, 10000], [0.02, 430000], [0.002, 730000], [0.001, 1030000]], 'net_type': 'resnet_152', 'num_joints': 10, 'pos_dist_thresh': 17, 'project_path': 'C:\\\\Users\\\\zacha\\\\Repos\\\\AVI-DYS\\\\AVI-DYS-lower-limb-zach_roth-2023-04-19', 'rotation': 25, 'rotratio': 0.4, 'save_iters': 50000, 'scale_jitter_lo': 0.5, 'scale_jitter_up': 1.25, 'covering': True, 'elastic_transform': True, 'motion_blur': True, 'motion_blur_params': {'k': 7, 'angle': (-90, 90)}}\n",
      "Starting training....\n"
     ]
    },
    {
     "name": "stderr",
     "output_type": "stream",
     "text": [
      "iteration: 1000 loss: 0.0391 lr: 0.005\n",
      "iteration: 2000 loss: 0.0265 lr: 0.005\n",
      "iteration: 3000 loss: 0.0232 lr: 0.005\n",
      "iteration: 4000 loss: 0.0207 lr: 0.005\n",
      "iteration: 5000 loss: 0.0186 lr: 0.005\n",
      "iteration: 6000 loss: 0.0165 lr: 0.005\n",
      "iteration: 7000 loss: 0.0159 lr: 0.005\n",
      "iteration: 8000 loss: 0.0152 lr: 0.005\n",
      "iteration: 9000 loss: 0.0156 lr: 0.005\n",
      "iteration: 10000 loss: 0.0145 lr: 0.005\n",
      "iteration: 11000 loss: 0.0172 lr: 0.02\n",
      "iteration: 12000 loss: 0.0159 lr: 0.02\n",
      "iteration: 13000 loss: 0.0144 lr: 0.02\n",
      "iteration: 14000 loss: 0.0137 lr: 0.02\n",
      "iteration: 15000 loss: 0.0136 lr: 0.02\n",
      "iteration: 16000 loss: 0.0124 lr: 0.02\n",
      "iteration: 17000 loss: 0.0121 lr: 0.02\n",
      "iteration: 18000 loss: 0.0118 lr: 0.02\n",
      "iteration: 19000 loss: 0.0118 lr: 0.02\n",
      "iteration: 20000 loss: 0.0110 lr: 0.02\n",
      "iteration: 21000 loss: 0.0108 lr: 0.02\n",
      "iteration: 22000 loss: 0.0102 lr: 0.02\n",
      "iteration: 23000 loss: 0.0106 lr: 0.02\n",
      "iteration: 24000 loss: 0.0103 lr: 0.02\n",
      "iteration: 25000 loss: 0.0097 lr: 0.02\n",
      "iteration: 26000 loss: 0.0093 lr: 0.02\n",
      "iteration: 27000 loss: 0.0095 lr: 0.02\n",
      "iteration: 28000 loss: 0.0097 lr: 0.02\n",
      "iteration: 29000 loss: 0.0089 lr: 0.02\n",
      "iteration: 30000 loss: 0.0092 lr: 0.02\n",
      "iteration: 31000 loss: 0.0093 lr: 0.02\n",
      "iteration: 32000 loss: 0.0086 lr: 0.02\n",
      "iteration: 33000 loss: 0.0090 lr: 0.02\n",
      "iteration: 34000 loss: 0.0088 lr: 0.02\n",
      "iteration: 35000 loss: 0.0083 lr: 0.02\n",
      "iteration: 36000 loss: 0.0092 lr: 0.02\n",
      "iteration: 37000 loss: 0.0082 lr: 0.02\n",
      "iteration: 38000 loss: 0.0085 lr: 0.02\n",
      "iteration: 39000 loss: 0.0084 lr: 0.02\n",
      "iteration: 40000 loss: 0.0084 lr: 0.02\n",
      "iteration: 41000 loss: 0.0084 lr: 0.02\n",
      "iteration: 42000 loss: 0.0076 lr: 0.02\n",
      "iteration: 43000 loss: 0.0083 lr: 0.02\n",
      "iteration: 44000 loss: 0.0080 lr: 0.02\n",
      "iteration: 45000 loss: 0.0079 lr: 0.02\n",
      "iteration: 46000 loss: 0.0077 lr: 0.02\n",
      "iteration: 47000 loss: 0.0080 lr: 0.02\n",
      "iteration: 48000 loss: 0.0080 lr: 0.02\n",
      "iteration: 49000 loss: 0.0075 lr: 0.02\n",
      "iteration: 50000 loss: 0.0076 lr: 0.02\n",
      "iteration: 51000 loss: 0.0074 lr: 0.02\n",
      "iteration: 52000 loss: 0.0077 lr: 0.02\n",
      "iteration: 53000 loss: 0.0076 lr: 0.02\n",
      "iteration: 54000 loss: 0.0077 lr: 0.02\n",
      "iteration: 55000 loss: 0.0077 lr: 0.02\n",
      "iteration: 56000 loss: 0.0076 lr: 0.02\n",
      "iteration: 57000 loss: 0.0075 lr: 0.02\n",
      "iteration: 58000 loss: 0.0074 lr: 0.02\n",
      "iteration: 59000 loss: 0.0071 lr: 0.02\n",
      "iteration: 60000 loss: 0.0074 lr: 0.02\n",
      "iteration: 61000 loss: 0.0073 lr: 0.02\n",
      "iteration: 62000 loss: 0.0070 lr: 0.02\n",
      "iteration: 63000 loss: 0.0070 lr: 0.02\n",
      "iteration: 64000 loss: 0.0073 lr: 0.02\n",
      "iteration: 65000 loss: 0.0072 lr: 0.02\n",
      "iteration: 66000 loss: 0.0072 lr: 0.02\n",
      "iteration: 67000 loss: 0.0071 lr: 0.02\n",
      "iteration: 68000 loss: 0.0069 lr: 0.02\n",
      "iteration: 69000 loss: 0.0068 lr: 0.02\n",
      "iteration: 70000 loss: 0.0069 lr: 0.02\n",
      "iteration: 71000 loss: 0.0066 lr: 0.02\n",
      "iteration: 72000 loss: 0.0070 lr: 0.02\n",
      "iteration: 73000 loss: 0.0065 lr: 0.02\n",
      "iteration: 74000 loss: 0.0065 lr: 0.02\n",
      "iteration: 75000 loss: 0.0070 lr: 0.02\n",
      "iteration: 76000 loss: 0.0068 lr: 0.02\n",
      "iteration: 77000 loss: 0.0065 lr: 0.02\n",
      "iteration: 78000 loss: 0.0065 lr: 0.02\n",
      "iteration: 79000 loss: 0.0067 lr: 0.02\n",
      "iteration: 80000 loss: 0.0066 lr: 0.02\n",
      "iteration: 81000 loss: 0.0066 lr: 0.02\n",
      "iteration: 82000 loss: 0.0070 lr: 0.02\n",
      "iteration: 83000 loss: 0.0065 lr: 0.02\n",
      "iteration: 84000 loss: 0.0065 lr: 0.02\n",
      "iteration: 85000 loss: 0.0065 lr: 0.02\n",
      "iteration: 86000 loss: 0.0066 lr: 0.02\n",
      "iteration: 87000 loss: 0.0064 lr: 0.02\n",
      "iteration: 88000 loss: 0.0061 lr: 0.02\n",
      "iteration: 89000 loss: 0.0065 lr: 0.02\n",
      "iteration: 90000 loss: 0.0067 lr: 0.02\n",
      "iteration: 91000 loss: 0.0062 lr: 0.02\n",
      "iteration: 92000 loss: 0.0063 lr: 0.02\n",
      "iteration: 93000 loss: 0.0062 lr: 0.02\n",
      "iteration: 94000 loss: 0.0061 lr: 0.02\n",
      "iteration: 95000 loss: 0.0065 lr: 0.02\n",
      "iteration: 96000 loss: 0.0060 lr: 0.02\n",
      "iteration: 97000 loss: 0.0065 lr: 0.02\n",
      "iteration: 98000 loss: 0.0064 lr: 0.02\n",
      "iteration: 99000 loss: 0.0064 lr: 0.02\n",
      "iteration: 100000 loss: 0.0063 lr: 0.02\n",
      "iteration: 101000 loss: 0.0060 lr: 0.02\n",
      "iteration: 102000 loss: 0.0058 lr: 0.02\n",
      "iteration: 103000 loss: 0.0060 lr: 0.02\n",
      "iteration: 104000 loss: 0.0060 lr: 0.02\n",
      "iteration: 105000 loss: 0.0059 lr: 0.02\n",
      "iteration: 106000 loss: 0.0061 lr: 0.02\n",
      "iteration: 107000 loss: 0.0060 lr: 0.02\n",
      "iteration: 108000 loss: 0.0062 lr: 0.02\n",
      "iteration: 109000 loss: 0.0060 lr: 0.02\n",
      "iteration: 110000 loss: 0.0059 lr: 0.02\n",
      "iteration: 111000 loss: 0.0059 lr: 0.02\n",
      "iteration: 112000 loss: 0.0058 lr: 0.02\n",
      "iteration: 113000 loss: 0.0058 lr: 0.02\n",
      "iteration: 114000 loss: 0.0055 lr: 0.02\n",
      "iteration: 115000 loss: 0.0057 lr: 0.02\n",
      "iteration: 116000 loss: 0.0058 lr: 0.02\n",
      "iteration: 117000 loss: 0.0056 lr: 0.02\n",
      "iteration: 118000 loss: 0.0060 lr: 0.02\n",
      "iteration: 119000 loss: 0.0057 lr: 0.02\n",
      "iteration: 120000 loss: 0.0057 lr: 0.02\n",
      "iteration: 121000 loss: 0.0059 lr: 0.02\n",
      "iteration: 122000 loss: 0.0058 lr: 0.02\n",
      "iteration: 123000 loss: 0.0059 lr: 0.02\n",
      "iteration: 124000 loss: 0.0059 lr: 0.02\n",
      "iteration: 125000 loss: 0.0053 lr: 0.02\n",
      "iteration: 126000 loss: 0.0055 lr: 0.02\n",
      "iteration: 127000 loss: 0.0053 lr: 0.02\n",
      "iteration: 128000 loss: 0.0056 lr: 0.02\n",
      "iteration: 129000 loss: 0.0054 lr: 0.02\n",
      "iteration: 130000 loss: 0.0055 lr: 0.02\n",
      "iteration: 131000 loss: 0.0057 lr: 0.02\n",
      "iteration: 132000 loss: 0.0055 lr: 0.02\n",
      "iteration: 133000 loss: 0.0055 lr: 0.02\n",
      "iteration: 134000 loss: 0.0058 lr: 0.02\n",
      "iteration: 135000 loss: 0.0055 lr: 0.02\n",
      "iteration: 136000 loss: 0.0054 lr: 0.02\n",
      "iteration: 137000 loss: 0.0054 lr: 0.02\n",
      "iteration: 138000 loss: 0.0055 lr: 0.02\n",
      "iteration: 139000 loss: 0.0060 lr: 0.02\n",
      "iteration: 140000 loss: 0.0052 lr: 0.02\n",
      "iteration: 141000 loss: 0.0054 lr: 0.02\n",
      "iteration: 142000 loss: 0.0056 lr: 0.02\n",
      "iteration: 143000 loss: 0.0054 lr: 0.02\n",
      "iteration: 144000 loss: 0.0055 lr: 0.02\n",
      "iteration: 145000 loss: 0.0055 lr: 0.02\n",
      "iteration: 146000 loss: 0.0054 lr: 0.02\n",
      "iteration: 147000 loss: 0.0056 lr: 0.02\n",
      "iteration: 148000 loss: 0.0056 lr: 0.02\n",
      "iteration: 149000 loss: 0.0054 lr: 0.02\n",
      "iteration: 150000 loss: 0.0051 lr: 0.02\n",
      "iteration: 151000 loss: 0.0052 lr: 0.02\n",
      "iteration: 152000 loss: 0.0052 lr: 0.02\n",
      "iteration: 153000 loss: 0.0052 lr: 0.02\n",
      "iteration: 154000 loss: 0.0054 lr: 0.02\n",
      "iteration: 155000 loss: 0.0049 lr: 0.02\n",
      "iteration: 156000 loss: 0.0052 lr: 0.02\n",
      "iteration: 157000 loss: 0.0052 lr: 0.02\n",
      "iteration: 158000 loss: 0.0053 lr: 0.02\n",
      "iteration: 159000 loss: 0.0054 lr: 0.02\n",
      "iteration: 160000 loss: 0.0052 lr: 0.02\n",
      "iteration: 161000 loss: 0.0053 lr: 0.02\n",
      "iteration: 162000 loss: 0.0052 lr: 0.02\n",
      "iteration: 163000 loss: 0.0051 lr: 0.02\n",
      "iteration: 164000 loss: 0.0053 lr: 0.02\n",
      "iteration: 165000 loss: 0.0054 lr: 0.02\n",
      "iteration: 166000 loss: 0.0052 lr: 0.02\n",
      "iteration: 167000 loss: 0.0049 lr: 0.02\n",
      "iteration: 168000 loss: 0.0051 lr: 0.02\n",
      "iteration: 169000 loss: 0.0052 lr: 0.02\n",
      "iteration: 170000 loss: 0.0049 lr: 0.02\n",
      "iteration: 171000 loss: 0.0050 lr: 0.02\n",
      "iteration: 172000 loss: 0.0051 lr: 0.02\n",
      "iteration: 173000 loss: 0.0052 lr: 0.02\n",
      "iteration: 174000 loss: 0.0050 lr: 0.02\n",
      "iteration: 175000 loss: 0.0052 lr: 0.02\n",
      "iteration: 176000 loss: 0.0052 lr: 0.02\n",
      "iteration: 177000 loss: 0.0050 lr: 0.02\n",
      "iteration: 178000 loss: 0.0052 lr: 0.02\n",
      "iteration: 179000 loss: 0.0050 lr: 0.02\n",
      "iteration: 180000 loss: 0.0050 lr: 0.02\n",
      "iteration: 181000 loss: 0.0051 lr: 0.02\n",
      "iteration: 182000 loss: 0.0051 lr: 0.02\n",
      "iteration: 183000 loss: 0.0051 lr: 0.02\n",
      "iteration: 184000 loss: 0.0052 lr: 0.02\n",
      "iteration: 185000 loss: 0.0050 lr: 0.02\n",
      "iteration: 186000 loss: 0.0051 lr: 0.02\n",
      "iteration: 187000 loss: 0.0048 lr: 0.02\n",
      "iteration: 188000 loss: 0.0048 lr: 0.02\n",
      "iteration: 189000 loss: 0.0049 lr: 0.02\n",
      "iteration: 190000 loss: 0.0048 lr: 0.02\n",
      "iteration: 191000 loss: 0.0050 lr: 0.02\n",
      "iteration: 192000 loss: 0.0051 lr: 0.02\n",
      "iteration: 193000 loss: 0.0052 lr: 0.02\n",
      "iteration: 194000 loss: 0.0051 lr: 0.02\n",
      "iteration: 195000 loss: 0.0053 lr: 0.02\n",
      "iteration: 196000 loss: 0.0050 lr: 0.02\n",
      "iteration: 197000 loss: 0.0052 lr: 0.02\n",
      "iteration: 198000 loss: 0.0053 lr: 0.02\n",
      "iteration: 199000 loss: 0.0054 lr: 0.02\n",
      "iteration: 200000 loss: 0.0050 lr: 0.02\n",
      "iteration: 201000 loss: 0.0049 lr: 0.02\n",
      "iteration: 202000 loss: 0.0050 lr: 0.02\n",
      "iteration: 203000 loss: 0.0048 lr: 0.02\n",
      "iteration: 204000 loss: 0.0049 lr: 0.02\n",
      "iteration: 205000 loss: 0.0047 lr: 0.02\n",
      "iteration: 206000 loss: 0.0048 lr: 0.02\n",
      "iteration: 207000 loss: 0.0050 lr: 0.02\n",
      "iteration: 208000 loss: 0.0048 lr: 0.02\n"
     ]
    },
    {
     "name": "stderr",
     "output_type": "stream",
     "text": [
      "iteration: 209000 loss: 0.0048 lr: 0.02\n",
      "iteration: 210000 loss: 0.0048 lr: 0.02\n",
      "iteration: 211000 loss: 0.0049 lr: 0.02\n",
      "iteration: 212000 loss: 0.0051 lr: 0.02\n",
      "iteration: 213000 loss: 0.0051 lr: 0.02\n",
      "iteration: 214000 loss: 0.0048 lr: 0.02\n",
      "iteration: 215000 loss: 0.0047 lr: 0.02\n",
      "iteration: 216000 loss: 0.0050 lr: 0.02\n",
      "iteration: 217000 loss: 0.0050 lr: 0.02\n",
      "iteration: 218000 loss: 0.0050 lr: 0.02\n",
      "iteration: 219000 loss: 0.0048 lr: 0.02\n",
      "iteration: 220000 loss: 0.0046 lr: 0.02\n",
      "iteration: 221000 loss: 0.0045 lr: 0.02\n",
      "iteration: 222000 loss: 0.0047 lr: 0.02\n",
      "iteration: 223000 loss: 0.0046 lr: 0.02\n",
      "iteration: 224000 loss: 0.0048 lr: 0.02\n",
      "iteration: 225000 loss: 0.0050 lr: 0.02\n",
      "iteration: 226000 loss: 0.0048 lr: 0.02\n",
      "iteration: 227000 loss: 0.0049 lr: 0.02\n",
      "iteration: 228000 loss: 0.0048 lr: 0.02\n",
      "iteration: 229000 loss: 0.0046 lr: 0.02\n",
      "iteration: 230000 loss: 0.0049 lr: 0.02\n",
      "iteration: 231000 loss: 0.0046 lr: 0.02\n",
      "iteration: 232000 loss: 0.0048 lr: 0.02\n",
      "iteration: 233000 loss: 0.0050 lr: 0.02\n",
      "iteration: 234000 loss: 0.0046 lr: 0.02\n",
      "iteration: 235000 loss: 0.0047 lr: 0.02\n",
      "iteration: 236000 loss: 0.0046 lr: 0.02\n",
      "iteration: 237000 loss: 0.0045 lr: 0.02\n",
      "iteration: 238000 loss: 0.0046 lr: 0.02\n",
      "iteration: 239000 loss: 0.0048 lr: 0.02\n",
      "iteration: 240000 loss: 0.0045 lr: 0.02\n",
      "iteration: 241000 loss: 0.0046 lr: 0.02\n",
      "iteration: 242000 loss: 0.0045 lr: 0.02\n",
      "iteration: 243000 loss: 0.0048 lr: 0.02\n",
      "iteration: 244000 loss: 0.0047 lr: 0.02\n",
      "iteration: 245000 loss: 0.0047 lr: 0.02\n",
      "iteration: 246000 loss: 0.0046 lr: 0.02\n",
      "iteration: 247000 loss: 0.0045 lr: 0.02\n",
      "iteration: 248000 loss: 0.0046 lr: 0.02\n",
      "iteration: 249000 loss: 0.0044 lr: 0.02\n",
      "iteration: 250000 loss: 0.0045 lr: 0.02\n",
      "iteration: 251000 loss: 0.0046 lr: 0.02\n",
      "iteration: 252000 loss: 0.0046 lr: 0.02\n",
      "iteration: 253000 loss: 0.0045 lr: 0.02\n",
      "iteration: 254000 loss: 0.0047 lr: 0.02\n",
      "iteration: 255000 loss: 0.0046 lr: 0.02\n",
      "iteration: 256000 loss: 0.0043 lr: 0.02\n",
      "iteration: 257000 loss: 0.0048 lr: 0.02\n",
      "iteration: 258000 loss: 0.0044 lr: 0.02\n",
      "iteration: 259000 loss: 0.0044 lr: 0.02\n",
      "iteration: 260000 loss: 0.0047 lr: 0.02\n",
      "iteration: 261000 loss: 0.0046 lr: 0.02\n",
      "iteration: 262000 loss: 0.0045 lr: 0.02\n",
      "iteration: 263000 loss: 0.0046 lr: 0.02\n",
      "iteration: 264000 loss: 0.0043 lr: 0.02\n",
      "iteration: 265000 loss: 0.0042 lr: 0.02\n",
      "iteration: 266000 loss: 0.0044 lr: 0.02\n",
      "iteration: 267000 loss: 0.0045 lr: 0.02\n",
      "iteration: 268000 loss: 0.0043 lr: 0.02\n",
      "iteration: 269000 loss: 0.0044 lr: 0.02\n",
      "iteration: 270000 loss: 0.0044 lr: 0.02\n",
      "iteration: 271000 loss: 0.0047 lr: 0.02\n",
      "iteration: 272000 loss: 0.0043 lr: 0.02\n",
      "iteration: 273000 loss: 0.0044 lr: 0.02\n",
      "iteration: 274000 loss: 0.0043 lr: 0.02\n",
      "iteration: 275000 loss: 0.0045 lr: 0.02\n",
      "iteration: 276000 loss: 0.0046 lr: 0.02\n",
      "iteration: 277000 loss: 0.0045 lr: 0.02\n",
      "iteration: 278000 loss: 0.0043 lr: 0.02\n",
      "iteration: 279000 loss: 0.0045 lr: 0.02\n",
      "iteration: 280000 loss: 0.0043 lr: 0.02\n",
      "iteration: 281000 loss: 0.0043 lr: 0.02\n",
      "iteration: 282000 loss: 0.0044 lr: 0.02\n",
      "iteration: 283000 loss: 0.0044 lr: 0.02\n",
      "iteration: 284000 loss: 0.0042 lr: 0.02\n",
      "iteration: 285000 loss: 0.0041 lr: 0.02\n",
      "iteration: 286000 loss: 0.0043 lr: 0.02\n",
      "iteration: 287000 loss: 0.0043 lr: 0.02\n",
      "iteration: 288000 loss: 0.0045 lr: 0.02\n",
      "iteration: 289000 loss: 0.0043 lr: 0.02\n",
      "iteration: 290000 loss: 0.0044 lr: 0.02\n",
      "iteration: 291000 loss: 0.0045 lr: 0.02\n",
      "iteration: 292000 loss: 0.0045 lr: 0.02\n",
      "iteration: 293000 loss: 0.0043 lr: 0.02\n",
      "iteration: 294000 loss: 0.0042 lr: 0.02\n",
      "iteration: 295000 loss: 0.0042 lr: 0.02\n",
      "iteration: 296000 loss: 0.0042 lr: 0.02\n",
      "iteration: 297000 loss: 0.0044 lr: 0.02\n",
      "iteration: 298000 loss: 0.0043 lr: 0.02\n",
      "iteration: 299000 loss: 0.0044 lr: 0.02\n",
      "iteration: 300000 loss: 0.0045 lr: 0.02\n",
      "iteration: 301000 loss: 0.0042 lr: 0.02\n",
      "iteration: 302000 loss: 0.0045 lr: 0.02\n",
      "iteration: 303000 loss: 0.0043 lr: 0.02\n",
      "iteration: 304000 loss: 0.0042 lr: 0.02\n",
      "iteration: 305000 loss: 0.0042 lr: 0.02\n",
      "iteration: 306000 loss: 0.0043 lr: 0.02\n",
      "iteration: 307000 loss: 0.0045 lr: 0.02\n",
      "iteration: 308000 loss: 0.0043 lr: 0.02\n",
      "iteration: 309000 loss: 0.0043 lr: 0.02\n",
      "iteration: 310000 loss: 0.0044 lr: 0.02\n",
      "iteration: 311000 loss: 0.0041 lr: 0.02\n",
      "iteration: 312000 loss: 0.0043 lr: 0.02\n",
      "iteration: 313000 loss: 0.0043 lr: 0.02\n",
      "iteration: 314000 loss: 0.0043 lr: 0.02\n",
      "iteration: 315000 loss: 0.0042 lr: 0.02\n",
      "iteration: 316000 loss: 0.0042 lr: 0.02\n",
      "iteration: 317000 loss: 0.0043 lr: 0.02\n",
      "iteration: 318000 loss: 0.0042 lr: 0.02\n",
      "iteration: 319000 loss: 0.0042 lr: 0.02\n",
      "iteration: 320000 loss: 0.0043 lr: 0.02\n",
      "iteration: 321000 loss: 0.0040 lr: 0.02\n",
      "iteration: 322000 loss: 0.0043 lr: 0.02\n",
      "iteration: 323000 loss: 0.0043 lr: 0.02\n",
      "iteration: 324000 loss: 0.0041 lr: 0.02\n",
      "iteration: 325000 loss: 0.0041 lr: 0.02\n",
      "iteration: 326000 loss: 0.0041 lr: 0.02\n",
      "iteration: 327000 loss: 0.0042 lr: 0.02\n",
      "iteration: 328000 loss: 0.0042 lr: 0.02\n",
      "iteration: 329000 loss: 0.0041 lr: 0.02\n",
      "iteration: 330000 loss: 0.0042 lr: 0.02\n",
      "iteration: 331000 loss: 0.0042 lr: 0.02\n",
      "iteration: 332000 loss: 0.0040 lr: 0.02\n",
      "iteration: 333000 loss: 0.0040 lr: 0.02\n",
      "iteration: 334000 loss: 0.0039 lr: 0.02\n",
      "iteration: 335000 loss: 0.0042 lr: 0.02\n",
      "iteration: 336000 loss: 0.0041 lr: 0.02\n",
      "iteration: 337000 loss: 0.0040 lr: 0.02\n",
      "iteration: 338000 loss: 0.0042 lr: 0.02\n",
      "iteration: 339000 loss: 0.0040 lr: 0.02\n",
      "iteration: 340000 loss: 0.0043 lr: 0.02\n",
      "iteration: 341000 loss: 0.0038 lr: 0.02\n",
      "iteration: 342000 loss: 0.0041 lr: 0.02\n",
      "iteration: 343000 loss: 0.0040 lr: 0.02\n",
      "iteration: 344000 loss: 0.0042 lr: 0.02\n",
      "iteration: 345000 loss: 0.0041 lr: 0.02\n",
      "iteration: 346000 loss: 0.0040 lr: 0.02\n",
      "iteration: 347000 loss: 0.0040 lr: 0.02\n",
      "iteration: 348000 loss: 0.0039 lr: 0.02\n",
      "iteration: 349000 loss: 0.0040 lr: 0.02\n",
      "iteration: 350000 loss: 0.0041 lr: 0.02\n",
      "iteration: 351000 loss: 0.0040 lr: 0.02\n",
      "iteration: 352000 loss: 0.0040 lr: 0.02\n",
      "iteration: 353000 loss: 0.0039 lr: 0.02\n",
      "iteration: 354000 loss: 0.0041 lr: 0.02\n",
      "iteration: 355000 loss: 0.0040 lr: 0.02\n",
      "iteration: 356000 loss: 0.0038 lr: 0.02\n",
      "iteration: 357000 loss: 0.0039 lr: 0.02\n",
      "iteration: 358000 loss: 0.0038 lr: 0.02\n",
      "iteration: 359000 loss: 0.0043 lr: 0.02\n",
      "iteration: 360000 loss: 0.0043 lr: 0.02\n",
      "iteration: 361000 loss: 0.0038 lr: 0.02\n",
      "iteration: 362000 loss: 0.0041 lr: 0.02\n",
      "iteration: 363000 loss: 0.0040 lr: 0.02\n",
      "iteration: 364000 loss: 0.0039 lr: 0.02\n",
      "iteration: 365000 loss: 0.0040 lr: 0.02\n",
      "iteration: 366000 loss: 0.0038 lr: 0.02\n",
      "iteration: 367000 loss: 0.0038 lr: 0.02\n",
      "iteration: 368000 loss: 0.0038 lr: 0.02\n",
      "iteration: 369000 loss: 0.0039 lr: 0.02\n",
      "iteration: 370000 loss: 0.0043 lr: 0.02\n",
      "iteration: 371000 loss: 0.0039 lr: 0.02\n",
      "iteration: 372000 loss: 0.0040 lr: 0.02\n",
      "iteration: 373000 loss: 0.0040 lr: 0.02\n",
      "iteration: 374000 loss: 0.0041 lr: 0.02\n",
      "iteration: 375000 loss: 0.0038 lr: 0.02\n",
      "iteration: 376000 loss: 0.0039 lr: 0.02\n",
      "iteration: 377000 loss: 0.0037 lr: 0.02\n",
      "iteration: 378000 loss: 0.0041 lr: 0.02\n",
      "iteration: 379000 loss: 0.0039 lr: 0.02\n",
      "iteration: 380000 loss: 0.0038 lr: 0.02\n",
      "iteration: 381000 loss: 0.0039 lr: 0.02\n",
      "iteration: 382000 loss: 0.0038 lr: 0.02\n",
      "iteration: 383000 loss: 0.0039 lr: 0.02\n",
      "iteration: 384000 loss: 0.0039 lr: 0.02\n",
      "iteration: 385000 loss: 0.0039 lr: 0.02\n",
      "iteration: 386000 loss: 0.0040 lr: 0.02\n",
      "iteration: 387000 loss: 0.0040 lr: 0.02\n",
      "iteration: 388000 loss: 0.0038 lr: 0.02\n",
      "iteration: 389000 loss: 0.0038 lr: 0.02\n",
      "iteration: 390000 loss: 0.0039 lr: 0.02\n",
      "iteration: 391000 loss: 0.0040 lr: 0.02\n",
      "iteration: 392000 loss: 0.0039 lr: 0.02\n",
      "iteration: 393000 loss: 0.0036 lr: 0.02\n",
      "iteration: 394000 loss: 0.0037 lr: 0.02\n",
      "iteration: 395000 loss: 0.0037 lr: 0.02\n",
      "iteration: 396000 loss: 0.0038 lr: 0.02\n",
      "iteration: 397000 loss: 0.0037 lr: 0.02\n",
      "iteration: 398000 loss: 0.0040 lr: 0.02\n",
      "iteration: 399000 loss: 0.0038 lr: 0.02\n",
      "iteration: 400000 loss: 0.0039 lr: 0.02\n",
      "iteration: 401000 loss: 0.0036 lr: 0.02\n",
      "iteration: 402000 loss: 0.0040 lr: 0.02\n",
      "iteration: 403000 loss: 0.0038 lr: 0.02\n",
      "iteration: 404000 loss: 0.0039 lr: 0.02\n",
      "iteration: 405000 loss: 0.0038 lr: 0.02\n",
      "iteration: 406000 loss: 0.0037 lr: 0.02\n",
      "iteration: 407000 loss: 0.0039 lr: 0.02\n",
      "iteration: 408000 loss: 0.0037 lr: 0.02\n",
      "iteration: 409000 loss: 0.0039 lr: 0.02\n",
      "iteration: 410000 loss: 0.0039 lr: 0.02\n",
      "iteration: 411000 loss: 0.0039 lr: 0.02\n",
      "iteration: 412000 loss: 0.0042 lr: 0.02\n",
      "iteration: 413000 loss: 0.0038 lr: 0.02\n"
     ]
    },
    {
     "name": "stderr",
     "output_type": "stream",
     "text": [
      "iteration: 414000 loss: 0.0038 lr: 0.02\n",
      "iteration: 415000 loss: 0.0037 lr: 0.02\n",
      "iteration: 416000 loss: 0.0038 lr: 0.02\n",
      "iteration: 417000 loss: 0.0037 lr: 0.02\n",
      "iteration: 418000 loss: 0.0037 lr: 0.02\n",
      "iteration: 419000 loss: 0.0040 lr: 0.02\n",
      "iteration: 420000 loss: 0.0036 lr: 0.02\n",
      "iteration: 421000 loss: 0.0038 lr: 0.02\n",
      "iteration: 422000 loss: 0.0038 lr: 0.02\n",
      "iteration: 423000 loss: 0.0039 lr: 0.02\n",
      "iteration: 424000 loss: 0.0037 lr: 0.02\n",
      "iteration: 425000 loss: 0.0036 lr: 0.02\n",
      "iteration: 426000 loss: 0.0038 lr: 0.02\n",
      "iteration: 427000 loss: 0.0038 lr: 0.02\n",
      "iteration: 428000 loss: 0.0040 lr: 0.02\n",
      "iteration: 429000 loss: 0.0036 lr: 0.02\n",
      "iteration: 430000 loss: 0.0037 lr: 0.02\n",
      "iteration: 431000 loss: 0.0033 lr: 0.002\n",
      "iteration: 432000 loss: 0.0034 lr: 0.002\n",
      "iteration: 433000 loss: 0.0032 lr: 0.002\n",
      "iteration: 434000 loss: 0.0032 lr: 0.002\n",
      "iteration: 435000 loss: 0.0032 lr: 0.002\n",
      "iteration: 436000 loss: 0.0030 lr: 0.002\n",
      "iteration: 437000 loss: 0.0032 lr: 0.002\n",
      "iteration: 438000 loss: 0.0032 lr: 0.002\n",
      "iteration: 439000 loss: 0.0032 lr: 0.002\n",
      "iteration: 440000 loss: 0.0033 lr: 0.002\n",
      "iteration: 441000 loss: 0.0034 lr: 0.002\n",
      "iteration: 442000 loss: 0.0033 lr: 0.002\n",
      "iteration: 443000 loss: 0.0031 lr: 0.002\n",
      "iteration: 444000 loss: 0.0031 lr: 0.002\n",
      "iteration: 445000 loss: 0.0032 lr: 0.002\n",
      "iteration: 446000 loss: 0.0031 lr: 0.002\n",
      "iteration: 447000 loss: 0.0032 lr: 0.002\n",
      "iteration: 448000 loss: 0.0031 lr: 0.002\n",
      "iteration: 449000 loss: 0.0032 lr: 0.002\n",
      "iteration: 450000 loss: 0.0033 lr: 0.002\n",
      "iteration: 451000 loss: 0.0030 lr: 0.002\n",
      "iteration: 452000 loss: 0.0030 lr: 0.002\n",
      "iteration: 453000 loss: 0.0032 lr: 0.002\n",
      "iteration: 454000 loss: 0.0030 lr: 0.002\n",
      "iteration: 455000 loss: 0.0033 lr: 0.002\n",
      "iteration: 456000 loss: 0.0029 lr: 0.002\n",
      "iteration: 457000 loss: 0.0032 lr: 0.002\n",
      "iteration: 458000 loss: 0.0030 lr: 0.002\n",
      "iteration: 459000 loss: 0.0031 lr: 0.002\n",
      "iteration: 460000 loss: 0.0033 lr: 0.002\n",
      "iteration: 461000 loss: 0.0029 lr: 0.002\n",
      "iteration: 462000 loss: 0.0030 lr: 0.002\n",
      "iteration: 463000 loss: 0.0031 lr: 0.002\n",
      "iteration: 464000 loss: 0.0031 lr: 0.002\n",
      "iteration: 465000 loss: 0.0030 lr: 0.002\n",
      "iteration: 466000 loss: 0.0030 lr: 0.002\n",
      "iteration: 467000 loss: 0.0032 lr: 0.002\n",
      "iteration: 468000 loss: 0.0029 lr: 0.002\n",
      "iteration: 469000 loss: 0.0031 lr: 0.002\n",
      "iteration: 470000 loss: 0.0031 lr: 0.002\n",
      "iteration: 471000 loss: 0.0031 lr: 0.002\n",
      "iteration: 472000 loss: 0.0031 lr: 0.002\n",
      "iteration: 473000 loss: 0.0032 lr: 0.002\n",
      "iteration: 474000 loss: 0.0030 lr: 0.002\n",
      "iteration: 475000 loss: 0.0030 lr: 0.002\n",
      "iteration: 476000 loss: 0.0031 lr: 0.002\n",
      "iteration: 477000 loss: 0.0031 lr: 0.002\n",
      "iteration: 478000 loss: 0.0031 lr: 0.002\n",
      "iteration: 479000 loss: 0.0031 lr: 0.002\n",
      "iteration: 480000 loss: 0.0030 lr: 0.002\n",
      "iteration: 481000 loss: 0.0031 lr: 0.002\n",
      "iteration: 482000 loss: 0.0032 lr: 0.002\n",
      "iteration: 483000 loss: 0.0031 lr: 0.002\n",
      "iteration: 484000 loss: 0.0032 lr: 0.002\n",
      "iteration: 485000 loss: 0.0029 lr: 0.002\n",
      "iteration: 486000 loss: 0.0030 lr: 0.002\n",
      "iteration: 487000 loss: 0.0032 lr: 0.002\n",
      "iteration: 488000 loss: 0.0031 lr: 0.002\n",
      "iteration: 489000 loss: 0.0030 lr: 0.002\n",
      "iteration: 490000 loss: 0.0031 lr: 0.002\n",
      "iteration: 491000 loss: 0.0032 lr: 0.002\n",
      "iteration: 492000 loss: 0.0030 lr: 0.002\n",
      "iteration: 493000 loss: 0.0031 lr: 0.002\n",
      "iteration: 494000 loss: 0.0030 lr: 0.002\n",
      "iteration: 495000 loss: 0.0030 lr: 0.002\n",
      "iteration: 496000 loss: 0.0030 lr: 0.002\n",
      "iteration: 497000 loss: 0.0031 lr: 0.002\n",
      "iteration: 498000 loss: 0.0031 lr: 0.002\n",
      "iteration: 499000 loss: 0.0030 lr: 0.002\n",
      "iteration: 500000 loss: 0.0032 lr: 0.002\n",
      "iteration: 501000 loss: 0.0030 lr: 0.002\n",
      "iteration: 502000 loss: 0.0030 lr: 0.002\n",
      "iteration: 503000 loss: 0.0030 lr: 0.002\n",
      "iteration: 504000 loss: 0.0031 lr: 0.002\n",
      "iteration: 505000 loss: 0.0032 lr: 0.002\n",
      "iteration: 506000 loss: 0.0029 lr: 0.002\n",
      "iteration: 507000 loss: 0.0029 lr: 0.002\n",
      "iteration: 508000 loss: 0.0031 lr: 0.002\n",
      "iteration: 509000 loss: 0.0029 lr: 0.002\n",
      "iteration: 510000 loss: 0.0029 lr: 0.002\n",
      "iteration: 511000 loss: 0.0029 lr: 0.002\n",
      "iteration: 512000 loss: 0.0030 lr: 0.002\n",
      "iteration: 513000 loss: 0.0031 lr: 0.002\n",
      "iteration: 514000 loss: 0.0029 lr: 0.002\n",
      "iteration: 515000 loss: 0.0030 lr: 0.002\n",
      "iteration: 516000 loss: 0.0029 lr: 0.002\n",
      "iteration: 517000 loss: 0.0030 lr: 0.002\n",
      "iteration: 518000 loss: 0.0029 lr: 0.002\n",
      "iteration: 519000 loss: 0.0030 lr: 0.002\n",
      "iteration: 520000 loss: 0.0029 lr: 0.002\n",
      "iteration: 521000 loss: 0.0031 lr: 0.002\n",
      "iteration: 522000 loss: 0.0031 lr: 0.002\n",
      "iteration: 523000 loss: 0.0031 lr: 0.002\n",
      "iteration: 524000 loss: 0.0030 lr: 0.002\n",
      "iteration: 525000 loss: 0.0029 lr: 0.002\n",
      "iteration: 526000 loss: 0.0029 lr: 0.002\n",
      "iteration: 527000 loss: 0.0030 lr: 0.002\n",
      "iteration: 528000 loss: 0.0030 lr: 0.002\n",
      "iteration: 529000 loss: 0.0029 lr: 0.002\n",
      "iteration: 530000 loss: 0.0029 lr: 0.002\n",
      "iteration: 531000 loss: 0.0028 lr: 0.002\n",
      "iteration: 532000 loss: 0.0030 lr: 0.002\n",
      "iteration: 533000 loss: 0.0030 lr: 0.002\n",
      "iteration: 534000 loss: 0.0030 lr: 0.002\n",
      "iteration: 535000 loss: 0.0029 lr: 0.002\n",
      "iteration: 536000 loss: 0.0031 lr: 0.002\n",
      "iteration: 537000 loss: 0.0030 lr: 0.002\n",
      "iteration: 538000 loss: 0.0030 lr: 0.002\n",
      "iteration: 539000 loss: 0.0030 lr: 0.002\n",
      "iteration: 540000 loss: 0.0030 lr: 0.002\n",
      "iteration: 541000 loss: 0.0029 lr: 0.002\n",
      "iteration: 542000 loss: 0.0031 lr: 0.002\n",
      "iteration: 543000 loss: 0.0029 lr: 0.002\n",
      "iteration: 544000 loss: 0.0030 lr: 0.002\n",
      "iteration: 545000 loss: 0.0027 lr: 0.002\n",
      "iteration: 546000 loss: 0.0030 lr: 0.002\n",
      "iteration: 547000 loss: 0.0029 lr: 0.002\n",
      "iteration: 548000 loss: 0.0028 lr: 0.002\n",
      "iteration: 549000 loss: 0.0030 lr: 0.002\n",
      "iteration: 550000 loss: 0.0029 lr: 0.002\n",
      "iteration: 551000 loss: 0.0030 lr: 0.002\n",
      "iteration: 552000 loss: 0.0030 lr: 0.002\n",
      "iteration: 553000 loss: 0.0031 lr: 0.002\n",
      "iteration: 554000 loss: 0.0031 lr: 0.002\n",
      "iteration: 555000 loss: 0.0030 lr: 0.002\n",
      "iteration: 556000 loss: 0.0031 lr: 0.002\n",
      "iteration: 557000 loss: 0.0029 lr: 0.002\n",
      "iteration: 558000 loss: 0.0029 lr: 0.002\n",
      "iteration: 559000 loss: 0.0030 lr: 0.002\n",
      "iteration: 560000 loss: 0.0029 lr: 0.002\n",
      "iteration: 561000 loss: 0.0029 lr: 0.002\n",
      "iteration: 562000 loss: 0.0029 lr: 0.002\n",
      "iteration: 563000 loss: 0.0028 lr: 0.002\n",
      "iteration: 564000 loss: 0.0028 lr: 0.002\n",
      "iteration: 565000 loss: 0.0030 lr: 0.002\n",
      "iteration: 566000 loss: 0.0030 lr: 0.002\n",
      "iteration: 567000 loss: 0.0030 lr: 0.002\n",
      "iteration: 568000 loss: 0.0031 lr: 0.002\n",
      "iteration: 569000 loss: 0.0030 lr: 0.002\n",
      "iteration: 570000 loss: 0.0030 lr: 0.002\n",
      "iteration: 571000 loss: 0.0030 lr: 0.002\n",
      "iteration: 572000 loss: 0.0029 lr: 0.002\n",
      "iteration: 573000 loss: 0.0031 lr: 0.002\n",
      "iteration: 574000 loss: 0.0029 lr: 0.002\n",
      "iteration: 575000 loss: 0.0031 lr: 0.002\n",
      "iteration: 576000 loss: 0.0031 lr: 0.002\n",
      "iteration: 577000 loss: 0.0028 lr: 0.002\n",
      "iteration: 578000 loss: 0.0029 lr: 0.002\n",
      "iteration: 579000 loss: 0.0029 lr: 0.002\n",
      "iteration: 580000 loss: 0.0029 lr: 0.002\n",
      "iteration: 581000 loss: 0.0030 lr: 0.002\n",
      "iteration: 582000 loss: 0.0030 lr: 0.002\n",
      "iteration: 583000 loss: 0.0029 lr: 0.002\n",
      "iteration: 584000 loss: 0.0030 lr: 0.002\n",
      "iteration: 585000 loss: 0.0028 lr: 0.002\n",
      "iteration: 586000 loss: 0.0030 lr: 0.002\n",
      "iteration: 587000 loss: 0.0029 lr: 0.002\n",
      "iteration: 588000 loss: 0.0030 lr: 0.002\n",
      "iteration: 589000 loss: 0.0028 lr: 0.002\n",
      "iteration: 590000 loss: 0.0029 lr: 0.002\n",
      "iteration: 591000 loss: 0.0029 lr: 0.002\n",
      "iteration: 592000 loss: 0.0027 lr: 0.002\n",
      "iteration: 593000 loss: 0.0030 lr: 0.002\n",
      "iteration: 594000 loss: 0.0029 lr: 0.002\n",
      "iteration: 595000 loss: 0.0029 lr: 0.002\n",
      "iteration: 596000 loss: 0.0028 lr: 0.002\n",
      "iteration: 597000 loss: 0.0029 lr: 0.002\n",
      "iteration: 598000 loss: 0.0028 lr: 0.002\n",
      "iteration: 599000 loss: 0.0031 lr: 0.002\n",
      "iteration: 600000 loss: 0.0028 lr: 0.002\n",
      "iteration: 601000 loss: 0.0030 lr: 0.002\n",
      "iteration: 602000 loss: 0.0028 lr: 0.002\n",
      "iteration: 603000 loss: 0.0028 lr: 0.002\n",
      "iteration: 604000 loss: 0.0028 lr: 0.002\n",
      "iteration: 605000 loss: 0.0030 lr: 0.002\n",
      "iteration: 606000 loss: 0.0029 lr: 0.002\n",
      "iteration: 607000 loss: 0.0031 lr: 0.002\n",
      "iteration: 608000 loss: 0.0029 lr: 0.002\n",
      "iteration: 609000 loss: 0.0027 lr: 0.002\n",
      "iteration: 610000 loss: 0.0028 lr: 0.002\n",
      "iteration: 611000 loss: 0.0030 lr: 0.002\n",
      "iteration: 612000 loss: 0.0028 lr: 0.002\n",
      "iteration: 613000 loss: 0.0030 lr: 0.002\n",
      "iteration: 614000 loss: 0.0028 lr: 0.002\n"
     ]
    },
    {
     "name": "stderr",
     "output_type": "stream",
     "text": [
      "iteration: 615000 loss: 0.0029 lr: 0.002\n",
      "iteration: 616000 loss: 0.0029 lr: 0.002\n",
      "iteration: 617000 loss: 0.0030 lr: 0.002\n",
      "iteration: 618000 loss: 0.0028 lr: 0.002\n",
      "iteration: 619000 loss: 0.0030 lr: 0.002\n",
      "iteration: 620000 loss: 0.0029 lr: 0.002\n",
      "iteration: 621000 loss: 0.0027 lr: 0.002\n",
      "iteration: 622000 loss: 0.0029 lr: 0.002\n",
      "iteration: 623000 loss: 0.0030 lr: 0.002\n",
      "iteration: 624000 loss: 0.0029 lr: 0.002\n",
      "iteration: 625000 loss: 0.0029 lr: 0.002\n",
      "iteration: 626000 loss: 0.0029 lr: 0.002\n",
      "iteration: 627000 loss: 0.0029 lr: 0.002\n",
      "iteration: 628000 loss: 0.0028 lr: 0.002\n",
      "iteration: 629000 loss: 0.0028 lr: 0.002\n",
      "iteration: 630000 loss: 0.0030 lr: 0.002\n",
      "iteration: 631000 loss: 0.0028 lr: 0.002\n",
      "iteration: 632000 loss: 0.0028 lr: 0.002\n",
      "iteration: 633000 loss: 0.0029 lr: 0.002\n",
      "iteration: 634000 loss: 0.0029 lr: 0.002\n",
      "iteration: 635000 loss: 0.0028 lr: 0.002\n",
      "iteration: 636000 loss: 0.0029 lr: 0.002\n",
      "iteration: 637000 loss: 0.0028 lr: 0.002\n",
      "iteration: 638000 loss: 0.0028 lr: 0.002\n",
      "iteration: 639000 loss: 0.0031 lr: 0.002\n",
      "iteration: 640000 loss: 0.0029 lr: 0.002\n",
      "iteration: 641000 loss: 0.0029 lr: 0.002\n",
      "iteration: 642000 loss: 0.0029 lr: 0.002\n",
      "iteration: 643000 loss: 0.0030 lr: 0.002\n",
      "iteration: 644000 loss: 0.0029 lr: 0.002\n",
      "iteration: 645000 loss: 0.0028 lr: 0.002\n",
      "iteration: 646000 loss: 0.0028 lr: 0.002\n",
      "iteration: 647000 loss: 0.0028 lr: 0.002\n",
      "iteration: 648000 loss: 0.0029 lr: 0.002\n",
      "iteration: 649000 loss: 0.0029 lr: 0.002\n",
      "iteration: 650000 loss: 0.0028 lr: 0.002\n",
      "iteration: 651000 loss: 0.0031 lr: 0.002\n",
      "iteration: 652000 loss: 0.0030 lr: 0.002\n",
      "iteration: 653000 loss: 0.0028 lr: 0.002\n",
      "iteration: 654000 loss: 0.0029 lr: 0.002\n",
      "iteration: 655000 loss: 0.0029 lr: 0.002\n",
      "iteration: 656000 loss: 0.0030 lr: 0.002\n",
      "iteration: 657000 loss: 0.0028 lr: 0.002\n",
      "iteration: 658000 loss: 0.0029 lr: 0.002\n",
      "iteration: 659000 loss: 0.0029 lr: 0.002\n",
      "iteration: 660000 loss: 0.0028 lr: 0.002\n",
      "iteration: 661000 loss: 0.0029 lr: 0.002\n",
      "iteration: 662000 loss: 0.0028 lr: 0.002\n",
      "iteration: 663000 loss: 0.0029 lr: 0.002\n",
      "iteration: 664000 loss: 0.0029 lr: 0.002\n",
      "iteration: 665000 loss: 0.0028 lr: 0.002\n",
      "iteration: 666000 loss: 0.0030 lr: 0.002\n",
      "iteration: 667000 loss: 0.0029 lr: 0.002\n",
      "iteration: 668000 loss: 0.0027 lr: 0.002\n",
      "iteration: 669000 loss: 0.0028 lr: 0.002\n",
      "iteration: 670000 loss: 0.0029 lr: 0.002\n",
      "iteration: 671000 loss: 0.0029 lr: 0.002\n",
      "iteration: 672000 loss: 0.0030 lr: 0.002\n",
      "iteration: 673000 loss: 0.0028 lr: 0.002\n",
      "iteration: 674000 loss: 0.0028 lr: 0.002\n",
      "iteration: 675000 loss: 0.0031 lr: 0.002\n",
      "iteration: 676000 loss: 0.0028 lr: 0.002\n",
      "iteration: 677000 loss: 0.0030 lr: 0.002\n",
      "iteration: 678000 loss: 0.0028 lr: 0.002\n",
      "iteration: 679000 loss: 0.0029 lr: 0.002\n",
      "iteration: 680000 loss: 0.0028 lr: 0.002\n",
      "iteration: 681000 loss: 0.0027 lr: 0.002\n",
      "iteration: 682000 loss: 0.0029 lr: 0.002\n",
      "iteration: 683000 loss: 0.0028 lr: 0.002\n",
      "iteration: 684000 loss: 0.0028 lr: 0.002\n",
      "iteration: 685000 loss: 0.0028 lr: 0.002\n",
      "iteration: 686000 loss: 0.0028 lr: 0.002\n",
      "iteration: 687000 loss: 0.0029 lr: 0.002\n",
      "iteration: 688000 loss: 0.0028 lr: 0.002\n",
      "iteration: 689000 loss: 0.0027 lr: 0.002\n",
      "iteration: 690000 loss: 0.0029 lr: 0.002\n",
      "iteration: 691000 loss: 0.0028 lr: 0.002\n",
      "iteration: 692000 loss: 0.0029 lr: 0.002\n",
      "iteration: 693000 loss: 0.0031 lr: 0.002\n",
      "iteration: 694000 loss: 0.0028 lr: 0.002\n",
      "iteration: 695000 loss: 0.0027 lr: 0.002\n",
      "iteration: 696000 loss: 0.0029 lr: 0.002\n",
      "iteration: 697000 loss: 0.0028 lr: 0.002\n",
      "iteration: 698000 loss: 0.0027 lr: 0.002\n",
      "iteration: 699000 loss: 0.0027 lr: 0.002\n",
      "iteration: 700000 loss: 0.0028 lr: 0.002\n",
      "iteration: 701000 loss: 0.0028 lr: 0.002\n",
      "iteration: 702000 loss: 0.0028 lr: 0.002\n",
      "iteration: 703000 loss: 0.0028 lr: 0.002\n",
      "iteration: 704000 loss: 0.0028 lr: 0.002\n",
      "iteration: 705000 loss: 0.0030 lr: 0.002\n",
      "iteration: 706000 loss: 0.0029 lr: 0.002\n",
      "iteration: 707000 loss: 0.0028 lr: 0.002\n",
      "iteration: 708000 loss: 0.0028 lr: 0.002\n",
      "iteration: 709000 loss: 0.0027 lr: 0.002\n",
      "iteration: 710000 loss: 0.0028 lr: 0.002\n",
      "iteration: 711000 loss: 0.0030 lr: 0.002\n",
      "iteration: 712000 loss: 0.0028 lr: 0.002\n",
      "iteration: 713000 loss: 0.0027 lr: 0.002\n",
      "iteration: 714000 loss: 0.0027 lr: 0.002\n",
      "iteration: 715000 loss: 0.0028 lr: 0.002\n",
      "iteration: 716000 loss: 0.0028 lr: 0.002\n",
      "iteration: 717000 loss: 0.0029 lr: 0.002\n",
      "iteration: 718000 loss: 0.0029 lr: 0.002\n",
      "iteration: 719000 loss: 0.0029 lr: 0.002\n",
      "iteration: 720000 loss: 0.0028 lr: 0.002\n",
      "iteration: 721000 loss: 0.0028 lr: 0.002\n",
      "iteration: 722000 loss: 0.0028 lr: 0.002\n",
      "iteration: 723000 loss: 0.0029 lr: 0.002\n",
      "iteration: 724000 loss: 0.0030 lr: 0.002\n",
      "iteration: 725000 loss: 0.0028 lr: 0.002\n",
      "iteration: 726000 loss: 0.0027 lr: 0.002\n",
      "iteration: 727000 loss: 0.0029 lr: 0.002\n",
      "iteration: 728000 loss: 0.0027 lr: 0.002\n",
      "iteration: 729000 loss: 0.0029 lr: 0.002\n",
      "iteration: 730000 loss: 0.0030 lr: 0.002\n",
      "iteration: 731000 loss: 0.0027 lr: 0.001\n",
      "iteration: 732000 loss: 0.0028 lr: 0.001\n",
      "iteration: 733000 loss: 0.0027 lr: 0.001\n",
      "iteration: 734000 loss: 0.0026 lr: 0.001\n",
      "iteration: 735000 loss: 0.0028 lr: 0.001\n",
      "iteration: 736000 loss: 0.0028 lr: 0.001\n",
      "iteration: 737000 loss: 0.0028 lr: 0.001\n",
      "iteration: 738000 loss: 0.0027 lr: 0.001\n",
      "iteration: 739000 loss: 0.0028 lr: 0.001\n",
      "iteration: 740000 loss: 0.0029 lr: 0.001\n",
      "iteration: 741000 loss: 0.0028 lr: 0.001\n",
      "iteration: 742000 loss: 0.0027 lr: 0.001\n",
      "iteration: 743000 loss: 0.0026 lr: 0.001\n",
      "iteration: 744000 loss: 0.0028 lr: 0.001\n",
      "iteration: 745000 loss: 0.0028 lr: 0.001\n",
      "iteration: 746000 loss: 0.0028 lr: 0.001\n",
      "iteration: 747000 loss: 0.0028 lr: 0.001\n",
      "iteration: 748000 loss: 0.0028 lr: 0.001\n",
      "iteration: 749000 loss: 0.0028 lr: 0.001\n",
      "iteration: 750000 loss: 0.0027 lr: 0.001\n",
      "iteration: 751000 loss: 0.0028 lr: 0.001\n",
      "iteration: 752000 loss: 0.0028 lr: 0.001\n",
      "iteration: 753000 loss: 0.0027 lr: 0.001\n",
      "iteration: 754000 loss: 0.0028 lr: 0.001\n",
      "iteration: 755000 loss: 0.0027 lr: 0.001\n",
      "iteration: 756000 loss: 0.0027 lr: 0.001\n",
      "iteration: 757000 loss: 0.0027 lr: 0.001\n",
      "iteration: 758000 loss: 0.0027 lr: 0.001\n",
      "iteration: 759000 loss: 0.0028 lr: 0.001\n",
      "iteration: 760000 loss: 0.0029 lr: 0.001\n",
      "iteration: 761000 loss: 0.0028 lr: 0.001\n",
      "iteration: 762000 loss: 0.0028 lr: 0.001\n",
      "iteration: 763000 loss: 0.0027 lr: 0.001\n",
      "iteration: 764000 loss: 0.0028 lr: 0.001\n",
      "iteration: 765000 loss: 0.0028 lr: 0.001\n",
      "iteration: 766000 loss: 0.0028 lr: 0.001\n",
      "iteration: 767000 loss: 0.0027 lr: 0.001\n",
      "iteration: 768000 loss: 0.0028 lr: 0.001\n",
      "iteration: 769000 loss: 0.0027 lr: 0.001\n",
      "iteration: 770000 loss: 0.0027 lr: 0.001\n",
      "iteration: 771000 loss: 0.0029 lr: 0.001\n",
      "iteration: 772000 loss: 0.0027 lr: 0.001\n",
      "iteration: 773000 loss: 0.0029 lr: 0.001\n",
      "iteration: 774000 loss: 0.0027 lr: 0.001\n",
      "iteration: 775000 loss: 0.0030 lr: 0.001\n",
      "iteration: 776000 loss: 0.0027 lr: 0.001\n",
      "iteration: 777000 loss: 0.0027 lr: 0.001\n",
      "iteration: 778000 loss: 0.0028 lr: 0.001\n",
      "iteration: 779000 loss: 0.0029 lr: 0.001\n",
      "iteration: 780000 loss: 0.0028 lr: 0.001\n",
      "iteration: 781000 loss: 0.0026 lr: 0.001\n",
      "iteration: 782000 loss: 0.0026 lr: 0.001\n",
      "iteration: 783000 loss: 0.0027 lr: 0.001\n",
      "iteration: 784000 loss: 0.0028 lr: 0.001\n",
      "iteration: 785000 loss: 0.0028 lr: 0.001\n",
      "iteration: 786000 loss: 0.0029 lr: 0.001\n",
      "iteration: 787000 loss: 0.0027 lr: 0.001\n",
      "iteration: 788000 loss: 0.0027 lr: 0.001\n",
      "iteration: 789000 loss: 0.0028 lr: 0.001\n",
      "iteration: 790000 loss: 0.0027 lr: 0.001\n",
      "iteration: 791000 loss: 0.0028 lr: 0.001\n",
      "iteration: 792000 loss: 0.0028 lr: 0.001\n",
      "iteration: 793000 loss: 0.0028 lr: 0.001\n",
      "iteration: 794000 loss: 0.0027 lr: 0.001\n",
      "iteration: 795000 loss: 0.0026 lr: 0.001\n",
      "iteration: 796000 loss: 0.0029 lr: 0.001\n",
      "iteration: 797000 loss: 0.0028 lr: 0.001\n",
      "iteration: 798000 loss: 0.0027 lr: 0.001\n",
      "iteration: 799000 loss: 0.0028 lr: 0.001\n",
      "iteration: 800000 loss: 0.0028 lr: 0.001\n",
      "iteration: 801000 loss: 0.0028 lr: 0.001\n",
      "iteration: 802000 loss: 0.0028 lr: 0.001\n",
      "iteration: 803000 loss: 0.0028 lr: 0.001\n",
      "iteration: 804000 loss: 0.0028 lr: 0.001\n",
      "iteration: 805000 loss: 0.0029 lr: 0.001\n",
      "iteration: 806000 loss: 0.0027 lr: 0.001\n",
      "iteration: 807000 loss: 0.0027 lr: 0.001\n",
      "iteration: 808000 loss: 0.0027 lr: 0.001\n",
      "iteration: 809000 loss: 0.0027 lr: 0.001\n",
      "iteration: 810000 loss: 0.0027 lr: 0.001\n",
      "iteration: 811000 loss: 0.0029 lr: 0.001\n",
      "iteration: 812000 loss: 0.0029 lr: 0.001\n",
      "iteration: 813000 loss: 0.0027 lr: 0.001\n",
      "iteration: 814000 loss: 0.0028 lr: 0.001\n"
     ]
    },
    {
     "name": "stderr",
     "output_type": "stream",
     "text": [
      "iteration: 815000 loss: 0.0029 lr: 0.001\n",
      "iteration: 816000 loss: 0.0027 lr: 0.001\n",
      "iteration: 817000 loss: 0.0028 lr: 0.001\n",
      "iteration: 818000 loss: 0.0027 lr: 0.001\n",
      "iteration: 819000 loss: 0.0028 lr: 0.001\n",
      "iteration: 820000 loss: 0.0028 lr: 0.001\n",
      "iteration: 821000 loss: 0.0028 lr: 0.001\n",
      "iteration: 822000 loss: 0.0027 lr: 0.001\n",
      "iteration: 823000 loss: 0.0027 lr: 0.001\n",
      "iteration: 824000 loss: 0.0028 lr: 0.001\n",
      "iteration: 825000 loss: 0.0029 lr: 0.001\n",
      "iteration: 826000 loss: 0.0028 lr: 0.001\n",
      "iteration: 827000 loss: 0.0028 lr: 0.001\n",
      "iteration: 828000 loss: 0.0028 lr: 0.001\n",
      "iteration: 829000 loss: 0.0027 lr: 0.001\n",
      "iteration: 830000 loss: 0.0027 lr: 0.001\n",
      "iteration: 831000 loss: 0.0027 lr: 0.001\n",
      "iteration: 832000 loss: 0.0027 lr: 0.001\n",
      "iteration: 833000 loss: 0.0026 lr: 0.001\n",
      "iteration: 834000 loss: 0.0028 lr: 0.001\n",
      "iteration: 835000 loss: 0.0028 lr: 0.001\n",
      "iteration: 836000 loss: 0.0027 lr: 0.001\n",
      "iteration: 837000 loss: 0.0029 lr: 0.001\n",
      "iteration: 838000 loss: 0.0029 lr: 0.001\n",
      "iteration: 839000 loss: 0.0027 lr: 0.001\n",
      "iteration: 840000 loss: 0.0029 lr: 0.001\n",
      "iteration: 841000 loss: 0.0026 lr: 0.001\n",
      "iteration: 842000 loss: 0.0030 lr: 0.001\n",
      "iteration: 843000 loss: 0.0029 lr: 0.001\n",
      "iteration: 844000 loss: 0.0028 lr: 0.001\n",
      "iteration: 845000 loss: 0.0028 lr: 0.001\n",
      "iteration: 846000 loss: 0.0027 lr: 0.001\n",
      "iteration: 847000 loss: 0.0027 lr: 0.001\n",
      "iteration: 848000 loss: 0.0026 lr: 0.001\n",
      "iteration: 849000 loss: 0.0027 lr: 0.001\n",
      "iteration: 850000 loss: 0.0028 lr: 0.001\n",
      "iteration: 851000 loss: 0.0028 lr: 0.001\n",
      "iteration: 852000 loss: 0.0027 lr: 0.001\n",
      "iteration: 853000 loss: 0.0028 lr: 0.001\n",
      "iteration: 854000 loss: 0.0028 lr: 0.001\n",
      "iteration: 855000 loss: 0.0027 lr: 0.001\n",
      "iteration: 856000 loss: 0.0027 lr: 0.001\n",
      "iteration: 857000 loss: 0.0028 lr: 0.001\n",
      "iteration: 858000 loss: 0.0028 lr: 0.001\n",
      "iteration: 859000 loss: 0.0027 lr: 0.001\n",
      "iteration: 860000 loss: 0.0025 lr: 0.001\n",
      "iteration: 861000 loss: 0.0028 lr: 0.001\n",
      "iteration: 862000 loss: 0.0028 lr: 0.001\n",
      "iteration: 863000 loss: 0.0027 lr: 0.001\n",
      "iteration: 864000 loss: 0.0028 lr: 0.001\n",
      "iteration: 865000 loss: 0.0027 lr: 0.001\n",
      "iteration: 866000 loss: 0.0027 lr: 0.001\n",
      "iteration: 867000 loss: 0.0027 lr: 0.001\n",
      "iteration: 868000 loss: 0.0028 lr: 0.001\n",
      "iteration: 869000 loss: 0.0027 lr: 0.001\n",
      "iteration: 870000 loss: 0.0027 lr: 0.001\n",
      "iteration: 871000 loss: 0.0027 lr: 0.001\n",
      "iteration: 872000 loss: 0.0028 lr: 0.001\n",
      "iteration: 873000 loss: 0.0028 lr: 0.001\n",
      "iteration: 874000 loss: 0.0028 lr: 0.001\n",
      "iteration: 875000 loss: 0.0027 lr: 0.001\n",
      "iteration: 876000 loss: 0.0027 lr: 0.001\n",
      "iteration: 877000 loss: 0.0028 lr: 0.001\n",
      "iteration: 878000 loss: 0.0026 lr: 0.001\n",
      "iteration: 879000 loss: 0.0028 lr: 0.001\n",
      "iteration: 880000 loss: 0.0027 lr: 0.001\n",
      "iteration: 881000 loss: 0.0028 lr: 0.001\n",
      "iteration: 882000 loss: 0.0028 lr: 0.001\n",
      "iteration: 883000 loss: 0.0027 lr: 0.001\n",
      "iteration: 884000 loss: 0.0027 lr: 0.001\n",
      "iteration: 885000 loss: 0.0026 lr: 0.001\n",
      "iteration: 886000 loss: 0.0027 lr: 0.001\n",
      "iteration: 887000 loss: 0.0026 lr: 0.001\n",
      "iteration: 888000 loss: 0.0028 lr: 0.001\n",
      "iteration: 889000 loss: 0.0028 lr: 0.001\n",
      "iteration: 890000 loss: 0.0026 lr: 0.001\n",
      "iteration: 891000 loss: 0.0028 lr: 0.001\n",
      "iteration: 892000 loss: 0.0027 lr: 0.001\n",
      "iteration: 893000 loss: 0.0029 lr: 0.001\n",
      "iteration: 894000 loss: 0.0028 lr: 0.001\n",
      "iteration: 895000 loss: 0.0027 lr: 0.001\n",
      "iteration: 896000 loss: 0.0027 lr: 0.001\n",
      "iteration: 897000 loss: 0.0029 lr: 0.001\n",
      "iteration: 898000 loss: 0.0028 lr: 0.001\n",
      "iteration: 899000 loss: 0.0027 lr: 0.001\n",
      "iteration: 900000 loss: 0.0028 lr: 0.001\n",
      "iteration: 901000 loss: 0.0027 lr: 0.001\n",
      "iteration: 902000 loss: 0.0028 lr: 0.001\n",
      "iteration: 903000 loss: 0.0027 lr: 0.001\n",
      "iteration: 904000 loss: 0.0027 lr: 0.001\n",
      "iteration: 905000 loss: 0.0028 lr: 0.001\n",
      "iteration: 906000 loss: 0.0027 lr: 0.001\n",
      "iteration: 907000 loss: 0.0027 lr: 0.001\n",
      "iteration: 908000 loss: 0.0028 lr: 0.001\n",
      "iteration: 909000 loss: 0.0027 lr: 0.001\n",
      "iteration: 910000 loss: 0.0028 lr: 0.001\n",
      "iteration: 911000 loss: 0.0026 lr: 0.001\n",
      "iteration: 912000 loss: 0.0029 lr: 0.001\n",
      "iteration: 913000 loss: 0.0027 lr: 0.001\n",
      "iteration: 914000 loss: 0.0027 lr: 0.001\n",
      "iteration: 915000 loss: 0.0028 lr: 0.001\n",
      "iteration: 916000 loss: 0.0028 lr: 0.001\n",
      "iteration: 917000 loss: 0.0027 lr: 0.001\n",
      "iteration: 918000 loss: 0.0028 lr: 0.001\n",
      "iteration: 919000 loss: 0.0028 lr: 0.001\n",
      "iteration: 920000 loss: 0.0027 lr: 0.001\n",
      "iteration: 921000 loss: 0.0027 lr: 0.001\n",
      "iteration: 922000 loss: 0.0028 lr: 0.001\n",
      "iteration: 923000 loss: 0.0028 lr: 0.001\n",
      "iteration: 924000 loss: 0.0027 lr: 0.001\n",
      "iteration: 925000 loss: 0.0028 lr: 0.001\n",
      "iteration: 926000 loss: 0.0027 lr: 0.001\n",
      "iteration: 927000 loss: 0.0027 lr: 0.001\n",
      "iteration: 928000 loss: 0.0027 lr: 0.001\n",
      "iteration: 929000 loss: 0.0027 lr: 0.001\n",
      "iteration: 930000 loss: 0.0027 lr: 0.001\n",
      "iteration: 931000 loss: 0.0027 lr: 0.001\n",
      "iteration: 932000 loss: 0.0027 lr: 0.001\n",
      "iteration: 933000 loss: 0.0028 lr: 0.001\n",
      "iteration: 934000 loss: 0.0027 lr: 0.001\n",
      "iteration: 935000 loss: 0.0027 lr: 0.001\n",
      "iteration: 936000 loss: 0.0029 lr: 0.001\n",
      "iteration: 937000 loss: 0.0027 lr: 0.001\n",
      "iteration: 938000 loss: 0.0027 lr: 0.001\n",
      "iteration: 939000 loss: 0.0028 lr: 0.001\n",
      "iteration: 940000 loss: 0.0029 lr: 0.001\n",
      "iteration: 941000 loss: 0.0027 lr: 0.001\n",
      "iteration: 942000 loss: 0.0028 lr: 0.001\n",
      "iteration: 943000 loss: 0.0027 lr: 0.001\n",
      "iteration: 944000 loss: 0.0026 lr: 0.001\n",
      "iteration: 945000 loss: 0.0028 lr: 0.001\n",
      "iteration: 946000 loss: 0.0028 lr: 0.001\n",
      "iteration: 947000 loss: 0.0025 lr: 0.001\n",
      "iteration: 948000 loss: 0.0027 lr: 0.001\n",
      "iteration: 949000 loss: 0.0026 lr: 0.001\n",
      "iteration: 950000 loss: 0.0027 lr: 0.001\n",
      "iteration: 951000 loss: 0.0028 lr: 0.001\n",
      "iteration: 952000 loss: 0.0028 lr: 0.001\n",
      "iteration: 953000 loss: 0.0029 lr: 0.001\n",
      "iteration: 954000 loss: 0.0027 lr: 0.001\n",
      "iteration: 955000 loss: 0.0027 lr: 0.001\n",
      "iteration: 956000 loss: 0.0027 lr: 0.001\n",
      "iteration: 957000 loss: 0.0026 lr: 0.001\n",
      "iteration: 958000 loss: 0.0028 lr: 0.001\n",
      "iteration: 959000 loss: 0.0028 lr: 0.001\n",
      "iteration: 960000 loss: 0.0027 lr: 0.001\n",
      "iteration: 961000 loss: 0.0028 lr: 0.001\n",
      "iteration: 962000 loss: 0.0027 lr: 0.001\n",
      "iteration: 963000 loss: 0.0028 lr: 0.001\n",
      "iteration: 964000 loss: 0.0025 lr: 0.001\n",
      "iteration: 965000 loss: 0.0026 lr: 0.001\n",
      "iteration: 966000 loss: 0.0027 lr: 0.001\n",
      "iteration: 967000 loss: 0.0026 lr: 0.001\n",
      "iteration: 968000 loss: 0.0026 lr: 0.001\n",
      "iteration: 969000 loss: 0.0026 lr: 0.001\n",
      "iteration: 970000 loss: 0.0027 lr: 0.001\n",
      "iteration: 971000 loss: 0.0026 lr: 0.001\n",
      "iteration: 972000 loss: 0.0028 lr: 0.001\n",
      "iteration: 973000 loss: 0.0027 lr: 0.001\n",
      "iteration: 974000 loss: 0.0026 lr: 0.001\n",
      "iteration: 975000 loss: 0.0028 lr: 0.001\n",
      "iteration: 976000 loss: 0.0027 lr: 0.001\n",
      "iteration: 977000 loss: 0.0028 lr: 0.001\n",
      "iteration: 978000 loss: 0.0028 lr: 0.001\n",
      "iteration: 979000 loss: 0.0026 lr: 0.001\n",
      "iteration: 980000 loss: 0.0027 lr: 0.001\n",
      "iteration: 981000 loss: 0.0028 lr: 0.001\n",
      "iteration: 982000 loss: 0.0027 lr: 0.001\n",
      "iteration: 983000 loss: 0.0028 lr: 0.001\n",
      "iteration: 984000 loss: 0.0027 lr: 0.001\n",
      "iteration: 985000 loss: 0.0026 lr: 0.001\n",
      "iteration: 986000 loss: 0.0029 lr: 0.001\n",
      "iteration: 987000 loss: 0.0027 lr: 0.001\n",
      "iteration: 988000 loss: 0.0027 lr: 0.001\n",
      "iteration: 989000 loss: 0.0028 lr: 0.001\n",
      "iteration: 990000 loss: 0.0028 lr: 0.001\n",
      "iteration: 991000 loss: 0.0027 lr: 0.001\n",
      "iteration: 992000 loss: 0.0027 lr: 0.001\n",
      "iteration: 993000 loss: 0.0027 lr: 0.001\n",
      "iteration: 994000 loss: 0.0027 lr: 0.001\n",
      "iteration: 995000 loss: 0.0028 lr: 0.001\n",
      "iteration: 996000 loss: 0.0028 lr: 0.001\n",
      "iteration: 997000 loss: 0.0027 lr: 0.001\n",
      "iteration: 998000 loss: 0.0026 lr: 0.001\n",
      "iteration: 999000 loss: 0.0027 lr: 0.001\n",
      "iteration: 1000000 loss: 0.0028 lr: 0.001\n",
      "Exception in thread Thread-7:\n",
      "Traceback (most recent call last):\n",
      "  File \"C:\\Users\\zacha\\anaconda3\\envs\\dlc-gpu1\\lib\\site-packages\\tensorflow\\python\\client\\session.py\", line 1378, in _do_call\n",
      "    return fn(*args)\n",
      "  File \"C:\\Users\\zacha\\anaconda3\\envs\\dlc-gpu1\\lib\\site-packages\\tensorflow\\python\\client\\session.py\", line 1361, in _run_fn\n",
      "    return self._call_tf_sessionrun(options, feed_dict, fetch_list,\n",
      "  File \"C:\\Users\\zacha\\anaconda3\\envs\\dlc-gpu1\\lib\\site-packages\\tensorflow\\python\\client\\session.py\", line 1454, in _call_tf_sessionrun\n",
      "    return tf_session.TF_SessionRun_wrapper(self._session, options, feed_dict,\n",
      "tensorflow.python.framework.errors_impl.CancelledError: Enqueue operation was cancelled\n",
      "\t [[{{node fifo_queue_enqueue}}]]\n",
      "\n",
      "During handling of the above exception, another exception occurred:\n",
      "\n",
      "Traceback (most recent call last):\n",
      "  File \"C:\\Users\\zacha\\anaconda3\\envs\\dlc-gpu1\\lib\\threading.py\", line 932, in _bootstrap_inner\n",
      "    self.run()\n",
      "  File \"C:\\Users\\zacha\\anaconda3\\envs\\dlc-gpu1\\lib\\threading.py\", line 870, in run\n",
      "    self._target(*self._args, **self._kwargs)\n",
      "  File \"C:\\Users\\zacha\\anaconda3\\envs\\dlc-gpu1\\lib\\site-packages\\deeplabcut\\pose_estimation_tensorflow\\core\\train.py\", line 85, in load_and_enqueue\n",
      "    sess.run(enqueue_op, feed_dict=food)\n",
      "  File \"C:\\Users\\zacha\\anaconda3\\envs\\dlc-gpu1\\lib\\site-packages\\tensorflow\\python\\client\\session.py\", line 968, in run\n",
      "    result = self._run(None, fetches, feed_dict, options_ptr,\n",
      "  File \"C:\\Users\\zacha\\anaconda3\\envs\\dlc-gpu1\\lib\\site-packages\\tensorflow\\python\\client\\session.py\", line 1191, in _run\n",
      "    results = self._do_run(handle, final_targets, final_fetches,\n",
      "  File \"C:\\Users\\zacha\\anaconda3\\envs\\dlc-gpu1\\lib\\site-packages\\tensorflow\\python\\client\\session.py\", line 1371, in _do_run\n",
      "    return self._do_call(_run_fn, feeds, fetches, targets, options,\n",
      "  File \"C:\\Users\\zacha\\anaconda3\\envs\\dlc-gpu1\\lib\\site-packages\\tensorflow\\python\\client\\session.py\", line 1397, in _do_call\n",
      "    raise type(e)(node_def, op, message)  # pylint: disable=no-value-for-parameter\n",
      "tensorflow.python.framework.errors_impl.CancelledError: Graph execution error:\n",
      "\n",
      "Detected at node 'fifo_queue_enqueue' defined at (most recent call last):\n",
      "    File \"C:\\Users\\zacha\\anaconda3\\envs\\dlc-gpu1\\lib\\runpy.py\", line 194, in _run_module_as_main\n",
      "      return _run_code(code, main_globals, None,\n",
      "    File \"C:\\Users\\zacha\\anaconda3\\envs\\dlc-gpu1\\lib\\runpy.py\", line 87, in _run_code\n",
      "      exec(code, run_globals)\n",
      "    File \"C:\\Users\\zacha\\anaconda3\\envs\\dlc-gpu1\\lib\\site-packages\\ipykernel_launcher.py\", line 17, in <module>\n",
      "      app.launch_new_instance()\n",
      "    File \"C:\\Users\\zacha\\anaconda3\\envs\\dlc-gpu1\\lib\\site-packages\\traitlets\\config\\application.py\", line 1043, in launch_instance\n",
      "      app.start()\n",
      "    File \"C:\\Users\\zacha\\anaconda3\\envs\\dlc-gpu1\\lib\\site-packages\\ipykernel\\kernelapp.py\", line 728, in start\n",
      "      self.io_loop.start()\n",
      "    File \"C:\\Users\\zacha\\anaconda3\\envs\\dlc-gpu1\\lib\\site-packages\\tornado\\platform\\asyncio.py\", line 215, in start\n",
      "      self.asyncio_loop.run_forever()\n",
      "    File \"C:\\Users\\zacha\\anaconda3\\envs\\dlc-gpu1\\lib\\asyncio\\base_events.py\", line 570, in run_forever\n",
      "      self._run_once()\n",
      "    File \"C:\\Users\\zacha\\anaconda3\\envs\\dlc-gpu1\\lib\\asyncio\\base_events.py\", line 1859, in _run_once\n",
      "      handle._run()\n",
      "    File \"C:\\Users\\zacha\\anaconda3\\envs\\dlc-gpu1\\lib\\asyncio\\events.py\", line 81, in _run\n",
      "      self._context.run(self._callback, *self._args)\n",
      "    File \"C:\\Users\\zacha\\anaconda3\\envs\\dlc-gpu1\\lib\\site-packages\\ipykernel\\kernelbase.py\", line 513, in dispatch_queue\n",
      "      await self.process_one()\n",
      "    File \"C:\\Users\\zacha\\anaconda3\\envs\\dlc-gpu1\\lib\\site-packages\\ipykernel\\kernelbase.py\", line 502, in process_one\n",
      "      await dispatch(*args)\n",
      "    File \"C:\\Users\\zacha\\anaconda3\\envs\\dlc-gpu1\\lib\\site-packages\\ipykernel\\kernelbase.py\", line 409, in dispatch_shell\n",
      "      await result\n",
      "    File \"C:\\Users\\zacha\\anaconda3\\envs\\dlc-gpu1\\lib\\site-packages\\ipykernel\\kernelbase.py\", line 729, in execute_request\n",
      "      reply_content = await reply_content\n",
      "    File \"C:\\Users\\zacha\\anaconda3\\envs\\dlc-gpu1\\lib\\site-packages\\ipykernel\\ipkernel.py\", line 423, in do_execute\n",
      "      res = shell.run_cell(\n",
      "    File \"C:\\Users\\zacha\\anaconda3\\envs\\dlc-gpu1\\lib\\site-packages\\ipykernel\\zmqshell.py\", line 540, in run_cell\n",
      "      return super().run_cell(*args, **kwargs)\n",
      "    File \"C:\\Users\\zacha\\anaconda3\\envs\\dlc-gpu1\\lib\\site-packages\\IPython\\core\\interactiveshell.py\", line 2945, in run_cell\n",
      "      result = self._run_cell(\n",
      "    File \"C:\\Users\\zacha\\anaconda3\\envs\\dlc-gpu1\\lib\\site-packages\\IPython\\core\\interactiveshell.py\", line 3000, in _run_cell\n",
      "      return runner(coro)\n",
      "    File \"C:\\Users\\zacha\\anaconda3\\envs\\dlc-gpu1\\lib\\site-packages\\IPython\\core\\async_helpers.py\", line 129, in _pseudo_sync_runner\n",
      "      coro.send(None)\n",
      "    File \"C:\\Users\\zacha\\anaconda3\\envs\\dlc-gpu1\\lib\\site-packages\\IPython\\core\\interactiveshell.py\", line 3203, in run_cell_async\n",
      "      has_raised = await self.run_ast_nodes(code_ast.body, cell_name,\n",
      "    File \"C:\\Users\\zacha\\anaconda3\\envs\\dlc-gpu1\\lib\\site-packages\\IPython\\core\\interactiveshell.py\", line 3382, in run_ast_nodes\n",
      "      if await self.run_code(code, result, async_=asy):\n",
      "    File \"C:\\Users\\zacha\\anaconda3\\envs\\dlc-gpu1\\lib\\site-packages\\IPython\\core\\interactiveshell.py\", line 3442, in run_code\n",
      "      exec(code_obj, self.user_global_ns, self.user_ns)\n",
      "    File \"C:\\Users\\zacha\\AppData\\Local\\Temp\\ipykernel_2536\\389748808.py\", line 1, in <module>\n",
      "      deeplabcut.train_network(\n",
      "    File \"C:\\Users\\zacha\\anaconda3\\envs\\dlc-gpu1\\lib\\site-packages\\deeplabcut\\pose_estimation_tensorflow\\training.py\", line 212, in train_network\n",
      "      train(\n",
      "    File \"C:\\Users\\zacha\\anaconda3\\envs\\dlc-gpu1\\lib\\site-packages\\deeplabcut\\pose_estimation_tensorflow\\core\\train.py\", line 171, in train\n",
      "      batch, enqueue_op, placeholders = setup_preloading(batch_spec)\n",
      "    File \"C:\\Users\\zacha\\anaconda3\\envs\\dlc-gpu1\\lib\\site-packages\\deeplabcut\\pose_estimation_tensorflow\\core\\train.py\", line 71, in setup_preloading\n",
      "      enqueue_op = q.enqueue(placeholders_list)\n",
      "Node: 'fifo_queue_enqueue'\n",
      "Enqueue operation was cancelled\n",
      "\t [[{{node fifo_queue_enqueue}}]]\n",
      "\n",
      "Original stack trace for 'fifo_queue_enqueue':\n",
      "  File \"C:\\Users\\zacha\\anaconda3\\envs\\dlc-gpu1\\lib\\runpy.py\", line 194, in _run_module_as_main\n",
      "    return _run_code(code, main_globals, None,\n",
      "  File \"C:\\Users\\zacha\\anaconda3\\envs\\dlc-gpu1\\lib\\runpy.py\", line 87, in _run_code\n",
      "    exec(code, run_globals)\n",
      "  File \"C:\\Users\\zacha\\anaconda3\\envs\\dlc-gpu1\\lib\\site-packages\\ipykernel_launcher.py\", line 17, in <module>\n",
      "    app.launch_new_instance()\n",
      "  File \"C:\\Users\\zacha\\anaconda3\\envs\\dlc-gpu1\\lib\\site-packages\\traitlets\\config\\application.py\", line 1043, in launch_instance\n",
      "    app.start()\n",
      "  File \"C:\\Users\\zacha\\anaconda3\\envs\\dlc-gpu1\\lib\\site-packages\\ipykernel\\kernelapp.py\", line 728, in start\n",
      "    self.io_loop.start()\n",
      "  File \"C:\\Users\\zacha\\anaconda3\\envs\\dlc-gpu1\\lib\\site-packages\\tornado\\platform\\asyncio.py\", line 215, in start\n",
      "    self.asyncio_loop.run_forever()\n",
      "  File \"C:\\Users\\zacha\\anaconda3\\envs\\dlc-gpu1\\lib\\asyncio\\base_events.py\", line 570, in run_forever\n",
      "    self._run_once()\n",
      "  File \"C:\\Users\\zacha\\anaconda3\\envs\\dlc-gpu1\\lib\\asyncio\\base_events.py\", line 1859, in _run_once\n",
      "    handle._run()\n",
      "  File \"C:\\Users\\zacha\\anaconda3\\envs\\dlc-gpu1\\lib\\asyncio\\events.py\", line 81, in _run\n",
      "    self._context.run(self._callback, *self._args)\n",
      "  File \"C:\\Users\\zacha\\anaconda3\\envs\\dlc-gpu1\\lib\\site-packages\\ipykernel\\kernelbase.py\", line 513, in dispatch_queue\n",
      "    await self.process_one()\n",
      "  File \"C:\\Users\\zacha\\anaconda3\\envs\\dlc-gpu1\\lib\\site-packages\\ipykernel\\kernelbase.py\", line 502, in process_one\n",
      "    await dispatch(*args)\n",
      "  File \"C:\\Users\\zacha\\anaconda3\\envs\\dlc-gpu1\\lib\\site-packages\\ipykernel\\kernelbase.py\", line 409, in dispatch_shell\n",
      "    await result\n",
      "  File \"C:\\Users\\zacha\\anaconda3\\envs\\dlc-gpu1\\lib\\site-packages\\ipykernel\\kernelbase.py\", line 729, in execute_request\n",
      "    reply_content = await reply_content\n",
      "  File \"C:\\Users\\zacha\\anaconda3\\envs\\dlc-gpu1\\lib\\site-packages\\ipykernel\\ipkernel.py\", line 423, in do_execute\n",
      "    res = shell.run_cell(\n",
      "  File \"C:\\Users\\zacha\\anaconda3\\envs\\dlc-gpu1\\lib\\site-packages\\ipykernel\\zmqshell.py\", line 540, in run_cell\n",
      "    return super().run_cell(*args, **kwargs)\n",
      "  File \"C:\\Users\\zacha\\anaconda3\\envs\\dlc-gpu1\\lib\\site-packages\\IPython\\core\\interactiveshell.py\", line 2945, in run_cell\n",
      "    result = self._run_cell(\n",
      "  File \"C:\\Users\\zacha\\anaconda3\\envs\\dlc-gpu1\\lib\\site-packages\\IPython\\core\\interactiveshell.py\", line 3000, in _run_cell\n",
      "    return runner(coro)\n",
      "  File \"C:\\Users\\zacha\\anaconda3\\envs\\dlc-gpu1\\lib\\site-packages\\IPython\\core\\async_helpers.py\", line 129, in _pseudo_sync_runner\n",
      "    coro.send(None)\n",
      "  File \"C:\\Users\\zacha\\anaconda3\\envs\\dlc-gpu1\\lib\\site-packages\\IPython\\core\\interactiveshell.py\", line 3203, in run_cell_async\n",
      "    has_raised = await self.run_ast_nodes(code_ast.body, cell_name,\n",
      "  File \"C:\\Users\\zacha\\anaconda3\\envs\\dlc-gpu1\\lib\\site-packages\\IPython\\core\\interactiveshell.py\", line 3382, in run_ast_nodes\n",
      "    if await self.run_code(code, result, async_=asy):\n",
      "  File \"C:\\Users\\zacha\\anaconda3\\envs\\dlc-gpu1\\lib\\site-packages\\IPython\\core\\interactiveshell.py\", line 3442, in run_code\n",
      "    exec(code_obj, self.user_global_ns, self.user_ns)\n",
      "  File \"C:\\Users\\zacha\\AppData\\Local\\Temp\\ipykernel_2536\\389748808.py\", line 1, in <module>\n",
      "    deeplabcut.train_network(\n",
      "  File \"C:\\Users\\zacha\\anaconda3\\envs\\dlc-gpu1\\lib\\site-packages\\deeplabcut\\pose_estimation_tensorflow\\training.py\", line 212, in train_network\n",
      "    train(\n",
      "  File \"C:\\Users\\zacha\\anaconda3\\envs\\dlc-gpu1\\lib\\site-packages\\deeplabcut\\pose_estimation_tensorflow\\core\\train.py\", line 171, in train\n",
      "    batch, enqueue_op, placeholders = setup_preloading(batch_spec)\n",
      "  File \"C:\\Users\\zacha\\anaconda3\\envs\\dlc-gpu1\\lib\\site-packages\\deeplabcut\\pose_estimation_tensorflow\\core\\train.py\", line 71, in setup_preloading\n",
      "    enqueue_op = q.enqueue(placeholders_list)\n",
      "  File \"C:\\Users\\zacha\\anaconda3\\envs\\dlc-gpu1\\lib\\site-packages\\tensorflow\\python\\ops\\data_flow_ops.py\", line 346, in enqueue\n",
      "    return gen_data_flow_ops.queue_enqueue_v2(\n",
      "  File \"C:\\Users\\zacha\\anaconda3\\envs\\dlc-gpu1\\lib\\site-packages\\tensorflow\\python\\ops\\gen_data_flow_ops.py\", line 4062, in queue_enqueue_v2\n",
      "    _, _, _op, _outputs = _op_def_library._apply_op_helper(\n",
      "  File \"C:\\Users\\zacha\\anaconda3\\envs\\dlc-gpu1\\lib\\site-packages\\tensorflow\\python\\framework\\op_def_library.py\", line 797, in _apply_op_helper\n",
      "    op = g._create_op_internal(op_type_name, inputs, dtypes=None,\n",
      "  File \"C:\\Users\\zacha\\anaconda3\\envs\\dlc-gpu1\\lib\\site-packages\\tensorflow\\python\\framework\\ops.py\", line 3800, in _create_op_internal\n",
      "    ret = Operation(\n",
      "\n"
     ]
    },
    {
     "name": "stdout",
     "output_type": "stream",
     "text": [
      "The network is now trained and ready to evaluate. Use the function 'evaluate_network' to evaluate the network.\n"
     ]
    }
   ],
   "source": [
    "deeplabcut.train_network(\n",
    "    config_path,\n",
    "    shuffle=2,\n",
    "    trainingsetindex=0,\n",
    "    max_snapshots_to_keep=5,\n",
    "    displayiters=1000,\n",
    "    saveiters=10000,\n",
    "    maxiters=1000000,\n",
    "    allow_growth=True,\n",
    "    gputouse=notebook_gpu,\n",
    "    autotune=False,\n",
    "    keepdeconvweights=True,\n",
    "    modelprefix='',\n",
    ")"
   ]
  },
  {
   "cell_type": "code",
   "execution_count": 7,
   "id": "e7e6505e",
   "metadata": {},
   "outputs": [
    {
     "name": "stderr",
     "output_type": "stream",
     "text": [
      "Config:\n",
      "{'all_joints': [[0], [1], [2], [3], [4], [5], [6], [7], [8], [9]],\n",
      " 'all_joints_names': ['RKNE',\n",
      "                      'RANK',\n",
      "                      'RD3M',\n",
      "                      'RD1M',\n",
      "                      'RHLX',\n",
      "                      'LHLX',\n",
      "                      'LD1M',\n",
      "                      'LD3M',\n",
      "                      'LANK',\n",
      "                      'LKNE'],\n",
      " 'alpha_r': 0.02,\n",
      " 'apply_prob': 0.5,\n",
      " 'batch_size': 1,\n",
      " 'contrast': {'clahe': True,\n",
      "              'claheratio': 0.1,\n",
      "              'histeq': True,\n",
      "              'histeqratio': 0.1},\n",
      " 'convolution': {'edge': False,\n",
      "                 'emboss': {'alpha': [0.0, 1.0], 'strength': [0.5, 1.5]},\n",
      "                 'embossratio': 0.1,\n",
      "                 'sharpen': False,\n",
      "                 'sharpenratio': 0.3},\n",
      " 'crop_pad': 0,\n",
      " 'cropratio': 0.4,\n",
      " 'dataset': 'training-datasets\\\\iteration-0\\\\UnaugmentedDataSet_AVI-DYS-lower-limbApr19\\\\AVI-DYS-lower-limb_zach_roth95shuffle3.mat',\n",
      " 'dataset_type': 'imgaug',\n",
      " 'decay_steps': 30000,\n",
      " 'deterministic': False,\n",
      " 'display_iters': 1000,\n",
      " 'fg_fraction': 0.25,\n",
      " 'global_scale': 0.8,\n",
      " 'init_weights': 'C:\\\\Users\\\\zacha\\\\anaconda3\\\\envs\\\\dlc-gpu1\\\\lib\\\\site-packages\\\\deeplabcut\\\\pose_estimation_tensorflow\\\\models\\\\pretrained\\\\resnet_v1_152.ckpt',\n",
      " 'intermediate_supervision': False,\n",
      " 'intermediate_supervision_layer': 12,\n",
      " 'location_refinement': True,\n",
      " 'locref_huber_loss': True,\n",
      " 'locref_loss_weight': 0.05,\n",
      " 'locref_stdev': 7.2801,\n",
      " 'log_dir': 'log',\n",
      " 'lr_init': 0.0005,\n",
      " 'max_input_size': 1500,\n",
      " 'mean_pixel': [123.68, 116.779, 103.939],\n",
      " 'metadataset': 'training-datasets\\\\iteration-0\\\\UnaugmentedDataSet_AVI-DYS-lower-limbApr19\\\\Documentation_data-AVI-DYS-lower-limb_95shuffle3.pickle',\n",
      " 'min_input_size': 64,\n",
      " 'mirror': False,\n",
      " 'multi_stage': False,\n",
      " 'multi_step': [[0.005, 10000],\n",
      "                [0.02, 430000],\n",
      "                [0.002, 730000],\n",
      "                [0.001, 1030000]],\n",
      " 'net_type': 'resnet_152',\n",
      " 'num_joints': 10,\n",
      " 'optimizer': 'sgd',\n",
      " 'pairwise_huber_loss': False,\n",
      " 'pairwise_predict': False,\n",
      " 'partaffinityfield_predict': False,\n",
      " 'pos_dist_thresh': 17,\n",
      " 'project_path': 'C:\\\\Users\\\\zacha\\\\Repos\\\\AVI-DYS\\\\AVI-DYS-lower-limb-zach_roth-2023-04-19',\n",
      " 'regularize': False,\n",
      " 'rotation': 25,\n",
      " 'rotratio': 0.4,\n",
      " 'save_iters': 50000,\n",
      " 'scale_jitter_lo': 0.5,\n",
      " 'scale_jitter_up': 1.25,\n",
      " 'scoremap_dir': 'test',\n",
      " 'shuffle': True,\n",
      " 'snapshot_prefix': 'C:\\\\Users\\\\zacha\\\\Repos\\\\AVI-DYS\\\\AVI-DYS-lower-limb-zach_roth-2023-04-19\\\\dlc-models\\\\iteration-0\\\\AVI-DYS-lower-limbApr19-trainset95shuffle3\\\\train\\\\snapshot',\n",
      " 'stride': 8.0,\n",
      " 'weigh_negatives': False,\n",
      " 'weigh_only_present_joints': False,\n",
      " 'weigh_part_predictions': False,\n",
      " 'weight_decay': 0.0001}\n"
     ]
    },
    {
     "name": "stdout",
     "output_type": "stream",
     "text": [
      "Selecting single-animal trainer\n",
      "Batch Size is 1\n",
      "Loading ImageNet-pretrained resnet_152\n",
      "Max_iters overwritten as 1000000\n",
      "Display_iters overwritten as 1000\n",
      "Save_iters overwritten as 10000\n",
      "Training parameter:\n",
      "{'stride': 8.0, 'weigh_part_predictions': False, 'weigh_negatives': False, 'fg_fraction': 0.25, 'mean_pixel': [123.68, 116.779, 103.939], 'shuffle': True, 'snapshot_prefix': 'C:\\\\Users\\\\zacha\\\\Repos\\\\AVI-DYS\\\\AVI-DYS-lower-limb-zach_roth-2023-04-19\\\\dlc-models\\\\iteration-0\\\\AVI-DYS-lower-limbApr19-trainset95shuffle3\\\\train\\\\snapshot', 'log_dir': 'log', 'global_scale': 0.8, 'location_refinement': True, 'locref_stdev': 7.2801, 'locref_loss_weight': 0.05, 'locref_huber_loss': True, 'optimizer': 'sgd', 'intermediate_supervision': False, 'intermediate_supervision_layer': 12, 'regularize': False, 'weight_decay': 0.0001, 'crop_pad': 0, 'scoremap_dir': 'test', 'batch_size': 1, 'dataset_type': 'imgaug', 'deterministic': False, 'mirror': False, 'pairwise_huber_loss': False, 'weigh_only_present_joints': False, 'partaffinityfield_predict': False, 'pairwise_predict': False, 'all_joints': [[0], [1], [2], [3], [4], [5], [6], [7], [8], [9]], 'all_joints_names': ['RKNE', 'RANK', 'RD3M', 'RD1M', 'RHLX', 'LHLX', 'LD1M', 'LD3M', 'LANK', 'LKNE'], 'alpha_r': 0.02, 'apply_prob': 0.5, 'contrast': {'clahe': True, 'claheratio': 0.1, 'histeq': True, 'histeqratio': 0.1, 'gamma': False, 'sigmoid': False, 'log': False, 'linear': False}, 'convolution': {'edge': False, 'emboss': {'alpha': [0.0, 1.0], 'strength': [0.5, 1.5]}, 'embossratio': 0.1, 'sharpen': False, 'sharpenratio': 0.3}, 'cropratio': 0.4, 'dataset': 'training-datasets\\\\iteration-0\\\\UnaugmentedDataSet_AVI-DYS-lower-limbApr19\\\\AVI-DYS-lower-limb_zach_roth95shuffle3.mat', 'decay_steps': 30000, 'display_iters': 1000, 'init_weights': 'C:\\\\Users\\\\zacha\\\\anaconda3\\\\envs\\\\dlc-gpu1\\\\lib\\\\site-packages\\\\deeplabcut\\\\pose_estimation_tensorflow\\\\models\\\\pretrained\\\\resnet_v1_152.ckpt', 'lr_init': 0.0005, 'max_input_size': 1500, 'metadataset': 'training-datasets\\\\iteration-0\\\\UnaugmentedDataSet_AVI-DYS-lower-limbApr19\\\\Documentation_data-AVI-DYS-lower-limb_95shuffle3.pickle', 'min_input_size': 64, 'multi_stage': False, 'multi_step': [[0.005, 10000], [0.02, 430000], [0.002, 730000], [0.001, 1030000]], 'net_type': 'resnet_152', 'num_joints': 10, 'pos_dist_thresh': 17, 'project_path': 'C:\\\\Users\\\\zacha\\\\Repos\\\\AVI-DYS\\\\AVI-DYS-lower-limb-zach_roth-2023-04-19', 'rotation': 25, 'rotratio': 0.4, 'save_iters': 50000, 'scale_jitter_lo': 0.5, 'scale_jitter_up': 1.25, 'covering': True, 'elastic_transform': True, 'motion_blur': True, 'motion_blur_params': {'k': 7, 'angle': (-90, 90)}}\n",
      "Starting training....\n"
     ]
    },
    {
     "name": "stderr",
     "output_type": "stream",
     "text": [
      "iteration: 1000 loss: 0.0383 lr: 0.005\n",
      "iteration: 2000 loss: 0.0264 lr: 0.005\n",
      "iteration: 3000 loss: 0.0214 lr: 0.005\n",
      "iteration: 4000 loss: 0.0198 lr: 0.005\n",
      "iteration: 5000 loss: 0.0174 lr: 0.005\n",
      "iteration: 6000 loss: 0.0160 lr: 0.005\n",
      "iteration: 7000 loss: 0.0152 lr: 0.005\n",
      "iteration: 8000 loss: 0.0152 lr: 0.005\n",
      "iteration: 9000 loss: 0.0143 lr: 0.005\n",
      "iteration: 10000 loss: 0.0134 lr: 0.005\n",
      "iteration: 11000 loss: 0.0168 lr: 0.02\n",
      "iteration: 12000 loss: 0.0152 lr: 0.02\n",
      "iteration: 13000 loss: 0.0148 lr: 0.02\n",
      "iteration: 14000 loss: 0.0132 lr: 0.02\n",
      "iteration: 15000 loss: 0.0131 lr: 0.02\n",
      "iteration: 16000 loss: 0.0127 lr: 0.02\n",
      "iteration: 17000 loss: 0.0123 lr: 0.02\n",
      "iteration: 18000 loss: 0.0117 lr: 0.02\n",
      "iteration: 19000 loss: 0.0106 lr: 0.02\n",
      "iteration: 20000 loss: 0.0107 lr: 0.02\n",
      "iteration: 21000 loss: 0.0101 lr: 0.02\n",
      "iteration: 22000 loss: 0.0100 lr: 0.02\n",
      "iteration: 23000 loss: 0.0103 lr: 0.02\n",
      "iteration: 24000 loss: 0.0098 lr: 0.02\n",
      "iteration: 25000 loss: 0.0101 lr: 0.02\n",
      "iteration: 26000 loss: 0.0093 lr: 0.02\n",
      "iteration: 27000 loss: 0.0096 lr: 0.02\n",
      "iteration: 28000 loss: 0.0093 lr: 0.02\n",
      "iteration: 29000 loss: 0.0093 lr: 0.02\n",
      "iteration: 30000 loss: 0.0093 lr: 0.02\n",
      "iteration: 31000 loss: 0.0089 lr: 0.02\n",
      "iteration: 32000 loss: 0.0087 lr: 0.02\n",
      "iteration: 33000 loss: 0.0088 lr: 0.02\n",
      "iteration: 34000 loss: 0.0089 lr: 0.02\n",
      "iteration: 35000 loss: 0.0082 lr: 0.02\n",
      "iteration: 36000 loss: 0.0084 lr: 0.02\n",
      "iteration: 37000 loss: 0.0084 lr: 0.02\n",
      "iteration: 38000 loss: 0.0088 lr: 0.02\n",
      "iteration: 39000 loss: 0.0082 lr: 0.02\n",
      "iteration: 40000 loss: 0.0081 lr: 0.02\n",
      "iteration: 41000 loss: 0.0084 lr: 0.02\n",
      "iteration: 42000 loss: 0.0082 lr: 0.02\n",
      "iteration: 43000 loss: 0.0082 lr: 0.02\n",
      "iteration: 44000 loss: 0.0076 lr: 0.02\n",
      "iteration: 45000 loss: 0.0079 lr: 0.02\n",
      "iteration: 46000 loss: 0.0078 lr: 0.02\n",
      "iteration: 47000 loss: 0.0080 lr: 0.02\n",
      "iteration: 48000 loss: 0.0081 lr: 0.02\n",
      "iteration: 49000 loss: 0.0077 lr: 0.02\n",
      "iteration: 50000 loss: 0.0073 lr: 0.02\n",
      "iteration: 51000 loss: 0.0075 lr: 0.02\n",
      "iteration: 52000 loss: 0.0075 lr: 0.02\n",
      "iteration: 53000 loss: 0.0074 lr: 0.02\n",
      "iteration: 54000 loss: 0.0076 lr: 0.02\n",
      "iteration: 55000 loss: 0.0074 lr: 0.02\n",
      "iteration: 56000 loss: 0.0074 lr: 0.02\n",
      "iteration: 57000 loss: 0.0072 lr: 0.02\n",
      "iteration: 58000 loss: 0.0069 lr: 0.02\n",
      "iteration: 59000 loss: 0.0071 lr: 0.02\n",
      "iteration: 60000 loss: 0.0071 lr: 0.02\n",
      "iteration: 61000 loss: 0.0066 lr: 0.02\n",
      "iteration: 62000 loss: 0.0072 lr: 0.02\n",
      "iteration: 63000 loss: 0.0075 lr: 0.02\n",
      "iteration: 64000 loss: 0.0069 lr: 0.02\n",
      "iteration: 65000 loss: 0.0070 lr: 0.02\n",
      "iteration: 66000 loss: 0.0072 lr: 0.02\n",
      "iteration: 67000 loss: 0.0069 lr: 0.02\n",
      "iteration: 68000 loss: 0.0069 lr: 0.02\n",
      "iteration: 69000 loss: 0.0069 lr: 0.02\n",
      "iteration: 70000 loss: 0.0070 lr: 0.02\n",
      "iteration: 71000 loss: 0.0067 lr: 0.02\n",
      "iteration: 72000 loss: 0.0066 lr: 0.02\n",
      "iteration: 73000 loss: 0.0064 lr: 0.02\n",
      "iteration: 74000 loss: 0.0067 lr: 0.02\n",
      "iteration: 75000 loss: 0.0069 lr: 0.02\n",
      "iteration: 76000 loss: 0.0068 lr: 0.02\n",
      "iteration: 77000 loss: 0.0068 lr: 0.02\n",
      "iteration: 78000 loss: 0.0066 lr: 0.02\n",
      "iteration: 79000 loss: 0.0068 lr: 0.02\n",
      "iteration: 80000 loss: 0.0064 lr: 0.02\n",
      "iteration: 81000 loss: 0.0066 lr: 0.02\n",
      "iteration: 82000 loss: 0.0065 lr: 0.02\n",
      "iteration: 83000 loss: 0.0068 lr: 0.02\n",
      "iteration: 84000 loss: 0.0066 lr: 0.02\n",
      "iteration: 85000 loss: 0.0062 lr: 0.02\n",
      "iteration: 86000 loss: 0.0063 lr: 0.02\n",
      "iteration: 87000 loss: 0.0063 lr: 0.02\n",
      "iteration: 88000 loss: 0.0062 lr: 0.02\n",
      "iteration: 89000 loss: 0.0062 lr: 0.02\n",
      "iteration: 90000 loss: 0.0061 lr: 0.02\n",
      "iteration: 91000 loss: 0.0064 lr: 0.02\n",
      "iteration: 92000 loss: 0.0065 lr: 0.02\n",
      "iteration: 93000 loss: 0.0062 lr: 0.02\n",
      "iteration: 94000 loss: 0.0064 lr: 0.02\n",
      "iteration: 95000 loss: 0.0063 lr: 0.02\n",
      "iteration: 96000 loss: 0.0060 lr: 0.02\n",
      "iteration: 97000 loss: 0.0065 lr: 0.02\n",
      "iteration: 98000 loss: 0.0063 lr: 0.02\n",
      "iteration: 99000 loss: 0.0060 lr: 0.02\n",
      "iteration: 100000 loss: 0.0062 lr: 0.02\n",
      "iteration: 101000 loss: 0.0064 lr: 0.02\n",
      "iteration: 102000 loss: 0.0063 lr: 0.02\n",
      "iteration: 103000 loss: 0.0059 lr: 0.02\n",
      "iteration: 104000 loss: 0.0058 lr: 0.02\n",
      "iteration: 105000 loss: 0.0060 lr: 0.02\n",
      "iteration: 106000 loss: 0.0060 lr: 0.02\n",
      "iteration: 107000 loss: 0.0059 lr: 0.02\n",
      "iteration: 108000 loss: 0.0062 lr: 0.02\n",
      "iteration: 109000 loss: 0.0059 lr: 0.02\n",
      "iteration: 110000 loss: 0.0061 lr: 0.02\n",
      "iteration: 111000 loss: 0.0061 lr: 0.02\n",
      "iteration: 112000 loss: 0.0060 lr: 0.02\n",
      "iteration: 113000 loss: 0.0057 lr: 0.02\n",
      "iteration: 114000 loss: 0.0060 lr: 0.02\n",
      "iteration: 115000 loss: 0.0059 lr: 0.02\n",
      "iteration: 116000 loss: 0.0060 lr: 0.02\n",
      "iteration: 117000 loss: 0.0057 lr: 0.02\n",
      "iteration: 118000 loss: 0.0059 lr: 0.02\n",
      "iteration: 119000 loss: 0.0058 lr: 0.02\n",
      "iteration: 120000 loss: 0.0061 lr: 0.02\n",
      "iteration: 121000 loss: 0.0060 lr: 0.02\n",
      "iteration: 122000 loss: 0.0059 lr: 0.02\n",
      "iteration: 123000 loss: 0.0056 lr: 0.02\n",
      "iteration: 124000 loss: 0.0058 lr: 0.02\n",
      "iteration: 125000 loss: 0.0057 lr: 0.02\n",
      "iteration: 126000 loss: 0.0056 lr: 0.02\n",
      "iteration: 127000 loss: 0.0058 lr: 0.02\n",
      "iteration: 128000 loss: 0.0058 lr: 0.02\n",
      "iteration: 129000 loss: 0.0057 lr: 0.02\n",
      "iteration: 130000 loss: 0.0058 lr: 0.02\n",
      "iteration: 131000 loss: 0.0060 lr: 0.02\n",
      "iteration: 132000 loss: 0.0056 lr: 0.02\n",
      "iteration: 133000 loss: 0.0059 lr: 0.02\n",
      "iteration: 134000 loss: 0.0056 lr: 0.02\n",
      "iteration: 135000 loss: 0.0055 lr: 0.02\n",
      "iteration: 136000 loss: 0.0054 lr: 0.02\n",
      "iteration: 137000 loss: 0.0054 lr: 0.02\n",
      "iteration: 138000 loss: 0.0054 lr: 0.02\n",
      "iteration: 139000 loss: 0.0058 lr: 0.02\n",
      "iteration: 140000 loss: 0.0053 lr: 0.02\n",
      "iteration: 141000 loss: 0.0055 lr: 0.02\n",
      "iteration: 142000 loss: 0.0060 lr: 0.02\n",
      "iteration: 143000 loss: 0.0055 lr: 0.02\n",
      "iteration: 144000 loss: 0.0055 lr: 0.02\n",
      "iteration: 145000 loss: 0.0056 lr: 0.02\n",
      "iteration: 146000 loss: 0.0055 lr: 0.02\n",
      "iteration: 147000 loss: 0.0055 lr: 0.02\n",
      "iteration: 148000 loss: 0.0055 lr: 0.02\n",
      "iteration: 149000 loss: 0.0054 lr: 0.02\n",
      "iteration: 150000 loss: 0.0054 lr: 0.02\n",
      "iteration: 151000 loss: 0.0054 lr: 0.02\n",
      "iteration: 152000 loss: 0.0052 lr: 0.02\n",
      "iteration: 153000 loss: 0.0052 lr: 0.02\n",
      "iteration: 154000 loss: 0.0053 lr: 0.02\n",
      "iteration: 155000 loss: 0.0052 lr: 0.02\n",
      "iteration: 156000 loss: 0.0055 lr: 0.02\n",
      "iteration: 157000 loss: 0.0052 lr: 0.02\n",
      "iteration: 158000 loss: 0.0054 lr: 0.02\n",
      "iteration: 159000 loss: 0.0054 lr: 0.02\n",
      "iteration: 160000 loss: 0.0055 lr: 0.02\n",
      "iteration: 161000 loss: 0.0052 lr: 0.02\n",
      "iteration: 162000 loss: 0.0053 lr: 0.02\n",
      "iteration: 163000 loss: 0.0052 lr: 0.02\n",
      "iteration: 164000 loss: 0.0052 lr: 0.02\n",
      "iteration: 165000 loss: 0.0050 lr: 0.02\n",
      "iteration: 166000 loss: 0.0052 lr: 0.02\n",
      "iteration: 167000 loss: 0.0049 lr: 0.02\n",
      "iteration: 168000 loss: 0.0050 lr: 0.02\n",
      "iteration: 169000 loss: 0.0051 lr: 0.02\n",
      "iteration: 170000 loss: 0.0052 lr: 0.02\n",
      "iteration: 171000 loss: 0.0052 lr: 0.02\n",
      "iteration: 172000 loss: 0.0048 lr: 0.02\n",
      "iteration: 173000 loss: 0.0052 lr: 0.02\n",
      "iteration: 174000 loss: 0.0050 lr: 0.02\n",
      "iteration: 175000 loss: 0.0049 lr: 0.02\n",
      "iteration: 176000 loss: 0.0053 lr: 0.02\n",
      "iteration: 177000 loss: 0.0051 lr: 0.02\n",
      "iteration: 178000 loss: 0.0050 lr: 0.02\n",
      "iteration: 179000 loss: 0.0049 lr: 0.02\n",
      "iteration: 180000 loss: 0.0051 lr: 0.02\n",
      "iteration: 181000 loss: 0.0049 lr: 0.02\n",
      "iteration: 182000 loss: 0.0051 lr: 0.02\n",
      "iteration: 183000 loss: 0.0051 lr: 0.02\n",
      "iteration: 184000 loss: 0.0051 lr: 0.02\n",
      "iteration: 185000 loss: 0.0048 lr: 0.02\n",
      "iteration: 186000 loss: 0.0051 lr: 0.02\n",
      "iteration: 187000 loss: 0.0050 lr: 0.02\n",
      "iteration: 188000 loss: 0.0049 lr: 0.02\n",
      "iteration: 189000 loss: 0.0048 lr: 0.02\n",
      "iteration: 190000 loss: 0.0051 lr: 0.02\n",
      "iteration: 191000 loss: 0.0048 lr: 0.02\n",
      "iteration: 192000 loss: 0.0051 lr: 0.02\n",
      "iteration: 193000 loss: 0.0048 lr: 0.02\n",
      "iteration: 194000 loss: 0.0050 lr: 0.02\n",
      "iteration: 195000 loss: 0.0053 lr: 0.02\n",
      "iteration: 196000 loss: 0.0048 lr: 0.02\n",
      "iteration: 197000 loss: 0.0050 lr: 0.02\n",
      "iteration: 198000 loss: 0.0049 lr: 0.02\n",
      "iteration: 199000 loss: 0.0051 lr: 0.02\n",
      "iteration: 200000 loss: 0.0047 lr: 0.02\n",
      "iteration: 201000 loss: 0.0051 lr: 0.02\n",
      "iteration: 202000 loss: 0.0049 lr: 0.02\n",
      "iteration: 203000 loss: 0.0051 lr: 0.02\n",
      "iteration: 204000 loss: 0.0049 lr: 0.02\n",
      "iteration: 205000 loss: 0.0048 lr: 0.02\n",
      "iteration: 206000 loss: 0.0047 lr: 0.02\n",
      "iteration: 207000 loss: 0.0048 lr: 0.02\n",
      "iteration: 208000 loss: 0.0047 lr: 0.02\n"
     ]
    },
    {
     "name": "stderr",
     "output_type": "stream",
     "text": [
      "iteration: 209000 loss: 0.0048 lr: 0.02\n",
      "iteration: 210000 loss: 0.0047 lr: 0.02\n",
      "iteration: 211000 loss: 0.0045 lr: 0.02\n",
      "iteration: 212000 loss: 0.0047 lr: 0.02\n",
      "iteration: 213000 loss: 0.0048 lr: 0.02\n",
      "iteration: 214000 loss: 0.0046 lr: 0.02\n",
      "iteration: 215000 loss: 0.0051 lr: 0.02\n",
      "iteration: 216000 loss: 0.0049 lr: 0.02\n",
      "iteration: 217000 loss: 0.0050 lr: 0.02\n",
      "iteration: 218000 loss: 0.0048 lr: 0.02\n",
      "iteration: 219000 loss: 0.0049 lr: 0.02\n",
      "iteration: 220000 loss: 0.0047 lr: 0.02\n",
      "iteration: 221000 loss: 0.0047 lr: 0.02\n",
      "iteration: 222000 loss: 0.0047 lr: 0.02\n",
      "iteration: 223000 loss: 0.0048 lr: 0.02\n",
      "iteration: 224000 loss: 0.0048 lr: 0.02\n",
      "iteration: 225000 loss: 0.0045 lr: 0.02\n",
      "iteration: 226000 loss: 0.0047 lr: 0.02\n",
      "iteration: 227000 loss: 0.0048 lr: 0.02\n",
      "iteration: 228000 loss: 0.0049 lr: 0.02\n",
      "iteration: 229000 loss: 0.0049 lr: 0.02\n",
      "iteration: 230000 loss: 0.0046 lr: 0.02\n",
      "iteration: 231000 loss: 0.0047 lr: 0.02\n",
      "iteration: 232000 loss: 0.0048 lr: 0.02\n",
      "iteration: 233000 loss: 0.0045 lr: 0.02\n",
      "iteration: 234000 loss: 0.0047 lr: 0.02\n",
      "iteration: 235000 loss: 0.0049 lr: 0.02\n",
      "iteration: 236000 loss: 0.0046 lr: 0.02\n",
      "iteration: 237000 loss: 0.0046 lr: 0.02\n",
      "iteration: 238000 loss: 0.0045 lr: 0.02\n",
      "iteration: 239000 loss: 0.0046 lr: 0.02\n",
      "iteration: 240000 loss: 0.0049 lr: 0.02\n",
      "iteration: 241000 loss: 0.0047 lr: 0.02\n",
      "iteration: 242000 loss: 0.0045 lr: 0.02\n",
      "iteration: 243000 loss: 0.0046 lr: 0.02\n",
      "iteration: 244000 loss: 0.0046 lr: 0.02\n",
      "iteration: 245000 loss: 0.0047 lr: 0.02\n",
      "iteration: 246000 loss: 0.0047 lr: 0.02\n",
      "iteration: 247000 loss: 0.0045 lr: 0.02\n",
      "iteration: 248000 loss: 0.0047 lr: 0.02\n",
      "iteration: 249000 loss: 0.0046 lr: 0.02\n",
      "iteration: 250000 loss: 0.0044 lr: 0.02\n",
      "iteration: 251000 loss: 0.0045 lr: 0.02\n",
      "iteration: 252000 loss: 0.0045 lr: 0.02\n",
      "iteration: 253000 loss: 0.0045 lr: 0.02\n",
      "iteration: 254000 loss: 0.0045 lr: 0.02\n",
      "iteration: 255000 loss: 0.0044 lr: 0.02\n",
      "iteration: 256000 loss: 0.0045 lr: 0.02\n",
      "iteration: 257000 loss: 0.0046 lr: 0.02\n",
      "iteration: 258000 loss: 0.0044 lr: 0.02\n",
      "iteration: 259000 loss: 0.0045 lr: 0.02\n",
      "iteration: 260000 loss: 0.0044 lr: 0.02\n",
      "iteration: 261000 loss: 0.0046 lr: 0.02\n",
      "iteration: 262000 loss: 0.0045 lr: 0.02\n",
      "iteration: 263000 loss: 0.0043 lr: 0.02\n",
      "iteration: 264000 loss: 0.0044 lr: 0.02\n",
      "iteration: 265000 loss: 0.0042 lr: 0.02\n",
      "iteration: 266000 loss: 0.0044 lr: 0.02\n",
      "iteration: 267000 loss: 0.0045 lr: 0.02\n",
      "iteration: 268000 loss: 0.0047 lr: 0.02\n",
      "iteration: 269000 loss: 0.0045 lr: 0.02\n",
      "iteration: 270000 loss: 0.0047 lr: 0.02\n",
      "iteration: 271000 loss: 0.0048 lr: 0.02\n",
      "iteration: 272000 loss: 0.0044 lr: 0.02\n",
      "iteration: 273000 loss: 0.0046 lr: 0.02\n",
      "iteration: 274000 loss: 0.0046 lr: 0.02\n",
      "iteration: 275000 loss: 0.0044 lr: 0.02\n",
      "iteration: 276000 loss: 0.0044 lr: 0.02\n",
      "iteration: 277000 loss: 0.0043 lr: 0.02\n",
      "iteration: 278000 loss: 0.0046 lr: 0.02\n",
      "iteration: 279000 loss: 0.0042 lr: 0.02\n",
      "iteration: 280000 loss: 0.0049 lr: 0.02\n",
      "iteration: 281000 loss: 0.0042 lr: 0.02\n",
      "iteration: 282000 loss: 0.0045 lr: 0.02\n",
      "iteration: 283000 loss: 0.0044 lr: 0.02\n",
      "iteration: 284000 loss: 0.0045 lr: 0.02\n",
      "iteration: 285000 loss: 0.0045 lr: 0.02\n",
      "iteration: 286000 loss: 0.0046 lr: 0.02\n",
      "iteration: 287000 loss: 0.0044 lr: 0.02\n",
      "iteration: 288000 loss: 0.0046 lr: 0.02\n",
      "iteration: 289000 loss: 0.0042 lr: 0.02\n",
      "iteration: 290000 loss: 0.0046 lr: 0.02\n",
      "iteration: 291000 loss: 0.0045 lr: 0.02\n",
      "iteration: 292000 loss: 0.0043 lr: 0.02\n",
      "iteration: 293000 loss: 0.0046 lr: 0.02\n",
      "iteration: 294000 loss: 0.0043 lr: 0.02\n",
      "iteration: 295000 loss: 0.0046 lr: 0.02\n",
      "iteration: 296000 loss: 0.0043 lr: 0.02\n",
      "iteration: 297000 loss: 0.0043 lr: 0.02\n",
      "iteration: 298000 loss: 0.0042 lr: 0.02\n",
      "iteration: 299000 loss: 0.0042 lr: 0.02\n",
      "iteration: 300000 loss: 0.0045 lr: 0.02\n",
      "iteration: 301000 loss: 0.0043 lr: 0.02\n",
      "iteration: 302000 loss: 0.0044 lr: 0.02\n",
      "iteration: 303000 loss: 0.0043 lr: 0.02\n",
      "iteration: 304000 loss: 0.0044 lr: 0.02\n",
      "iteration: 305000 loss: 0.0043 lr: 0.02\n",
      "iteration: 306000 loss: 0.0045 lr: 0.02\n",
      "iteration: 307000 loss: 0.0044 lr: 0.02\n",
      "iteration: 308000 loss: 0.0043 lr: 0.02\n",
      "iteration: 309000 loss: 0.0044 lr: 0.02\n",
      "iteration: 310000 loss: 0.0042 lr: 0.02\n",
      "iteration: 311000 loss: 0.0041 lr: 0.02\n",
      "iteration: 312000 loss: 0.0042 lr: 0.02\n",
      "iteration: 313000 loss: 0.0042 lr: 0.02\n",
      "iteration: 314000 loss: 0.0042 lr: 0.02\n",
      "iteration: 315000 loss: 0.0041 lr: 0.02\n",
      "iteration: 316000 loss: 0.0042 lr: 0.02\n",
      "iteration: 317000 loss: 0.0042 lr: 0.02\n",
      "iteration: 318000 loss: 0.0044 lr: 0.02\n",
      "iteration: 319000 loss: 0.0043 lr: 0.02\n",
      "iteration: 320000 loss: 0.0042 lr: 0.02\n",
      "iteration: 321000 loss: 0.0042 lr: 0.02\n",
      "iteration: 322000 loss: 0.0045 lr: 0.02\n",
      "iteration: 323000 loss: 0.0042 lr: 0.02\n",
      "iteration: 324000 loss: 0.0042 lr: 0.02\n",
      "iteration: 325000 loss: 0.0042 lr: 0.02\n",
      "iteration: 326000 loss: 0.0042 lr: 0.02\n",
      "iteration: 327000 loss: 0.0041 lr: 0.02\n",
      "iteration: 328000 loss: 0.0040 lr: 0.02\n",
      "iteration: 329000 loss: 0.0042 lr: 0.02\n",
      "iteration: 330000 loss: 0.0042 lr: 0.02\n",
      "iteration: 331000 loss: 0.0042 lr: 0.02\n",
      "iteration: 332000 loss: 0.0040 lr: 0.02\n",
      "iteration: 333000 loss: 0.0043 lr: 0.02\n",
      "iteration: 334000 loss: 0.0042 lr: 0.02\n",
      "iteration: 335000 loss: 0.0042 lr: 0.02\n",
      "iteration: 336000 loss: 0.0042 lr: 0.02\n",
      "iteration: 337000 loss: 0.0042 lr: 0.02\n",
      "iteration: 338000 loss: 0.0041 lr: 0.02\n",
      "iteration: 339000 loss: 0.0042 lr: 0.02\n",
      "iteration: 340000 loss: 0.0040 lr: 0.02\n",
      "iteration: 341000 loss: 0.0043 lr: 0.02\n",
      "iteration: 342000 loss: 0.0042 lr: 0.02\n",
      "iteration: 343000 loss: 0.0041 lr: 0.02\n",
      "iteration: 344000 loss: 0.0046 lr: 0.02\n",
      "iteration: 345000 loss: 0.0042 lr: 0.02\n",
      "iteration: 346000 loss: 0.0040 lr: 0.02\n",
      "iteration: 347000 loss: 0.0043 lr: 0.02\n",
      "iteration: 348000 loss: 0.0043 lr: 0.02\n",
      "iteration: 349000 loss: 0.0040 lr: 0.02\n",
      "iteration: 350000 loss: 0.0042 lr: 0.02\n",
      "iteration: 351000 loss: 0.0040 lr: 0.02\n",
      "iteration: 352000 loss: 0.0043 lr: 0.02\n",
      "iteration: 353000 loss: 0.0041 lr: 0.02\n",
      "iteration: 354000 loss: 0.0040 lr: 0.02\n",
      "iteration: 355000 loss: 0.0041 lr: 0.02\n",
      "iteration: 356000 loss: 0.0045 lr: 0.02\n",
      "iteration: 357000 loss: 0.0042 lr: 0.02\n",
      "iteration: 358000 loss: 0.0041 lr: 0.02\n",
      "iteration: 359000 loss: 0.0042 lr: 0.02\n",
      "iteration: 360000 loss: 0.0038 lr: 0.02\n",
      "iteration: 361000 loss: 0.0042 lr: 0.02\n",
      "iteration: 362000 loss: 0.0041 lr: 0.02\n",
      "iteration: 363000 loss: 0.0044 lr: 0.02\n",
      "iteration: 364000 loss: 0.0040 lr: 0.02\n",
      "iteration: 365000 loss: 0.0041 lr: 0.02\n",
      "iteration: 366000 loss: 0.0039 lr: 0.02\n",
      "iteration: 367000 loss: 0.0042 lr: 0.02\n",
      "iteration: 368000 loss: 0.0042 lr: 0.02\n",
      "iteration: 369000 loss: 0.0042 lr: 0.02\n",
      "iteration: 370000 loss: 0.0039 lr: 0.02\n",
      "iteration: 371000 loss: 0.0042 lr: 0.02\n",
      "iteration: 372000 loss: 0.0043 lr: 0.02\n",
      "iteration: 373000 loss: 0.0041 lr: 0.02\n",
      "iteration: 374000 loss: 0.0041 lr: 0.02\n",
      "iteration: 375000 loss: 0.0040 lr: 0.02\n",
      "iteration: 376000 loss: 0.0041 lr: 0.02\n",
      "iteration: 377000 loss: 0.0040 lr: 0.02\n",
      "iteration: 378000 loss: 0.0039 lr: 0.02\n",
      "iteration: 379000 loss: 0.0038 lr: 0.02\n",
      "iteration: 380000 loss: 0.0039 lr: 0.02\n",
      "iteration: 381000 loss: 0.0040 lr: 0.02\n",
      "iteration: 382000 loss: 0.0041 lr: 0.02\n",
      "iteration: 383000 loss: 0.0039 lr: 0.02\n",
      "iteration: 384000 loss: 0.0042 lr: 0.02\n",
      "iteration: 385000 loss: 0.0040 lr: 0.02\n",
      "iteration: 386000 loss: 0.0038 lr: 0.02\n",
      "iteration: 387000 loss: 0.0040 lr: 0.02\n",
      "iteration: 388000 loss: 0.0040 lr: 0.02\n",
      "iteration: 389000 loss: 0.0039 lr: 0.02\n",
      "iteration: 390000 loss: 0.0038 lr: 0.02\n",
      "iteration: 391000 loss: 0.0040 lr: 0.02\n",
      "iteration: 392000 loss: 0.0038 lr: 0.02\n",
      "iteration: 393000 loss: 0.0038 lr: 0.02\n",
      "iteration: 394000 loss: 0.0040 lr: 0.02\n",
      "iteration: 395000 loss: 0.0038 lr: 0.02\n",
      "iteration: 396000 loss: 0.0042 lr: 0.02\n",
      "iteration: 397000 loss: 0.0040 lr: 0.02\n",
      "iteration: 398000 loss: 0.0040 lr: 0.02\n",
      "iteration: 399000 loss: 0.0040 lr: 0.02\n",
      "iteration: 400000 loss: 0.0039 lr: 0.02\n",
      "iteration: 401000 loss: 0.0040 lr: 0.02\n",
      "iteration: 402000 loss: 0.0039 lr: 0.02\n",
      "iteration: 403000 loss: 0.0036 lr: 0.02\n",
      "iteration: 404000 loss: 0.0039 lr: 0.02\n",
      "iteration: 405000 loss: 0.0039 lr: 0.02\n",
      "iteration: 406000 loss: 0.0038 lr: 0.02\n",
      "iteration: 407000 loss: 0.0039 lr: 0.02\n",
      "iteration: 408000 loss: 0.0040 lr: 0.02\n",
      "iteration: 409000 loss: 0.0040 lr: 0.02\n",
      "iteration: 410000 loss: 0.0039 lr: 0.02\n",
      "iteration: 411000 loss: 0.0039 lr: 0.02\n",
      "iteration: 412000 loss: 0.0038 lr: 0.02\n",
      "iteration: 413000 loss: 0.0038 lr: 0.02\n"
     ]
    },
    {
     "name": "stderr",
     "output_type": "stream",
     "text": [
      "iteration: 414000 loss: 0.0039 lr: 0.02\n",
      "iteration: 415000 loss: 0.0043 lr: 0.02\n",
      "iteration: 416000 loss: 0.0039 lr: 0.02\n",
      "iteration: 417000 loss: 0.0038 lr: 0.02\n",
      "iteration: 418000 loss: 0.0038 lr: 0.02\n",
      "iteration: 419000 loss: 0.0038 lr: 0.02\n",
      "iteration: 420000 loss: 0.0037 lr: 0.02\n",
      "iteration: 421000 loss: 0.0038 lr: 0.02\n",
      "iteration: 422000 loss: 0.0040 lr: 0.02\n",
      "iteration: 423000 loss: 0.0039 lr: 0.02\n",
      "iteration: 424000 loss: 0.0038 lr: 0.02\n",
      "iteration: 425000 loss: 0.0038 lr: 0.02\n",
      "iteration: 426000 loss: 0.0038 lr: 0.02\n",
      "iteration: 427000 loss: 0.0038 lr: 0.02\n",
      "iteration: 428000 loss: 0.0041 lr: 0.02\n",
      "iteration: 429000 loss: 0.0036 lr: 0.02\n",
      "iteration: 430000 loss: 0.0036 lr: 0.02\n",
      "iteration: 431000 loss: 0.0036 lr: 0.002\n",
      "iteration: 432000 loss: 0.0034 lr: 0.002\n",
      "iteration: 433000 loss: 0.0034 lr: 0.002\n",
      "iteration: 434000 loss: 0.0034 lr: 0.002\n",
      "iteration: 435000 loss: 0.0032 lr: 0.002\n",
      "iteration: 436000 loss: 0.0034 lr: 0.002\n",
      "iteration: 437000 loss: 0.0032 lr: 0.002\n",
      "iteration: 438000 loss: 0.0033 lr: 0.002\n",
      "iteration: 439000 loss: 0.0032 lr: 0.002\n",
      "iteration: 440000 loss: 0.0032 lr: 0.002\n",
      "iteration: 441000 loss: 0.0032 lr: 0.002\n",
      "iteration: 442000 loss: 0.0033 lr: 0.002\n",
      "iteration: 443000 loss: 0.0033 lr: 0.002\n",
      "iteration: 444000 loss: 0.0031 lr: 0.002\n",
      "iteration: 445000 loss: 0.0031 lr: 0.002\n",
      "iteration: 446000 loss: 0.0032 lr: 0.002\n",
      "iteration: 447000 loss: 0.0032 lr: 0.002\n",
      "iteration: 448000 loss: 0.0032 lr: 0.002\n",
      "iteration: 449000 loss: 0.0031 lr: 0.002\n",
      "iteration: 450000 loss: 0.0030 lr: 0.002\n",
      "iteration: 451000 loss: 0.0034 lr: 0.002\n",
      "iteration: 452000 loss: 0.0030 lr: 0.002\n",
      "iteration: 453000 loss: 0.0032 lr: 0.002\n",
      "iteration: 454000 loss: 0.0033 lr: 0.002\n",
      "iteration: 455000 loss: 0.0032 lr: 0.002\n",
      "iteration: 456000 loss: 0.0031 lr: 0.002\n",
      "iteration: 457000 loss: 0.0034 lr: 0.002\n",
      "iteration: 458000 loss: 0.0032 lr: 0.002\n",
      "iteration: 459000 loss: 0.0032 lr: 0.002\n",
      "iteration: 460000 loss: 0.0032 lr: 0.002\n",
      "iteration: 461000 loss: 0.0031 lr: 0.002\n",
      "iteration: 462000 loss: 0.0032 lr: 0.002\n",
      "iteration: 463000 loss: 0.0032 lr: 0.002\n",
      "iteration: 464000 loss: 0.0032 lr: 0.002\n",
      "iteration: 465000 loss: 0.0031 lr: 0.002\n",
      "iteration: 466000 loss: 0.0031 lr: 0.002\n",
      "iteration: 467000 loss: 0.0032 lr: 0.002\n",
      "iteration: 468000 loss: 0.0031 lr: 0.002\n",
      "iteration: 469000 loss: 0.0031 lr: 0.002\n",
      "iteration: 470000 loss: 0.0031 lr: 0.002\n",
      "iteration: 471000 loss: 0.0033 lr: 0.002\n",
      "iteration: 472000 loss: 0.0032 lr: 0.002\n",
      "iteration: 473000 loss: 0.0031 lr: 0.002\n",
      "iteration: 474000 loss: 0.0030 lr: 0.002\n",
      "iteration: 475000 loss: 0.0030 lr: 0.002\n",
      "iteration: 476000 loss: 0.0031 lr: 0.002\n",
      "iteration: 477000 loss: 0.0032 lr: 0.002\n",
      "iteration: 478000 loss: 0.0031 lr: 0.002\n",
      "iteration: 479000 loss: 0.0030 lr: 0.002\n",
      "iteration: 480000 loss: 0.0030 lr: 0.002\n",
      "iteration: 481000 loss: 0.0031 lr: 0.002\n",
      "iteration: 482000 loss: 0.0032 lr: 0.002\n",
      "iteration: 483000 loss: 0.0031 lr: 0.002\n",
      "iteration: 484000 loss: 0.0032 lr: 0.002\n",
      "iteration: 485000 loss: 0.0032 lr: 0.002\n",
      "iteration: 486000 loss: 0.0031 lr: 0.002\n",
      "iteration: 487000 loss: 0.0031 lr: 0.002\n",
      "iteration: 488000 loss: 0.0030 lr: 0.002\n",
      "iteration: 489000 loss: 0.0031 lr: 0.002\n",
      "iteration: 490000 loss: 0.0032 lr: 0.002\n",
      "iteration: 491000 loss: 0.0031 lr: 0.002\n",
      "iteration: 492000 loss: 0.0031 lr: 0.002\n",
      "iteration: 493000 loss: 0.0032 lr: 0.002\n",
      "iteration: 494000 loss: 0.0031 lr: 0.002\n",
      "iteration: 495000 loss: 0.0032 lr: 0.002\n",
      "iteration: 496000 loss: 0.0031 lr: 0.002\n",
      "iteration: 497000 loss: 0.0030 lr: 0.002\n",
      "iteration: 498000 loss: 0.0030 lr: 0.002\n",
      "iteration: 499000 loss: 0.0030 lr: 0.002\n",
      "iteration: 500000 loss: 0.0030 lr: 0.002\n",
      "iteration: 501000 loss: 0.0030 lr: 0.002\n",
      "iteration: 502000 loss: 0.0032 lr: 0.002\n",
      "iteration: 503000 loss: 0.0030 lr: 0.002\n",
      "iteration: 504000 loss: 0.0030 lr: 0.002\n",
      "iteration: 505000 loss: 0.0029 lr: 0.002\n",
      "iteration: 506000 loss: 0.0031 lr: 0.002\n",
      "iteration: 507000 loss: 0.0031 lr: 0.002\n",
      "iteration: 508000 loss: 0.0030 lr: 0.002\n",
      "iteration: 509000 loss: 0.0031 lr: 0.002\n",
      "iteration: 510000 loss: 0.0032 lr: 0.002\n",
      "iteration: 511000 loss: 0.0030 lr: 0.002\n",
      "iteration: 512000 loss: 0.0030 lr: 0.002\n",
      "iteration: 513000 loss: 0.0029 lr: 0.002\n",
      "iteration: 514000 loss: 0.0031 lr: 0.002\n",
      "iteration: 515000 loss: 0.0030 lr: 0.002\n",
      "iteration: 516000 loss: 0.0031 lr: 0.002\n",
      "iteration: 517000 loss: 0.0030 lr: 0.002\n",
      "iteration: 518000 loss: 0.0030 lr: 0.002\n",
      "iteration: 519000 loss: 0.0029 lr: 0.002\n",
      "iteration: 520000 loss: 0.0030 lr: 0.002\n",
      "iteration: 521000 loss: 0.0030 lr: 0.002\n",
      "iteration: 522000 loss: 0.0029 lr: 0.002\n",
      "iteration: 523000 loss: 0.0030 lr: 0.002\n",
      "iteration: 524000 loss: 0.0030 lr: 0.002\n",
      "iteration: 525000 loss: 0.0030 lr: 0.002\n",
      "iteration: 526000 loss: 0.0030 lr: 0.002\n",
      "iteration: 527000 loss: 0.0029 lr: 0.002\n",
      "iteration: 528000 loss: 0.0030 lr: 0.002\n",
      "iteration: 529000 loss: 0.0029 lr: 0.002\n",
      "iteration: 530000 loss: 0.0029 lr: 0.002\n",
      "iteration: 531000 loss: 0.0028 lr: 0.002\n",
      "iteration: 532000 loss: 0.0029 lr: 0.002\n",
      "iteration: 533000 loss: 0.0030 lr: 0.002\n",
      "iteration: 534000 loss: 0.0031 lr: 0.002\n",
      "iteration: 535000 loss: 0.0030 lr: 0.002\n",
      "iteration: 536000 loss: 0.0030 lr: 0.002\n",
      "iteration: 537000 loss: 0.0031 lr: 0.002\n",
      "iteration: 538000 loss: 0.0030 lr: 0.002\n",
      "iteration: 539000 loss: 0.0030 lr: 0.002\n",
      "iteration: 540000 loss: 0.0030 lr: 0.002\n",
      "iteration: 541000 loss: 0.0030 lr: 0.002\n",
      "iteration: 542000 loss: 0.0030 lr: 0.002\n",
      "iteration: 543000 loss: 0.0030 lr: 0.002\n",
      "iteration: 544000 loss: 0.0029 lr: 0.002\n",
      "iteration: 545000 loss: 0.0030 lr: 0.002\n",
      "iteration: 546000 loss: 0.0030 lr: 0.002\n",
      "iteration: 547000 loss: 0.0030 lr: 0.002\n",
      "iteration: 548000 loss: 0.0030 lr: 0.002\n",
      "iteration: 549000 loss: 0.0032 lr: 0.002\n",
      "iteration: 550000 loss: 0.0030 lr: 0.002\n",
      "iteration: 551000 loss: 0.0031 lr: 0.002\n",
      "iteration: 552000 loss: 0.0029 lr: 0.002\n",
      "iteration: 553000 loss: 0.0029 lr: 0.002\n",
      "iteration: 554000 loss: 0.0030 lr: 0.002\n",
      "iteration: 555000 loss: 0.0027 lr: 0.002\n",
      "iteration: 556000 loss: 0.0030 lr: 0.002\n",
      "iteration: 557000 loss: 0.0030 lr: 0.002\n",
      "iteration: 558000 loss: 0.0029 lr: 0.002\n",
      "iteration: 559000 loss: 0.0029 lr: 0.002\n",
      "iteration: 560000 loss: 0.0030 lr: 0.002\n",
      "iteration: 561000 loss: 0.0029 lr: 0.002\n",
      "iteration: 562000 loss: 0.0031 lr: 0.002\n",
      "iteration: 563000 loss: 0.0029 lr: 0.002\n",
      "iteration: 564000 loss: 0.0030 lr: 0.002\n",
      "iteration: 565000 loss: 0.0030 lr: 0.002\n",
      "iteration: 566000 loss: 0.0029 lr: 0.002\n",
      "iteration: 567000 loss: 0.0030 lr: 0.002\n",
      "iteration: 568000 loss: 0.0031 lr: 0.002\n",
      "iteration: 569000 loss: 0.0030 lr: 0.002\n",
      "iteration: 570000 loss: 0.0031 lr: 0.002\n",
      "iteration: 571000 loss: 0.0029 lr: 0.002\n",
      "iteration: 572000 loss: 0.0029 lr: 0.002\n",
      "iteration: 573000 loss: 0.0031 lr: 0.002\n",
      "iteration: 574000 loss: 0.0030 lr: 0.002\n",
      "iteration: 575000 loss: 0.0030 lr: 0.002\n",
      "iteration: 576000 loss: 0.0032 lr: 0.002\n",
      "iteration: 577000 loss: 0.0030 lr: 0.002\n",
      "iteration: 578000 loss: 0.0030 lr: 0.002\n",
      "iteration: 579000 loss: 0.0031 lr: 0.002\n",
      "iteration: 580000 loss: 0.0030 lr: 0.002\n",
      "iteration: 581000 loss: 0.0029 lr: 0.002\n",
      "iteration: 582000 loss: 0.0028 lr: 0.002\n",
      "iteration: 583000 loss: 0.0029 lr: 0.002\n",
      "iteration: 584000 loss: 0.0030 lr: 0.002\n",
      "iteration: 585000 loss: 0.0030 lr: 0.002\n",
      "iteration: 586000 loss: 0.0030 lr: 0.002\n",
      "iteration: 587000 loss: 0.0030 lr: 0.002\n",
      "iteration: 588000 loss: 0.0030 lr: 0.002\n",
      "iteration: 589000 loss: 0.0029 lr: 0.002\n",
      "iteration: 590000 loss: 0.0029 lr: 0.002\n",
      "iteration: 591000 loss: 0.0030 lr: 0.002\n",
      "iteration: 592000 loss: 0.0032 lr: 0.002\n",
      "iteration: 593000 loss: 0.0030 lr: 0.002\n",
      "iteration: 594000 loss: 0.0029 lr: 0.002\n",
      "iteration: 595000 loss: 0.0029 lr: 0.002\n",
      "iteration: 596000 loss: 0.0031 lr: 0.002\n",
      "iteration: 597000 loss: 0.0029 lr: 0.002\n",
      "iteration: 598000 loss: 0.0030 lr: 0.002\n",
      "iteration: 599000 loss: 0.0030 lr: 0.002\n",
      "iteration: 600000 loss: 0.0030 lr: 0.002\n",
      "iteration: 601000 loss: 0.0030 lr: 0.002\n",
      "iteration: 602000 loss: 0.0030 lr: 0.002\n",
      "iteration: 603000 loss: 0.0030 lr: 0.002\n",
      "iteration: 604000 loss: 0.0028 lr: 0.002\n",
      "iteration: 605000 loss: 0.0031 lr: 0.002\n",
      "iteration: 606000 loss: 0.0030 lr: 0.002\n",
      "iteration: 607000 loss: 0.0029 lr: 0.002\n",
      "iteration: 608000 loss: 0.0028 lr: 0.002\n",
      "iteration: 609000 loss: 0.0030 lr: 0.002\n",
      "iteration: 610000 loss: 0.0030 lr: 0.002\n",
      "iteration: 611000 loss: 0.0029 lr: 0.002\n",
      "iteration: 612000 loss: 0.0030 lr: 0.002\n",
      "iteration: 613000 loss: 0.0029 lr: 0.002\n",
      "iteration: 614000 loss: 0.0031 lr: 0.002\n"
     ]
    },
    {
     "name": "stderr",
     "output_type": "stream",
     "text": [
      "iteration: 615000 loss: 0.0028 lr: 0.002\n",
      "iteration: 616000 loss: 0.0031 lr: 0.002\n",
      "iteration: 617000 loss: 0.0030 lr: 0.002\n",
      "iteration: 618000 loss: 0.0030 lr: 0.002\n",
      "iteration: 619000 loss: 0.0028 lr: 0.002\n",
      "iteration: 620000 loss: 0.0029 lr: 0.002\n",
      "iteration: 621000 loss: 0.0029 lr: 0.002\n",
      "iteration: 622000 loss: 0.0030 lr: 0.002\n",
      "iteration: 623000 loss: 0.0029 lr: 0.002\n",
      "iteration: 624000 loss: 0.0029 lr: 0.002\n",
      "iteration: 625000 loss: 0.0030 lr: 0.002\n",
      "iteration: 626000 loss: 0.0028 lr: 0.002\n",
      "iteration: 627000 loss: 0.0031 lr: 0.002\n",
      "iteration: 628000 loss: 0.0031 lr: 0.002\n",
      "iteration: 629000 loss: 0.0030 lr: 0.002\n",
      "iteration: 630000 loss: 0.0029 lr: 0.002\n",
      "iteration: 631000 loss: 0.0030 lr: 0.002\n",
      "iteration: 632000 loss: 0.0031 lr: 0.002\n",
      "iteration: 633000 loss: 0.0028 lr: 0.002\n",
      "iteration: 634000 loss: 0.0029 lr: 0.002\n",
      "iteration: 635000 loss: 0.0030 lr: 0.002\n",
      "iteration: 636000 loss: 0.0030 lr: 0.002\n",
      "iteration: 637000 loss: 0.0030 lr: 0.002\n",
      "iteration: 638000 loss: 0.0032 lr: 0.002\n",
      "iteration: 639000 loss: 0.0030 lr: 0.002\n",
      "iteration: 640000 loss: 0.0030 lr: 0.002\n",
      "iteration: 641000 loss: 0.0028 lr: 0.002\n",
      "iteration: 642000 loss: 0.0030 lr: 0.002\n",
      "iteration: 643000 loss: 0.0029 lr: 0.002\n",
      "iteration: 644000 loss: 0.0029 lr: 0.002\n",
      "iteration: 645000 loss: 0.0030 lr: 0.002\n",
      "iteration: 646000 loss: 0.0029 lr: 0.002\n",
      "iteration: 647000 loss: 0.0030 lr: 0.002\n",
      "iteration: 648000 loss: 0.0028 lr: 0.002\n",
      "iteration: 649000 loss: 0.0028 lr: 0.002\n",
      "iteration: 650000 loss: 0.0030 lr: 0.002\n",
      "iteration: 651000 loss: 0.0028 lr: 0.002\n",
      "iteration: 652000 loss: 0.0031 lr: 0.002\n",
      "iteration: 653000 loss: 0.0027 lr: 0.002\n",
      "iteration: 654000 loss: 0.0029 lr: 0.002\n",
      "iteration: 655000 loss: 0.0028 lr: 0.002\n",
      "iteration: 656000 loss: 0.0030 lr: 0.002\n",
      "iteration: 657000 loss: 0.0030 lr: 0.002\n",
      "iteration: 658000 loss: 0.0029 lr: 0.002\n",
      "iteration: 659000 loss: 0.0030 lr: 0.002\n",
      "iteration: 660000 loss: 0.0028 lr: 0.002\n",
      "iteration: 661000 loss: 0.0029 lr: 0.002\n",
      "iteration: 662000 loss: 0.0029 lr: 0.002\n",
      "iteration: 663000 loss: 0.0029 lr: 0.002\n",
      "iteration: 664000 loss: 0.0029 lr: 0.002\n",
      "iteration: 665000 loss: 0.0029 lr: 0.002\n",
      "iteration: 666000 loss: 0.0029 lr: 0.002\n",
      "iteration: 667000 loss: 0.0029 lr: 0.002\n",
      "iteration: 668000 loss: 0.0030 lr: 0.002\n",
      "iteration: 669000 loss: 0.0028 lr: 0.002\n",
      "iteration: 670000 loss: 0.0029 lr: 0.002\n",
      "iteration: 671000 loss: 0.0029 lr: 0.002\n",
      "iteration: 672000 loss: 0.0029 lr: 0.002\n",
      "iteration: 673000 loss: 0.0029 lr: 0.002\n",
      "iteration: 674000 loss: 0.0029 lr: 0.002\n",
      "iteration: 675000 loss: 0.0028 lr: 0.002\n",
      "iteration: 676000 loss: 0.0028 lr: 0.002\n",
      "iteration: 677000 loss: 0.0029 lr: 0.002\n",
      "iteration: 678000 loss: 0.0030 lr: 0.002\n",
      "iteration: 679000 loss: 0.0029 lr: 0.002\n",
      "iteration: 680000 loss: 0.0028 lr: 0.002\n",
      "iteration: 681000 loss: 0.0029 lr: 0.002\n",
      "iteration: 682000 loss: 0.0030 lr: 0.002\n",
      "iteration: 683000 loss: 0.0030 lr: 0.002\n",
      "iteration: 684000 loss: 0.0029 lr: 0.002\n",
      "iteration: 685000 loss: 0.0030 lr: 0.002\n",
      "iteration: 686000 loss: 0.0027 lr: 0.002\n",
      "iteration: 687000 loss: 0.0029 lr: 0.002\n",
      "iteration: 688000 loss: 0.0030 lr: 0.002\n",
      "iteration: 689000 loss: 0.0031 lr: 0.002\n",
      "iteration: 690000 loss: 0.0028 lr: 0.002\n",
      "iteration: 691000 loss: 0.0029 lr: 0.002\n",
      "iteration: 692000 loss: 0.0031 lr: 0.002\n",
      "iteration: 693000 loss: 0.0029 lr: 0.002\n",
      "iteration: 694000 loss: 0.0029 lr: 0.002\n",
      "iteration: 695000 loss: 0.0029 lr: 0.002\n",
      "iteration: 696000 loss: 0.0029 lr: 0.002\n",
      "iteration: 697000 loss: 0.0030 lr: 0.002\n",
      "iteration: 698000 loss: 0.0030 lr: 0.002\n",
      "iteration: 699000 loss: 0.0030 lr: 0.002\n",
      "iteration: 700000 loss: 0.0029 lr: 0.002\n",
      "iteration: 701000 loss: 0.0028 lr: 0.002\n",
      "iteration: 702000 loss: 0.0029 lr: 0.002\n",
      "iteration: 703000 loss: 0.0030 lr: 0.002\n",
      "iteration: 704000 loss: 0.0030 lr: 0.002\n",
      "iteration: 705000 loss: 0.0029 lr: 0.002\n",
      "iteration: 706000 loss: 0.0029 lr: 0.002\n",
      "iteration: 707000 loss: 0.0029 lr: 0.002\n",
      "iteration: 708000 loss: 0.0029 lr: 0.002\n",
      "iteration: 709000 loss: 0.0032 lr: 0.002\n",
      "iteration: 710000 loss: 0.0030 lr: 0.002\n",
      "iteration: 711000 loss: 0.0028 lr: 0.002\n",
      "iteration: 712000 loss: 0.0030 lr: 0.002\n",
      "iteration: 713000 loss: 0.0030 lr: 0.002\n",
      "iteration: 714000 loss: 0.0029 lr: 0.002\n",
      "iteration: 715000 loss: 0.0028 lr: 0.002\n",
      "iteration: 716000 loss: 0.0029 lr: 0.002\n",
      "iteration: 717000 loss: 0.0029 lr: 0.002\n",
      "iteration: 718000 loss: 0.0028 lr: 0.002\n",
      "iteration: 719000 loss: 0.0028 lr: 0.002\n",
      "iteration: 720000 loss: 0.0030 lr: 0.002\n",
      "iteration: 721000 loss: 0.0028 lr: 0.002\n",
      "iteration: 722000 loss: 0.0027 lr: 0.002\n",
      "iteration: 723000 loss: 0.0029 lr: 0.002\n",
      "iteration: 724000 loss: 0.0029 lr: 0.002\n",
      "iteration: 725000 loss: 0.0029 lr: 0.002\n",
      "iteration: 726000 loss: 0.0029 lr: 0.002\n",
      "iteration: 727000 loss: 0.0028 lr: 0.002\n",
      "iteration: 728000 loss: 0.0030 lr: 0.002\n",
      "iteration: 729000 loss: 0.0028 lr: 0.002\n",
      "iteration: 730000 loss: 0.0029 lr: 0.002\n",
      "iteration: 731000 loss: 0.0029 lr: 0.001\n",
      "iteration: 732000 loss: 0.0028 lr: 0.001\n",
      "iteration: 733000 loss: 0.0028 lr: 0.001\n",
      "iteration: 734000 loss: 0.0029 lr: 0.001\n",
      "iteration: 735000 loss: 0.0029 lr: 0.001\n",
      "iteration: 736000 loss: 0.0028 lr: 0.001\n",
      "iteration: 737000 loss: 0.0029 lr: 0.001\n",
      "iteration: 738000 loss: 0.0028 lr: 0.001\n",
      "iteration: 739000 loss: 0.0029 lr: 0.001\n",
      "iteration: 740000 loss: 0.0030 lr: 0.001\n",
      "iteration: 741000 loss: 0.0029 lr: 0.001\n",
      "iteration: 742000 loss: 0.0030 lr: 0.001\n",
      "iteration: 743000 loss: 0.0026 lr: 0.001\n",
      "iteration: 744000 loss: 0.0028 lr: 0.001\n",
      "iteration: 745000 loss: 0.0029 lr: 0.001\n",
      "iteration: 746000 loss: 0.0026 lr: 0.001\n",
      "iteration: 747000 loss: 0.0030 lr: 0.001\n",
      "iteration: 748000 loss: 0.0028 lr: 0.001\n",
      "iteration: 749000 loss: 0.0029 lr: 0.001\n",
      "iteration: 750000 loss: 0.0028 lr: 0.001\n",
      "iteration: 751000 loss: 0.0028 lr: 0.001\n",
      "iteration: 752000 loss: 0.0028 lr: 0.001\n",
      "iteration: 753000 loss: 0.0029 lr: 0.001\n",
      "iteration: 754000 loss: 0.0029 lr: 0.001\n",
      "iteration: 755000 loss: 0.0027 lr: 0.001\n",
      "iteration: 756000 loss: 0.0029 lr: 0.001\n",
      "iteration: 757000 loss: 0.0028 lr: 0.001\n",
      "iteration: 758000 loss: 0.0028 lr: 0.001\n",
      "iteration: 759000 loss: 0.0028 lr: 0.001\n",
      "iteration: 760000 loss: 0.0027 lr: 0.001\n",
      "iteration: 761000 loss: 0.0028 lr: 0.001\n",
      "iteration: 762000 loss: 0.0028 lr: 0.001\n",
      "iteration: 763000 loss: 0.0030 lr: 0.001\n",
      "iteration: 764000 loss: 0.0027 lr: 0.001\n",
      "iteration: 765000 loss: 0.0028 lr: 0.001\n",
      "iteration: 766000 loss: 0.0027 lr: 0.001\n",
      "iteration: 767000 loss: 0.0027 lr: 0.001\n",
      "iteration: 768000 loss: 0.0027 lr: 0.001\n",
      "iteration: 769000 loss: 0.0028 lr: 0.001\n",
      "iteration: 770000 loss: 0.0029 lr: 0.001\n",
      "iteration: 771000 loss: 0.0029 lr: 0.001\n",
      "iteration: 772000 loss: 0.0029 lr: 0.001\n",
      "iteration: 773000 loss: 0.0028 lr: 0.001\n",
      "iteration: 774000 loss: 0.0029 lr: 0.001\n",
      "iteration: 775000 loss: 0.0029 lr: 0.001\n",
      "iteration: 776000 loss: 0.0028 lr: 0.001\n",
      "iteration: 777000 loss: 0.0028 lr: 0.001\n",
      "iteration: 778000 loss: 0.0028 lr: 0.001\n",
      "iteration: 779000 loss: 0.0027 lr: 0.001\n",
      "iteration: 780000 loss: 0.0028 lr: 0.001\n",
      "iteration: 781000 loss: 0.0029 lr: 0.001\n",
      "iteration: 782000 loss: 0.0028 lr: 0.001\n",
      "iteration: 783000 loss: 0.0027 lr: 0.001\n",
      "iteration: 784000 loss: 0.0027 lr: 0.001\n",
      "iteration: 785000 loss: 0.0028 lr: 0.001\n",
      "iteration: 786000 loss: 0.0029 lr: 0.001\n",
      "iteration: 787000 loss: 0.0029 lr: 0.001\n",
      "iteration: 788000 loss: 0.0028 lr: 0.001\n",
      "iteration: 789000 loss: 0.0028 lr: 0.001\n",
      "iteration: 790000 loss: 0.0027 lr: 0.001\n",
      "iteration: 791000 loss: 0.0028 lr: 0.001\n",
      "iteration: 792000 loss: 0.0029 lr: 0.001\n",
      "iteration: 793000 loss: 0.0027 lr: 0.001\n",
      "iteration: 794000 loss: 0.0028 lr: 0.001\n",
      "iteration: 795000 loss: 0.0029 lr: 0.001\n",
      "iteration: 796000 loss: 0.0028 lr: 0.001\n",
      "iteration: 797000 loss: 0.0029 lr: 0.001\n",
      "iteration: 798000 loss: 0.0028 lr: 0.001\n",
      "iteration: 799000 loss: 0.0027 lr: 0.001\n",
      "iteration: 800000 loss: 0.0028 lr: 0.001\n",
      "iteration: 801000 loss: 0.0029 lr: 0.001\n",
      "iteration: 802000 loss: 0.0028 lr: 0.001\n",
      "iteration: 803000 loss: 0.0027 lr: 0.001\n",
      "iteration: 804000 loss: 0.0029 lr: 0.001\n",
      "iteration: 805000 loss: 0.0028 lr: 0.001\n",
      "iteration: 806000 loss: 0.0028 lr: 0.001\n",
      "iteration: 807000 loss: 0.0028 lr: 0.001\n",
      "iteration: 808000 loss: 0.0029 lr: 0.001\n",
      "iteration: 809000 loss: 0.0028 lr: 0.001\n",
      "iteration: 810000 loss: 0.0029 lr: 0.001\n",
      "iteration: 811000 loss: 0.0029 lr: 0.001\n",
      "iteration: 812000 loss: 0.0028 lr: 0.001\n",
      "iteration: 813000 loss: 0.0027 lr: 0.001\n",
      "iteration: 814000 loss: 0.0028 lr: 0.001\n"
     ]
    },
    {
     "name": "stderr",
     "output_type": "stream",
     "text": [
      "iteration: 815000 loss: 0.0027 lr: 0.001\n",
      "iteration: 816000 loss: 0.0027 lr: 0.001\n",
      "iteration: 817000 loss: 0.0028 lr: 0.001\n",
      "iteration: 818000 loss: 0.0027 lr: 0.001\n",
      "iteration: 819000 loss: 0.0029 lr: 0.001\n",
      "iteration: 820000 loss: 0.0028 lr: 0.001\n",
      "iteration: 821000 loss: 0.0027 lr: 0.001\n",
      "iteration: 822000 loss: 0.0028 lr: 0.001\n",
      "iteration: 823000 loss: 0.0027 lr: 0.001\n",
      "iteration: 824000 loss: 0.0029 lr: 0.001\n",
      "iteration: 825000 loss: 0.0028 lr: 0.001\n",
      "iteration: 826000 loss: 0.0030 lr: 0.001\n",
      "iteration: 827000 loss: 0.0028 lr: 0.001\n",
      "iteration: 828000 loss: 0.0031 lr: 0.001\n",
      "iteration: 829000 loss: 0.0027 lr: 0.001\n",
      "iteration: 830000 loss: 0.0028 lr: 0.001\n",
      "iteration: 831000 loss: 0.0029 lr: 0.001\n",
      "iteration: 832000 loss: 0.0027 lr: 0.001\n",
      "iteration: 833000 loss: 0.0027 lr: 0.001\n",
      "iteration: 834000 loss: 0.0030 lr: 0.001\n",
      "iteration: 835000 loss: 0.0027 lr: 0.001\n",
      "iteration: 836000 loss: 0.0027 lr: 0.001\n",
      "iteration: 837000 loss: 0.0027 lr: 0.001\n",
      "iteration: 838000 loss: 0.0028 lr: 0.001\n",
      "iteration: 839000 loss: 0.0029 lr: 0.001\n",
      "iteration: 840000 loss: 0.0029 lr: 0.001\n",
      "iteration: 841000 loss: 0.0027 lr: 0.001\n",
      "iteration: 842000 loss: 0.0027 lr: 0.001\n",
      "iteration: 843000 loss: 0.0028 lr: 0.001\n",
      "iteration: 844000 loss: 0.0027 lr: 0.001\n",
      "iteration: 845000 loss: 0.0028 lr: 0.001\n",
      "iteration: 846000 loss: 0.0030 lr: 0.001\n",
      "iteration: 847000 loss: 0.0026 lr: 0.001\n",
      "iteration: 848000 loss: 0.0029 lr: 0.001\n",
      "iteration: 849000 loss: 0.0027 lr: 0.001\n",
      "iteration: 850000 loss: 0.0028 lr: 0.001\n",
      "iteration: 851000 loss: 0.0027 lr: 0.001\n",
      "iteration: 852000 loss: 0.0029 lr: 0.001\n",
      "iteration: 853000 loss: 0.0028 lr: 0.001\n",
      "iteration: 854000 loss: 0.0029 lr: 0.001\n",
      "iteration: 855000 loss: 0.0027 lr: 0.001\n",
      "iteration: 856000 loss: 0.0028 lr: 0.001\n",
      "iteration: 857000 loss: 0.0028 lr: 0.001\n",
      "iteration: 858000 loss: 0.0029 lr: 0.001\n",
      "iteration: 859000 loss: 0.0028 lr: 0.001\n",
      "iteration: 860000 loss: 0.0029 lr: 0.001\n",
      "iteration: 861000 loss: 0.0029 lr: 0.001\n",
      "iteration: 862000 loss: 0.0028 lr: 0.001\n",
      "iteration: 863000 loss: 0.0027 lr: 0.001\n",
      "iteration: 864000 loss: 0.0027 lr: 0.001\n",
      "iteration: 865000 loss: 0.0028 lr: 0.001\n",
      "iteration: 866000 loss: 0.0028 lr: 0.001\n",
      "iteration: 867000 loss: 0.0027 lr: 0.001\n",
      "iteration: 868000 loss: 0.0028 lr: 0.001\n",
      "iteration: 869000 loss: 0.0029 lr: 0.001\n",
      "iteration: 870000 loss: 0.0028 lr: 0.001\n",
      "iteration: 871000 loss: 0.0028 lr: 0.001\n",
      "iteration: 872000 loss: 0.0028 lr: 0.001\n",
      "iteration: 873000 loss: 0.0027 lr: 0.001\n",
      "iteration: 874000 loss: 0.0028 lr: 0.001\n",
      "iteration: 875000 loss: 0.0027 lr: 0.001\n",
      "iteration: 876000 loss: 0.0027 lr: 0.001\n",
      "iteration: 877000 loss: 0.0030 lr: 0.001\n",
      "iteration: 878000 loss: 0.0028 lr: 0.001\n",
      "iteration: 879000 loss: 0.0028 lr: 0.001\n",
      "iteration: 880000 loss: 0.0029 lr: 0.001\n",
      "iteration: 881000 loss: 0.0027 lr: 0.001\n",
      "iteration: 882000 loss: 0.0028 lr: 0.001\n",
      "iteration: 883000 loss: 0.0028 lr: 0.001\n",
      "iteration: 884000 loss: 0.0029 lr: 0.001\n",
      "iteration: 885000 loss: 0.0029 lr: 0.001\n",
      "iteration: 886000 loss: 0.0027 lr: 0.001\n",
      "iteration: 887000 loss: 0.0028 lr: 0.001\n",
      "iteration: 888000 loss: 0.0027 lr: 0.001\n",
      "iteration: 889000 loss: 0.0026 lr: 0.001\n",
      "iteration: 890000 loss: 0.0029 lr: 0.001\n",
      "iteration: 891000 loss: 0.0028 lr: 0.001\n",
      "iteration: 892000 loss: 0.0029 lr: 0.001\n",
      "iteration: 893000 loss: 0.0028 lr: 0.001\n",
      "iteration: 894000 loss: 0.0028 lr: 0.001\n",
      "iteration: 895000 loss: 0.0028 lr: 0.001\n",
      "iteration: 896000 loss: 0.0027 lr: 0.001\n",
      "iteration: 897000 loss: 0.0029 lr: 0.001\n",
      "iteration: 898000 loss: 0.0028 lr: 0.001\n",
      "iteration: 899000 loss: 0.0028 lr: 0.001\n",
      "iteration: 900000 loss: 0.0027 lr: 0.001\n",
      "iteration: 901000 loss: 0.0028 lr: 0.001\n",
      "iteration: 902000 loss: 0.0027 lr: 0.001\n",
      "iteration: 903000 loss: 0.0029 lr: 0.001\n",
      "iteration: 904000 loss: 0.0028 lr: 0.001\n",
      "iteration: 905000 loss: 0.0028 lr: 0.001\n",
      "iteration: 906000 loss: 0.0028 lr: 0.001\n",
      "iteration: 907000 loss: 0.0027 lr: 0.001\n",
      "iteration: 908000 loss: 0.0028 lr: 0.001\n",
      "iteration: 909000 loss: 0.0028 lr: 0.001\n",
      "iteration: 910000 loss: 0.0028 lr: 0.001\n",
      "iteration: 911000 loss: 0.0027 lr: 0.001\n",
      "iteration: 912000 loss: 0.0027 lr: 0.001\n",
      "iteration: 913000 loss: 0.0029 lr: 0.001\n",
      "iteration: 914000 loss: 0.0028 lr: 0.001\n",
      "iteration: 915000 loss: 0.0027 lr: 0.001\n",
      "iteration: 916000 loss: 0.0028 lr: 0.001\n",
      "iteration: 917000 loss: 0.0028 lr: 0.001\n",
      "iteration: 918000 loss: 0.0028 lr: 0.001\n",
      "iteration: 919000 loss: 0.0027 lr: 0.001\n",
      "iteration: 920000 loss: 0.0027 lr: 0.001\n",
      "iteration: 921000 loss: 0.0028 lr: 0.001\n",
      "iteration: 922000 loss: 0.0026 lr: 0.001\n",
      "iteration: 923000 loss: 0.0028 lr: 0.001\n",
      "iteration: 924000 loss: 0.0028 lr: 0.001\n",
      "iteration: 925000 loss: 0.0028 lr: 0.001\n",
      "iteration: 926000 loss: 0.0028 lr: 0.001\n",
      "iteration: 927000 loss: 0.0029 lr: 0.001\n",
      "iteration: 928000 loss: 0.0027 lr: 0.001\n",
      "iteration: 929000 loss: 0.0027 lr: 0.001\n",
      "iteration: 930000 loss: 0.0027 lr: 0.001\n",
      "iteration: 931000 loss: 0.0027 lr: 0.001\n",
      "iteration: 932000 loss: 0.0027 lr: 0.001\n",
      "iteration: 933000 loss: 0.0028 lr: 0.001\n",
      "iteration: 934000 loss: 0.0027 lr: 0.001\n",
      "iteration: 935000 loss: 0.0028 lr: 0.001\n",
      "iteration: 936000 loss: 0.0028 lr: 0.001\n",
      "iteration: 937000 loss: 0.0028 lr: 0.001\n",
      "iteration: 938000 loss: 0.0028 lr: 0.001\n",
      "iteration: 939000 loss: 0.0026 lr: 0.001\n",
      "iteration: 940000 loss: 0.0027 lr: 0.001\n",
      "iteration: 941000 loss: 0.0028 lr: 0.001\n",
      "iteration: 942000 loss: 0.0027 lr: 0.001\n",
      "iteration: 943000 loss: 0.0028 lr: 0.001\n",
      "iteration: 944000 loss: 0.0029 lr: 0.001\n",
      "iteration: 945000 loss: 0.0028 lr: 0.001\n",
      "iteration: 946000 loss: 0.0028 lr: 0.001\n",
      "iteration: 947000 loss: 0.0027 lr: 0.001\n",
      "iteration: 948000 loss: 0.0027 lr: 0.001\n",
      "iteration: 949000 loss: 0.0028 lr: 0.001\n",
      "iteration: 950000 loss: 0.0028 lr: 0.001\n",
      "iteration: 951000 loss: 0.0028 lr: 0.001\n",
      "iteration: 952000 loss: 0.0029 lr: 0.001\n",
      "iteration: 953000 loss: 0.0029 lr: 0.001\n",
      "iteration: 954000 loss: 0.0027 lr: 0.001\n",
      "iteration: 955000 loss: 0.0027 lr: 0.001\n",
      "iteration: 956000 loss: 0.0027 lr: 0.001\n",
      "iteration: 957000 loss: 0.0028 lr: 0.001\n",
      "iteration: 958000 loss: 0.0028 lr: 0.001\n",
      "iteration: 959000 loss: 0.0026 lr: 0.001\n",
      "iteration: 960000 loss: 0.0029 lr: 0.001\n",
      "iteration: 961000 loss: 0.0028 lr: 0.001\n",
      "iteration: 962000 loss: 0.0027 lr: 0.001\n",
      "iteration: 963000 loss: 0.0029 lr: 0.001\n",
      "iteration: 964000 loss: 0.0029 lr: 0.001\n",
      "iteration: 965000 loss: 0.0027 lr: 0.001\n",
      "iteration: 966000 loss: 0.0028 lr: 0.001\n",
      "iteration: 967000 loss: 0.0026 lr: 0.001\n",
      "iteration: 968000 loss: 0.0029 lr: 0.001\n",
      "iteration: 969000 loss: 0.0027 lr: 0.001\n",
      "iteration: 970000 loss: 0.0028 lr: 0.001\n",
      "iteration: 971000 loss: 0.0027 lr: 0.001\n",
      "iteration: 972000 loss: 0.0027 lr: 0.001\n",
      "iteration: 973000 loss: 0.0028 lr: 0.001\n",
      "iteration: 974000 loss: 0.0027 lr: 0.001\n",
      "iteration: 975000 loss: 0.0027 lr: 0.001\n",
      "iteration: 976000 loss: 0.0028 lr: 0.001\n",
      "iteration: 977000 loss: 0.0028 lr: 0.001\n",
      "iteration: 978000 loss: 0.0028 lr: 0.001\n",
      "iteration: 979000 loss: 0.0028 lr: 0.001\n",
      "iteration: 980000 loss: 0.0027 lr: 0.001\n",
      "iteration: 981000 loss: 0.0027 lr: 0.001\n",
      "iteration: 982000 loss: 0.0028 lr: 0.001\n",
      "iteration: 983000 loss: 0.0028 lr: 0.001\n",
      "iteration: 984000 loss: 0.0029 lr: 0.001\n",
      "iteration: 985000 loss: 0.0028 lr: 0.001\n",
      "iteration: 986000 loss: 0.0027 lr: 0.001\n",
      "iteration: 987000 loss: 0.0028 lr: 0.001\n",
      "iteration: 988000 loss: 0.0027 lr: 0.001\n",
      "iteration: 989000 loss: 0.0028 lr: 0.001\n",
      "iteration: 990000 loss: 0.0028 lr: 0.001\n",
      "iteration: 991000 loss: 0.0027 lr: 0.001\n",
      "iteration: 992000 loss: 0.0026 lr: 0.001\n",
      "iteration: 993000 loss: 0.0027 lr: 0.001\n",
      "iteration: 994000 loss: 0.0027 lr: 0.001\n",
      "iteration: 995000 loss: 0.0026 lr: 0.001\n",
      "iteration: 996000 loss: 0.0027 lr: 0.001\n",
      "iteration: 997000 loss: 0.0027 lr: 0.001\n",
      "iteration: 998000 loss: 0.0026 lr: 0.001\n",
      "iteration: 999000 loss: 0.0027 lr: 0.001\n",
      "iteration: 1000000 loss: 0.0030 lr: 0.001\n",
      "Exception in thread Thread-8:\n",
      "Traceback (most recent call last):\n",
      "  File \"C:\\Users\\zacha\\anaconda3\\envs\\dlc-gpu1\\lib\\site-packages\\tensorflow\\python\\client\\session.py\", line 1378, in _do_call\n",
      "    return fn(*args)\n",
      "  File \"C:\\Users\\zacha\\anaconda3\\envs\\dlc-gpu1\\lib\\site-packages\\tensorflow\\python\\client\\session.py\", line 1361, in _run_fn\n",
      "    return self._call_tf_sessionrun(options, feed_dict, fetch_list,\n",
      "  File \"C:\\Users\\zacha\\anaconda3\\envs\\dlc-gpu1\\lib\\site-packages\\tensorflow\\python\\client\\session.py\", line 1454, in _call_tf_sessionrun\n",
      "    return tf_session.TF_SessionRun_wrapper(self._session, options, feed_dict,\n",
      "tensorflow.python.framework.errors_impl.CancelledError: Enqueue operation was cancelled\n",
      "\t [[{{node fifo_queue_enqueue}}]]\n",
      "\n",
      "During handling of the above exception, another exception occurred:\n",
      "\n",
      "Traceback (most recent call last):\n",
      "  File \"C:\\Users\\zacha\\anaconda3\\envs\\dlc-gpu1\\lib\\threading.py\", line 932, in _bootstrap_inner\n",
      "    self.run()\n",
      "  File \"C:\\Users\\zacha\\anaconda3\\envs\\dlc-gpu1\\lib\\threading.py\", line 870, in run\n",
      "    self._target(*self._args, **self._kwargs)\n",
      "  File \"C:\\Users\\zacha\\anaconda3\\envs\\dlc-gpu1\\lib\\site-packages\\deeplabcut\\pose_estimation_tensorflow\\core\\train.py\", line 85, in load_and_enqueue\n",
      "    sess.run(enqueue_op, feed_dict=food)\n",
      "  File \"C:\\Users\\zacha\\anaconda3\\envs\\dlc-gpu1\\lib\\site-packages\\tensorflow\\python\\client\\session.py\", line 968, in run\n",
      "    result = self._run(None, fetches, feed_dict, options_ptr,\n",
      "  File \"C:\\Users\\zacha\\anaconda3\\envs\\dlc-gpu1\\lib\\site-packages\\tensorflow\\python\\client\\session.py\", line 1191, in _run\n",
      "    results = self._do_run(handle, final_targets, final_fetches,\n",
      "  File \"C:\\Users\\zacha\\anaconda3\\envs\\dlc-gpu1\\lib\\site-packages\\tensorflow\\python\\client\\session.py\", line 1371, in _do_run\n",
      "    return self._do_call(_run_fn, feeds, fetches, targets, options,\n",
      "  File \"C:\\Users\\zacha\\anaconda3\\envs\\dlc-gpu1\\lib\\site-packages\\tensorflow\\python\\client\\session.py\", line 1397, in _do_call\n",
      "    raise type(e)(node_def, op, message)  # pylint: disable=no-value-for-parameter\n",
      "tensorflow.python.framework.errors_impl.CancelledError: Graph execution error:\n",
      "\n",
      "Detected at node 'fifo_queue_enqueue' defined at (most recent call last):\n",
      "    File \"C:\\Users\\zacha\\anaconda3\\envs\\dlc-gpu1\\lib\\runpy.py\", line 194, in _run_module_as_main\n",
      "      return _run_code(code, main_globals, None,\n",
      "    File \"C:\\Users\\zacha\\anaconda3\\envs\\dlc-gpu1\\lib\\runpy.py\", line 87, in _run_code\n",
      "      exec(code, run_globals)\n",
      "    File \"C:\\Users\\zacha\\anaconda3\\envs\\dlc-gpu1\\lib\\site-packages\\ipykernel_launcher.py\", line 17, in <module>\n",
      "      app.launch_new_instance()\n",
      "    File \"C:\\Users\\zacha\\anaconda3\\envs\\dlc-gpu1\\lib\\site-packages\\traitlets\\config\\application.py\", line 1043, in launch_instance\n",
      "      app.start()\n",
      "    File \"C:\\Users\\zacha\\anaconda3\\envs\\dlc-gpu1\\lib\\site-packages\\ipykernel\\kernelapp.py\", line 728, in start\n",
      "      self.io_loop.start()\n",
      "    File \"C:\\Users\\zacha\\anaconda3\\envs\\dlc-gpu1\\lib\\site-packages\\tornado\\platform\\asyncio.py\", line 215, in start\n",
      "      self.asyncio_loop.run_forever()\n",
      "    File \"C:\\Users\\zacha\\anaconda3\\envs\\dlc-gpu1\\lib\\asyncio\\base_events.py\", line 570, in run_forever\n",
      "      self._run_once()\n",
      "    File \"C:\\Users\\zacha\\anaconda3\\envs\\dlc-gpu1\\lib\\asyncio\\base_events.py\", line 1859, in _run_once\n",
      "      handle._run()\n",
      "    File \"C:\\Users\\zacha\\anaconda3\\envs\\dlc-gpu1\\lib\\asyncio\\events.py\", line 81, in _run\n",
      "      self._context.run(self._callback, *self._args)\n",
      "    File \"C:\\Users\\zacha\\anaconda3\\envs\\dlc-gpu1\\lib\\site-packages\\ipykernel\\kernelbase.py\", line 513, in dispatch_queue\n",
      "      await self.process_one()\n",
      "    File \"C:\\Users\\zacha\\anaconda3\\envs\\dlc-gpu1\\lib\\site-packages\\ipykernel\\kernelbase.py\", line 502, in process_one\n",
      "      await dispatch(*args)\n",
      "    File \"C:\\Users\\zacha\\anaconda3\\envs\\dlc-gpu1\\lib\\site-packages\\ipykernel\\kernelbase.py\", line 409, in dispatch_shell\n",
      "      await result\n",
      "    File \"C:\\Users\\zacha\\anaconda3\\envs\\dlc-gpu1\\lib\\site-packages\\ipykernel\\kernelbase.py\", line 729, in execute_request\n",
      "      reply_content = await reply_content\n",
      "    File \"C:\\Users\\zacha\\anaconda3\\envs\\dlc-gpu1\\lib\\site-packages\\ipykernel\\ipkernel.py\", line 423, in do_execute\n",
      "      res = shell.run_cell(\n",
      "    File \"C:\\Users\\zacha\\anaconda3\\envs\\dlc-gpu1\\lib\\site-packages\\ipykernel\\zmqshell.py\", line 540, in run_cell\n",
      "      return super().run_cell(*args, **kwargs)\n",
      "    File \"C:\\Users\\zacha\\anaconda3\\envs\\dlc-gpu1\\lib\\site-packages\\IPython\\core\\interactiveshell.py\", line 2945, in run_cell\n",
      "      result = self._run_cell(\n",
      "    File \"C:\\Users\\zacha\\anaconda3\\envs\\dlc-gpu1\\lib\\site-packages\\IPython\\core\\interactiveshell.py\", line 3000, in _run_cell\n",
      "      return runner(coro)\n",
      "    File \"C:\\Users\\zacha\\anaconda3\\envs\\dlc-gpu1\\lib\\site-packages\\IPython\\core\\async_helpers.py\", line 129, in _pseudo_sync_runner\n",
      "      coro.send(None)\n",
      "    File \"C:\\Users\\zacha\\anaconda3\\envs\\dlc-gpu1\\lib\\site-packages\\IPython\\core\\interactiveshell.py\", line 3203, in run_cell_async\n",
      "      has_raised = await self.run_ast_nodes(code_ast.body, cell_name,\n",
      "    File \"C:\\Users\\zacha\\anaconda3\\envs\\dlc-gpu1\\lib\\site-packages\\IPython\\core\\interactiveshell.py\", line 3382, in run_ast_nodes\n",
      "      if await self.run_code(code, result, async_=asy):\n",
      "    File \"C:\\Users\\zacha\\anaconda3\\envs\\dlc-gpu1\\lib\\site-packages\\IPython\\core\\interactiveshell.py\", line 3442, in run_code\n",
      "      exec(code_obj, self.user_global_ns, self.user_ns)\n",
      "    File \"C:\\Users\\zacha\\AppData\\Local\\Temp\\ipykernel_2536\\318815351.py\", line 1, in <module>\n",
      "      deeplabcut.train_network(\n",
      "    File \"C:\\Users\\zacha\\anaconda3\\envs\\dlc-gpu1\\lib\\site-packages\\deeplabcut\\pose_estimation_tensorflow\\training.py\", line 212, in train_network\n",
      "      train(\n",
      "    File \"C:\\Users\\zacha\\anaconda3\\envs\\dlc-gpu1\\lib\\site-packages\\deeplabcut\\pose_estimation_tensorflow\\core\\train.py\", line 171, in train\n",
      "      batch, enqueue_op, placeholders = setup_preloading(batch_spec)\n",
      "    File \"C:\\Users\\zacha\\anaconda3\\envs\\dlc-gpu1\\lib\\site-packages\\deeplabcut\\pose_estimation_tensorflow\\core\\train.py\", line 71, in setup_preloading\n",
      "      enqueue_op = q.enqueue(placeholders_list)\n",
      "Node: 'fifo_queue_enqueue'\n",
      "Enqueue operation was cancelled\n",
      "\t [[{{node fifo_queue_enqueue}}]]\n",
      "\n",
      "Original stack trace for 'fifo_queue_enqueue':\n",
      "  File \"C:\\Users\\zacha\\anaconda3\\envs\\dlc-gpu1\\lib\\runpy.py\", line 194, in _run_module_as_main\n",
      "    return _run_code(code, main_globals, None,\n",
      "  File \"C:\\Users\\zacha\\anaconda3\\envs\\dlc-gpu1\\lib\\runpy.py\", line 87, in _run_code\n",
      "    exec(code, run_globals)\n",
      "  File \"C:\\Users\\zacha\\anaconda3\\envs\\dlc-gpu1\\lib\\site-packages\\ipykernel_launcher.py\", line 17, in <module>\n",
      "    app.launch_new_instance()\n",
      "  File \"C:\\Users\\zacha\\anaconda3\\envs\\dlc-gpu1\\lib\\site-packages\\traitlets\\config\\application.py\", line 1043, in launch_instance\n",
      "    app.start()\n",
      "  File \"C:\\Users\\zacha\\anaconda3\\envs\\dlc-gpu1\\lib\\site-packages\\ipykernel\\kernelapp.py\", line 728, in start\n",
      "    self.io_loop.start()\n",
      "  File \"C:\\Users\\zacha\\anaconda3\\envs\\dlc-gpu1\\lib\\site-packages\\tornado\\platform\\asyncio.py\", line 215, in start\n",
      "    self.asyncio_loop.run_forever()\n",
      "  File \"C:\\Users\\zacha\\anaconda3\\envs\\dlc-gpu1\\lib\\asyncio\\base_events.py\", line 570, in run_forever\n",
      "    self._run_once()\n",
      "  File \"C:\\Users\\zacha\\anaconda3\\envs\\dlc-gpu1\\lib\\asyncio\\base_events.py\", line 1859, in _run_once\n",
      "    handle._run()\n",
      "  File \"C:\\Users\\zacha\\anaconda3\\envs\\dlc-gpu1\\lib\\asyncio\\events.py\", line 81, in _run\n",
      "    self._context.run(self._callback, *self._args)\n",
      "  File \"C:\\Users\\zacha\\anaconda3\\envs\\dlc-gpu1\\lib\\site-packages\\ipykernel\\kernelbase.py\", line 513, in dispatch_queue\n",
      "    await self.process_one()\n",
      "  File \"C:\\Users\\zacha\\anaconda3\\envs\\dlc-gpu1\\lib\\site-packages\\ipykernel\\kernelbase.py\", line 502, in process_one\n",
      "    await dispatch(*args)\n",
      "  File \"C:\\Users\\zacha\\anaconda3\\envs\\dlc-gpu1\\lib\\site-packages\\ipykernel\\kernelbase.py\", line 409, in dispatch_shell\n",
      "    await result\n",
      "  File \"C:\\Users\\zacha\\anaconda3\\envs\\dlc-gpu1\\lib\\site-packages\\ipykernel\\kernelbase.py\", line 729, in execute_request\n",
      "    reply_content = await reply_content\n",
      "  File \"C:\\Users\\zacha\\anaconda3\\envs\\dlc-gpu1\\lib\\site-packages\\ipykernel\\ipkernel.py\", line 423, in do_execute\n",
      "    res = shell.run_cell(\n",
      "  File \"C:\\Users\\zacha\\anaconda3\\envs\\dlc-gpu1\\lib\\site-packages\\ipykernel\\zmqshell.py\", line 540, in run_cell\n",
      "    return super().run_cell(*args, **kwargs)\n",
      "  File \"C:\\Users\\zacha\\anaconda3\\envs\\dlc-gpu1\\lib\\site-packages\\IPython\\core\\interactiveshell.py\", line 2945, in run_cell\n",
      "    result = self._run_cell(\n",
      "  File \"C:\\Users\\zacha\\anaconda3\\envs\\dlc-gpu1\\lib\\site-packages\\IPython\\core\\interactiveshell.py\", line 3000, in _run_cell\n",
      "    return runner(coro)\n",
      "  File \"C:\\Users\\zacha\\anaconda3\\envs\\dlc-gpu1\\lib\\site-packages\\IPython\\core\\async_helpers.py\", line 129, in _pseudo_sync_runner\n",
      "    coro.send(None)\n",
      "  File \"C:\\Users\\zacha\\anaconda3\\envs\\dlc-gpu1\\lib\\site-packages\\IPython\\core\\interactiveshell.py\", line 3203, in run_cell_async\n",
      "    has_raised = await self.run_ast_nodes(code_ast.body, cell_name,\n",
      "  File \"C:\\Users\\zacha\\anaconda3\\envs\\dlc-gpu1\\lib\\site-packages\\IPython\\core\\interactiveshell.py\", line 3382, in run_ast_nodes\n",
      "    if await self.run_code(code, result, async_=asy):\n",
      "  File \"C:\\Users\\zacha\\anaconda3\\envs\\dlc-gpu1\\lib\\site-packages\\IPython\\core\\interactiveshell.py\", line 3442, in run_code\n",
      "    exec(code_obj, self.user_global_ns, self.user_ns)\n",
      "  File \"C:\\Users\\zacha\\AppData\\Local\\Temp\\ipykernel_2536\\318815351.py\", line 1, in <module>\n",
      "    deeplabcut.train_network(\n",
      "  File \"C:\\Users\\zacha\\anaconda3\\envs\\dlc-gpu1\\lib\\site-packages\\deeplabcut\\pose_estimation_tensorflow\\training.py\", line 212, in train_network\n",
      "    train(\n",
      "  File \"C:\\Users\\zacha\\anaconda3\\envs\\dlc-gpu1\\lib\\site-packages\\deeplabcut\\pose_estimation_tensorflow\\core\\train.py\", line 171, in train\n",
      "    batch, enqueue_op, placeholders = setup_preloading(batch_spec)\n",
      "  File \"C:\\Users\\zacha\\anaconda3\\envs\\dlc-gpu1\\lib\\site-packages\\deeplabcut\\pose_estimation_tensorflow\\core\\train.py\", line 71, in setup_preloading\n",
      "    enqueue_op = q.enqueue(placeholders_list)\n",
      "  File \"C:\\Users\\zacha\\anaconda3\\envs\\dlc-gpu1\\lib\\site-packages\\tensorflow\\python\\ops\\data_flow_ops.py\", line 346, in enqueue\n",
      "    return gen_data_flow_ops.queue_enqueue_v2(\n",
      "  File \"C:\\Users\\zacha\\anaconda3\\envs\\dlc-gpu1\\lib\\site-packages\\tensorflow\\python\\ops\\gen_data_flow_ops.py\", line 4062, in queue_enqueue_v2\n",
      "    _, _, _op, _outputs = _op_def_library._apply_op_helper(\n",
      "  File \"C:\\Users\\zacha\\anaconda3\\envs\\dlc-gpu1\\lib\\site-packages\\tensorflow\\python\\framework\\op_def_library.py\", line 797, in _apply_op_helper\n",
      "    op = g._create_op_internal(op_type_name, inputs, dtypes=None,\n",
      "  File \"C:\\Users\\zacha\\anaconda3\\envs\\dlc-gpu1\\lib\\site-packages\\tensorflow\\python\\framework\\ops.py\", line 3800, in _create_op_internal\n",
      "    ret = Operation(\n",
      "\n"
     ]
    },
    {
     "name": "stdout",
     "output_type": "stream",
     "text": [
      "The network is now trained and ready to evaluate. Use the function 'evaluate_network' to evaluate the network.\n"
     ]
    }
   ],
   "source": [
    "deeplabcut.train_network(\n",
    "    config_path,\n",
    "    shuffle=3,\n",
    "    trainingsetindex=0,\n",
    "    max_snapshots_to_keep=5,\n",
    "    displayiters=1000,\n",
    "    saveiters=10000,\n",
    "    maxiters=1000000,\n",
    "    allow_growth=True,\n",
    "    gputouse=notebook_gpu,\n",
    "    autotune=False,\n",
    "    keepdeconvweights=True,\n",
    "    modelprefix='',\n",
    ")"
   ]
  },
  {
   "attachments": {},
   "cell_type": "markdown",
   "id": "50721d45",
   "metadata": {},
   "source": [
    "## (H) Evaluate the Trained Network"
   ]
  },
  {
   "cell_type": "code",
   "execution_count": null,
   "id": "65d2c77c",
   "metadata": {},
   "outputs": [],
   "source": [
    "deeplabcut.evaluate_network?"
   ]
  },
  {
   "cell_type": "code",
   "execution_count": 8,
   "id": "89f84b89",
   "metadata": {
    "scrolled": true
   },
   "outputs": [
    {
     "name": "stderr",
     "output_type": "stream",
     "text": [
      "Config:\n",
      "{'all_joints': [[0], [1], [2], [3], [4], [5], [6], [7], [8], [9]],\n",
      " 'all_joints_names': ['RKNE',\n",
      "                      'RANK',\n",
      "                      'RD3M',\n",
      "                      'RD1M',\n",
      "                      'RHLX',\n",
      "                      'LHLX',\n",
      "                      'LD1M',\n",
      "                      'LD3M',\n",
      "                      'LANK',\n",
      "                      'LKNE'],\n",
      " 'batch_size': 1,\n",
      " 'crop_pad': 0,\n",
      " 'dataset': 'training-datasets\\\\iteration-0\\\\UnaugmentedDataSet_AVI-DYS-lower-limbApr19\\\\AVI-DYS-lower-limb_zach_roth95shuffle1.mat',\n",
      " 'dataset_type': 'imgaug',\n",
      " 'deterministic': False,\n",
      " 'fg_fraction': 0.25,\n",
      " 'global_scale': 0.8,\n",
      " 'init_weights': 'C:\\\\Users\\\\zacha\\\\anaconda3\\\\envs\\\\dlc-gpu1\\\\lib\\\\site-packages\\\\deeplabcut\\\\pose_estimation_tensorflow\\\\models\\\\pretrained\\\\resnet_v1_152.ckpt',\n",
      " 'intermediate_supervision': False,\n",
      " 'intermediate_supervision_layer': 12,\n",
      " 'location_refinement': True,\n",
      " 'locref_huber_loss': True,\n",
      " 'locref_loss_weight': 1.0,\n",
      " 'locref_stdev': 7.2801,\n",
      " 'log_dir': 'log',\n",
      " 'mean_pixel': [123.68, 116.779, 103.939],\n",
      " 'mirror': False,\n",
      " 'net_type': 'resnet_152',\n",
      " 'num_joints': 10,\n",
      " 'optimizer': 'sgd',\n",
      " 'pairwise_huber_loss': True,\n",
      " 'pairwise_predict': False,\n",
      " 'partaffinityfield_predict': False,\n",
      " 'regularize': False,\n",
      " 'scoremap_dir': 'test',\n",
      " 'shuffle': True,\n",
      " 'snapshot_prefix': 'C:\\\\Users\\\\zacha\\\\Repos\\\\AVI-DYS\\\\AVI-DYS-lower-limb-zach_roth-2023-04-19\\\\dlc-models\\\\iteration-0\\\\AVI-DYS-lower-limbApr19-trainset95shuffle1\\\\test\\\\snapshot',\n",
      " 'stride': 8.0,\n",
      " 'weigh_negatives': False,\n",
      " 'weigh_only_present_joints': False,\n",
      " 'weigh_part_predictions': False,\n",
      " 'weight_decay': 0.0001}\n",
      "C:\\Users\\zacha\\anaconda3\\envs\\dlc-gpu1\\lib\\site-packages\\tensorflow\\python\\keras\\engine\\base_layer_v1.py:1694: UserWarning: `layer.apply` is deprecated and will be removed in a future version. Please use `layer.__call__` method instead.\n",
      "  warnings.warn('`layer.apply` is deprecated and '\n"
     ]
    },
    {
     "name": "stdout",
     "output_type": "stream",
     "text": [
      "Running  DLC_resnet152_AVI-DYS-lower-limbApr19shuffle1_1000000  with # of training iterations: 1000000\n",
      "Running evaluation ...\n"
     ]
    },
    {
     "name": "stderr",
     "output_type": "stream",
     "text": [
      "740it [00:25, 28.86it/s]\n"
     ]
    },
    {
     "name": "stdout",
     "output_type": "stream",
     "text": [
      "Analysis is done and the results are stored (see evaluation-results) for snapshot:  snapshot-1000000\n",
      "Results for 1000000  training iterations: 95 1 train error: 2.02 pixels. Test error: 4.04  pixels.\n",
      "With pcutoff of 0.8  train error: 1.57 pixels. Test error: 2.5 pixels\n",
      "Thereby, the errors are given by the average distances between the labels by DLC and the scorer.\n",
      "Plotting...\n"
     ]
    },
    {
     "name": "stderr",
     "output_type": "stream",
     "text": [
      "100%|██████████| 740/740 [01:40<00:00,  7.34it/s]\n",
      "Config:\n",
      "{'all_joints': [[0], [1], [2], [3], [4], [5], [6], [7], [8], [9]],\n",
      " 'all_joints_names': ['RKNE',\n",
      "                      'RANK',\n",
      "                      'RD3M',\n",
      "                      'RD1M',\n",
      "                      'RHLX',\n",
      "                      'LHLX',\n",
      "                      'LD1M',\n",
      "                      'LD3M',\n",
      "                      'LANK',\n",
      "                      'LKNE'],\n",
      " 'batch_size': 1,\n",
      " 'crop_pad': 0,\n",
      " 'dataset': 'training-datasets\\\\iteration-0\\\\UnaugmentedDataSet_AVI-DYS-lower-limbApr19\\\\AVI-DYS-lower-limb_zach_roth95shuffle2.mat',\n",
      " 'dataset_type': 'imgaug',\n",
      " 'deterministic': False,\n",
      " 'fg_fraction': 0.25,\n",
      " 'global_scale': 0.8,\n",
      " 'init_weights': 'C:\\\\Users\\\\zacha\\\\anaconda3\\\\envs\\\\dlc-gpu1\\\\lib\\\\site-packages\\\\deeplabcut\\\\pose_estimation_tensorflow\\\\models\\\\pretrained\\\\resnet_v1_152.ckpt',\n",
      " 'intermediate_supervision': False,\n",
      " 'intermediate_supervision_layer': 12,\n",
      " 'location_refinement': True,\n",
      " 'locref_huber_loss': True,\n",
      " 'locref_loss_weight': 1.0,\n",
      " 'locref_stdev': 7.2801,\n",
      " 'log_dir': 'log',\n",
      " 'mean_pixel': [123.68, 116.779, 103.939],\n",
      " 'mirror': False,\n",
      " 'net_type': 'resnet_152',\n",
      " 'num_joints': 10,\n",
      " 'optimizer': 'sgd',\n",
      " 'pairwise_huber_loss': True,\n",
      " 'pairwise_predict': False,\n",
      " 'partaffinityfield_predict': False,\n",
      " 'regularize': False,\n",
      " 'scoremap_dir': 'test',\n",
      " 'shuffle': True,\n",
      " 'snapshot_prefix': 'C:\\\\Users\\\\zacha\\\\Repos\\\\AVI-DYS\\\\AVI-DYS-lower-limb-zach_roth-2023-04-19\\\\dlc-models\\\\iteration-0\\\\AVI-DYS-lower-limbApr19-trainset95shuffle2\\\\test\\\\snapshot',\n",
      " 'stride': 8.0,\n",
      " 'weigh_negatives': False,\n",
      " 'weigh_only_present_joints': False,\n",
      " 'weigh_part_predictions': False,\n",
      " 'weight_decay': 0.0001}\n",
      "C:\\Users\\zacha\\anaconda3\\envs\\dlc-gpu1\\lib\\site-packages\\tensorflow\\python\\keras\\engine\\base_layer_v1.py:1694: UserWarning: `layer.apply` is deprecated and will be removed in a future version. Please use `layer.__call__` method instead.\n",
      "  warnings.warn('`layer.apply` is deprecated and '\n"
     ]
    },
    {
     "name": "stdout",
     "output_type": "stream",
     "text": [
      "The network is evaluated and the results are stored in the subdirectory 'evaluation_results'.\n",
      "Please check the results, then choose the best model (snapshot) for prediction. You can update the config.yaml file with the appropriate index for the 'snapshotindex'.\n",
      "Use the function 'analyze_video' to make predictions on new videos.\n",
      "Otherwise, consider adding more labeled-data and retraining the network (see DeepLabCut workflow Fig 2, Nath 2019)\n",
      "Running  DLC_resnet152_AVI-DYS-lower-limbApr19shuffle2_1000000  with # of training iterations: 1000000\n",
      "Running evaluation ...\n"
     ]
    },
    {
     "name": "stderr",
     "output_type": "stream",
     "text": [
      "740it [00:25, 29.22it/s]\n"
     ]
    },
    {
     "name": "stdout",
     "output_type": "stream",
     "text": [
      "Analysis is done and the results are stored (see evaluation-results) for snapshot:  snapshot-1000000\n",
      "Results for 1000000  training iterations: 95 2 train error: 1.95 pixels. Test error: 2.88  pixels.\n",
      "With pcutoff of 0.8  train error: 1.5 pixels. Test error: 2.88 pixels\n",
      "Thereby, the errors are given by the average distances between the labels by DLC and the scorer.\n",
      "Plotting...\n"
     ]
    },
    {
     "name": "stderr",
     "output_type": "stream",
     "text": [
      "100%|██████████| 740/740 [01:40<00:00,  7.37it/s]\n",
      "Config:\n",
      "{'all_joints': [[0], [1], [2], [3], [4], [5], [6], [7], [8], [9]],\n",
      " 'all_joints_names': ['RKNE',\n",
      "                      'RANK',\n",
      "                      'RD3M',\n",
      "                      'RD1M',\n",
      "                      'RHLX',\n",
      "                      'LHLX',\n",
      "                      'LD1M',\n",
      "                      'LD3M',\n",
      "                      'LANK',\n",
      "                      'LKNE'],\n",
      " 'batch_size': 1,\n",
      " 'crop_pad': 0,\n",
      " 'dataset': 'training-datasets\\\\iteration-0\\\\UnaugmentedDataSet_AVI-DYS-lower-limbApr19\\\\AVI-DYS-lower-limb_zach_roth95shuffle3.mat',\n",
      " 'dataset_type': 'imgaug',\n",
      " 'deterministic': False,\n",
      " 'fg_fraction': 0.25,\n",
      " 'global_scale': 0.8,\n",
      " 'init_weights': 'C:\\\\Users\\\\zacha\\\\anaconda3\\\\envs\\\\dlc-gpu1\\\\lib\\\\site-packages\\\\deeplabcut\\\\pose_estimation_tensorflow\\\\models\\\\pretrained\\\\resnet_v1_152.ckpt',\n",
      " 'intermediate_supervision': False,\n",
      " 'intermediate_supervision_layer': 12,\n",
      " 'location_refinement': True,\n",
      " 'locref_huber_loss': True,\n",
      " 'locref_loss_weight': 1.0,\n",
      " 'locref_stdev': 7.2801,\n",
      " 'log_dir': 'log',\n",
      " 'mean_pixel': [123.68, 116.779, 103.939],\n",
      " 'mirror': False,\n",
      " 'net_type': 'resnet_152',\n",
      " 'num_joints': 10,\n",
      " 'optimizer': 'sgd',\n",
      " 'pairwise_huber_loss': True,\n",
      " 'pairwise_predict': False,\n",
      " 'partaffinityfield_predict': False,\n",
      " 'regularize': False,\n",
      " 'scoremap_dir': 'test',\n",
      " 'shuffle': True,\n",
      " 'snapshot_prefix': 'C:\\\\Users\\\\zacha\\\\Repos\\\\AVI-DYS\\\\AVI-DYS-lower-limb-zach_roth-2023-04-19\\\\dlc-models\\\\iteration-0\\\\AVI-DYS-lower-limbApr19-trainset95shuffle3\\\\test\\\\snapshot',\n",
      " 'stride': 8.0,\n",
      " 'weigh_negatives': False,\n",
      " 'weigh_only_present_joints': False,\n",
      " 'weigh_part_predictions': False,\n",
      " 'weight_decay': 0.0001}\n",
      "C:\\Users\\zacha\\anaconda3\\envs\\dlc-gpu1\\lib\\site-packages\\tensorflow\\python\\keras\\engine\\base_layer_v1.py:1694: UserWarning: `layer.apply` is deprecated and will be removed in a future version. Please use `layer.__call__` method instead.\n",
      "  warnings.warn('`layer.apply` is deprecated and '\n"
     ]
    },
    {
     "name": "stdout",
     "output_type": "stream",
     "text": [
      "The network is evaluated and the results are stored in the subdirectory 'evaluation_results'.\n",
      "Please check the results, then choose the best model (snapshot) for prediction. You can update the config.yaml file with the appropriate index for the 'snapshotindex'.\n",
      "Use the function 'analyze_video' to make predictions on new videos.\n",
      "Otherwise, consider adding more labeled-data and retraining the network (see DeepLabCut workflow Fig 2, Nath 2019)\n",
      "Running  DLC_resnet152_AVI-DYS-lower-limbApr19shuffle3_1000000  with # of training iterations: 1000000\n",
      "Running evaluation ...\n"
     ]
    },
    {
     "name": "stderr",
     "output_type": "stream",
     "text": [
      "740it [00:25, 29.22it/s]\n"
     ]
    },
    {
     "name": "stdout",
     "output_type": "stream",
     "text": [
      "Analysis is done and the results are stored (see evaluation-results) for snapshot:  snapshot-1000000\n",
      "Results for 1000000  training iterations: 95 3 train error: 1.89 pixels. Test error: 3.61  pixels.\n",
      "With pcutoff of 0.8  train error: 1.54 pixels. Test error: 2.92 pixels\n",
      "Thereby, the errors are given by the average distances between the labels by DLC and the scorer.\n",
      "Plotting...\n"
     ]
    },
    {
     "name": "stderr",
     "output_type": "stream",
     "text": [
      "100%|██████████| 740/740 [01:40<00:00,  7.33it/s]"
     ]
    },
    {
     "name": "stdout",
     "output_type": "stream",
     "text": [
      "The network is evaluated and the results are stored in the subdirectory 'evaluation_results'.\n",
      "Please check the results, then choose the best model (snapshot) for prediction. You can update the config.yaml file with the appropriate index for the 'snapshotindex'.\n",
      "Use the function 'analyze_video' to make predictions on new videos.\n",
      "Otherwise, consider adding more labeled-data and retraining the network (see DeepLabCut workflow Fig 2, Nath 2019)\n"
     ]
    },
    {
     "name": "stderr",
     "output_type": "stream",
     "text": [
      "\n"
     ]
    },
    {
     "data": {
      "image/png": "[encoded data removed]",
      "text/plain": [
       "<Figure size 280x654 with 1 Axes>"
      ]
     },
     "metadata": {},
     "output_type": "display_data"
    },
    {
     "data": {
      "image/png": "[encoded data removed]",
      "text/plain": [
       "<Figure size 280x654 with 1 Axes>"
      ]
     },
     "metadata": {},
     "output_type": "display_data"
    },
    {
     "data": {
      "image/png": "[encoded data removed]",
      "text/plain": [
       "<Figure size 280x654 with 1 Axes>"
      ]
     },
     "metadata": {},
     "output_type": "display_data"
    }
   ],
   "source": [
    "deeplabcut.evaluate_network(\n",
    "    config_path,\n",
    "    Shuffles=[1,2,3],\n",
    "    trainingsetindex=0,\n",
    "    plotting=True,\n",
    "    show_errors=True,\n",
    "    comparisonbodyparts='all',\n",
    "    gputouse=notebook_gpu,\n",
    "    rescale=False,\n",
    "    modelprefix='',\n",
    ")"
   ]
  },
  {
   "attachments": {},
   "cell_type": "markdown",
   "id": "5384589d",
   "metadata": {},
   "source": [
    "## (I) Novel Video Analysis"
   ]
  },
  {
   "cell_type": "code",
   "execution_count": 4,
   "id": "4829c74a",
   "metadata": {},
   "outputs": [],
   "source": [
    "deeplabcut.analyze_videos?"
   ]
  },
  {
   "cell_type": "code",
   "execution_count": 9,
   "id": "3a30059d",
   "metadata": {
    "scrolled": true
   },
   "outputs": [
    {
     "name": "stderr",
     "output_type": "stream",
     "text": [
      "Config:\n",
      "{'all_joints': [[0], [1], [2], [3], [4], [5], [6], [7], [8], [9]],\n",
      " 'all_joints_names': ['RKNE',\n",
      "                      'RANK',\n",
      "                      'RD3M',\n",
      "                      'RD1M',\n",
      "                      'RHLX',\n",
      "                      'LHLX',\n",
      "                      'LD1M',\n",
      "                      'LD3M',\n",
      "                      'LANK',\n",
      "                      'LKNE'],\n",
      " 'batch_size': 1,\n",
      " 'crop_pad': 0,\n",
      " 'dataset': 'training-datasets\\\\iteration-0\\\\UnaugmentedDataSet_AVI-DYS-lower-limbApr19\\\\AVI-DYS-lower-limb_zach_roth95shuffle1.mat',\n",
      " 'dataset_type': 'imgaug',\n",
      " 'deterministic': False,\n",
      " 'fg_fraction': 0.25,\n",
      " 'global_scale': 0.8,\n",
      " 'init_weights': 'C:\\\\Users\\\\zacha\\\\anaconda3\\\\envs\\\\dlc-gpu1\\\\lib\\\\site-packages\\\\deeplabcut\\\\pose_estimation_tensorflow\\\\models\\\\pretrained\\\\resnet_v1_152.ckpt',\n",
      " 'intermediate_supervision': False,\n",
      " 'intermediate_supervision_layer': 12,\n",
      " 'location_refinement': True,\n",
      " 'locref_huber_loss': True,\n",
      " 'locref_loss_weight': 1.0,\n",
      " 'locref_stdev': 7.2801,\n",
      " 'log_dir': 'log',\n",
      " 'mean_pixel': [123.68, 116.779, 103.939],\n",
      " 'mirror': False,\n",
      " 'net_type': 'resnet_152',\n",
      " 'num_joints': 10,\n",
      " 'optimizer': 'sgd',\n",
      " 'pairwise_huber_loss': True,\n",
      " 'pairwise_predict': False,\n",
      " 'partaffinityfield_predict': False,\n",
      " 'regularize': False,\n",
      " 'scoremap_dir': 'test',\n",
      " 'shuffle': True,\n",
      " 'snapshot_prefix': 'C:\\\\Users\\\\zacha\\\\Repos\\\\AVI-DYS\\\\AVI-DYS-lower-limb-zach_roth-2023-04-19\\\\dlc-models\\\\iteration-0\\\\AVI-DYS-lower-limbApr19-trainset95shuffle1\\\\test\\\\snapshot',\n",
      " 'stride': 8.0,\n",
      " 'weigh_negatives': False,\n",
      " 'weigh_only_present_joints': False,\n",
      " 'weigh_part_predictions': False,\n",
      " 'weight_decay': 0.0001}\n",
      "C:\\Users\\zacha\\anaconda3\\envs\\dlc-gpu1\\lib\\site-packages\\tensorflow\\python\\keras\\engine\\base_layer_v1.py:1694: UserWarning: `layer.apply` is deprecated and will be removed in a future version. Please use `layer.__call__` method instead.\n",
      "  warnings.warn('`layer.apply` is deprecated and '\n"
     ]
    },
    {
     "name": "stdout",
     "output_type": "stream",
     "text": [
      "Using snapshot-1000000 for model C:\\Users\\zacha\\Repos\\AVI-DYS\\AVI-DYS-lower-limb-zach_roth-2023-04-19\\dlc-models\\iteration-0\\AVI-DYS-lower-limbApr19-trainset95shuffle1\n",
      "Analyzing all the videos in the directory...\n",
      "Starting to analyze %  C:\\Users\\zacha\\Repos\\AVI-DYS\\AVI-DYS-lower-limb-zach_roth-2023-04-19\\videos\\001-11cropped.mp4\n",
      "Loading  C:\\Users\\zacha\\Repos\\AVI-DYS\\AVI-DYS-lower-limb-zach_roth-2023-04-19\\videos\\001-11cropped.mp4\n",
      "Duration of video [s]:  8.24 , recorded with  25.0 fps!\n",
      "Overall # of frames:  206  found with (before cropping) frame dimensions:  284 588\n",
      "Starting to extract posture\n"
     ]
    },
    {
     "name": "stderr",
     "output_type": "stream",
     "text": [
      "100%|██████████| 206/206 [00:02<00:00, 84.74it/s] \n"
     ]
    },
    {
     "name": "stdout",
     "output_type": "stream",
     "text": [
      "Saving results in C:\\Users\\zacha\\Repos\\AVI-DYS\\AVI-DYS-lower-limb-zach_roth-2023-04-19\\videos...\n",
      "Saving csv poses!\n",
      "Starting to analyze %  C:\\Users\\zacha\\Repos\\AVI-DYS\\AVI-DYS-lower-limb-zach_roth-2023-04-19\\videos\\001-12cropped.mp4\n",
      "Loading  C:\\Users\\zacha\\Repos\\AVI-DYS\\AVI-DYS-lower-limb-zach_roth-2023-04-19\\videos\\001-12cropped.mp4\n",
      "Duration of video [s]:  16.08 , recorded with  25.0 fps!\n",
      "Overall # of frames:  402  found with (before cropping) frame dimensions:  376 720\n",
      "Starting to extract posture\n"
     ]
    },
    {
     "name": "stderr",
     "output_type": "stream",
     "text": [
      "100%|██████████| 402/402 [00:04<00:00, 81.10it/s]\n"
     ]
    },
    {
     "name": "stdout",
     "output_type": "stream",
     "text": [
      "Saving results in C:\\Users\\zacha\\Repos\\AVI-DYS\\AVI-DYS-lower-limb-zach_roth-2023-04-19\\videos...\n",
      "Saving csv poses!\n",
      "Starting to analyze %  C:\\Users\\zacha\\Repos\\AVI-DYS\\AVI-DYS-lower-limb-zach_roth-2023-04-19\\videos\\003-11cropped.mp4\n",
      "Loading  C:\\Users\\zacha\\Repos\\AVI-DYS\\AVI-DYS-lower-limb-zach_roth-2023-04-19\\videos\\003-11cropped.mp4\n",
      "Duration of video [s]:  5.4 , recorded with  25.0 fps!\n",
      "Overall # of frames:  135  found with (before cropping) frame dimensions:  346 618\n",
      "Starting to extract posture\n"
     ]
    },
    {
     "name": "stderr",
     "output_type": "stream",
     "text": [
      "100%|██████████| 135/135 [00:01<00:00, 68.23it/s] \n"
     ]
    },
    {
     "name": "stdout",
     "output_type": "stream",
     "text": [
      "Saving results in C:\\Users\\zacha\\Repos\\AVI-DYS\\AVI-DYS-lower-limb-zach_roth-2023-04-19\\videos...\n",
      "Saving csv poses!\n",
      "Starting to analyze %  C:\\Users\\zacha\\Repos\\AVI-DYS\\AVI-DYS-lower-limb-zach_roth-2023-04-19\\videos\\003-12cropped.mp4\n",
      "Loading  C:\\Users\\zacha\\Repos\\AVI-DYS\\AVI-DYS-lower-limb-zach_roth-2023-04-19\\videos\\003-12cropped.mp4\n",
      "Duration of video [s]:  12.48 , recorded with  25.0 fps!\n",
      "Overall # of frames:  312  found with (before cropping) frame dimensions:  322 564\n",
      "Starting to extract posture\n"
     ]
    },
    {
     "name": "stderr",
     "output_type": "stream",
     "text": [
      "100%|██████████| 312/312 [00:03<00:00, 95.33it/s] \n"
     ]
    },
    {
     "name": "stdout",
     "output_type": "stream",
     "text": [
      "Saving results in C:\\Users\\zacha\\Repos\\AVI-DYS\\AVI-DYS-lower-limb-zach_roth-2023-04-19\\videos...\n",
      "Saving csv poses!\n",
      "Starting to analyze %  C:\\Users\\zacha\\Repos\\AVI-DYS\\AVI-DYS-lower-limb-zach_roth-2023-04-19\\videos\\004-11cropped.mp4\n",
      "Loading  C:\\Users\\zacha\\Repos\\AVI-DYS\\AVI-DYS-lower-limb-zach_roth-2023-04-19\\videos\\004-11cropped.mp4\n",
      "Duration of video [s]:  11.36 , recorded with  25.0 fps!\n",
      "Overall # of frames:  284  found with (before cropping) frame dimensions:  414 828\n",
      "Starting to extract posture\n"
     ]
    },
    {
     "name": "stderr",
     "output_type": "stream",
     "text": [
      "100%|██████████| 284/284 [00:04<00:00, 60.78it/s]\n"
     ]
    },
    {
     "name": "stdout",
     "output_type": "stream",
     "text": [
      "Saving results in C:\\Users\\zacha\\Repos\\AVI-DYS\\AVI-DYS-lower-limb-zach_roth-2023-04-19\\videos...\n",
      "Saving csv poses!\n",
      "Starting to analyze %  C:\\Users\\zacha\\Repos\\AVI-DYS\\AVI-DYS-lower-limb-zach_roth-2023-04-19\\videos\\004-12cropped.mp4\n",
      "Loading  C:\\Users\\zacha\\Repos\\AVI-DYS\\AVI-DYS-lower-limb-zach_roth-2023-04-19\\videos\\004-12cropped.mp4\n",
      "Duration of video [s]:  11.12 , recorded with  25.0 fps!\n",
      "Overall # of frames:  278  found with (before cropping) frame dimensions:  418 824\n",
      "Starting to extract posture\n"
     ]
    },
    {
     "name": "stderr",
     "output_type": "stream",
     "text": [
      "100%|██████████| 278/278 [00:04<00:00, 60.53it/s]\n"
     ]
    },
    {
     "name": "stdout",
     "output_type": "stream",
     "text": [
      "Saving results in C:\\Users\\zacha\\Repos\\AVI-DYS\\AVI-DYS-lower-limb-zach_roth-2023-04-19\\videos...\n",
      "Saving csv poses!\n",
      "Starting to analyze %  C:\\Users\\zacha\\Repos\\AVI-DYS\\AVI-DYS-lower-limb-zach_roth-2023-04-19\\videos\\005-11cropped.mp4\n",
      "Loading  C:\\Users\\zacha\\Repos\\AVI-DYS\\AVI-DYS-lower-limb-zach_roth-2023-04-19\\videos\\005-11cropped.mp4\n",
      "Duration of video [s]:  13.0 , recorded with  25.0 fps!\n",
      "Overall # of frames:  325  found with (before cropping) frame dimensions:  324 592\n",
      "Starting to extract posture\n"
     ]
    },
    {
     "name": "stderr",
     "output_type": "stream",
     "text": [
      "100%|██████████| 325/325 [00:03<00:00, 94.53it/s] \n"
     ]
    },
    {
     "name": "stdout",
     "output_type": "stream",
     "text": [
      "Saving results in C:\\Users\\zacha\\Repos\\AVI-DYS\\AVI-DYS-lower-limb-zach_roth-2023-04-19\\videos...\n",
      "Saving csv poses!\n",
      "Starting to analyze %  C:\\Users\\zacha\\Repos\\AVI-DYS\\AVI-DYS-lower-limb-zach_roth-2023-04-19\\videos\\005-12cropped.mp4\n",
      "Loading  C:\\Users\\zacha\\Repos\\AVI-DYS\\AVI-DYS-lower-limb-zach_roth-2023-04-19\\videos\\005-12cropped.mp4\n",
      "Duration of video [s]:  8.12 , recorded with  25.0 fps!\n",
      "Overall # of frames:  203  found with (before cropping) frame dimensions:  300 578\n",
      "Starting to extract posture\n"
     ]
    },
    {
     "name": "stderr",
     "output_type": "stream",
     "text": [
      "100%|██████████| 203/203 [00:02<00:00, 85.19it/s] \n"
     ]
    },
    {
     "name": "stdout",
     "output_type": "stream",
     "text": [
      "Saving results in C:\\Users\\zacha\\Repos\\AVI-DYS\\AVI-DYS-lower-limb-zach_roth-2023-04-19\\videos...\n",
      "Saving csv poses!\n",
      "Starting to analyze %  C:\\Users\\zacha\\Repos\\AVI-DYS\\AVI-DYS-lower-limb-zach_roth-2023-04-19\\videos\\115-11cropped.mp4\n",
      "Loading  C:\\Users\\zacha\\Repos\\AVI-DYS\\AVI-DYS-lower-limb-zach_roth-2023-04-19\\videos\\115-11cropped.mp4\n",
      "Duration of video [s]:  19.44 , recorded with  25.0 fps!\n",
      "Overall # of frames:  486  found with (before cropping) frame dimensions:  218 448\n",
      "Starting to extract posture\n"
     ]
    },
    {
     "name": "stderr",
     "output_type": "stream",
     "text": [
      "100%|██████████| 486/486 [00:03<00:00, 157.41it/s]\n"
     ]
    },
    {
     "name": "stdout",
     "output_type": "stream",
     "text": [
      "Saving results in C:\\Users\\zacha\\Repos\\AVI-DYS\\AVI-DYS-lower-limb-zach_roth-2023-04-19\\videos...\n",
      "Saving csv poses!\n",
      "Starting to analyze %  C:\\Users\\zacha\\Repos\\AVI-DYS\\AVI-DYS-lower-limb-zach_roth-2023-04-19\\videos\\115-12cropped.mp4\n",
      "Loading  C:\\Users\\zacha\\Repos\\AVI-DYS\\AVI-DYS-lower-limb-zach_roth-2023-04-19\\videos\\115-12cropped.mp4\n",
      "Duration of video [s]:  15.72 , recorded with  25.0 fps!\n",
      "Overall # of frames:  393  found with (before cropping) frame dimensions:  234 444\n",
      "Starting to extract posture\n"
     ]
    },
    {
     "name": "stderr",
     "output_type": "stream",
     "text": [
      "100%|██████████| 393/393 [00:02<00:00, 131.01it/s]\n"
     ]
    },
    {
     "name": "stdout",
     "output_type": "stream",
     "text": [
      "Saving results in C:\\Users\\zacha\\Repos\\AVI-DYS\\AVI-DYS-lower-limb-zach_roth-2023-04-19\\videos...\n",
      "Saving csv poses!\n",
      "Starting to analyze %  C:\\Users\\zacha\\Repos\\AVI-DYS\\AVI-DYS-lower-limb-zach_roth-2023-04-19\\videos\\116-11cropped.mp4\n",
      "Loading  C:\\Users\\zacha\\Repos\\AVI-DYS\\AVI-DYS-lower-limb-zach_roth-2023-04-19\\videos\\116-11cropped.mp4\n",
      "Duration of video [s]:  19.0 , recorded with  25.0 fps!\n",
      "Overall # of frames:  475  found with (before cropping) frame dimensions:  342 484\n",
      "Starting to extract posture\n"
     ]
    },
    {
     "name": "stderr",
     "output_type": "stream",
     "text": [
      "100%|██████████| 475/475 [00:04<00:00, 110.78it/s]\n"
     ]
    },
    {
     "name": "stdout",
     "output_type": "stream",
     "text": [
      "Saving results in C:\\Users\\zacha\\Repos\\AVI-DYS\\AVI-DYS-lower-limb-zach_roth-2023-04-19\\videos...\n",
      "Saving csv poses!\n",
      "Starting to analyze %  C:\\Users\\zacha\\Repos\\AVI-DYS\\AVI-DYS-lower-limb-zach_roth-2023-04-19\\videos\\116-12cropped.mp4\n",
      "Loading  C:\\Users\\zacha\\Repos\\AVI-DYS\\AVI-DYS-lower-limb-zach_roth-2023-04-19\\videos\\116-12cropped.mp4\n",
      "Duration of video [s]:  26.73 , recorded with  30.0 fps!\n",
      "Overall # of frames:  802  found with (before cropping) frame dimensions:  448 578\n",
      "Starting to extract posture\n"
     ]
    },
    {
     "name": "stderr",
     "output_type": "stream",
     "text": [
      "100%|██████████| 802/802 [00:08<00:00, 89.90it/s] \n"
     ]
    },
    {
     "name": "stdout",
     "output_type": "stream",
     "text": [
      "Saving results in C:\\Users\\zacha\\Repos\\AVI-DYS\\AVI-DYS-lower-limb-zach_roth-2023-04-19\\videos...\n",
      "Saving csv poses!\n",
      "Starting to analyze %  C:\\Users\\zacha\\Repos\\AVI-DYS\\AVI-DYS-lower-limb-zach_roth-2023-04-19\\videos\\117-11cropped.mp4\n",
      "Loading  C:\\Users\\zacha\\Repos\\AVI-DYS\\AVI-DYS-lower-limb-zach_roth-2023-04-19\\videos\\117-11cropped.mp4\n",
      "Duration of video [s]:  55.44 , recorded with  25.0 fps!\n",
      "Overall # of frames:  1386  found with (before cropping) frame dimensions:  1920 1080\n",
      "Starting to extract posture\n"
     ]
    },
    {
     "name": "stderr",
     "output_type": "stream",
     "text": [
      "100%|██████████| 1386/1386 [01:35<00:00, 14.57it/s]\n"
     ]
    },
    {
     "name": "stdout",
     "output_type": "stream",
     "text": [
      "Saving results in C:\\Users\\zacha\\Repos\\AVI-DYS\\AVI-DYS-lower-limb-zach_roth-2023-04-19\\videos...\n",
      "Saving csv poses!\n",
      "Starting to analyze %  C:\\Users\\zacha\\Repos\\AVI-DYS\\AVI-DYS-lower-limb-zach_roth-2023-04-19\\videos\\117-12cropped.mp4\n",
      "Loading  C:\\Users\\zacha\\Repos\\AVI-DYS\\AVI-DYS-lower-limb-zach_roth-2023-04-19\\videos\\117-12cropped.mp4\n",
      "Duration of video [s]:  50.28 , recorded with  25.0 fps!\n",
      "Overall # of frames:  1257  found with (before cropping) frame dimensions:  438 574\n",
      "Starting to extract posture\n"
     ]
    },
    {
     "name": "stderr",
     "output_type": "stream",
     "text": [
      "100%|██████████| 1257/1257 [00:12<00:00, 97.05it/s] \n"
     ]
    },
    {
     "name": "stdout",
     "output_type": "stream",
     "text": [
      "Saving results in C:\\Users\\zacha\\Repos\\AVI-DYS\\AVI-DYS-lower-limb-zach_roth-2023-04-19\\videos...\n",
      "Saving csv poses!\n",
      "Starting to analyze %  C:\\Users\\zacha\\Repos\\AVI-DYS\\AVI-DYS-lower-limb-zach_roth-2023-04-19\\videos\\118-11cropped.mp4\n",
      "Loading  C:\\Users\\zacha\\Repos\\AVI-DYS\\AVI-DYS-lower-limb-zach_roth-2023-04-19\\videos\\118-11cropped.mp4\n",
      "Duration of video [s]:  10.6 , recorded with  25.0 fps!\n",
      "Overall # of frames:  265  found with (before cropping) frame dimensions:  256 522\n",
      "Starting to extract posture\n"
     ]
    },
    {
     "name": "stderr",
     "output_type": "stream",
     "text": [
      "100%|██████████| 265/265 [00:02<00:00, 115.60it/s]\n"
     ]
    },
    {
     "name": "stdout",
     "output_type": "stream",
     "text": [
      "Saving results in C:\\Users\\zacha\\Repos\\AVI-DYS\\AVI-DYS-lower-limb-zach_roth-2023-04-19\\videos...\n",
      "Saving csv poses!\n",
      "Starting to analyze %  C:\\Users\\zacha\\Repos\\AVI-DYS\\AVI-DYS-lower-limb-zach_roth-2023-04-19\\videos\\118-12cropped.mp4\n",
      "Loading  C:\\Users\\zacha\\Repos\\AVI-DYS\\AVI-DYS-lower-limb-zach_roth-2023-04-19\\videos\\118-12cropped.mp4\n",
      "Duration of video [s]:  14.4 , recorded with  25.0 fps!\n",
      "Overall # of frames:  360  found with (before cropping) frame dimensions:  1920 1080\n",
      "Starting to extract posture\n"
     ]
    },
    {
     "name": "stderr",
     "output_type": "stream",
     "text": [
      "100%|██████████| 360/360 [00:25<00:00, 14.34it/s]\n"
     ]
    },
    {
     "name": "stdout",
     "output_type": "stream",
     "text": [
      "Saving results in C:\\Users\\zacha\\Repos\\AVI-DYS\\AVI-DYS-lower-limb-zach_roth-2023-04-19\\videos...\n",
      "Saving csv poses!\n",
      "Starting to analyze %  C:\\Users\\zacha\\Repos\\AVI-DYS\\AVI-DYS-lower-limb-zach_roth-2023-04-19\\videos\\120-11cropped.mp4\n",
      "Loading  C:\\Users\\zacha\\Repos\\AVI-DYS\\AVI-DYS-lower-limb-zach_roth-2023-04-19\\videos\\120-11cropped.mp4\n",
      "Duration of video [s]:  24.24 , recorded with  25.0 fps!\n",
      "Overall # of frames:  606  found with (before cropping) frame dimensions:  338 382\n",
      "Starting to extract posture\n"
     ]
    },
    {
     "name": "stderr",
     "output_type": "stream",
     "text": [
      "100%|██████████| 606/606 [00:04<00:00, 151.49it/s]\n"
     ]
    },
    {
     "name": "stdout",
     "output_type": "stream",
     "text": [
      "Saving results in C:\\Users\\zacha\\Repos\\AVI-DYS\\AVI-DYS-lower-limb-zach_roth-2023-04-19\\videos...\n",
      "Saving csv poses!\n",
      "Starting to analyze %  C:\\Users\\zacha\\Repos\\AVI-DYS\\AVI-DYS-lower-limb-zach_roth-2023-04-19\\videos\\120-12cropped.mp4\n",
      "Loading  C:\\Users\\zacha\\Repos\\AVI-DYS\\AVI-DYS-lower-limb-zach_roth-2023-04-19\\videos\\120-12cropped.mp4\n",
      "Duration of video [s]:  31.28 , recorded with  25.0 fps!\n",
      "Overall # of frames:  782  found with (before cropping) frame dimensions:  320 422\n",
      "Starting to extract posture\n"
     ]
    },
    {
     "name": "stderr",
     "output_type": "stream",
     "text": [
      "100%|██████████| 782/782 [00:05<00:00, 154.02it/s]\n"
     ]
    },
    {
     "name": "stdout",
     "output_type": "stream",
     "text": [
      "Saving results in C:\\Users\\zacha\\Repos\\AVI-DYS\\AVI-DYS-lower-limb-zach_roth-2023-04-19\\videos...\n",
      "Saving csv poses!\n",
      "Starting to analyze %  C:\\Users\\zacha\\Repos\\AVI-DYS\\AVI-DYS-lower-limb-zach_roth-2023-04-19\\videos\\121-11cropped.mp4\n",
      "Loading  C:\\Users\\zacha\\Repos\\AVI-DYS\\AVI-DYS-lower-limb-zach_roth-2023-04-19\\videos\\121-11cropped.mp4\n",
      "Duration of video [s]:  29.2 , recorded with  25.0 fps!\n",
      "Overall # of frames:  730  found with (before cropping) frame dimensions:  258 440\n",
      "Starting to extract posture\n"
     ]
    },
    {
     "name": "stderr",
     "output_type": "stream",
     "text": [
      "100%|██████████| 730/730 [00:04<00:00, 149.56it/s]\n"
     ]
    },
    {
     "name": "stdout",
     "output_type": "stream",
     "text": [
      "Saving results in C:\\Users\\zacha\\Repos\\AVI-DYS\\AVI-DYS-lower-limb-zach_roth-2023-04-19\\videos...\n",
      "Saving csv poses!\n",
      "Starting to analyze %  C:\\Users\\zacha\\Repos\\AVI-DYS\\AVI-DYS-lower-limb-zach_roth-2023-04-19\\videos\\121-12cropped.mp4\n",
      "Loading  C:\\Users\\zacha\\Repos\\AVI-DYS\\AVI-DYS-lower-limb-zach_roth-2023-04-19\\videos\\121-12cropped.mp4\n",
      "Duration of video [s]:  26.8 , recorded with  25.0 fps!\n",
      "Overall # of frames:  670  found with (before cropping) frame dimensions:  284 440\n",
      "Starting to extract posture\n"
     ]
    },
    {
     "name": "stderr",
     "output_type": "stream",
     "text": [
      "100%|██████████| 670/670 [00:04<00:00, 155.04it/s]\n"
     ]
    },
    {
     "name": "stdout",
     "output_type": "stream",
     "text": [
      "Saving results in C:\\Users\\zacha\\Repos\\AVI-DYS\\AVI-DYS-lower-limb-zach_roth-2023-04-19\\videos...\n",
      "Saving csv poses!\n",
      "Starting to analyze %  C:\\Users\\zacha\\Repos\\AVI-DYS\\AVI-DYS-lower-limb-zach_roth-2023-04-19\\videos\\122-11cropped.mp4\n",
      "Loading  C:\\Users\\zacha\\Repos\\AVI-DYS\\AVI-DYS-lower-limb-zach_roth-2023-04-19\\videos\\122-11cropped.mp4\n",
      "Duration of video [s]:  26.68 , recorded with  25.0 fps!\n",
      "Overall # of frames:  667  found with (before cropping) frame dimensions:  304 364\n",
      "Starting to extract posture\n"
     ]
    },
    {
     "name": "stderr",
     "output_type": "stream",
     "text": [
      "100%|██████████| 667/667 [00:04<00:00, 165.14it/s]\n"
     ]
    },
    {
     "name": "stdout",
     "output_type": "stream",
     "text": [
      "Saving results in C:\\Users\\zacha\\Repos\\AVI-DYS\\AVI-DYS-lower-limb-zach_roth-2023-04-19\\videos...\n",
      "Saving csv poses!\n",
      "Starting to analyze %  C:\\Users\\zacha\\Repos\\AVI-DYS\\AVI-DYS-lower-limb-zach_roth-2023-04-19\\videos\\122-12cropped.mp4\n",
      "Loading  C:\\Users\\zacha\\Repos\\AVI-DYS\\AVI-DYS-lower-limb-zach_roth-2023-04-19\\videos\\122-12cropped.mp4\n",
      "Duration of video [s]:  29.72 , recorded with  25.0 fps!\n",
      "Overall # of frames:  743  found with (before cropping) frame dimensions:  288 376\n",
      "Starting to extract posture\n"
     ]
    },
    {
     "name": "stderr",
     "output_type": "stream",
     "text": [
      "100%|██████████| 743/743 [00:04<00:00, 170.93it/s]\n"
     ]
    },
    {
     "name": "stdout",
     "output_type": "stream",
     "text": [
      "Saving results in C:\\Users\\zacha\\Repos\\AVI-DYS\\AVI-DYS-lower-limb-zach_roth-2023-04-19\\videos...\n",
      "Saving csv poses!\n",
      "Starting to analyze %  C:\\Users\\zacha\\Repos\\AVI-DYS\\AVI-DYS-lower-limb-zach_roth-2023-04-19\\videos\\123-11cropped.mp4\n",
      "Loading  C:\\Users\\zacha\\Repos\\AVI-DYS\\AVI-DYS-lower-limb-zach_roth-2023-04-19\\videos\\123-11cropped.mp4\n",
      "Duration of video [s]:  31.28 , recorded with  25.0 fps!\n",
      "Overall # of frames:  782  found with (before cropping) frame dimensions:  294 460\n",
      "Starting to extract posture\n"
     ]
    },
    {
     "name": "stderr",
     "output_type": "stream",
     "text": [
      "100%|██████████| 782/782 [00:05<00:00, 152.37it/s]\n"
     ]
    },
    {
     "name": "stdout",
     "output_type": "stream",
     "text": [
      "Saving results in C:\\Users\\zacha\\Repos\\AVI-DYS\\AVI-DYS-lower-limb-zach_roth-2023-04-19\\videos...\n",
      "Saving csv poses!\n",
      "Starting to analyze %  C:\\Users\\zacha\\Repos\\AVI-DYS\\AVI-DYS-lower-limb-zach_roth-2023-04-19\\videos\\123-12cropped.mp4\n",
      "Loading  C:\\Users\\zacha\\Repos\\AVI-DYS\\AVI-DYS-lower-limb-zach_roth-2023-04-19\\videos\\123-12cropped.mp4\n",
      "Duration of video [s]:  28.4 , recorded with  25.0 fps!\n",
      "Overall # of frames:  710  found with (before cropping) frame dimensions:  332 482\n",
      "Starting to extract posture\n"
     ]
    },
    {
     "name": "stderr",
     "output_type": "stream",
     "text": [
      "100%|██████████| 710/710 [00:05<00:00, 127.40it/s]\n"
     ]
    },
    {
     "name": "stdout",
     "output_type": "stream",
     "text": [
      "Saving results in C:\\Users\\zacha\\Repos\\AVI-DYS\\AVI-DYS-lower-limb-zach_roth-2023-04-19\\videos...\n",
      "Saving csv poses!\n",
      "Starting to analyze %  C:\\Users\\zacha\\Repos\\AVI-DYS\\AVI-DYS-lower-limb-zach_roth-2023-04-19\\videos\\125-11cropped.mp4\n",
      "Loading  C:\\Users\\zacha\\Repos\\AVI-DYS\\AVI-DYS-lower-limb-zach_roth-2023-04-19\\videos\\125-11cropped.mp4\n",
      "Duration of video [s]:  33.08 , recorded with  25.0 fps!\n",
      "Overall # of frames:  827  found with (before cropping) frame dimensions:  224 406\n",
      "Starting to extract posture\n"
     ]
    },
    {
     "name": "stderr",
     "output_type": "stream",
     "text": [
      "100%|██████████| 827/827 [00:04<00:00, 183.31it/s]\n"
     ]
    },
    {
     "name": "stdout",
     "output_type": "stream",
     "text": [
      "Saving results in C:\\Users\\zacha\\Repos\\AVI-DYS\\AVI-DYS-lower-limb-zach_roth-2023-04-19\\videos...\n",
      "Saving csv poses!\n",
      "Starting to analyze %  C:\\Users\\zacha\\Repos\\AVI-DYS\\AVI-DYS-lower-limb-zach_roth-2023-04-19\\videos\\125-12cropped.mp4\n",
      "Loading  C:\\Users\\zacha\\Repos\\AVI-DYS\\AVI-DYS-lower-limb-zach_roth-2023-04-19\\videos\\125-12cropped.mp4\n",
      "Duration of video [s]:  34.04 , recorded with  25.0 fps!\n",
      "Overall # of frames:  851  found with (before cropping) frame dimensions:  254 390\n",
      "Starting to extract posture\n"
     ]
    },
    {
     "name": "stderr",
     "output_type": "stream",
     "text": [
      "100%|██████████| 851/851 [00:04<00:00, 179.96it/s]\n"
     ]
    },
    {
     "name": "stdout",
     "output_type": "stream",
     "text": [
      "Saving results in C:\\Users\\zacha\\Repos\\AVI-DYS\\AVI-DYS-lower-limb-zach_roth-2023-04-19\\videos...\n",
      "Saving csv poses!\n",
      "Starting to analyze %  C:\\Users\\zacha\\Repos\\AVI-DYS\\AVI-DYS-lower-limb-zach_roth-2023-04-19\\videos\\126-11cropped.mp4\n",
      "Loading  C:\\Users\\zacha\\Repos\\AVI-DYS\\AVI-DYS-lower-limb-zach_roth-2023-04-19\\videos\\126-11cropped.mp4\n",
      "Duration of video [s]:  22.32 , recorded with  25.0 fps!\n",
      "Overall # of frames:  558  found with (before cropping) frame dimensions:  226 380\n",
      "Starting to extract posture\n"
     ]
    },
    {
     "name": "stderr",
     "output_type": "stream",
     "text": [
      "100%|██████████| 558/558 [00:03<00:00, 169.93it/s]\n"
     ]
    },
    {
     "name": "stdout",
     "output_type": "stream",
     "text": [
      "Saving results in C:\\Users\\zacha\\Repos\\AVI-DYS\\AVI-DYS-lower-limb-zach_roth-2023-04-19\\videos...\n",
      "Saving csv poses!\n",
      "Starting to analyze %  C:\\Users\\zacha\\Repos\\AVI-DYS\\AVI-DYS-lower-limb-zach_roth-2023-04-19\\videos\\126-12cropped.mp4\n",
      "Loading  C:\\Users\\zacha\\Repos\\AVI-DYS\\AVI-DYS-lower-limb-zach_roth-2023-04-19\\videos\\126-12cropped.mp4\n",
      "Duration of video [s]:  26.0 , recorded with  25.0 fps!\n",
      "Overall # of frames:  650  found with (before cropping) frame dimensions:  178 396\n",
      "Starting to extract posture\n"
     ]
    },
    {
     "name": "stderr",
     "output_type": "stream",
     "text": [
      "100%|██████████| 650/650 [00:03<00:00, 210.82it/s]\n"
     ]
    },
    {
     "name": "stdout",
     "output_type": "stream",
     "text": [
      "Saving results in C:\\Users\\zacha\\Repos\\AVI-DYS\\AVI-DYS-lower-limb-zach_roth-2023-04-19\\videos...\n",
      "Saving csv poses!\n",
      "Starting to analyze %  C:\\Users\\zacha\\Repos\\AVI-DYS\\AVI-DYS-lower-limb-zach_roth-2023-04-19\\videos\\127-11cropped.mp4\n",
      "Loading  C:\\Users\\zacha\\Repos\\AVI-DYS\\AVI-DYS-lower-limb-zach_roth-2023-04-19\\videos\\127-11cropped.mp4\n",
      "Duration of video [s]:  19.28 , recorded with  25.0 fps!\n",
      "Overall # of frames:  482  found with (before cropping) frame dimensions:  210 434\n",
      "Starting to extract posture\n"
     ]
    },
    {
     "name": "stderr",
     "output_type": "stream",
     "text": [
      "100%|██████████| 482/482 [00:02<00:00, 162.43it/s]\n"
     ]
    },
    {
     "name": "stdout",
     "output_type": "stream",
     "text": [
      "Saving results in C:\\Users\\zacha\\Repos\\AVI-DYS\\AVI-DYS-lower-limb-zach_roth-2023-04-19\\videos...\n",
      "Saving csv poses!\n",
      "Starting to analyze %  C:\\Users\\zacha\\Repos\\AVI-DYS\\AVI-DYS-lower-limb-zach_roth-2023-04-19\\videos\\127-12cropped.mp4\n",
      "Loading  C:\\Users\\zacha\\Repos\\AVI-DYS\\AVI-DYS-lower-limb-zach_roth-2023-04-19\\videos\\127-12cropped.mp4\n",
      "Duration of video [s]:  17.88 , recorded with  25.0 fps!\n",
      "Overall # of frames:  447  found with (before cropping) frame dimensions:  206 492\n",
      "Starting to extract posture\n"
     ]
    },
    {
     "name": "stderr",
     "output_type": "stream",
     "text": [
      "100%|██████████| 447/447 [00:02<00:00, 154.51it/s]\n"
     ]
    },
    {
     "name": "stdout",
     "output_type": "stream",
     "text": [
      "Saving results in C:\\Users\\zacha\\Repos\\AVI-DYS\\AVI-DYS-lower-limb-zach_roth-2023-04-19\\videos...\n",
      "Saving csv poses!\n",
      "Starting to analyze %  C:\\Users\\zacha\\Repos\\AVI-DYS\\AVI-DYS-lower-limb-zach_roth-2023-04-19\\videos\\128-11cropped.mp4\n",
      "Loading  C:\\Users\\zacha\\Repos\\AVI-DYS\\AVI-DYS-lower-limb-zach_roth-2023-04-19\\videos\\128-11cropped.mp4\n",
      "Duration of video [s]:  17.92 , recorded with  25.0 fps!\n",
      "Overall # of frames:  448  found with (before cropping) frame dimensions:  296 480\n",
      "Starting to extract posture\n"
     ]
    },
    {
     "name": "stderr",
     "output_type": "stream",
     "text": [
      "100%|██████████| 448/448 [00:03<00:00, 133.86it/s]\n"
     ]
    },
    {
     "name": "stdout",
     "output_type": "stream",
     "text": [
      "Saving results in C:\\Users\\zacha\\Repos\\AVI-DYS\\AVI-DYS-lower-limb-zach_roth-2023-04-19\\videos...\n",
      "Saving csv poses!\n",
      "Starting to analyze %  C:\\Users\\zacha\\Repos\\AVI-DYS\\AVI-DYS-lower-limb-zach_roth-2023-04-19\\videos\\128-12cropped.mp4\n",
      "Loading  C:\\Users\\zacha\\Repos\\AVI-DYS\\AVI-DYS-lower-limb-zach_roth-2023-04-19\\videos\\128-12cropped.mp4\n",
      "Duration of video [s]:  17.24 , recorded with  25.0 fps!\n",
      "Overall # of frames:  431  found with (before cropping) frame dimensions:  282 478\n",
      "Starting to extract posture\n"
     ]
    },
    {
     "name": "stderr",
     "output_type": "stream",
     "text": [
      "100%|██████████| 431/431 [00:03<00:00, 138.33it/s]\n"
     ]
    },
    {
     "name": "stdout",
     "output_type": "stream",
     "text": [
      "Saving results in C:\\Users\\zacha\\Repos\\AVI-DYS\\AVI-DYS-lower-limb-zach_roth-2023-04-19\\videos...\n",
      "Saving csv poses!\n",
      "Starting to analyze %  C:\\Users\\zacha\\Repos\\AVI-DYS\\AVI-DYS-lower-limb-zach_roth-2023-04-19\\videos\\129-11cropped.mp4\n",
      "Loading  C:\\Users\\zacha\\Repos\\AVI-DYS\\AVI-DYS-lower-limb-zach_roth-2023-04-19\\videos\\129-11cropped.mp4\n",
      "Duration of video [s]:  18.16 , recorded with  25.0 fps!\n",
      "Overall # of frames:  454  found with (before cropping) frame dimensions:  216 422\n",
      "Starting to extract posture\n"
     ]
    },
    {
     "name": "stderr",
     "output_type": "stream",
     "text": [
      "100%|██████████| 454/454 [00:02<00:00, 159.07it/s]\n"
     ]
    },
    {
     "name": "stdout",
     "output_type": "stream",
     "text": [
      "Saving results in C:\\Users\\zacha\\Repos\\AVI-DYS\\AVI-DYS-lower-limb-zach_roth-2023-04-19\\videos...\n",
      "Saving csv poses!\n",
      "Starting to analyze %  C:\\Users\\zacha\\Repos\\AVI-DYS\\AVI-DYS-lower-limb-zach_roth-2023-04-19\\videos\\129-12cropped.mp4\n",
      "Loading  C:\\Users\\zacha\\Repos\\AVI-DYS\\AVI-DYS-lower-limb-zach_roth-2023-04-19\\videos\\129-12cropped.mp4\n",
      "Duration of video [s]:  16.04 , recorded with  25.0 fps!\n",
      "Overall # of frames:  401  found with (before cropping) frame dimensions:  218 406\n",
      "Starting to extract posture\n"
     ]
    },
    {
     "name": "stderr",
     "output_type": "stream",
     "text": [
      "100%|██████████| 401/401 [00:02<00:00, 160.36it/s]\n"
     ]
    },
    {
     "name": "stdout",
     "output_type": "stream",
     "text": [
      "Saving results in C:\\Users\\zacha\\Repos\\AVI-DYS\\AVI-DYS-lower-limb-zach_roth-2023-04-19\\videos...\n",
      "Saving csv poses!\n",
      "Starting to analyze %  C:\\Users\\zacha\\Repos\\AVI-DYS\\AVI-DYS-lower-limb-zach_roth-2023-04-19\\videos\\130-11cropped.mp4\n",
      "Loading  C:\\Users\\zacha\\Repos\\AVI-DYS\\AVI-DYS-lower-limb-zach_roth-2023-04-19\\videos\\130-11cropped.mp4\n",
      "Duration of video [s]:  15.52 , recorded with  25.0 fps!\n",
      "Overall # of frames:  388  found with (before cropping) frame dimensions:  248 468\n",
      "Starting to extract posture\n"
     ]
    },
    {
     "name": "stderr",
     "output_type": "stream",
     "text": [
      "100%|██████████| 388/388 [00:02<00:00, 129.46it/s]\n"
     ]
    },
    {
     "name": "stdout",
     "output_type": "stream",
     "text": [
      "Saving results in C:\\Users\\zacha\\Repos\\AVI-DYS\\AVI-DYS-lower-limb-zach_roth-2023-04-19\\videos...\n",
      "Saving csv poses!\n",
      "Starting to analyze %  C:\\Users\\zacha\\Repos\\AVI-DYS\\AVI-DYS-lower-limb-zach_roth-2023-04-19\\videos\\130-12cropped.mp4\n",
      "Loading  C:\\Users\\zacha\\Repos\\AVI-DYS\\AVI-DYS-lower-limb-zach_roth-2023-04-19\\videos\\130-12cropped.mp4\n",
      "Duration of video [s]:  17.04 , recorded with  25.0 fps!\n",
      "Overall # of frames:  426  found with (before cropping) frame dimensions:  256 428\n",
      "Starting to extract posture\n"
     ]
    },
    {
     "name": "stderr",
     "output_type": "stream",
     "text": [
      "100%|██████████| 426/426 [00:02<00:00, 147.06it/s]\n"
     ]
    },
    {
     "name": "stdout",
     "output_type": "stream",
     "text": [
      "Saving results in C:\\Users\\zacha\\Repos\\AVI-DYS\\AVI-DYS-lower-limb-zach_roth-2023-04-19\\videos...\n",
      "Saving csv poses!\n",
      "Starting to analyze %  C:\\Users\\zacha\\Repos\\AVI-DYS\\AVI-DYS-lower-limb-zach_roth-2023-04-19\\videos\\131-11cropped.mp4\n",
      "Loading  C:\\Users\\zacha\\Repos\\AVI-DYS\\AVI-DYS-lower-limb-zach_roth-2023-04-19\\videos\\131-11cropped.mp4\n",
      "Duration of video [s]:  11.4 , recorded with  25.0 fps!\n",
      "Overall # of frames:  285  found with (before cropping) frame dimensions:  310 404\n",
      "Starting to extract posture\n"
     ]
    },
    {
     "name": "stderr",
     "output_type": "stream",
     "text": [
      "100%|██████████| 285/285 [00:02<00:00, 121.84it/s]\n"
     ]
    },
    {
     "name": "stdout",
     "output_type": "stream",
     "text": [
      "Saving results in C:\\Users\\zacha\\Repos\\AVI-DYS\\AVI-DYS-lower-limb-zach_roth-2023-04-19\\videos...\n",
      "Saving csv poses!\n",
      "Starting to analyze %  C:\\Users\\zacha\\Repos\\AVI-DYS\\AVI-DYS-lower-limb-zach_roth-2023-04-19\\videos\\131-12cropped.mp4\n",
      "Loading  C:\\Users\\zacha\\Repos\\AVI-DYS\\AVI-DYS-lower-limb-zach_roth-2023-04-19\\videos\\131-12cropped.mp4\n",
      "Duration of video [s]:  16.32 , recorded with  25.0 fps!\n",
      "Overall # of frames:  408  found with (before cropping) frame dimensions:  386 408\n",
      "Starting to extract posture\n"
     ]
    },
    {
     "name": "stderr",
     "output_type": "stream",
     "text": [
      "100%|██████████| 408/408 [00:03<00:00, 127.75it/s]\n"
     ]
    },
    {
     "name": "stdout",
     "output_type": "stream",
     "text": [
      "Saving results in C:\\Users\\zacha\\Repos\\AVI-DYS\\AVI-DYS-lower-limb-zach_roth-2023-04-19\\videos...\n",
      "Saving csv poses!\n",
      "Starting to analyze %  C:\\Users\\zacha\\Repos\\AVI-DYS\\AVI-DYS-lower-limb-zach_roth-2023-04-19\\videos\\132-11cropped.mp4\n",
      "Loading  C:\\Users\\zacha\\Repos\\AVI-DYS\\AVI-DYS-lower-limb-zach_roth-2023-04-19\\videos\\132-11cropped.mp4\n",
      "Duration of video [s]:  15.0 , recorded with  25.0 fps!\n",
      "Overall # of frames:  375  found with (before cropping) frame dimensions:  428 434\n",
      "Starting to extract posture\n"
     ]
    },
    {
     "name": "stderr",
     "output_type": "stream",
     "text": [
      "100%|██████████| 375/375 [00:03<00:00, 100.33it/s]\n"
     ]
    },
    {
     "name": "stdout",
     "output_type": "stream",
     "text": [
      "Saving results in C:\\Users\\zacha\\Repos\\AVI-DYS\\AVI-DYS-lower-limb-zach_roth-2023-04-19\\videos...\n",
      "Saving csv poses!\n",
      "Starting to analyze %  C:\\Users\\zacha\\Repos\\AVI-DYS\\AVI-DYS-lower-limb-zach_roth-2023-04-19\\videos\\132-12cropped.mp4\n",
      "Loading  C:\\Users\\zacha\\Repos\\AVI-DYS\\AVI-DYS-lower-limb-zach_roth-2023-04-19\\videos\\132-12cropped.mp4\n",
      "Duration of video [s]:  27.72 , recorded with  25.0 fps!\n",
      "Overall # of frames:  693  found with (before cropping) frame dimensions:  412 430\n",
      "Starting to extract posture\n"
     ]
    },
    {
     "name": "stderr",
     "output_type": "stream",
     "text": [
      "100%|██████████| 693/693 [00:06<00:00, 111.95it/s]\n"
     ]
    },
    {
     "name": "stdout",
     "output_type": "stream",
     "text": [
      "Saving results in C:\\Users\\zacha\\Repos\\AVI-DYS\\AVI-DYS-lower-limb-zach_roth-2023-04-19\\videos...\n",
      "Saving csv poses!\n",
      "Starting to analyze %  C:\\Users\\zacha\\Repos\\AVI-DYS\\AVI-DYS-lower-limb-zach_roth-2023-04-19\\videos\\133-11cropped.mp4\n",
      "Loading  C:\\Users\\zacha\\Repos\\AVI-DYS\\AVI-DYS-lower-limb-zach_roth-2023-04-19\\videos\\133-11cropped.mp4\n",
      "Duration of video [s]:  23.28 , recorded with  25.0 fps!\n",
      "Overall # of frames:  582  found with (before cropping) frame dimensions:  296 452\n",
      "Starting to extract posture\n"
     ]
    },
    {
     "name": "stderr",
     "output_type": "stream",
     "text": [
      "100%|██████████| 582/582 [00:03<00:00, 148.98it/s]\n"
     ]
    },
    {
     "name": "stdout",
     "output_type": "stream",
     "text": [
      "Saving results in C:\\Users\\zacha\\Repos\\AVI-DYS\\AVI-DYS-lower-limb-zach_roth-2023-04-19\\videos...\n",
      "Saving csv poses!\n",
      "Starting to analyze %  C:\\Users\\zacha\\Repos\\AVI-DYS\\AVI-DYS-lower-limb-zach_roth-2023-04-19\\videos\\133-12cropped.mp4\n",
      "Loading  C:\\Users\\zacha\\Repos\\AVI-DYS\\AVI-DYS-lower-limb-zach_roth-2023-04-19\\videos\\133-12cropped.mp4\n",
      "Duration of video [s]:  22.32 , recorded with  25.0 fps!\n",
      "Overall # of frames:  558  found with (before cropping) frame dimensions:  316 468\n",
      "Starting to extract posture\n"
     ]
    },
    {
     "name": "stderr",
     "output_type": "stream",
     "text": [
      "100%|██████████| 558/558 [00:04<00:00, 138.01it/s]\n"
     ]
    },
    {
     "name": "stdout",
     "output_type": "stream",
     "text": [
      "Saving results in C:\\Users\\zacha\\Repos\\AVI-DYS\\AVI-DYS-lower-limb-zach_roth-2023-04-19\\videos...\n",
      "Saving csv poses!\n",
      "Starting to analyze %  C:\\Users\\zacha\\Repos\\AVI-DYS\\AVI-DYS-lower-limb-zach_roth-2023-04-19\\videos\\135-11cropped.mp4\n",
      "Loading  C:\\Users\\zacha\\Repos\\AVI-DYS\\AVI-DYS-lower-limb-zach_roth-2023-04-19\\videos\\135-11cropped.mp4\n",
      "Duration of video [s]:  29.28 , recorded with  25.0 fps!\n",
      "Overall # of frames:  732  found with (before cropping) frame dimensions:  234 442\n",
      "Starting to extract posture\n"
     ]
    },
    {
     "name": "stderr",
     "output_type": "stream",
     "text": [
      "100%|██████████| 732/732 [00:04<00:00, 153.22it/s]\n"
     ]
    },
    {
     "name": "stdout",
     "output_type": "stream",
     "text": [
      "Saving results in C:\\Users\\zacha\\Repos\\AVI-DYS\\AVI-DYS-lower-limb-zach_roth-2023-04-19\\videos...\n",
      "Saving csv poses!\n",
      "Starting to analyze %  C:\\Users\\zacha\\Repos\\AVI-DYS\\AVI-DYS-lower-limb-zach_roth-2023-04-19\\videos\\135-12cropped.mp4\n",
      "Loading  C:\\Users\\zacha\\Repos\\AVI-DYS\\AVI-DYS-lower-limb-zach_roth-2023-04-19\\videos\\135-12cropped.mp4\n",
      "Duration of video [s]:  16.64 , recorded with  25.0 fps!\n",
      "Overall # of frames:  416  found with (before cropping) frame dimensions:  266 544\n",
      "Starting to extract posture\n"
     ]
    },
    {
     "name": "stderr",
     "output_type": "stream",
     "text": [
      "100%|██████████| 416/416 [00:03<00:00, 118.73it/s]\n"
     ]
    },
    {
     "name": "stdout",
     "output_type": "stream",
     "text": [
      "Saving results in C:\\Users\\zacha\\Repos\\AVI-DYS\\AVI-DYS-lower-limb-zach_roth-2023-04-19\\videos...\n",
      "Saving csv poses!\n",
      "Starting to analyze %  C:\\Users\\zacha\\Repos\\AVI-DYS\\AVI-DYS-lower-limb-zach_roth-2023-04-19\\videos\\137-11cropped.mp4\n",
      "Loading  C:\\Users\\zacha\\Repos\\AVI-DYS\\AVI-DYS-lower-limb-zach_roth-2023-04-19\\videos\\137-11cropped.mp4\n",
      "Duration of video [s]:  40.6 , recorded with  25.0 fps!\n",
      "Overall # of frames:  1015  found with (before cropping) frame dimensions:  302 438\n",
      "Starting to extract posture\n"
     ]
    },
    {
     "name": "stderr",
     "output_type": "stream",
     "text": [
      "100%|██████████| 1015/1015 [00:06<00:00, 160.29it/s]\n"
     ]
    },
    {
     "name": "stdout",
     "output_type": "stream",
     "text": [
      "Saving results in C:\\Users\\zacha\\Repos\\AVI-DYS\\AVI-DYS-lower-limb-zach_roth-2023-04-19\\videos...\n",
      "Saving csv poses!\n",
      "Starting to analyze %  C:\\Users\\zacha\\Repos\\AVI-DYS\\AVI-DYS-lower-limb-zach_roth-2023-04-19\\videos\\137-12cropped.mp4\n",
      "Loading  C:\\Users\\zacha\\Repos\\AVI-DYS\\AVI-DYS-lower-limb-zach_roth-2023-04-19\\videos\\137-12cropped.mp4\n",
      "Duration of video [s]:  36.76 , recorded with  25.0 fps!\n",
      "Overall # of frames:  919  found with (before cropping) frame dimensions:  312 434\n",
      "Starting to extract posture\n"
     ]
    },
    {
     "name": "stderr",
     "output_type": "stream",
     "text": [
      "100%|██████████| 919/919 [00:05<00:00, 160.09it/s]\n"
     ]
    },
    {
     "name": "stdout",
     "output_type": "stream",
     "text": [
      "Saving results in C:\\Users\\zacha\\Repos\\AVI-DYS\\AVI-DYS-lower-limb-zach_roth-2023-04-19\\videos...\n",
      "Saving csv poses!\n",
      "Starting to analyze %  C:\\Users\\zacha\\Repos\\AVI-DYS\\AVI-DYS-lower-limb-zach_roth-2023-04-19\\videos\\138-11cropped.mp4\n",
      "Loading  C:\\Users\\zacha\\Repos\\AVI-DYS\\AVI-DYS-lower-limb-zach_roth-2023-04-19\\videos\\138-11cropped.mp4\n",
      "Duration of video [s]:  24.92 , recorded with  25.0 fps!\n",
      "Overall # of frames:  623  found with (before cropping) frame dimensions:  220 526\n",
      "Starting to extract posture\n"
     ]
    },
    {
     "name": "stderr",
     "output_type": "stream",
     "text": [
      "100%|██████████| 623/623 [00:04<00:00, 141.06it/s]\n"
     ]
    },
    {
     "name": "stdout",
     "output_type": "stream",
     "text": [
      "Saving results in C:\\Users\\zacha\\Repos\\AVI-DYS\\AVI-DYS-lower-limb-zach_roth-2023-04-19\\videos...\n",
      "Saving csv poses!\n",
      "Starting to analyze %  C:\\Users\\zacha\\Repos\\AVI-DYS\\AVI-DYS-lower-limb-zach_roth-2023-04-19\\videos\\138-12cropped.mp4\n",
      "Loading  C:\\Users\\zacha\\Repos\\AVI-DYS\\AVI-DYS-lower-limb-zach_roth-2023-04-19\\videos\\138-12cropped.mp4\n",
      "Duration of video [s]:  21.28 , recorded with  25.0 fps!\n",
      "Overall # of frames:  532  found with (before cropping) frame dimensions:  230 490\n",
      "Starting to extract posture\n"
     ]
    },
    {
     "name": "stderr",
     "output_type": "stream",
     "text": [
      "100%|██████████| 532/532 [00:03<00:00, 137.13it/s]\n"
     ]
    },
    {
     "name": "stdout",
     "output_type": "stream",
     "text": [
      "Saving results in C:\\Users\\zacha\\Repos\\AVI-DYS\\AVI-DYS-lower-limb-zach_roth-2023-04-19\\videos...\n",
      "Saving csv poses!\n",
      "Starting to analyze %  C:\\Users\\zacha\\Repos\\AVI-DYS\\AVI-DYS-lower-limb-zach_roth-2023-04-19\\videos\\139-11cropped.mp4\n",
      "Loading  C:\\Users\\zacha\\Repos\\AVI-DYS\\AVI-DYS-lower-limb-zach_roth-2023-04-19\\videos\\139-11cropped.mp4\n",
      "Duration of video [s]:  25.44 , recorded with  25.0 fps!\n",
      "Overall # of frames:  636  found with (before cropping) frame dimensions:  472 442\n",
      "Starting to extract posture\n"
     ]
    },
    {
     "name": "stderr",
     "output_type": "stream",
     "text": [
      "100%|██████████| 636/636 [00:06<00:00, 104.47it/s]\n"
     ]
    },
    {
     "name": "stdout",
     "output_type": "stream",
     "text": [
      "Saving results in C:\\Users\\zacha\\Repos\\AVI-DYS\\AVI-DYS-lower-limb-zach_roth-2023-04-19\\videos...\n",
      "Saving csv poses!\n",
      "Starting to analyze %  C:\\Users\\zacha\\Repos\\AVI-DYS\\AVI-DYS-lower-limb-zach_roth-2023-04-19\\videos\\139-12cropped.mp4\n",
      "Loading  C:\\Users\\zacha\\Repos\\AVI-DYS\\AVI-DYS-lower-limb-zach_roth-2023-04-19\\videos\\139-12cropped.mp4\n",
      "Duration of video [s]:  28.52 , recorded with  25.0 fps!\n",
      "Overall # of frames:  713  found with (before cropping) frame dimensions:  430 394\n",
      "Starting to extract posture\n"
     ]
    },
    {
     "name": "stderr",
     "output_type": "stream",
     "text": [
      "100%|██████████| 713/713 [00:06<00:00, 114.80it/s]\n"
     ]
    },
    {
     "name": "stdout",
     "output_type": "stream",
     "text": [
      "Saving results in C:\\Users\\zacha\\Repos\\AVI-DYS\\AVI-DYS-lower-limb-zach_roth-2023-04-19\\videos...\n",
      "Saving csv poses!\n",
      "Starting to analyze %  C:\\Users\\zacha\\Repos\\AVI-DYS\\AVI-DYS-lower-limb-zach_roth-2023-04-19\\videos\\151-11cropped.mp4\n",
      "Loading  C:\\Users\\zacha\\Repos\\AVI-DYS\\AVI-DYS-lower-limb-zach_roth-2023-04-19\\videos\\151-11cropped.mp4\n",
      "Duration of video [s]:  39.76 , recorded with  25.0 fps!\n",
      "Overall # of frames:  994  found with (before cropping) frame dimensions:  662 808\n",
      "Starting to extract posture\n"
     ]
    },
    {
     "name": "stderr",
     "output_type": "stream",
     "text": [
      "100%|██████████| 994/994 [00:19<00:00, 50.26it/s]\n"
     ]
    },
    {
     "name": "stdout",
     "output_type": "stream",
     "text": [
      "Saving results in C:\\Users\\zacha\\Repos\\AVI-DYS\\AVI-DYS-lower-limb-zach_roth-2023-04-19\\videos...\n",
      "Saving csv poses!\n",
      "Starting to analyze %  C:\\Users\\zacha\\Repos\\AVI-DYS\\AVI-DYS-lower-limb-zach_roth-2023-04-19\\videos\\151-12cropped.mp4\n",
      "Loading  C:\\Users\\zacha\\Repos\\AVI-DYS\\AVI-DYS-lower-limb-zach_roth-2023-04-19\\videos\\151-12cropped.mp4\n",
      "Duration of video [s]:  42.8 , recorded with  25.0 fps!\n",
      "Overall # of frames:  1070  found with (before cropping) frame dimensions:  642 816\n",
      "Starting to extract posture\n"
     ]
    },
    {
     "name": "stderr",
     "output_type": "stream",
     "text": [
      "100%|██████████| 1070/1070 [00:20<00:00, 51.39it/s]\n"
     ]
    },
    {
     "name": "stdout",
     "output_type": "stream",
     "text": [
      "Saving results in C:\\Users\\zacha\\Repos\\AVI-DYS\\AVI-DYS-lower-limb-zach_roth-2023-04-19\\videos...\n",
      "Saving csv poses!\n",
      "Starting to analyze %  C:\\Users\\zacha\\Repos\\AVI-DYS\\AVI-DYS-lower-limb-zach_roth-2023-04-19\\videos\\152-11cropped.mp4\n",
      "Loading  C:\\Users\\zacha\\Repos\\AVI-DYS\\AVI-DYS-lower-limb-zach_roth-2023-04-19\\videos\\152-11cropped.mp4\n",
      "Duration of video [s]:  40.56 , recorded with  25.0 fps!\n",
      "Overall # of frames:  1014  found with (before cropping) frame dimensions:  690 896\n",
      "Starting to extract posture\n"
     ]
    },
    {
     "name": "stderr",
     "output_type": "stream",
     "text": [
      "100%|██████████| 1014/1014 [00:22<00:00, 45.61it/s]\n"
     ]
    },
    {
     "name": "stdout",
     "output_type": "stream",
     "text": [
      "Saving results in C:\\Users\\zacha\\Repos\\AVI-DYS\\AVI-DYS-lower-limb-zach_roth-2023-04-19\\videos...\n",
      "Saving csv poses!\n",
      "Starting to analyze %  C:\\Users\\zacha\\Repos\\AVI-DYS\\AVI-DYS-lower-limb-zach_roth-2023-04-19\\videos\\152-12cropped.mp4\n",
      "Loading  C:\\Users\\zacha\\Repos\\AVI-DYS\\AVI-DYS-lower-limb-zach_roth-2023-04-19\\videos\\152-12cropped.mp4\n",
      "Duration of video [s]:  43.36 , recorded with  25.0 fps!\n",
      "Overall # of frames:  1084  found with (before cropping) frame dimensions:  742 836\n",
      "Starting to extract posture\n"
     ]
    },
    {
     "name": "stderr",
     "output_type": "stream",
     "text": [
      "100%|██████████| 1084/1084 [00:23<00:00, 45.55it/s]\n"
     ]
    },
    {
     "name": "stdout",
     "output_type": "stream",
     "text": [
      "Saving results in C:\\Users\\zacha\\Repos\\AVI-DYS\\AVI-DYS-lower-limb-zach_roth-2023-04-19\\videos...\n",
      "Saving csv poses!\n",
      "Starting to analyze %  C:\\Users\\zacha\\Repos\\AVI-DYS\\AVI-DYS-lower-limb-zach_roth-2023-04-19\\videos\\155-11cropped.mp4\n",
      "Loading  C:\\Users\\zacha\\Repos\\AVI-DYS\\AVI-DYS-lower-limb-zach_roth-2023-04-19\\videos\\155-11cropped.mp4\n",
      "Duration of video [s]:  18.24 , recorded with  25.0 fps!\n",
      "Overall # of frames:  456  found with (before cropping) frame dimensions:  710 706\n",
      "Starting to extract posture\n"
     ]
    },
    {
     "name": "stderr",
     "output_type": "stream",
     "text": [
      "100%|██████████| 456/456 [00:09<00:00, 49.52it/s]\n"
     ]
    },
    {
     "name": "stdout",
     "output_type": "stream",
     "text": [
      "Saving results in C:\\Users\\zacha\\Repos\\AVI-DYS\\AVI-DYS-lower-limb-zach_roth-2023-04-19\\videos...\n",
      "Saving csv poses!\n",
      "Starting to analyze %  C:\\Users\\zacha\\Repos\\AVI-DYS\\AVI-DYS-lower-limb-zach_roth-2023-04-19\\videos\\155-12cropped.mp4\n",
      "Loading  C:\\Users\\zacha\\Repos\\AVI-DYS\\AVI-DYS-lower-limb-zach_roth-2023-04-19\\videos\\155-12cropped.mp4\n",
      "Duration of video [s]:  21.32 , recorded with  25.0 fps!\n",
      "Overall # of frames:  533  found with (before cropping) frame dimensions:  1360 968\n",
      "Starting to extract posture\n"
     ]
    },
    {
     "name": "stderr",
     "output_type": "stream",
     "text": [
      "100%|██████████| 533/533 [00:25<00:00, 21.28it/s]\n"
     ]
    },
    {
     "name": "stdout",
     "output_type": "stream",
     "text": [
      "Saving results in C:\\Users\\zacha\\Repos\\AVI-DYS\\AVI-DYS-lower-limb-zach_roth-2023-04-19\\videos...\n",
      "Saving csv poses!\n",
      "Starting to analyze %  C:\\Users\\zacha\\Repos\\AVI-DYS\\AVI-DYS-lower-limb-zach_roth-2023-04-19\\videos\\156-11cropped.mp4\n",
      "Loading  C:\\Users\\zacha\\Repos\\AVI-DYS\\AVI-DYS-lower-limb-zach_roth-2023-04-19\\videos\\156-11cropped.mp4\n",
      "Duration of video [s]:  28.16 , recorded with  25.0 fps!\n",
      "Overall # of frames:  704  found with (before cropping) frame dimensions:  768 816\n",
      "Starting to extract posture\n"
     ]
    },
    {
     "name": "stderr",
     "output_type": "stream",
     "text": [
      "100%|██████████| 704/704 [00:15<00:00, 44.67it/s]\n"
     ]
    },
    {
     "name": "stdout",
     "output_type": "stream",
     "text": [
      "Saving results in C:\\Users\\zacha\\Repos\\AVI-DYS\\AVI-DYS-lower-limb-zach_roth-2023-04-19\\videos...\n",
      "Saving csv poses!\n",
      "Starting to analyze %  C:\\Users\\zacha\\Repos\\AVI-DYS\\AVI-DYS-lower-limb-zach_roth-2023-04-19\\videos\\156-12cropped.mp4\n",
      "Loading  C:\\Users\\zacha\\Repos\\AVI-DYS\\AVI-DYS-lower-limb-zach_roth-2023-04-19\\videos\\156-12cropped.mp4\n",
      "Duration of video [s]:  11.12 , recorded with  25.0 fps!\n",
      "Overall # of frames:  278  found with (before cropping) frame dimensions:  1920 1080\n",
      "Starting to extract posture\n"
     ]
    },
    {
     "name": "stderr",
     "output_type": "stream",
     "text": [
      "100%|██████████| 278/278 [00:19<00:00, 14.05it/s]\n"
     ]
    },
    {
     "name": "stdout",
     "output_type": "stream",
     "text": [
      "Saving results in C:\\Users\\zacha\\Repos\\AVI-DYS\\AVI-DYS-lower-limb-zach_roth-2023-04-19\\videos...\n",
      "Saving csv poses!\n",
      "Starting to analyze %  C:\\Users\\zacha\\Repos\\AVI-DYS\\AVI-DYS-lower-limb-zach_roth-2023-04-19\\videos\\301-11cropped.mp4\n",
      "Loading  C:\\Users\\zacha\\Repos\\AVI-DYS\\AVI-DYS-lower-limb-zach_roth-2023-04-19\\videos\\301-11cropped.mp4\n",
      "Duration of video [s]:  10.88 , recorded with  25.0 fps!\n",
      "Overall # of frames:  272  found with (before cropping) frame dimensions:  442 670\n",
      "Starting to extract posture\n"
     ]
    },
    {
     "name": "stderr",
     "output_type": "stream",
     "text": [
      "100%|██████████| 272/272 [00:03<00:00, 72.64it/s]\n"
     ]
    },
    {
     "name": "stdout",
     "output_type": "stream",
     "text": [
      "Saving results in C:\\Users\\zacha\\Repos\\AVI-DYS\\AVI-DYS-lower-limb-zach_roth-2023-04-19\\videos...\n",
      "Saving csv poses!\n",
      "Starting to analyze %  C:\\Users\\zacha\\Repos\\AVI-DYS\\AVI-DYS-lower-limb-zach_roth-2023-04-19\\videos\\301-12cropped.mp4\n",
      "Loading  C:\\Users\\zacha\\Repos\\AVI-DYS\\AVI-DYS-lower-limb-zach_roth-2023-04-19\\videos\\301-12cropped.mp4\n",
      "Duration of video [s]:  27.64 , recorded with  25.0 fps!\n",
      "Overall # of frames:  691  found with (before cropping) frame dimensions:  368 562\n",
      "Starting to extract posture\n"
     ]
    },
    {
     "name": "stderr",
     "output_type": "stream",
     "text": [
      "100%|██████████| 691/691 [00:06<00:00, 103.92it/s]\n"
     ]
    },
    {
     "name": "stdout",
     "output_type": "stream",
     "text": [
      "Saving results in C:\\Users\\zacha\\Repos\\AVI-DYS\\AVI-DYS-lower-limb-zach_roth-2023-04-19\\videos...\n",
      "Saving csv poses!\n",
      "Starting to analyze %  C:\\Users\\zacha\\Repos\\AVI-DYS\\AVI-DYS-lower-limb-zach_roth-2023-04-19\\videos\\303-11cropped.mp4\n",
      "Loading  C:\\Users\\zacha\\Repos\\AVI-DYS\\AVI-DYS-lower-limb-zach_roth-2023-04-19\\videos\\303-11cropped.mp4\n",
      "Duration of video [s]:  24.96 , recorded with  25.0 fps!\n",
      "Overall # of frames:  624  found with (before cropping) frame dimensions:  702 722\n",
      "Starting to extract posture\n"
     ]
    },
    {
     "name": "stderr",
     "output_type": "stream",
     "text": [
      "100%|██████████| 624/624 [00:12<00:00, 50.59it/s]\n"
     ]
    },
    {
     "name": "stdout",
     "output_type": "stream",
     "text": [
      "Saving results in C:\\Users\\zacha\\Repos\\AVI-DYS\\AVI-DYS-lower-limb-zach_roth-2023-04-19\\videos...\n",
      "Saving csv poses!\n",
      "Starting to analyze %  C:\\Users\\zacha\\Repos\\AVI-DYS\\AVI-DYS-lower-limb-zach_roth-2023-04-19\\videos\\303-12cropped.mp4\n",
      "Loading  C:\\Users\\zacha\\Repos\\AVI-DYS\\AVI-DYS-lower-limb-zach_roth-2023-04-19\\videos\\303-12cropped.mp4\n",
      "Duration of video [s]:  54.24 , recorded with  25.0 fps!\n",
      "Overall # of frames:  1356  found with (before cropping) frame dimensions:  898 722\n",
      "Starting to extract posture\n"
     ]
    },
    {
     "name": "stderr",
     "output_type": "stream",
     "text": [
      "100%|██████████| 1356/1356 [00:31<00:00, 43.21it/s]\n"
     ]
    },
    {
     "name": "stdout",
     "output_type": "stream",
     "text": [
      "Saving results in C:\\Users\\zacha\\Repos\\AVI-DYS\\AVI-DYS-lower-limb-zach_roth-2023-04-19\\videos...\n",
      "Saving csv poses!\n",
      "Starting to analyze %  C:\\Users\\zacha\\Repos\\AVI-DYS\\AVI-DYS-lower-limb-zach_roth-2023-04-19\\videos\\304-11cropped.mp4\n",
      "Loading  C:\\Users\\zacha\\Repos\\AVI-DYS\\AVI-DYS-lower-limb-zach_roth-2023-04-19\\videos\\304-11cropped.mp4\n",
      "Duration of video [s]:  27.44 , recorded with  25.0 fps!\n",
      "Overall # of frames:  686  found with (before cropping) frame dimensions:  344 504\n",
      "Starting to extract posture\n"
     ]
    },
    {
     "name": "stderr",
     "output_type": "stream",
     "text": [
      "100%|██████████| 686/686 [00:06<00:00, 111.86it/s]\n"
     ]
    },
    {
     "name": "stdout",
     "output_type": "stream",
     "text": [
      "Saving results in C:\\Users\\zacha\\Repos\\AVI-DYS\\AVI-DYS-lower-limb-zach_roth-2023-04-19\\videos...\n",
      "Saving csv poses!\n",
      "Starting to analyze %  C:\\Users\\zacha\\Repos\\AVI-DYS\\AVI-DYS-lower-limb-zach_roth-2023-04-19\\videos\\304-12cropped.mp4\n",
      "Loading  C:\\Users\\zacha\\Repos\\AVI-DYS\\AVI-DYS-lower-limb-zach_roth-2023-04-19\\videos\\304-12cropped.mp4\n",
      "Duration of video [s]:  36.44 , recorded with  25.0 fps!\n",
      "Overall # of frames:  911  found with (before cropping) frame dimensions:  362 512\n",
      "Starting to extract posture\n"
     ]
    },
    {
     "name": "stderr",
     "output_type": "stream",
     "text": [
      "100%|██████████| 911/911 [00:08<00:00, 113.41it/s]\n"
     ]
    },
    {
     "name": "stdout",
     "output_type": "stream",
     "text": [
      "Saving results in C:\\Users\\zacha\\Repos\\AVI-DYS\\AVI-DYS-lower-limb-zach_roth-2023-04-19\\videos...\n",
      "Saving csv poses!\n",
      "Starting to analyze %  C:\\Users\\zacha\\Repos\\AVI-DYS\\AVI-DYS-lower-limb-zach_roth-2023-04-19\\videos\\305-11cropped.mp4\n",
      "Loading  C:\\Users\\zacha\\Repos\\AVI-DYS\\AVI-DYS-lower-limb-zach_roth-2023-04-19\\videos\\305-11cropped.mp4\n",
      "Duration of video [s]:  31.2 , recorded with  25.0 fps!\n",
      "Overall # of frames:  780  found with (before cropping) frame dimensions:  402 722\n",
      "Starting to extract posture\n"
     ]
    },
    {
     "name": "stderr",
     "output_type": "stream",
     "text": [
      "100%|██████████| 780/780 [00:09<00:00, 85.46it/s]\n"
     ]
    },
    {
     "name": "stdout",
     "output_type": "stream",
     "text": [
      "Saving results in C:\\Users\\zacha\\Repos\\AVI-DYS\\AVI-DYS-lower-limb-zach_roth-2023-04-19\\videos...\n",
      "Saving csv poses!\n",
      "Starting to analyze %  C:\\Users\\zacha\\Repos\\AVI-DYS\\AVI-DYS-lower-limb-zach_roth-2023-04-19\\videos\\305-12cropped.mp4\n",
      "Loading  C:\\Users\\zacha\\Repos\\AVI-DYS\\AVI-DYS-lower-limb-zach_roth-2023-04-19\\videos\\305-12cropped.mp4\n",
      "Duration of video [s]:  36.0 , recorded with  25.0 fps!\n",
      "Overall # of frames:  900  found with (before cropping) frame dimensions:  412 720\n",
      "Starting to extract posture\n"
     ]
    },
    {
     "name": "stderr",
     "output_type": "stream",
     "text": [
      "100%|██████████| 900/900 [00:10<00:00, 86.62it/s]\n"
     ]
    },
    {
     "name": "stdout",
     "output_type": "stream",
     "text": [
      "Saving results in C:\\Users\\zacha\\Repos\\AVI-DYS\\AVI-DYS-lower-limb-zach_roth-2023-04-19\\videos...\n",
      "Saving csv poses!\n",
      "Starting to analyze %  C:\\Users\\zacha\\Repos\\AVI-DYS\\AVI-DYS-lower-limb-zach_roth-2023-04-19\\videos\\306-11cropped.mp4\n",
      "Loading  C:\\Users\\zacha\\Repos\\AVI-DYS\\AVI-DYS-lower-limb-zach_roth-2023-04-19\\videos\\306-11cropped.mp4\n",
      "Duration of video [s]:  13.92 , recorded with  25.0 fps!\n",
      "Overall # of frames:  348  found with (before cropping) frame dimensions:  540 668\n",
      "Starting to extract posture\n"
     ]
    },
    {
     "name": "stderr",
     "output_type": "stream",
     "text": [
      "100%|██████████| 348/348 [00:05<00:00, 58.58it/s]\n"
     ]
    },
    {
     "name": "stdout",
     "output_type": "stream",
     "text": [
      "Saving results in C:\\Users\\zacha\\Repos\\AVI-DYS\\AVI-DYS-lower-limb-zach_roth-2023-04-19\\videos...\n",
      "Saving csv poses!\n",
      "Starting to analyze %  C:\\Users\\zacha\\Repos\\AVI-DYS\\AVI-DYS-lower-limb-zach_roth-2023-04-19\\videos\\306-12cropped.mp4\n",
      "Loading  C:\\Users\\zacha\\Repos\\AVI-DYS\\AVI-DYS-lower-limb-zach_roth-2023-04-19\\videos\\306-12cropped.mp4\n",
      "Duration of video [s]:  10.56 , recorded with  25.0 fps!\n",
      "Overall # of frames:  264  found with (before cropping) frame dimensions:  510 696\n",
      "Starting to extract posture\n"
     ]
    },
    {
     "name": "stderr",
     "output_type": "stream",
     "text": [
      "100%|██████████| 264/264 [00:04<00:00, 57.08it/s]\n"
     ]
    },
    {
     "name": "stdout",
     "output_type": "stream",
     "text": [
      "Saving results in C:\\Users\\zacha\\Repos\\AVI-DYS\\AVI-DYS-lower-limb-zach_roth-2023-04-19\\videos...\n",
      "Saving csv poses!\n",
      "Starting to analyze %  C:\\Users\\zacha\\Repos\\AVI-DYS\\AVI-DYS-lower-limb-zach_roth-2023-04-19\\videos\\307-11cropped.mp4\n",
      "Loading  C:\\Users\\zacha\\Repos\\AVI-DYS\\AVI-DYS-lower-limb-zach_roth-2023-04-19\\videos\\307-11cropped.mp4\n",
      "Duration of video [s]:  19.68 , recorded with  25.0 fps!\n",
      "Overall # of frames:  492  found with (before cropping) frame dimensions:  266 550\n",
      "Starting to extract posture\n"
     ]
    },
    {
     "name": "stderr",
     "output_type": "stream",
     "text": [
      "100%|██████████| 492/492 [00:03<00:00, 132.21it/s]\n"
     ]
    },
    {
     "name": "stdout",
     "output_type": "stream",
     "text": [
      "Saving results in C:\\Users\\zacha\\Repos\\AVI-DYS\\AVI-DYS-lower-limb-zach_roth-2023-04-19\\videos...\n",
      "Saving csv poses!\n",
      "Starting to analyze %  C:\\Users\\zacha\\Repos\\AVI-DYS\\AVI-DYS-lower-limb-zach_roth-2023-04-19\\videos\\307-12cropped.mp4\n",
      "Loading  C:\\Users\\zacha\\Repos\\AVI-DYS\\AVI-DYS-lower-limb-zach_roth-2023-04-19\\videos\\307-12cropped.mp4\n",
      "Duration of video [s]:  19.16 , recorded with  25.0 fps!\n",
      "Overall # of frames:  479  found with (before cropping) frame dimensions:  252 598\n",
      "Starting to extract posture\n"
     ]
    },
    {
     "name": "stderr",
     "output_type": "stream",
     "text": [
      "100%|██████████| 479/479 [00:03<00:00, 132.03it/s]\n"
     ]
    },
    {
     "name": "stdout",
     "output_type": "stream",
     "text": [
      "Saving results in C:\\Users\\zacha\\Repos\\AVI-DYS\\AVI-DYS-lower-limb-zach_roth-2023-04-19\\videos...\n",
      "Saving csv poses!\n",
      "Starting to analyze %  C:\\Users\\zacha\\Repos\\AVI-DYS\\AVI-DYS-lower-limb-zach_roth-2023-04-19\\videos\\308-11cropped.mp4\n",
      "Loading  C:\\Users\\zacha\\Repos\\AVI-DYS\\AVI-DYS-lower-limb-zach_roth-2023-04-19\\videos\\308-11cropped.mp4\n",
      "Duration of video [s]:  17.76 , recorded with  25.0 fps!\n",
      "Overall # of frames:  444  found with (before cropping) frame dimensions:  392 572\n",
      "Starting to extract posture\n"
     ]
    },
    {
     "name": "stderr",
     "output_type": "stream",
     "text": [
      "100%|██████████| 444/444 [00:04<00:00, 94.11it/s] \n"
     ]
    },
    {
     "name": "stdout",
     "output_type": "stream",
     "text": [
      "Saving results in C:\\Users\\zacha\\Repos\\AVI-DYS\\AVI-DYS-lower-limb-zach_roth-2023-04-19\\videos...\n",
      "Saving csv poses!\n",
      "Starting to analyze %  C:\\Users\\zacha\\Repos\\AVI-DYS\\AVI-DYS-lower-limb-zach_roth-2023-04-19\\videos\\308-12cropped.mp4\n",
      "Loading  C:\\Users\\zacha\\Repos\\AVI-DYS\\AVI-DYS-lower-limb-zach_roth-2023-04-19\\videos\\308-12cropped.mp4\n",
      "Duration of video [s]:  17.28 , recorded with  25.0 fps!\n",
      "Overall # of frames:  432  found with (before cropping) frame dimensions:  402 552\n",
      "Starting to extract posture\n"
     ]
    },
    {
     "name": "stderr",
     "output_type": "stream",
     "text": [
      "100%|██████████| 432/432 [00:04<00:00, 94.81it/s] \n"
     ]
    },
    {
     "name": "stdout",
     "output_type": "stream",
     "text": [
      "Saving results in C:\\Users\\zacha\\Repos\\AVI-DYS\\AVI-DYS-lower-limb-zach_roth-2023-04-19\\videos...\n",
      "Saving csv poses!\n",
      "Starting to analyze %  C:\\Users\\zacha\\Repos\\AVI-DYS\\AVI-DYS-lower-limb-zach_roth-2023-04-19\\videos\\309-11cropped.mp4\n",
      "Loading  C:\\Users\\zacha\\Repos\\AVI-DYS\\AVI-DYS-lower-limb-zach_roth-2023-04-19\\videos\\309-11cropped.mp4\n",
      "Duration of video [s]:  21.12 , recorded with  25.0 fps!\n",
      "Overall # of frames:  528  found with (before cropping) frame dimensions:  358 618\n",
      "Starting to extract posture\n"
     ]
    },
    {
     "name": "stderr",
     "output_type": "stream",
     "text": [
      "100%|██████████| 528/528 [00:05<00:00, 97.16it/s] \n"
     ]
    },
    {
     "name": "stdout",
     "output_type": "stream",
     "text": [
      "Saving results in C:\\Users\\zacha\\Repos\\AVI-DYS\\AVI-DYS-lower-limb-zach_roth-2023-04-19\\videos...\n",
      "Saving csv poses!\n",
      "Starting to analyze %  C:\\Users\\zacha\\Repos\\AVI-DYS\\AVI-DYS-lower-limb-zach_roth-2023-04-19\\videos\\309-12cropped.mp4\n",
      "Loading  C:\\Users\\zacha\\Repos\\AVI-DYS\\AVI-DYS-lower-limb-zach_roth-2023-04-19\\videos\\309-12cropped.mp4\n",
      "Duration of video [s]:  15.04 , recorded with  25.0 fps!\n",
      "Overall # of frames:  376  found with (before cropping) frame dimensions:  280 654\n",
      "Starting to extract posture\n"
     ]
    },
    {
     "name": "stderr",
     "output_type": "stream",
     "text": [
      "100%|██████████| 376/376 [00:03<00:00, 98.81it/s] \n"
     ]
    },
    {
     "name": "stdout",
     "output_type": "stream",
     "text": [
      "Saving results in C:\\Users\\zacha\\Repos\\AVI-DYS\\AVI-DYS-lower-limb-zach_roth-2023-04-19\\videos...\n",
      "Saving csv poses!\n",
      "The videos are analyzed. Now your research can truly start! \n",
      " You can create labeled videos with 'create_labeled_video'\n",
      "If the tracking is not satisfactory for some videos, consider expanding the training set. You can use the function 'extract_outlier_frames' to extract a few representative outlier frames.\n"
     ]
    },
    {
     "data": {
      "text/plain": [
       "'DLC_resnet152_AVI-DYS-lower-limbApr19shuffle1_1000000'"
      ]
     },
     "execution_count": 9,
     "metadata": {},
     "output_type": "execute_result"
    }
   ],
   "source": [
    "deeplabcut.analyze_videos(\n",
    "    config_path,\n",
    "    os.path.join(project_path,'videos'),\n",
    "    videotype='.mp4',\n",
    "    shuffle=1,\n",
    "    trainingsetindex=0,\n",
    "    gputouse=notebook_gpu,\n",
    "    save_as_csv=True,\n",
    "    in_random_order=False,\n",
    "    destfolder=None,\n",
    "    batchsize=None,\n",
    "    cropping=None,\n",
    "    TFGPUinference=True,\n",
    "    dynamic=(False, 0.5, 10),\n",
    "    modelprefix='',\n",
    "    robust_nframes=True,\n",
    "    allow_growth=True,\n",
    "    use_shelve=False,\n",
    "    auto_track=True,\n",
    "    n_tracks=None,\n",
    "    calibrate=False,\n",
    "    identity_only=False,\n",
    "    use_openvino=None,\n",
    ")"
   ]
  },
  {
   "attachments": {},
   "cell_type": "markdown",
   "id": "fcb7c2fc",
   "metadata": {},
   "source": [
    "## (J) Filter pose data data"
   ]
  },
  {
   "cell_type": "code",
   "execution_count": null,
   "id": "fb7a4f09",
   "metadata": {},
   "outputs": [],
   "source": [
    "deeplabcut.filterpredictions?"
   ]
  },
  {
   "cell_type": "code",
   "execution_count": 10,
   "id": "fa7291f6",
   "metadata": {},
   "outputs": [
    {
     "name": "stdout",
     "output_type": "stream",
     "text": [
      "Analyzing all the videos in the directory...\n",
      "Filtering with median model C:\\Users\\zacha\\Repos\\AVI-DYS\\AVI-DYS-lower-limb-zach_roth-2023-04-19\\videos\\131-11cropped.mp4\n",
      "Saving filtered csv poses!\n",
      "Filtering with median model C:\\Users\\zacha\\Repos\\AVI-DYS\\AVI-DYS-lower-limb-zach_roth-2023-04-19\\videos\\138-11cropped.mp4\n",
      "Saving filtered csv poses!\n",
      "Filtering with median model C:\\Users\\zacha\\Repos\\AVI-DYS\\AVI-DYS-lower-limb-zach_roth-2023-04-19\\videos\\001-12cropped.mp4\n",
      "Saving filtered csv poses!\n",
      "Filtering with median model C:\\Users\\zacha\\Repos\\AVI-DYS\\AVI-DYS-lower-limb-zach_roth-2023-04-19\\videos\\116-11cropped.mp4\n",
      "Saving filtered csv poses!\n",
      "Filtering with median model C:\\Users\\zacha\\Repos\\AVI-DYS\\AVI-DYS-lower-limb-zach_roth-2023-04-19\\videos\\138-12cropped.mp4\n",
      "Saving filtered csv poses!\n",
      "Filtering with median model C:\\Users\\zacha\\Repos\\AVI-DYS\\AVI-DYS-lower-limb-zach_roth-2023-04-19\\videos\\127-11cropped.mp4\n",
      "Saving filtered csv poses!\n",
      "Filtering with median model C:\\Users\\zacha\\Repos\\AVI-DYS\\AVI-DYS-lower-limb-zach_roth-2023-04-19\\videos\\306-11cropped.mp4\n",
      "Saving filtered csv poses!\n",
      "Filtering with median model C:\\Users\\zacha\\Repos\\AVI-DYS\\AVI-DYS-lower-limb-zach_roth-2023-04-19\\videos\\128-11cropped.mp4\n",
      "Saving filtered csv poses!\n",
      "Filtering with median model C:\\Users\\zacha\\Repos\\AVI-DYS\\AVI-DYS-lower-limb-zach_roth-2023-04-19\\videos\\155-12cropped.mp4\n",
      "Saving filtered csv poses!\n",
      "Filtering with median model C:\\Users\\zacha\\Repos\\AVI-DYS\\AVI-DYS-lower-limb-zach_roth-2023-04-19\\videos\\126-12cropped.mp4\n",
      "Saving filtered csv poses!\n",
      "Filtering with median model C:\\Users\\zacha\\Repos\\AVI-DYS\\AVI-DYS-lower-limb-zach_roth-2023-04-19\\videos\\137-11cropped.mp4\n",
      "Saving filtered csv poses!\n",
      "Filtering with median model C:\\Users\\zacha\\Repos\\AVI-DYS\\AVI-DYS-lower-limb-zach_roth-2023-04-19\\videos\\156-11cropped.mp4\n",
      "Saving filtered csv poses!\n",
      "Filtering with median model C:\\Users\\zacha\\Repos\\AVI-DYS\\AVI-DYS-lower-limb-zach_roth-2023-04-19\\videos\\115-12cropped.mp4\n",
      "Saving filtered csv poses!\n",
      "Filtering with median model C:\\Users\\zacha\\Repos\\AVI-DYS\\AVI-DYS-lower-limb-zach_roth-2023-04-19\\videos\\308-12cropped.mp4\n",
      "Saving filtered csv poses!\n",
      "Filtering with median model C:\\Users\\zacha\\Repos\\AVI-DYS\\AVI-DYS-lower-limb-zach_roth-2023-04-19\\videos\\151-12cropped.mp4\n",
      "Saving filtered csv poses!\n",
      "Filtering with median model C:\\Users\\zacha\\Repos\\AVI-DYS\\AVI-DYS-lower-limb-zach_roth-2023-04-19\\videos\\308-11cropped.mp4\n",
      "Saving filtered csv poses!\n",
      "Filtering with median model C:\\Users\\zacha\\Repos\\AVI-DYS\\AVI-DYS-lower-limb-zach_roth-2023-04-19\\videos\\303-11cropped.mp4\n",
      "Saving filtered csv poses!\n",
      "Filtering with median model C:\\Users\\zacha\\Repos\\AVI-DYS\\AVI-DYS-lower-limb-zach_roth-2023-04-19\\videos\\155-11cropped.mp4\n",
      "Saving filtered csv poses!\n",
      "Filtering with median model C:\\Users\\zacha\\Repos\\AVI-DYS\\AVI-DYS-lower-limb-zach_roth-2023-04-19\\videos\\129-11cropped.mp4\n",
      "Saving filtered csv poses!\n",
      "Filtering with median model C:\\Users\\zacha\\Repos\\AVI-DYS\\AVI-DYS-lower-limb-zach_roth-2023-04-19\\videos\\309-11cropped.mp4\n",
      "Saving filtered csv poses!\n",
      "Filtering with median model C:\\Users\\zacha\\Repos\\AVI-DYS\\AVI-DYS-lower-limb-zach_roth-2023-04-19\\videos\\121-12cropped.mp4\n",
      "Saving filtered csv poses!\n",
      "Filtering with median model C:\\Users\\zacha\\Repos\\AVI-DYS\\AVI-DYS-lower-limb-zach_roth-2023-04-19\\videos\\123-12cropped.mp4\n",
      "Saving filtered csv poses!\n",
      "Filtering with median model C:\\Users\\zacha\\Repos\\AVI-DYS\\AVI-DYS-lower-limb-zach_roth-2023-04-19\\videos\\137-12cropped.mp4\n",
      "Saving filtered csv poses!\n",
      "Filtering with median model C:\\Users\\zacha\\Repos\\AVI-DYS\\AVI-DYS-lower-limb-zach_roth-2023-04-19\\videos\\301-12cropped.mp4\n",
      "Saving filtered csv poses!\n",
      "Filtering with median model C:\\Users\\zacha\\Repos\\AVI-DYS\\AVI-DYS-lower-limb-zach_roth-2023-04-19\\videos\\118-12cropped.mp4\n",
      "Saving filtered csv poses!\n",
      "Filtering with median model C:\\Users\\zacha\\Repos\\AVI-DYS\\AVI-DYS-lower-limb-zach_roth-2023-04-19\\videos\\305-11cropped.mp4\n",
      "Saving filtered csv poses!\n",
      "Filtering with median model C:\\Users\\zacha\\Repos\\AVI-DYS\\AVI-DYS-lower-limb-zach_roth-2023-04-19\\videos\\125-11cropped.mp4\n",
      "Saving filtered csv poses!\n",
      "Filtering with median model C:\\Users\\zacha\\Repos\\AVI-DYS\\AVI-DYS-lower-limb-zach_roth-2023-04-19\\videos\\003-11cropped.mp4\n",
      "Saving filtered csv poses!\n",
      "Filtering with median model C:\\Users\\zacha\\Repos\\AVI-DYS\\AVI-DYS-lower-limb-zach_roth-2023-04-19\\videos\\123-11cropped.mp4\n",
      "Saving filtered csv poses!\n",
      "Filtering with median model C:\\Users\\zacha\\Repos\\AVI-DYS\\AVI-DYS-lower-limb-zach_roth-2023-04-19\\videos\\131-12cropped.mp4\n",
      "Saving filtered csv poses!\n",
      "Filtering with median model C:\\Users\\zacha\\Repos\\AVI-DYS\\AVI-DYS-lower-limb-zach_roth-2023-04-19\\videos\\132-12cropped.mp4\n",
      "Saving filtered csv poses!\n",
      "Filtering with median model C:\\Users\\zacha\\Repos\\AVI-DYS\\AVI-DYS-lower-limb-zach_roth-2023-04-19\\videos\\132-11cropped.mp4\n",
      "Saving filtered csv poses!\n",
      "Filtering with median model C:\\Users\\zacha\\Repos\\AVI-DYS\\AVI-DYS-lower-limb-zach_roth-2023-04-19\\videos\\120-11cropped.mp4\n",
      "Saving filtered csv poses!\n",
      "Filtering with median model C:\\Users\\zacha\\Repos\\AVI-DYS\\AVI-DYS-lower-limb-zach_roth-2023-04-19\\videos\\118-11cropped.mp4\n",
      "Saving filtered csv poses!\n",
      "Filtering with median model C:\\Users\\zacha\\Repos\\AVI-DYS\\AVI-DYS-lower-limb-zach_roth-2023-04-19\\videos\\127-12cropped.mp4\n",
      "Saving filtered csv poses!\n",
      "Filtering with median model C:\\Users\\zacha\\Repos\\AVI-DYS\\AVI-DYS-lower-limb-zach_roth-2023-04-19\\videos\\117-11cropped.mp4\n",
      "Saving filtered csv poses!\n",
      "Filtering with median model C:\\Users\\zacha\\Repos\\AVI-DYS\\AVI-DYS-lower-limb-zach_roth-2023-04-19\\videos\\115-11cropped.mp4\n",
      "Saving filtered csv poses!\n",
      "Filtering with median model C:\\Users\\zacha\\Repos\\AVI-DYS\\AVI-DYS-lower-limb-zach_roth-2023-04-19\\videos\\133-11cropped.mp4\n",
      "Saving filtered csv poses!\n",
      "Filtering with median model C:\\Users\\zacha\\Repos\\AVI-DYS\\AVI-DYS-lower-limb-zach_roth-2023-04-19\\videos\\001-11cropped.mp4\n",
      "Saving filtered csv poses!\n",
      "Filtering with median model C:\\Users\\zacha\\Repos\\AVI-DYS\\AVI-DYS-lower-limb-zach_roth-2023-04-19\\videos\\135-11cropped.mp4\n",
      "Saving filtered csv poses!\n",
      "Filtering with median model C:\\Users\\zacha\\Repos\\AVI-DYS\\AVI-DYS-lower-limb-zach_roth-2023-04-19\\videos\\125-12cropped.mp4\n",
      "Saving filtered csv poses!\n",
      "Filtering with median model C:\\Users\\zacha\\Repos\\AVI-DYS\\AVI-DYS-lower-limb-zach_roth-2023-04-19\\videos\\304-11cropped.mp4\n",
      "Saving filtered csv poses!\n",
      "Filtering with median model C:\\Users\\zacha\\Repos\\AVI-DYS\\AVI-DYS-lower-limb-zach_roth-2023-04-19\\videos\\128-12cropped.mp4\n",
      "Saving filtered csv poses!\n",
      "Filtering with median model C:\\Users\\zacha\\Repos\\AVI-DYS\\AVI-DYS-lower-limb-zach_roth-2023-04-19\\videos\\122-12cropped.mp4\n",
      "Saving filtered csv poses!\n",
      "Filtering with median model C:\\Users\\zacha\\Repos\\AVI-DYS\\AVI-DYS-lower-limb-zach_roth-2023-04-19\\videos\\139-11cropped.mp4\n",
      "Saving filtered csv poses!\n",
      "Filtering with median model C:\\Users\\zacha\\Repos\\AVI-DYS\\AVI-DYS-lower-limb-zach_roth-2023-04-19\\videos\\152-11cropped.mp4\n",
      "Saving filtered csv poses!\n",
      "Filtering with median model C:\\Users\\zacha\\Repos\\AVI-DYS\\AVI-DYS-lower-limb-zach_roth-2023-04-19\\videos\\135-12cropped.mp4\n",
      "Saving filtered csv poses!\n",
      "Filtering with median model C:\\Users\\zacha\\Repos\\AVI-DYS\\AVI-DYS-lower-limb-zach_roth-2023-04-19\\videos\\151-11cropped.mp4\n",
      "Saving filtered csv poses!\n",
      "Filtering with median model C:\\Users\\zacha\\Repos\\AVI-DYS\\AVI-DYS-lower-limb-zach_roth-2023-04-19\\videos\\120-12cropped.mp4\n",
      "Saving filtered csv poses!\n",
      "Filtering with median model C:\\Users\\zacha\\Repos\\AVI-DYS\\AVI-DYS-lower-limb-zach_roth-2023-04-19\\videos\\117-12cropped.mp4\n",
      "Saving filtered csv poses!\n",
      "Filtering with median model C:\\Users\\zacha\\Repos\\AVI-DYS\\AVI-DYS-lower-limb-zach_roth-2023-04-19\\videos\\122-11cropped.mp4\n",
      "Saving filtered csv poses!\n",
      "Filtering with median model C:\\Users\\zacha\\Repos\\AVI-DYS\\AVI-DYS-lower-limb-zach_roth-2023-04-19\\videos\\152-12cropped.mp4\n",
      "Saving filtered csv poses!\n",
      "Filtering with median model C:\\Users\\zacha\\Repos\\AVI-DYS\\AVI-DYS-lower-limb-zach_roth-2023-04-19\\videos\\130-11cropped.mp4\n",
      "Saving filtered csv poses!\n",
      "Filtering with median model C:\\Users\\zacha\\Repos\\AVI-DYS\\AVI-DYS-lower-limb-zach_roth-2023-04-19\\videos\\309-12cropped.mp4\n",
      "Saving filtered csv poses!\n",
      "Filtering with median model C:\\Users\\zacha\\Repos\\AVI-DYS\\AVI-DYS-lower-limb-zach_roth-2023-04-19\\videos\\303-12cropped.mp4\n",
      "Saving filtered csv poses!\n",
      "Filtering with median model C:\\Users\\zacha\\Repos\\AVI-DYS\\AVI-DYS-lower-limb-zach_roth-2023-04-19\\videos\\306-12cropped.mp4\n"
     ]
    },
    {
     "name": "stdout",
     "output_type": "stream",
     "text": [
      "Saving filtered csv poses!\n",
      "Filtering with median model C:\\Users\\zacha\\Repos\\AVI-DYS\\AVI-DYS-lower-limb-zach_roth-2023-04-19\\videos\\133-12cropped.mp4\n",
      "Saving filtered csv poses!\n",
      "Filtering with median model C:\\Users\\zacha\\Repos\\AVI-DYS\\AVI-DYS-lower-limb-zach_roth-2023-04-19\\videos\\304-12cropped.mp4\n",
      "Saving filtered csv poses!\n",
      "Filtering with median model C:\\Users\\zacha\\Repos\\AVI-DYS\\AVI-DYS-lower-limb-zach_roth-2023-04-19\\videos\\005-11cropped.mp4\n",
      "Saving filtered csv poses!\n",
      "Filtering with median model C:\\Users\\zacha\\Repos\\AVI-DYS\\AVI-DYS-lower-limb-zach_roth-2023-04-19\\videos\\004-11cropped.mp4\n",
      "Saving filtered csv poses!\n",
      "Filtering with median model C:\\Users\\zacha\\Repos\\AVI-DYS\\AVI-DYS-lower-limb-zach_roth-2023-04-19\\videos\\307-12cropped.mp4\n",
      "Saving filtered csv poses!\n",
      "Filtering with median model C:\\Users\\zacha\\Repos\\AVI-DYS\\AVI-DYS-lower-limb-zach_roth-2023-04-19\\videos\\116-12cropped.mp4\n",
      "Saving filtered csv poses!\n",
      "Filtering with median model C:\\Users\\zacha\\Repos\\AVI-DYS\\AVI-DYS-lower-limb-zach_roth-2023-04-19\\videos\\139-12cropped.mp4\n",
      "Saving filtered csv poses!\n",
      "Filtering with median model C:\\Users\\zacha\\Repos\\AVI-DYS\\AVI-DYS-lower-limb-zach_roth-2023-04-19\\videos\\004-12cropped.mp4\n",
      "Saving filtered csv poses!\n",
      "Filtering with median model C:\\Users\\zacha\\Repos\\AVI-DYS\\AVI-DYS-lower-limb-zach_roth-2023-04-19\\videos\\301-11cropped.mp4\n",
      "Saving filtered csv poses!\n",
      "Filtering with median model C:\\Users\\zacha\\Repos\\AVI-DYS\\AVI-DYS-lower-limb-zach_roth-2023-04-19\\videos\\307-11cropped.mp4\n",
      "Saving filtered csv poses!\n",
      "Filtering with median model C:\\Users\\zacha\\Repos\\AVI-DYS\\AVI-DYS-lower-limb-zach_roth-2023-04-19\\videos\\305-12cropped.mp4\n",
      "Saving filtered csv poses!\n",
      "Filtering with median model C:\\Users\\zacha\\Repos\\AVI-DYS\\AVI-DYS-lower-limb-zach_roth-2023-04-19\\videos\\126-11cropped.mp4\n",
      "Saving filtered csv poses!\n",
      "Filtering with median model C:\\Users\\zacha\\Repos\\AVI-DYS\\AVI-DYS-lower-limb-zach_roth-2023-04-19\\videos\\130-12cropped.mp4\n",
      "Saving filtered csv poses!\n",
      "Filtering with median model C:\\Users\\zacha\\Repos\\AVI-DYS\\AVI-DYS-lower-limb-zach_roth-2023-04-19\\videos\\005-12cropped.mp4\n",
      "Saving filtered csv poses!\n",
      "Filtering with median model C:\\Users\\zacha\\Repos\\AVI-DYS\\AVI-DYS-lower-limb-zach_roth-2023-04-19\\videos\\156-12cropped.mp4\n",
      "Saving filtered csv poses!\n",
      "Filtering with median model C:\\Users\\zacha\\Repos\\AVI-DYS\\AVI-DYS-lower-limb-zach_roth-2023-04-19\\videos\\129-12cropped.mp4\n",
      "Saving filtered csv poses!\n",
      "Filtering with median model C:\\Users\\zacha\\Repos\\AVI-DYS\\AVI-DYS-lower-limb-zach_roth-2023-04-19\\videos\\003-12cropped.mp4\n",
      "Saving filtered csv poses!\n",
      "Filtering with median model C:\\Users\\zacha\\Repos\\AVI-DYS\\AVI-DYS-lower-limb-zach_roth-2023-04-19\\videos\\121-11cropped.mp4\n",
      "Saving filtered csv poses!\n"
     ]
    }
   ],
   "source": [
    "deeplabcut.filterpredictions(\n",
    "    config_path,\n",
    "    os.path.join(project_path,'videos'),\n",
    "    videotype='.mp4',\n",
    "    shuffle=1,\n",
    "    trainingsetindex=0,\n",
    "    filtertype='median',\n",
    "    windowlength=5,\n",
    "    p_bound=0.001,\n",
    "    ARdegree=3,\n",
    "    MAdegree=1,\n",
    "    alpha=0.01,\n",
    "    save_as_csv=True,\n",
    "    destfolder=None,\n",
    "    modelprefix='',\n",
    "    track_method='',\n",
    ")"
   ]
  },
  {
   "attachments": {},
   "cell_type": "markdown",
   "id": "1d1e59cf",
   "metadata": {},
   "source": [
    "## (K) Plot Trajectories"
   ]
  },
  {
   "cell_type": "code",
   "execution_count": null,
   "id": "57ac5639",
   "metadata": {},
   "outputs": [],
   "source": [
    "deeplabcut.plot_trajectories?"
   ]
  },
  {
   "cell_type": "code",
   "execution_count": 7,
   "id": "14995b27",
   "metadata": {
    "scrolled": true
   },
   "outputs": [
    {
     "name": "stdout",
     "output_type": "stream",
     "text": [
      "Analyzing all the videos in the directory...\n",
      "Loading  C:\\Users\\zacha\\Repos\\AVI-DYS\\AVI-DYS-lower-limb-zach_roth-2023-04-07\\videos\\156-12cropped.mp4 and data.\n",
      "Loading  C:\\Users\\zacha\\Repos\\AVI-DYS\\AVI-DYS-lower-limb-zach_roth-2023-04-07\\videos\\151_02cropped.mp4 and data.\n",
      "Loading  C:\\Users\\zacha\\Repos\\AVI-DYS\\AVI-DYS-lower-limb-zach_roth-2023-04-07\\videos\\126-12cropped.mp4 and data.\n",
      "Loading  C:\\Users\\zacha\\Repos\\AVI-DYS\\AVI-DYS-lower-limb-zach_roth-2023-04-07\\videos\\001-02cropped.mp4 and data.\n",
      "Loading  C:\\Users\\zacha\\Repos\\AVI-DYS\\AVI-DYS-lower-limb-zach_roth-2023-04-07\\videos\\132-02cropped.mp4 and data.\n",
      "Loading  C:\\Users\\zacha\\Repos\\AVI-DYS\\AVI-DYS-lower-limb-zach_roth-2023-04-07\\videos\\304-11cropped.mp4 and data.\n",
      "Loading  C:\\Users\\zacha\\Repos\\AVI-DYS\\AVI-DYS-lower-limb-zach_roth-2023-04-07\\videos\\004-02cropped.mp4 and data.\n",
      "Loading  C:\\Users\\zacha\\Repos\\AVI-DYS\\AVI-DYS-lower-limb-zach_roth-2023-04-07\\videos\\305-02cropped.mp4 and data.\n",
      "Loading  C:\\Users\\zacha\\Repos\\AVI-DYS\\AVI-DYS-lower-limb-zach_roth-2023-04-07\\videos\\130-12cropped.mp4 and data.\n",
      "Loading  C:\\Users\\zacha\\Repos\\AVI-DYS\\AVI-DYS-lower-limb-zach_roth-2023-04-07\\videos\\130-02cropped.mp4 and data.\n",
      "Loading  C:\\Users\\zacha\\Repos\\AVI-DYS\\AVI-DYS-lower-limb-zach_roth-2023-04-07\\videos\\135-11cropped.mp4 and data.\n",
      "Loading  C:\\Users\\zacha\\Repos\\AVI-DYS\\AVI-DYS-lower-limb-zach_roth-2023-04-07\\videos\\001-12cropped.mp4 and data.\n",
      "Loading  C:\\Users\\zacha\\Repos\\AVI-DYS\\AVI-DYS-lower-limb-zach_roth-2023-04-07\\videos\\137-02cropped.mp4 and data.\n",
      "Loading  C:\\Users\\zacha\\Repos\\AVI-DYS\\AVI-DYS-lower-limb-zach_roth-2023-04-07\\videos\\118-02cropped.mp4 and data.\n",
      "Loading  C:\\Users\\zacha\\Repos\\AVI-DYS\\AVI-DYS-lower-limb-zach_roth-2023-04-07\\videos\\129-11cropped.mp4 and data.\n",
      "Loading  C:\\Users\\zacha\\Repos\\AVI-DYS\\AVI-DYS-lower-limb-zach_roth-2023-04-07\\videos\\151-12cropped.mp4 and data.\n",
      "Loading  C:\\Users\\zacha\\Repos\\AVI-DYS\\AVI-DYS-lower-limb-zach_roth-2023-04-07\\videos\\156-11cropped.mp4 and data.\n",
      "Loading  C:\\Users\\zacha\\Repos\\AVI-DYS\\AVI-DYS-lower-limb-zach_roth-2023-04-07\\videos\\130-11cropped.mp4 and data.\n",
      "Loading  C:\\Users\\zacha\\Repos\\AVI-DYS\\AVI-DYS-lower-limb-zach_roth-2023-04-07\\videos\\003-11cropped.mp4 and data.\n",
      "Loading  C:\\Users\\zacha\\Repos\\AVI-DYS\\AVI-DYS-lower-limb-zach_roth-2023-04-07\\videos\\151-11cropped.mp4 and data.\n",
      "Loading  C:\\Users\\zacha\\Repos\\AVI-DYS\\AVI-DYS-lower-limb-zach_roth-2023-04-07\\videos\\128-02cropped.mp4 and data.\n",
      "Loading  C:\\Users\\zacha\\Repos\\AVI-DYS\\AVI-DYS-lower-limb-zach_roth-2023-04-07\\videos\\135-02cropped.mp4 and data.\n",
      "Loading  C:\\Users\\zacha\\Repos\\AVI-DYS\\AVI-DYS-lower-limb-zach_roth-2023-04-07\\videos\\004-11cropped.mp4 and data.\n",
      "Loading  C:\\Users\\zacha\\Repos\\AVI-DYS\\AVI-DYS-lower-limb-zach_roth-2023-04-07\\videos\\305-11cropped.mp4 and data.\n",
      "Loading  C:\\Users\\zacha\\Repos\\AVI-DYS\\AVI-DYS-lower-limb-zach_roth-2023-04-07\\videos\\126-11cropped.mp4 and data.\n",
      "Loading  C:\\Users\\zacha\\Repos\\AVI-DYS\\AVI-DYS-lower-limb-zach_roth-2023-04-07\\videos\\115-12cropped.mp4 and data.\n",
      "Loading  C:\\Users\\zacha\\Repos\\AVI-DYS\\AVI-DYS-lower-limb-zach_roth-2023-04-07\\videos\\116-11cropped.mp4 and data.\n",
      "Loading  C:\\Users\\zacha\\Repos\\AVI-DYS\\AVI-DYS-lower-limb-zach_roth-2023-04-07\\videos\\305-12cropped.mp4 and data.\n",
      "Loading  C:\\Users\\zacha\\Repos\\AVI-DYS\\AVI-DYS-lower-limb-zach_roth-2023-04-07\\videos\\121-11cropped.mp4 and data.\n",
      "Loading  C:\\Users\\zacha\\Repos\\AVI-DYS\\AVI-DYS-lower-limb-zach_roth-2023-04-07\\videos\\137-11cropped.mp4 and data.\n",
      "Loading  C:\\Users\\zacha\\Repos\\AVI-DYS\\AVI-DYS-lower-limb-zach_roth-2023-04-07\\videos\\115-11cropped.mp4 and data.\n",
      "Loading  C:\\Users\\zacha\\Repos\\AVI-DYS\\AVI-DYS-lower-limb-zach_roth-2023-04-07\\videos\\118-12cropped.mp4 and data.\n",
      "Loading  C:\\Users\\zacha\\Repos\\AVI-DYS\\AVI-DYS-lower-limb-zach_roth-2023-04-07\\videos\\126-02cropped.mp4 and data.\n",
      "Loading  C:\\Users\\zacha\\Repos\\AVI-DYS\\AVI-DYS-lower-limb-zach_roth-2023-04-07\\videos\\132-11cropped.mp4 and data.\n",
      "Loading  C:\\Users\\zacha\\Repos\\AVI-DYS\\AVI-DYS-lower-limb-zach_roth-2023-04-07\\videos\\125-12cropped.mp4 and data.\n",
      "Loading  C:\\Users\\zacha\\Repos\\AVI-DYS\\AVI-DYS-lower-limb-zach_roth-2023-04-07\\videos\\117-02cropped.mp4 and data.\n",
      "Loading  C:\\Users\\zacha\\Repos\\AVI-DYS\\AVI-DYS-lower-limb-zach_roth-2023-04-07\\videos\\128-12cropped.mp4 and data.\n",
      "Loading  C:\\Users\\zacha\\Repos\\AVI-DYS\\AVI-DYS-lower-limb-zach_roth-2023-04-07\\videos\\120-11cropped.mp4 and data.\n",
      "Loading  C:\\Users\\zacha\\Repos\\AVI-DYS\\AVI-DYS-lower-limb-zach_roth-2023-04-07\\videos\\123-02cropped.mp4 and data.\n",
      "Loading  C:\\Users\\zacha\\Repos\\AVI-DYS\\AVI-DYS-lower-limb-zach_roth-2023-04-07\\videos\\117-12cropped.mp4 and data.\n",
      "Loading  C:\\Users\\zacha\\Repos\\AVI-DYS\\AVI-DYS-lower-limb-zach_roth-2023-04-07\\videos\\131-11cropped.mp4 and data.\n",
      "Loading  C:\\Users\\zacha\\Repos\\AVI-DYS\\AVI-DYS-lower-limb-zach_roth-2023-04-07\\videos\\127-12cropped.mp4 and data.\n",
      "Loading  C:\\Users\\zacha\\Repos\\AVI-DYS\\AVI-DYS-lower-limb-zach_roth-2023-04-07\\videos\\137-12cropped.mp4 and data.\n",
      "Loading  C:\\Users\\zacha\\Repos\\AVI-DYS\\AVI-DYS-lower-limb-zach_roth-2023-04-07\\videos\\155-02cropped.mp4 and data.\n",
      "Loading  C:\\Users\\zacha\\Repos\\AVI-DYS\\AVI-DYS-lower-limb-zach_roth-2023-04-07\\videos\\123-11cropped.mp4 and data.\n",
      "Loading  C:\\Users\\zacha\\Repos\\AVI-DYS\\AVI-DYS-lower-limb-zach_roth-2023-04-07\\videos\\116-12cropped.mp4 and data.\n",
      "Loading  C:\\Users\\zacha\\Repos\\AVI-DYS\\AVI-DYS-lower-limb-zach_roth-2023-04-07\\videos\\125-11cropped.mp4 and data.\n",
      "Loading  C:\\Users\\zacha\\Repos\\AVI-DYS\\AVI-DYS-lower-limb-zach_roth-2023-04-07\\videos\\004-12cropped.mp4 and data.\n",
      "Loading  C:\\Users\\zacha\\Repos\\AVI-DYS\\AVI-DYS-lower-limb-zach_roth-2023-04-07\\videos\\133-12cropped.mp4 and data.\n",
      "Loading  C:\\Users\\zacha\\Repos\\AVI-DYS\\AVI-DYS-lower-limb-zach_roth-2023-04-07\\videos\\003-02cropped.mp4 and data.\n",
      "Loading  C:\\Users\\zacha\\Repos\\AVI-DYS\\AVI-DYS-lower-limb-zach_roth-2023-04-07\\videos\\304-02cropped.mp4 and data.\n",
      "Loading  C:\\Users\\zacha\\Repos\\AVI-DYS\\AVI-DYS-lower-limb-zach_roth-2023-04-07\\videos\\115-02cropped.mp4 and data.\n",
      "Loading  C:\\Users\\zacha\\Repos\\AVI-DYS\\AVI-DYS-lower-limb-zach_roth-2023-04-07\\videos\\127-02cropped.mp4 and data.\n",
      "Loading  C:\\Users\\zacha\\Repos\\AVI-DYS\\AVI-DYS-lower-limb-zach_roth-2023-04-07\\videos\\131-12cropped.mp4 and data.\n",
      "Loading  C:\\Users\\zacha\\Repos\\AVI-DYS\\AVI-DYS-lower-limb-zach_roth-2023-04-07\\videos\\120-12cropped.mp4 and data.\n",
      "Loading  C:\\Users\\zacha\\Repos\\AVI-DYS\\AVI-DYS-lower-limb-zach_roth-2023-04-07\\videos\\301-12cropped.mp4 and data.\n",
      "Loading  C:\\Users\\zacha\\Repos\\AVI-DYS\\AVI-DYS-lower-limb-zach_roth-2023-04-07\\videos\\139-02cropped.mp4 and data.\n",
      "Loading  C:\\Users\\zacha\\Repos\\AVI-DYS\\AVI-DYS-lower-limb-zach_roth-2023-04-07\\videos\\121-12cropped.mp4 and data.\n",
      "Loading  C:\\Users\\zacha\\Repos\\AVI-DYS\\AVI-DYS-lower-limb-zach_roth-2023-04-07\\videos\\122-02cropped.mp4 and data.\n",
      "Loading  C:\\Users\\zacha\\Repos\\AVI-DYS\\AVI-DYS-lower-limb-zach_roth-2023-04-07\\videos\\125-02cropped.mp4 and data.\n",
      "Loading  C:\\Users\\zacha\\Repos\\AVI-DYS\\AVI-DYS-lower-limb-zach_roth-2023-04-07\\videos\\139-12cropped.mp4 and data.\n",
      "Loading  C:\\Users\\zacha\\Repos\\AVI-DYS\\AVI-DYS-lower-limb-zach_roth-2023-04-07\\videos\\118-11cropped.mp4 and data.\n",
      "Loading  C:\\Users\\zacha\\Repos\\AVI-DYS\\AVI-DYS-lower-limb-zach_roth-2023-04-07\\videos\\139-11cropped.mp4 and data.\n",
      "Loading  C:\\Users\\zacha\\Repos\\AVI-DYS\\AVI-DYS-lower-limb-zach_roth-2023-04-07\\videos\\155-11cropped.mp4 and data.\n",
      "Loading  C:\\Users\\zacha\\Repos\\AVI-DYS\\AVI-DYS-lower-limb-zach_roth-2023-04-07\\videos\\001-11cropped.mp4 and data.\n",
      "Loading  C:\\Users\\zacha\\Repos\\AVI-DYS\\AVI-DYS-lower-limb-zach_roth-2023-04-07\\videos\\127-11cropped.mp4 and data.\n",
      "Loading  C:\\Users\\zacha\\Repos\\AVI-DYS\\AVI-DYS-lower-limb-zach_roth-2023-04-07\\videos\\132-12cropped.mp4 and data.\n",
      "Loading  C:\\Users\\zacha\\Repos\\AVI-DYS\\AVI-DYS-lower-limb-zach_roth-2023-04-07\\videos\\129-12cropped.mp4 and data.\n",
      "Loading  C:\\Users\\zacha\\Repos\\AVI-DYS\\AVI-DYS-lower-limb-zach_roth-2023-04-07\\videos\\135-12cropped.mp4 and data.\n",
      "Loading  C:\\Users\\zacha\\Repos\\AVI-DYS\\AVI-DYS-lower-limb-zach_roth-2023-04-07\\videos\\121-02cropped.mp4 and data.\n",
      "Loading  C:\\Users\\zacha\\Repos\\AVI-DYS\\AVI-DYS-lower-limb-zach_roth-2023-04-07\\videos\\131-02cropped.mp4 and data.\n",
      "Loading  C:\\Users\\zacha\\Repos\\AVI-DYS\\AVI-DYS-lower-limb-zach_roth-2023-04-07\\videos\\133-11cropped.mp4 and data.\n",
      "Loading  C:\\Users\\zacha\\Repos\\AVI-DYS\\AVI-DYS-lower-limb-zach_roth-2023-04-07\\videos\\122-11cropped.mp4 and data.\n"
     ]
    },
    {
     "name": "stdout",
     "output_type": "stream",
     "text": [
      "Loading  C:\\Users\\zacha\\Repos\\AVI-DYS\\AVI-DYS-lower-limb-zach_roth-2023-04-07\\videos\\156-02cropped.mp4 and data.\n",
      "Loading  C:\\Users\\zacha\\Repos\\AVI-DYS\\AVI-DYS-lower-limb-zach_roth-2023-04-07\\videos\\123-12cropped.mp4 and data.\n",
      "Loading  C:\\Users\\zacha\\Repos\\AVI-DYS\\AVI-DYS-lower-limb-zach_roth-2023-04-07\\videos\\301-02cropped.mp4 and data.\n",
      "Loading  C:\\Users\\zacha\\Repos\\AVI-DYS\\AVI-DYS-lower-limb-zach_roth-2023-04-07\\videos\\301-11cropped.mp4 and data.\n",
      "Loading  C:\\Users\\zacha\\Repos\\AVI-DYS\\AVI-DYS-lower-limb-zach_roth-2023-04-07\\videos\\116-02cropped.mp4 and data.\n",
      "Loading  C:\\Users\\zacha\\Repos\\AVI-DYS\\AVI-DYS-lower-limb-zach_roth-2023-04-07\\videos\\128-11cropped.mp4 and data.\n",
      "Loading  C:\\Users\\zacha\\Repos\\AVI-DYS\\AVI-DYS-lower-limb-zach_roth-2023-04-07\\videos\\304-12cropped.mp4 and data.\n",
      "Loading  C:\\Users\\zacha\\Repos\\AVI-DYS\\AVI-DYS-lower-limb-zach_roth-2023-04-07\\videos\\122-12cropped.mp4 and data.\n",
      "Loading  C:\\Users\\zacha\\Repos\\AVI-DYS\\AVI-DYS-lower-limb-zach_roth-2023-04-07\\videos\\117-11cropped.mp4 and data.\n",
      "Loading  C:\\Users\\zacha\\Repos\\AVI-DYS\\AVI-DYS-lower-limb-zach_roth-2023-04-07\\videos\\003-12cropped.mp4 and data.\n",
      "Loading  C:\\Users\\zacha\\Repos\\AVI-DYS\\AVI-DYS-lower-limb-zach_roth-2023-04-07\\videos\\133-02cropped.mp4 and data.\n",
      "Loading  C:\\Users\\zacha\\Repos\\AVI-DYS\\AVI-DYS-lower-limb-zach_roth-2023-04-07\\videos\\129-02cropped.mp4 and data.\n",
      "Loading  C:\\Users\\zacha\\Repos\\AVI-DYS\\AVI-DYS-lower-limb-zach_roth-2023-04-07\\videos\\120-02cropped.mp4 and data.\n",
      "Loading  C:\\Users\\zacha\\Repos\\AVI-DYS\\AVI-DYS-lower-limb-zach_roth-2023-04-07\\videos\\155-12cropped.mp4 and data.\n",
      "Plots created! Please check the directory \"plot-poses\" within the video directory\n"
     ]
    }
   ],
   "source": [
    "deeplabcut.plot_trajectories(\n",
    "    config_path,\n",
    "    os.path.join(project_path,'videos'),\n",
    "    videotype='.mp4',\n",
    "    shuffle=1,\n",
    "    trainingsetindex=0,\n",
    "    filtered=True,\n",
    "    displayedbodyparts='all',\n",
    "    displayedindividuals='all',\n",
    "    showfigures=False,\n",
    "    destfolder=None,\n",
    "    modelprefix='',\n",
    "    imagetype='.svg',\n",
    "    resolution=300,\n",
    "    linewidth=1.0,\n",
    "    track_method='',\n",
    ")"
   ]
  },
  {
   "attachments": {},
   "cell_type": "markdown",
   "id": "5a1888f7",
   "metadata": {},
   "source": [
    "## (L) Create Labeled Videos"
   ]
  },
  {
   "cell_type": "code",
   "execution_count": null,
   "id": "e21b66e9",
   "metadata": {},
   "outputs": [],
   "source": [
    "deeplabcut.create_labeled_video?"
   ]
  },
  {
   "cell_type": "code",
   "execution_count": 11,
   "id": "5afe69bd",
   "metadata": {},
   "outputs": [
    {
     "name": "stdout",
     "output_type": "stream",
     "text": [
      "Analyzing all the videos in the directory...\n"
     ]
    }
   ],
   "source": [
    "deeplabcut.create_labeled_video(\n",
    "    config_path,\n",
    "    os.path.join(project_path,'videos'),\n",
    "    videotype='.mp4',\n",
    "    shuffle=1,\n",
    "    trainingsetindex=0,\n",
    "    filtered=True,\n",
    "    fastmode=False,\n",
    "    save_frames=False,\n",
    "    keypoints_only=False,\n",
    "    Frames2plot=None,\n",
    "    displayedbodyparts='all',\n",
    "    displayedindividuals='all',\n",
    "    codec='mp4v',\n",
    "    outputframerate=None,\n",
    "    destfolder=None,\n",
    "    draw_skeleton=True,\n",
    "    trailpoints=0,\n",
    "    displaycropped=False,\n",
    "    color_by='bodypart',\n",
    "    modelprefix='',\n",
    "    track_method='',\n",
    ")"
   ]
  },
  {
   "attachments": {},
   "cell_type": "markdown",
   "id": "123e9897",
   "metadata": {},
   "source": [
    "## Analyze Skeleton"
   ]
  },
  {
   "cell_type": "code",
   "execution_count": 5,
   "id": "26f5ffc4",
   "metadata": {},
   "outputs": [
    {
     "name": "stdout",
     "output_type": "stream",
     "text": [
      "\u001b[1;31mSignature:\u001b[0m\n",
      "\u001b[0mdeeplabcut\u001b[0m\u001b[1;33m.\u001b[0m\u001b[0manalyzeskeleton\u001b[0m\u001b[1;33m(\u001b[0m\u001b[1;33m\n",
      "\u001b[0m    \u001b[0mconfig\u001b[0m\u001b[1;33m,\u001b[0m\u001b[1;33m\n",
      "\u001b[0m    \u001b[0mvideos\u001b[0m\u001b[1;33m,\u001b[0m\u001b[1;33m\n",
      "\u001b[0m    \u001b[0mvideotype\u001b[0m\u001b[1;33m=\u001b[0m\u001b[1;34m''\u001b[0m\u001b[1;33m,\u001b[0m\u001b[1;33m\n",
      "\u001b[0m    \u001b[0mshuffle\u001b[0m\u001b[1;33m=\u001b[0m\u001b[1;36m1\u001b[0m\u001b[1;33m,\u001b[0m\u001b[1;33m\n",
      "\u001b[0m    \u001b[0mtrainingsetindex\u001b[0m\u001b[1;33m=\u001b[0m\u001b[1;36m0\u001b[0m\u001b[1;33m,\u001b[0m\u001b[1;33m\n",
      "\u001b[0m    \u001b[0mfiltered\u001b[0m\u001b[1;33m=\u001b[0m\u001b[1;32mFalse\u001b[0m\u001b[1;33m,\u001b[0m\u001b[1;33m\n",
      "\u001b[0m    \u001b[0msave_as_csv\u001b[0m\u001b[1;33m=\u001b[0m\u001b[1;32mFalse\u001b[0m\u001b[1;33m,\u001b[0m\u001b[1;33m\n",
      "\u001b[0m    \u001b[0mdestfolder\u001b[0m\u001b[1;33m=\u001b[0m\u001b[1;32mNone\u001b[0m\u001b[1;33m,\u001b[0m\u001b[1;33m\n",
      "\u001b[0m    \u001b[0mmodelprefix\u001b[0m\u001b[1;33m=\u001b[0m\u001b[1;34m''\u001b[0m\u001b[1;33m,\u001b[0m\u001b[1;33m\n",
      "\u001b[0m    \u001b[0mtrack_method\u001b[0m\u001b[1;33m=\u001b[0m\u001b[1;34m''\u001b[0m\u001b[1;33m,\u001b[0m\u001b[1;33m\n",
      "\u001b[0m\u001b[1;33m)\u001b[0m\u001b[1;33m\u001b[0m\u001b[1;33m\u001b[0m\u001b[0m\n",
      "\u001b[1;31mDocstring:\u001b[0m\n",
      "Extracts length and orientation of each \"bone\" of the skeleton.\n",
      "\n",
      "The bone and skeleton information is defined in the config file.\n",
      "\n",
      "Parameters\n",
      "----------\n",
      "config: str\n",
      "    Full path of the config.yaml file.\n",
      "\n",
      "videos: list[str]\n",
      "    The full paths to videos for analysis or a path to the directory, where all the\n",
      "    videos with same extension are stored.\n",
      "\n",
      "videotype: str, optional, default=\"\"\n",
      "    Checks for the extension of the video in case the input to the video is a\n",
      "    directory. Only videos with this extension are analyzed.\n",
      "    If left unspecified, videos with common extensions\n",
      "    ('avi', 'mp4', 'mov', 'mpeg', 'mkv') are kept.\n",
      "\n",
      "shuffle : int, optional, default=1\n",
      "    The shuffle index of training dataset. The extracted frames will be stored in\n",
      "    the labeled-dataset for the corresponding shuffle of training dataset.\n",
      "\n",
      "trainingsetindex: int, optional, default=0\n",
      "    Integer specifying which TrainingsetFraction to use.\n",
      "    Note that TrainingFraction is a list in config.yaml.\n",
      "\n",
      "filtered: bool, optional, default=False\n",
      "    Boolean variable indicating if filtered output should be plotted rather than\n",
      "    frame-by-frame predictions. Filtered version can be calculated with\n",
      "    ``deeplabcut.filterpredictions``.\n",
      "\n",
      "save_as_csv: bool, optional, default=False\n",
      "    Saves the predictions in a .csv file.\n",
      "\n",
      "destfolder: string or None, optional, default=None\n",
      "    Specifies the destination folder for analysis data. If ``None``, the path of\n",
      "    the video is used. Note that for subsequent analysis this folder also needs to\n",
      "    be passed.\n",
      "\n",
      "modelprefix: str, optional, default=\"\"\n",
      "    Directory containing the deeplabcut models to use when evaluating the network.\n",
      "    By default, the models are assumed to exist in the project folder.\n",
      "\n",
      "track_method: string, optional, default=\"\"\n",
      "    Specifies the tracker used to generate the data.\n",
      "    Empty by default (corresponding to a single animal project).\n",
      "    For multiple animals, must be either 'box', 'skeleton', or 'ellipse' and will\n",
      "    be taken from the config.yaml file if none is given.\n",
      "\n",
      "Returns\n",
      "-------\n",
      "None\n",
      "\u001b[1;31mFile:\u001b[0m      c:\\users\\zacha\\anaconda3\\envs\\deeplabcut\\lib\\site-packages\\deeplabcut\\post_processing\\analyze_skeleton.py\n",
      "\u001b[1;31mType:\u001b[0m      function"
     ]
    }
   ],
   "source": [
    "deeplabcut.analyzeskeleton?"
   ]
  },
  {
   "cell_type": "code",
   "execution_count": 6,
   "id": "749b6f61",
   "metadata": {},
   "outputs": [
    {
     "name": "stdout",
     "output_type": "stream",
     "text": [
      "Analyzing all the videos in the directory...\n",
      "Processing C:\\Users\\zacha\\Repos\\AVI-DYS\\AVI-DYS-lower-limb-zach_roth-2023-04-19\\videos\\129-12cropped.mp4\n",
      "Processing C:\\Users\\zacha\\Repos\\AVI-DYS\\AVI-DYS-lower-limb-zach_roth-2023-04-19\\videos\\303-11cropped.mp4\n",
      "Processing C:\\Users\\zacha\\Repos\\AVI-DYS\\AVI-DYS-lower-limb-zach_roth-2023-04-19\\videos\\127-12cropped.mp4\n",
      "Processing C:\\Users\\zacha\\Repos\\AVI-DYS\\AVI-DYS-lower-limb-zach_roth-2023-04-19\\videos\\138-12cropped.mp4\n",
      "Processing C:\\Users\\zacha\\Repos\\AVI-DYS\\AVI-DYS-lower-limb-zach_roth-2023-04-19\\videos\\116-11cropped.mp4\n",
      "Processing C:\\Users\\zacha\\Repos\\AVI-DYS\\AVI-DYS-lower-limb-zach_roth-2023-04-19\\videos\\152-11cropped.mp4\n",
      "Processing C:\\Users\\zacha\\Repos\\AVI-DYS\\AVI-DYS-lower-limb-zach_roth-2023-04-19\\videos\\122-11cropped.mp4\n",
      "Processing C:\\Users\\zacha\\Repos\\AVI-DYS\\AVI-DYS-lower-limb-zach_roth-2023-04-19\\videos\\156-12cropped.mp4\n",
      "Processing C:\\Users\\zacha\\Repos\\AVI-DYS\\AVI-DYS-lower-limb-zach_roth-2023-04-19\\videos\\309-11cropped.mp4\n",
      "Processing C:\\Users\\zacha\\Repos\\AVI-DYS\\AVI-DYS-lower-limb-zach_roth-2023-04-19\\videos\\004-11cropped.mp4\n",
      "Processing C:\\Users\\zacha\\Repos\\AVI-DYS\\AVI-DYS-lower-limb-zach_roth-2023-04-19\\videos\\125-11cropped.mp4\n",
      "Processing C:\\Users\\zacha\\Repos\\AVI-DYS\\AVI-DYS-lower-limb-zach_roth-2023-04-19\\videos\\115-12cropped.mp4\n",
      "Processing C:\\Users\\zacha\\Repos\\AVI-DYS\\AVI-DYS-lower-limb-zach_roth-2023-04-19\\videos\\126-12cropped.mp4\n",
      "Processing C:\\Users\\zacha\\Repos\\AVI-DYS\\AVI-DYS-lower-limb-zach_roth-2023-04-19\\videos\\001-11cropped.mp4\n",
      "Processing C:\\Users\\zacha\\Repos\\AVI-DYS\\AVI-DYS-lower-limb-zach_roth-2023-04-19\\videos\\123-11cropped.mp4\n",
      "Processing C:\\Users\\zacha\\Repos\\AVI-DYS\\AVI-DYS-lower-limb-zach_roth-2023-04-19\\videos\\131-11cropped.mp4\n",
      "Processing C:\\Users\\zacha\\Repos\\AVI-DYS\\AVI-DYS-lower-limb-zach_roth-2023-04-19\\videos\\003-11cropped.mp4\n",
      "Processing C:\\Users\\zacha\\Repos\\AVI-DYS\\AVI-DYS-lower-limb-zach_roth-2023-04-19\\videos\\120-12cropped.mp4\n",
      "Processing C:\\Users\\zacha\\Repos\\AVI-DYS\\AVI-DYS-lower-limb-zach_roth-2023-04-19\\videos\\004-12cropped.mp4\n",
      "Processing C:\\Users\\zacha\\Repos\\AVI-DYS\\AVI-DYS-lower-limb-zach_roth-2023-04-19\\videos\\137-11cropped.mp4\n",
      "Processing C:\\Users\\zacha\\Repos\\AVI-DYS\\AVI-DYS-lower-limb-zach_roth-2023-04-19\\videos\\139-11cropped.mp4\n",
      "Processing C:\\Users\\zacha\\Repos\\AVI-DYS\\AVI-DYS-lower-limb-zach_roth-2023-04-19\\videos\\301-12cropped.mp4\n",
      "Processing C:\\Users\\zacha\\Repos\\AVI-DYS\\AVI-DYS-lower-limb-zach_roth-2023-04-19\\videos\\309-12cropped.mp4\n",
      "Processing C:\\Users\\zacha\\Repos\\AVI-DYS\\AVI-DYS-lower-limb-zach_roth-2023-04-19\\videos\\303-12cropped.mp4\n",
      "Processing C:\\Users\\zacha\\Repos\\AVI-DYS\\AVI-DYS-lower-limb-zach_roth-2023-04-19\\videos\\137-12cropped.mp4\n",
      "Processing C:\\Users\\zacha\\Repos\\AVI-DYS\\AVI-DYS-lower-limb-zach_roth-2023-04-19\\videos\\121-11cropped.mp4\n",
      "Processing C:\\Users\\zacha\\Repos\\AVI-DYS\\AVI-DYS-lower-limb-zach_roth-2023-04-19\\videos\\133-11cropped.mp4\n",
      "Processing C:\\Users\\zacha\\Repos\\AVI-DYS\\AVI-DYS-lower-limb-zach_roth-2023-04-19\\videos\\305-11cropped.mp4\n",
      "Processing C:\\Users\\zacha\\Repos\\AVI-DYS\\AVI-DYS-lower-limb-zach_roth-2023-04-19\\videos\\005-12cropped.mp4\n",
      "Processing C:\\Users\\zacha\\Repos\\AVI-DYS\\AVI-DYS-lower-limb-zach_roth-2023-04-19\\videos\\115-11cropped.mp4\n",
      "Processing C:\\Users\\zacha\\Repos\\AVI-DYS\\AVI-DYS-lower-limb-zach_roth-2023-04-19\\videos\\306-11cropped.mp4\n",
      "Processing C:\\Users\\zacha\\Repos\\AVI-DYS\\AVI-DYS-lower-limb-zach_roth-2023-04-19\\videos\\126-11cropped.mp4\n",
      "Processing C:\\Users\\zacha\\Repos\\AVI-DYS\\AVI-DYS-lower-limb-zach_roth-2023-04-19\\videos\\307-12cropped.mp4\n",
      "Processing C:\\Users\\zacha\\Repos\\AVI-DYS\\AVI-DYS-lower-limb-zach_roth-2023-04-19\\videos\\139-12cropped.mp4\n",
      "Processing C:\\Users\\zacha\\Repos\\AVI-DYS\\AVI-DYS-lower-limb-zach_roth-2023-04-19\\videos\\152-12cropped.mp4\n",
      "Processing C:\\Users\\zacha\\Repos\\AVI-DYS\\AVI-DYS-lower-limb-zach_roth-2023-04-19\\videos\\135-12cropped.mp4\n",
      "Processing C:\\Users\\zacha\\Repos\\AVI-DYS\\AVI-DYS-lower-limb-zach_roth-2023-04-19\\videos\\155-11cropped.mp4\n",
      "Processing C:\\Users\\zacha\\Repos\\AVI-DYS\\AVI-DYS-lower-limb-zach_roth-2023-04-19\\videos\\151-11cropped.mp4\n",
      "Processing C:\\Users\\zacha\\Repos\\AVI-DYS\\AVI-DYS-lower-limb-zach_roth-2023-04-19\\videos\\132-12cropped.mp4\n",
      "Processing C:\\Users\\zacha\\Repos\\AVI-DYS\\AVI-DYS-lower-limb-zach_roth-2023-04-19\\videos\\116-12cropped.mp4\n",
      "Processing C:\\Users\\zacha\\Repos\\AVI-DYS\\AVI-DYS-lower-limb-zach_roth-2023-04-19\\videos\\118-11cropped.mp4\n",
      "Processing C:\\Users\\zacha\\Repos\\AVI-DYS\\AVI-DYS-lower-limb-zach_roth-2023-04-19\\videos\\131-12cropped.mp4\n",
      "Processing C:\\Users\\zacha\\Repos\\AVI-DYS\\AVI-DYS-lower-limb-zach_roth-2023-04-19\\videos\\130-11cropped.mp4\n",
      "Processing C:\\Users\\zacha\\Repos\\AVI-DYS\\AVI-DYS-lower-limb-zach_roth-2023-04-19\\videos\\307-11cropped.mp4\n",
      "Processing C:\\Users\\zacha\\Repos\\AVI-DYS\\AVI-DYS-lower-limb-zach_roth-2023-04-19\\videos\\129-11cropped.mp4\n",
      "Processing C:\\Users\\zacha\\Repos\\AVI-DYS\\AVI-DYS-lower-limb-zach_roth-2023-04-19\\videos\\308-11cropped.mp4\n",
      "Processing C:\\Users\\zacha\\Repos\\AVI-DYS\\AVI-DYS-lower-limb-zach_roth-2023-04-19\\videos\\001-12cropped.mp4\n",
      "Processing C:\\Users\\zacha\\Repos\\AVI-DYS\\AVI-DYS-lower-limb-zach_roth-2023-04-19\\videos\\128-12cropped.mp4\n",
      "Processing C:\\Users\\zacha\\Repos\\AVI-DYS\\AVI-DYS-lower-limb-zach_roth-2023-04-19\\videos\\120-11cropped.mp4\n",
      "Processing C:\\Users\\zacha\\Repos\\AVI-DYS\\AVI-DYS-lower-limb-zach_roth-2023-04-19\\videos\\118-12cropped.mp4\n",
      "Processing C:\\Users\\zacha\\Repos\\AVI-DYS\\AVI-DYS-lower-limb-zach_roth-2023-04-19\\videos\\304-11cropped.mp4\n",
      "Processing C:\\Users\\zacha\\Repos\\AVI-DYS\\AVI-DYS-lower-limb-zach_roth-2023-04-19\\videos\\125-12cropped.mp4\n",
      "Processing C:\\Users\\zacha\\Repos\\AVI-DYS\\AVI-DYS-lower-limb-zach_roth-2023-04-19\\videos\\132-11cropped.mp4\n",
      "Processing C:\\Users\\zacha\\Repos\\AVI-DYS\\AVI-DYS-lower-limb-zach_roth-2023-04-19\\videos\\121-12cropped.mp4\n",
      "Processing C:\\Users\\zacha\\Repos\\AVI-DYS\\AVI-DYS-lower-limb-zach_roth-2023-04-19\\videos\\133-12cropped.mp4\n",
      "Processing C:\\Users\\zacha\\Repos\\AVI-DYS\\AVI-DYS-lower-limb-zach_roth-2023-04-19\\videos\\306-12cropped.mp4\n",
      "Processing C:\\Users\\zacha\\Repos\\AVI-DYS\\AVI-DYS-lower-limb-zach_roth-2023-04-19\\videos\\123-12cropped.mp4\n",
      "Processing C:\\Users\\zacha\\Repos\\AVI-DYS\\AVI-DYS-lower-limb-zach_roth-2023-04-19\\videos\\301-11cropped.mp4\n",
      "Processing C:\\Users\\zacha\\Repos\\AVI-DYS\\AVI-DYS-lower-limb-zach_roth-2023-04-19\\videos\\155-12cropped.mp4\n",
      "Processing C:\\Users\\zacha\\Repos\\AVI-DYS\\AVI-DYS-lower-limb-zach_roth-2023-04-19\\videos\\117-12cropped.mp4\n",
      "Processing C:\\Users\\zacha\\Repos\\AVI-DYS\\AVI-DYS-lower-limb-zach_roth-2023-04-19\\videos\\130-12cropped.mp4\n",
      "Processing C:\\Users\\zacha\\Repos\\AVI-DYS\\AVI-DYS-lower-limb-zach_roth-2023-04-19\\videos\\117-11cropped.mp4\n",
      "Processing C:\\Users\\zacha\\Repos\\AVI-DYS\\AVI-DYS-lower-limb-zach_roth-2023-04-19\\videos\\127-11cropped.mp4\n",
      "Processing C:\\Users\\zacha\\Repos\\AVI-DYS\\AVI-DYS-lower-limb-zach_roth-2023-04-19\\videos\\151-12cropped.mp4\n",
      "Processing C:\\Users\\zacha\\Repos\\AVI-DYS\\AVI-DYS-lower-limb-zach_roth-2023-04-19\\videos\\122-12cropped.mp4\n",
      "Processing C:\\Users\\zacha\\Repos\\AVI-DYS\\AVI-DYS-lower-limb-zach_roth-2023-04-19\\videos\\156-11cropped.mp4\n",
      "Processing C:\\Users\\zacha\\Repos\\AVI-DYS\\AVI-DYS-lower-limb-zach_roth-2023-04-19\\videos\\308-12cropped.mp4\n",
      "Processing C:\\Users\\zacha\\Repos\\AVI-DYS\\AVI-DYS-lower-limb-zach_roth-2023-04-19\\videos\\138-11cropped.mp4\n",
      "Processing C:\\Users\\zacha\\Repos\\AVI-DYS\\AVI-DYS-lower-limb-zach_roth-2023-04-19\\videos\\003-12cropped.mp4\n",
      "Processing C:\\Users\\zacha\\Repos\\AVI-DYS\\AVI-DYS-lower-limb-zach_roth-2023-04-19\\videos\\305-12cropped.mp4\n",
      "Processing C:\\Users\\zacha\\Repos\\AVI-DYS\\AVI-DYS-lower-limb-zach_roth-2023-04-19\\videos\\135-11cropped.mp4\n",
      "Processing C:\\Users\\zacha\\Repos\\AVI-DYS\\AVI-DYS-lower-limb-zach_roth-2023-04-19\\videos\\304-12cropped.mp4\n",
      "Processing C:\\Users\\zacha\\Repos\\AVI-DYS\\AVI-DYS-lower-limb-zach_roth-2023-04-19\\videos\\005-11cropped.mp4\n",
      "Processing C:\\Users\\zacha\\Repos\\AVI-DYS\\AVI-DYS-lower-limb-zach_roth-2023-04-19\\videos\\128-11cropped.mp4\n"
     ]
    }
   ],
   "source": [
    "deeplabcut.analyzeskeleton(\n",
    "    config_path,\n",
    "    os.path.join(project_path,'videos'),\n",
    "    videotype='.mp4',\n",
    "    shuffle=1,\n",
    "    trainingsetindex=0,\n",
    "    filtered=True,\n",
    "    save_as_csv=True,\n",
    "    destfolder=None,\n",
    "    modelprefix='',\n",
    "    track_method='',\n",
    ")"
   ]
  },
  {
   "cell_type": "code",
   "execution_count": null,
   "id": "0897dd43",
   "metadata": {},
   "outputs": [],
   "source": []
  }
 ],
 "metadata": {
  "kernelspec": {
   "display_name": "DEEPLABCUT",
   "language": "python",
   "name": "python3"
  },
  "language_info": {
   "codemirror_mode": {
    "name": "ipython",
    "version": 3
   },
   "file_extension": ".py",
   "mimetype": "text/x-python",
   "name": "python",
   "nbconvert_exporter": "python",
   "pygments_lexer": "ipython3",
   "version": "3.8.16"
  }
 },
 "nbformat": 4,
 "nbformat_minor": 5
}
