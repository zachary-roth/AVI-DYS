{
 "cells": [
  {
   "attachments": {},
   "cell_type": "markdown",
   "metadata": {},
   "source": [
    "# AVI-DYS Time Series Classification"
   ]
  },
  {
   "attachments": {},
   "cell_type": "markdown",
   "metadata": {},
   "source": [
    "## Import Libraries"
   ]
  },
  {
   "cell_type": "code",
   "execution_count": 1,
   "metadata": {},
   "outputs": [],
   "source": [
    "import os\n",
    "import numpy as np\n",
    "import pandas as pd\n",
    "from sklearn.model_selection import cross_val_predict\n",
    "from sklearn.model_selection import StratifiedKFold\n",
    "from sktime.classification.hybrid import HIVECOTEV2\n",
    "from sklearn.metrics import confusion_matrix\n",
    "from sklearn.metrics import classification_report"
   ]
  },
  {
   "attachments": {},
   "cell_type": "markdown",
   "metadata": {},
   "source": [
    "## Set User specific parameters"
   ]
  },
  {
   "cell_type": "code",
   "execution_count": 2,
   "metadata": {},
   "outputs": [],
   "source": [
    "IDs = ['001', '003', '004', '005', '115', '116', '117', '118', '120', '121',\n",
    "       '122', '123', '125', '126', '127', '128', '129', '130', '131', '132',\n",
    "       '133', '135', '138', '151', '152', '301', '303', '304', '305', '306',\n",
    "       '307', '308', '309']\n",
    "\n",
    "data_path = \"C:\\\\Users\\\\zacha\\\\Data\\\\AVI-DYS\\\\Results\\\\Post-Processing\\\\5-Concatenated\""
   ]
  },
  {
   "attachments": {},
   "cell_type": "markdown",
   "metadata": {},
   "source": [
    "## Format the DIS Scores"
   ]
  },
  {
   "cell_type": "code",
   "execution_count": 3,
   "metadata": {},
   "outputs": [],
   "source": [
    "# Initialize an output DataFrame for the DIS scores (y)\n",
    "cols = [\n",
    "       'Dystonia-Duration', 'Dystonia-Amplitude',\n",
    "       'Choreoathetosis-Duration', 'Choreoathetosis-Amplitude',\n",
    "        ]\n",
    "\n",
    "iterables = [IDs, [\"11\", \"12\"]]\n",
    "\n",
    "index = pd.MultiIndex.from_product(iterables, names=[\"ID\", \"Side Code\"])\n",
    "\n",
    "Y = pd.DataFrame(index=index, columns=cols)\n",
    "Y.reset_index(inplace=True)"
   ]
  },
  {
   "cell_type": "code",
   "execution_count": 4,
   "metadata": {},
   "outputs": [],
   "source": [
    "# Put the DIS scores into a tidy format\n",
    "df = pd.read_excel(\"C:\\\\Users\\\\zacha\\\\Repos\\\\AVI-DYS\\\\DIS-Included.xlsx\")\n",
    "\n",
    "for idx, i in enumerate(IDs):\n",
    "    Y['Dystonia-Duration'][idx*2] = df['Dystonia-Right-Duration-11'][idx]\n",
    "    Y['Dystonia-Duration'][idx*2+1] = df['Dystonia-Left-Duration-12'][idx]\n",
    "    Y['Dystonia-Amplitude'][idx*2] = df['Dystonia-Right-Amplitude-11'][idx]\n",
    "    Y['Dystonia-Amplitude'][idx*2+1] = df['Dystonia-Left-Amplitude-12'][idx]\n",
    "    Y['Choreoathetosis-Duration'][idx*2] = df['Choreoathetosis-Right-Duration-11'][idx]\n",
    "    Y['Choreoathetosis-Duration'][idx*2+1] = df['Choreoathetosis-Left-Duration-12'][idx]\n",
    "    Y['Choreoathetosis-Amplitude'][idx*2] = df['Choreoathetosis-Right-Amplitude-11'][idx]\n",
    "    Y['Choreoathetosis-Amplitude'][idx*2+1] = df['Choreoathetosis-Left-Amplitude-12'][idx]"
   ]
  },
  {
   "attachments": {},
   "cell_type": "markdown",
   "metadata": {},
   "source": [
    "## Create the 3D numpy array"
   ]
  },
  {
   "cell_type": "code",
   "execution_count": 5,
   "metadata": {},
   "outputs": [],
   "source": [
    "# Initialize an output DataFrame for the Data (X)\n",
    "cols = ['HLX_x', 'HLX_y', 'D1M_x', 'D1M_y', 'D3M_x', 'D3M_y', 'ANK_x',\n",
    "       'ANK_y', 'KNE_x', 'KNE_y', 'KNE_ANK_length',\n",
    "       'KNE_ANK_orientation', 'ANK_D3M_length', 'ANK_D3M_orientation',\n",
    "       'ANK_D1M_length', 'ANK_D1M_orientation', 'D1M_HLX_length',\n",
    "       'D1M_HLX_orientation']\n",
    "\n",
    "df = pd.DataFrame(columns=cols)"
   ]
  },
  {
   "cell_type": "code",
   "execution_count": 6,
   "metadata": {},
   "outputs": [],
   "source": [
    "# Flatten the DataFrame\n",
    "for i in IDs:\n",
    "   \n",
    "    right_data = pd.read_csv(os.path.join(data_path,f'{i}-right-data.csv'))\n",
    "    left_data = pd.read_csv(os.path.join(data_path,f'{i}-left-data.csv'))    \n",
    "    \n",
    "    right_flat = pd.DataFrame(index=[f'{i}-right'])\n",
    "    for c in right_data.columns:\n",
    "        right_flat[c] = [right_data[c].to_numpy()]  \n",
    "\n",
    "    left_flat = pd.DataFrame(index=[f'{i}-left'])\n",
    "    for c in left_data.columns:\n",
    "        left_flat[c] = [left_data[c].to_numpy()]    \n",
    "    \n",
    "    df = pd.concat([df, right_flat, left_flat,])\n",
    "\n",
    "# Extract the values from the DataFrame\n",
    "data = df.values\n",
    "\n",
    "# Create an empty 3D NumPy array\n",
    "num_rows, num_columns = df.shape\n",
    "num_elements = df.iloc[0, 0].shape[0]\n",
    "X = np.empty((num_rows, num_columns, num_elements))\n",
    "\n",
    "# Populate the 3D array with the values from the DataFrame\n",
    "for i in range(num_rows):\n",
    "    for j in range(num_columns):\n",
    "        X[i, j] = data[i, j]"
   ]
  },
  {
   "attachments": {},
   "cell_type": "markdown",
   "metadata": {},
   "source": [
    "## HIVE-COTE v2.0"
   ]
  },
  {
   "attachments": {},
   "cell_type": "markdown",
   "metadata": {},
   "source": [
    "### Fit models using 6 fold cross-validation"
   ]
  },
  {
   "attachments": {},
   "cell_type": "markdown",
   "metadata": {},
   "source": [
    "#### Predict the Dystonia Duration Scores"
   ]
  },
  {
   "cell_type": "code",
   "execution_count": 8,
   "metadata": {},
   "outputs": [
    {
     "name": "stderr",
     "output_type": "stream",
     "text": [
      "c:\\Users\\zacha\\anaconda3\\envs\\ml\\lib\\site-packages\\sklearn\\model_selection\\_split.py:700: UserWarning: The least populated class in y has only 1 members, which is less than n_splits=6.\n",
      "  warnings.warn(\n"
     ]
    },
    {
     "name": "stdout",
     "output_type": "stream",
     "text": [
      "[[ 8  0  0  0  3]\n",
      " [ 1  0  0  0  0]\n",
      " [ 0  0  0  1  2]\n",
      " [ 1  0  0  1  4]\n",
      " [ 2  1  1  8 33]]\n",
      "              precision    recall  f1-score   support\n",
      "\n",
      "       DIS-0       0.67      0.73      0.70        11\n",
      "       DIS-1       0.00      0.00      0.00         1\n",
      "       DIS-2       0.00      0.00      0.00         3\n",
      "       DIS-3       0.10      0.17      0.12         6\n",
      "       DIS-4       0.79      0.73      0.76        45\n",
      "\n",
      "    accuracy                           0.64        66\n",
      "   macro avg       0.31      0.33      0.32        66\n",
      "weighted avg       0.66      0.64      0.64        66\n",
      "\n"
     ]
    }
   ],
   "source": [
    "y = Y['Dystonia-Duration'].astype(str).to_numpy()\n",
    "\n",
    "cv = StratifiedKFold(n_splits=6)\n",
    "\n",
    "hc2 =HIVECOTEV2(\n",
    "      stc_params=None,\n",
    "      drcif_params=None,\n",
    "      arsenal_params=None,\n",
    "      tde_params=None,\n",
    "      time_limit_in_minutes=1,\n",
    "      save_component_probas=False,\n",
    "      verbose=0,\n",
    "      #n_jobs=-1,\n",
    "      random_state=42,\n",
    ")\n",
    "\n",
    "y_pred = cross_val_predict(hc2, X, y, cv=cv)\n",
    "\n",
    "Dystonia_Duration_confusion_matrix=confusion_matrix(y, y_pred)\n",
    "print(Dystonia_Duration_confusion_matrix)\n",
    "\n",
    "target_names = ['DIS-0','DIS-1','DIS-2','DIS-3','DIS-4']\n",
    "Dystonia_Duration_classification_report = classification_report(y, y_pred, target_names=target_names)\n",
    "print(Dystonia_Duration_classification_report)"
   ]
  },
  {
   "attachments": {},
   "cell_type": "markdown",
   "metadata": {},
   "source": [
    "#### Predict the Dystonia Amplitude Scores"
   ]
  },
  {
   "cell_type": "code",
   "execution_count": 9,
   "metadata": {},
   "outputs": [
    {
     "name": "stderr",
     "output_type": "stream",
     "text": [
      "c:\\Users\\zacha\\anaconda3\\envs\\ml\\lib\\site-packages\\sklearn\\model_selection\\_split.py:700: UserWarning: The least populated class in y has only 1 members, which is less than n_splits=6.\n",
      "  warnings.warn(\n"
     ]
    },
    {
     "name": "stdout",
     "output_type": "stream",
     "text": [
      "[[ 8  0  2  0  1]\n",
      " [ 0  0  0  0  1]\n",
      " [ 2  0  2  1  4]\n",
      " [ 0  0  0  2  8]\n",
      " [ 5  0  2  3 25]]\n",
      "              precision    recall  f1-score   support\n",
      "\n",
      "       DIS-0       0.53      0.73      0.62        11\n",
      "       DIS-1       0.00      0.00      0.00         1\n",
      "       DIS-2       0.33      0.22      0.27         9\n",
      "       DIS-3       0.33      0.20      0.25        10\n",
      "       DIS-4       0.64      0.71      0.68        35\n",
      "\n",
      "    accuracy                           0.56        66\n",
      "   macro avg       0.37      0.37      0.36        66\n",
      "weighted avg       0.52      0.56      0.54        66\n",
      "\n"
     ]
    },
    {
     "name": "stderr",
     "output_type": "stream",
     "text": [
      "c:\\Users\\zacha\\anaconda3\\envs\\ml\\lib\\site-packages\\sklearn\\metrics\\_classification.py:1344: UndefinedMetricWarning: Precision and F-score are ill-defined and being set to 0.0 in labels with no predicted samples. Use `zero_division` parameter to control this behavior.\n",
      "  _warn_prf(average, modifier, msg_start, len(result))\n",
      "c:\\Users\\zacha\\anaconda3\\envs\\ml\\lib\\site-packages\\sklearn\\metrics\\_classification.py:1344: UndefinedMetricWarning: Precision and F-score are ill-defined and being set to 0.0 in labels with no predicted samples. Use `zero_division` parameter to control this behavior.\n",
      "  _warn_prf(average, modifier, msg_start, len(result))\n",
      "c:\\Users\\zacha\\anaconda3\\envs\\ml\\lib\\site-packages\\sklearn\\metrics\\_classification.py:1344: UndefinedMetricWarning: Precision and F-score are ill-defined and being set to 0.0 in labels with no predicted samples. Use `zero_division` parameter to control this behavior.\n",
      "  _warn_prf(average, modifier, msg_start, len(result))\n"
     ]
    }
   ],
   "source": [
    "y = Y['Dystonia-Amplitude'].astype(str).to_numpy()\n",
    "\n",
    "cv = StratifiedKFold(n_splits=6)\n",
    "\n",
    "hc2 =HIVECOTEV2(\n",
    "      stc_params=None,\n",
    "      drcif_params=None,\n",
    "      arsenal_params=None,\n",
    "      tde_params=None,\n",
    "      time_limit_in_minutes=1,\n",
    "      save_component_probas=False,\n",
    "      verbose=0,\n",
    "      #n_jobs=-1,\n",
    "      random_state=42,\n",
    ")\n",
    "\n",
    "y_pred = cross_val_predict(hc2, X, y, cv=cv)\n",
    "\n",
    "Dystonia_Amplitude_confusion_matrix=confusion_matrix(y, y_pred)\n",
    "print(Dystonia_Amplitude_confusion_matrix)\n",
    "\n",
    "target_names = ['DIS-0','DIS-1','DIS-2','DIS-3','DIS-4']\n",
    "Dystonia_Amplitude_classification_report = classification_report(y, y_pred, target_names=target_names)\n",
    "print(Dystonia_Amplitude_classification_report)"
   ]
  },
  {
   "attachments": {},
   "cell_type": "markdown",
   "metadata": {},
   "source": [
    "#### Predict the Choreoathetosis Duration Scores"
   ]
  },
  {
   "cell_type": "code",
   "execution_count": 10,
   "metadata": {},
   "outputs": [
    {
     "name": "stdout",
     "output_type": "stream",
     "text": [
      "[[5 5 4 1 3]\n",
      " [5 7 3 0 2]\n",
      " [5 5 3 0 3]\n",
      " [1 1 2 3 0]\n",
      " [2 4 1 1 0]]\n",
      "              precision    recall  f1-score   support\n",
      "\n",
      "       DIS-0       0.28      0.28      0.28        18\n",
      "       DIS-1       0.32      0.41      0.36        17\n",
      "       DIS-2       0.23      0.19      0.21        16\n",
      "       DIS-3       0.60      0.43      0.50         7\n",
      "       DIS-4       0.00      0.00      0.00         8\n",
      "\n",
      "    accuracy                           0.27        66\n",
      "   macro avg       0.29      0.26      0.27        66\n",
      "weighted avg       0.28      0.27      0.27        66\n",
      "\n"
     ]
    }
   ],
   "source": [
    "y = Y['Choreoathetosis-Duration'].astype(str).to_numpy()\n",
    "\n",
    "cv = StratifiedKFold(n_splits=6)\n",
    "\n",
    "hc2 =HIVECOTEV2(\n",
    "      stc_params=None,\n",
    "      drcif_params=None,\n",
    "      arsenal_params=None,\n",
    "      tde_params=None,\n",
    "      time_limit_in_minutes=1,\n",
    "      save_component_probas=False,\n",
    "      verbose=0,\n",
    "      #n_jobs=-1,\n",
    "      random_state=42,\n",
    ")\n",
    "\n",
    "y_pred = cross_val_predict(hc2, X, y, cv=cv)\n",
    "\n",
    "Choreoathetosis_Amplitude_confusion_matrix=confusion_matrix(y, y_pred)\n",
    "print(Choreoathetosis_Amplitude_confusion_matrix)\n",
    "\n",
    "target_names = ['DIS-0','DIS-1','DIS-2','DIS-3','DIS-4']\n",
    "Choreoathetosis_Amplitude_classification_report = classification_report(y, y_pred, target_names=target_names)\n",
    "print(Choreoathetosis_Amplitude_classification_report)"
   ]
  },
  {
   "attachments": {},
   "cell_type": "markdown",
   "metadata": {},
   "source": [
    "#### Predict the Choreoathetosis Amplitude Scores"
   ]
  },
  {
   "cell_type": "code",
   "execution_count": 11,
   "metadata": {},
   "outputs": [
    {
     "name": "stderr",
     "output_type": "stream",
     "text": [
      "c:\\Users\\zacha\\anaconda3\\envs\\ml\\lib\\site-packages\\sklearn\\model_selection\\_split.py:700: UserWarning: The least populated class in y has only 3 members, which is less than n_splits=6.\n",
      "  warnings.warn(\n"
     ]
    },
    {
     "name": "stdout",
     "output_type": "stream",
     "text": [
      "[[9 5 4 0 0]\n",
      " [5 3 6 0 1]\n",
      " [6 2 7 5 1]\n",
      " [0 2 6 1 0]\n",
      " [1 0 1 1 0]]\n",
      "              precision    recall  f1-score   support\n",
      "\n",
      "       DIS-0       0.43      0.50      0.46        18\n",
      "       DIS-1       0.25      0.20      0.22        15\n",
      "       DIS-2       0.29      0.33      0.31        21\n",
      "       DIS-3       0.14      0.11      0.12         9\n",
      "       DIS-4       0.00      0.00      0.00         3\n",
      "\n",
      "    accuracy                           0.30        66\n",
      "   macro avg       0.22      0.23      0.22        66\n",
      "weighted avg       0.29      0.30      0.29        66\n",
      "\n"
     ]
    }
   ],
   "source": [
    "y = Y['Choreoathetosis-Amplitude'].astype(str).to_numpy()\n",
    "\n",
    "cv = StratifiedKFold(n_splits=6)\n",
    "\n",
    "hc2 =HIVECOTEV2(\n",
    "      stc_params=None,\n",
    "      drcif_params=None,\n",
    "      arsenal_params=None,\n",
    "      tde_params=None,\n",
    "      time_limit_in_minutes=1,\n",
    "      save_component_probas=False,\n",
    "      verbose=0,\n",
    "      #n_jobs=-1,\n",
    "      random_state=42,\n",
    ")\n",
    "\n",
    "y_pred = cross_val_predict(hc2, X, y, cv=cv)\n",
    "\n",
    "Choreoathetosis_Duration_confusion_matrix=confusion_matrix(y, y_pred)\n",
    "print(Choreoathetosis_Duration_confusion_matrix)\n",
    "\n",
    "target_names = ['DIS-0','DIS-1','DIS-2','DIS-3','DIS-4']\n",
    "Choreoathetosis_Duration_classification_report = classification_report(y, y_pred, target_names=target_names)\n",
    "print(Choreoathetosis_Duration_classification_report)"
   ]
  }
 ],
 "metadata": {
  "kernelspec": {
   "display_name": "ml",
   "language": "python",
   "name": "python3"
  },
  "language_info": {
   "codemirror_mode": {
    "name": "ipython",
    "version": 3
   },
   "file_extension": ".py",
   "mimetype": "text/x-python",
   "name": "python",
   "nbconvert_exporter": "python",
   "pygments_lexer": "ipython3",
   "version": "3.9.16"
  },
  "orig_nbformat": 4
 },
 "nbformat": 4,
 "nbformat_minor": 2
}
