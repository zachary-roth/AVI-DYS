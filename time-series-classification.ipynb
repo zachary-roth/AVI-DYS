{
 "cells": [
  {
   "attachments": {},
   "cell_type": "markdown",
   "metadata": {},
   "source": [
    "# AVI-DYS Time Series Classification"
   ]
  },
  {
   "attachments": {},
   "cell_type": "markdown",
   "metadata": {},
   "source": [
    "## Import Libraries"
   ]
  },
  {
   "cell_type": "code",
   "execution_count": 1,
   "metadata": {},
   "outputs": [],
   "source": [
    "import os\n",
    "import numpy as np\n",
    "import pandas as pd\n",
    "from sktime.classification.hybrid import HIVECOTEV2\n",
    "from sklearn.metrics import accuracy_score\n",
    "from sklearn.metrics import confusion_matrix\n",
    "from sklearn.metrics import RocCurveDisplay"
   ]
  },
  {
   "attachments": {},
   "cell_type": "markdown",
   "metadata": {},
   "source": [
    "## Set User specific parameters"
   ]
  },
  {
   "cell_type": "code",
   "execution_count": 2,
   "metadata": {},
   "outputs": [],
   "source": [
    "IDs = ['001', '003', '004', '005', '115', '116', '117', '118', '120', '121',\n",
    "        '122', '123', '125', '126', '127', '128', '129', '130', '131', '132',\n",
    "        '133', '135', '138', '151', '152', '301', '303', '304', '305', '306',\n",
    "        '307', '308', '309']\n",
    "\n",
    "data_path = \"C:\\\\Users\\\\zacha\\\\Data\\\\AVI-DYS\\\\Results\\\\Post-Processing\\\\5-Concatenated\""
   ]
  },
  {
   "attachments": {},
   "cell_type": "markdown",
   "metadata": {},
   "source": [
    "## Format the DIS Scores"
   ]
  },
  {
   "cell_type": "code",
   "execution_count": 3,
   "metadata": {},
   "outputs": [],
   "source": [
    "# Initialize an output DataFrame for the DIS scores (y)\n",
    "cols = [\n",
    "       'Dystonia-Duration', 'Dystonia-Amplitude',\n",
    "       'Choreoathetosis-Duration', 'Choreoathetosis-Amplitude',\n",
    "        ]\n",
    "\n",
    "iterables = [IDs, [\"11\", \"12\"]]\n",
    "\n",
    "index = pd.MultiIndex.from_product(iterables, names=[\"ID\", \"Side Code\"])\n",
    "\n",
    "y = pd.DataFrame(index=index, columns=cols)\n",
    "y.reset_index(inplace=True)"
   ]
  },
  {
   "cell_type": "code",
   "execution_count": 4,
   "metadata": {},
   "outputs": [],
   "source": [
    "# Put the DIS scores into a tidy format\n",
    "df = pd.read_excel(\"C:\\\\Users\\\\zacha\\\\Repos\\\\AVI-DYS\\\\DIS-Included.xlsx\")\n",
    "\n",
    "for idx, i in enumerate(IDs):\n",
    "    y['Dystonia-Duration'][idx*2] = df['Dystonia-Right-Duration-11'][idx]\n",
    "    y['Dystonia-Duration'][idx*2+1] = df['Dystonia-Left-Duration-12'][idx]\n",
    "    y['Dystonia-Amplitude'][idx*2] = df['Dystonia-Right-Amplitude-11'][idx]\n",
    "    y['Dystonia-Amplitude'][idx*2+1] = df['Dystonia-Left-Amplitude-12'][idx]\n",
    "    y['Choreoathetosis-Duration'][idx*2] = df['Choreoathetosis-Right-Duration-11'][idx]\n",
    "    y['Choreoathetosis-Duration'][idx*2+1] = df['Choreoathetosis-Left-Duration-12'][idx]\n",
    "    y['Choreoathetosis-Amplitude'][idx*2] = df['Choreoathetosis-Right-Amplitude-11'][idx]\n",
    "    y['Choreoathetosis-Amplitude'][idx*2+1] = df['Choreoathetosis-Left-Amplitude-12'][idx]"
   ]
  },
  {
   "attachments": {},
   "cell_type": "markdown",
   "metadata": {},
   "source": [
    "## Create the 3D numpy array"
   ]
  },
  {
   "cell_type": "code",
   "execution_count": 5,
   "metadata": {},
   "outputs": [],
   "source": [
    "# Initialize an output DataFrame for the Data (X)\n",
    "cols = ['HLX_x', 'HLX_y', 'D1M_x', 'D1M_y', 'D3M_x', 'D3M_y', 'ANK_x',\n",
    "       'ANK_y', 'KNE_x', 'KNE_y', 'KNE_ANK_length',\n",
    "       'KNE_ANK_orientation', 'ANK_D3M_length', 'ANK_D3M_orientation',\n",
    "       'ANK_D1M_length', 'ANK_D1M_orientation', 'D1M_HLX_length',\n",
    "       'D1M_HLX_orientation']\n",
    "\n",
    "df = pd.DataFrame(columns=cols)"
   ]
  },
  {
   "cell_type": "code",
   "execution_count": 6,
   "metadata": {},
   "outputs": [],
   "source": [
    "# Flatten the DataFrame\n",
    "for i in IDs:\n",
    "   \n",
    "    right_data = pd.read_csv(os.path.join(data_path,f'{i}-right-data.csv'))\n",
    "    left_data = pd.read_csv(os.path.join(data_path,f'{i}-left-data.csv'))    \n",
    "    \n",
    "    right_flat = pd.DataFrame(index=[f'{i}-right'])\n",
    "    for c in right_data.columns:\n",
    "        right_flat[c] = [right_data[c].to_numpy()]  \n",
    "\n",
    "    left_flat = pd.DataFrame(index=[f'{i}-left'])\n",
    "    for c in left_data.columns:\n",
    "        left_flat[c] = [left_data[c].to_numpy()]    \n",
    "    \n",
    "    df = pd.concat([df, right_flat, left_flat,])\n",
    "\n",
    "# Extract the values from the DataFrame\n",
    "data = df.values\n",
    "\n",
    "# Create an empty 3D NumPy array\n",
    "num_rows, num_columns = df.shape\n",
    "num_elements = df.iloc[0, 0].shape[0]\n",
    "X = np.empty((num_rows, num_columns, num_elements))\n",
    "\n",
    "# Populate the 3D array with the values from the DataFrame\n",
    "for i in range(num_rows):\n",
    "    for j in range(num_columns):\n",
    "        X[i, j] = data[i, j]"
   ]
  },
  {
   "attachments": {},
   "cell_type": "markdown",
   "metadata": {},
   "source": [
    "## HIVE-COTE v2.0"
   ]
  },
  {
   "cell_type": "code",
   "execution_count": 7,
   "metadata": {},
   "outputs": [
    {
     "name": "stdout",
     "output_type": "stream",
     "text": [
      "STC  12:50:32 25/05/2023\n",
      "STC train estimate  12:50:34 25/05/2023\n",
      "STC weight = 0.3565372925346629\n",
      "DrCIF  12:51:02 25/05/2023\n",
      "DrCIF train estimate  12:51:05 25/05/2023\n",
      "DrCIF weight = 0.3038145563658962\n",
      "Arsenal  12:51:48 25/05/2023\n",
      "Arsenal train estimate  12:51:51 25/05/2023\n",
      "Arsenal weight = 0.3293853469160256\n"
     ]
    },
    {
     "name": "stderr",
     "output_type": "stream",
     "text": [
      "c:\\Users\\zacha\\anaconda3\\envs\\ml\\lib\\site-packages\\numba\\typed\\typeddict.py:33: NumbaTypeSafetyWarning: \u001b[1m\u001b[1m\u001b[1munsafe cast from int64 to uint32. Precision may be lost.\u001b[0m\u001b[0m\u001b[0m\n",
      "  d[key] = value\n"
     ]
    },
    {
     "name": "stdout",
     "output_type": "stream",
     "text": [
      "TDE  12:52:02 25/05/2023\n",
      "TDE train estimate  12:52:02 25/05/2023\n",
      "TDE weight = 0.13491623809680411\n"
     ]
    }
   ],
   "source": [
    "# Predict the Dystonia Duration Scores\n",
    "Dystonia_Duration_y = y['Dystonia-Duration'].astype(str).to_numpy()\n",
    "\n",
    "hc2 =HIVECOTEV2(\n",
    "      stc_params=None,\n",
    "      drcif_params=None,\n",
    "      arsenal_params=None,\n",
    "      tde_params=None,\n",
    "      time_limit_in_minutes=1,\n",
    "      save_component_probas=False,\n",
    "      verbose=1,\n",
    "      n_jobs=-1,\n",
    "      random_state=42,\n",
    ")\n",
    "hc2.fit(X, Dystonia_Duration_y)\n",
    "y_pred_Dystonia_Duration = hc2.predict(X)"
   ]
  },
  {
   "cell_type": "code",
   "execution_count": 8,
   "metadata": {},
   "outputs": [
    {
     "data": {
      "text/plain": [
       "1.0"
      ]
     },
     "execution_count": 8,
     "metadata": {},
     "output_type": "execute_result"
    }
   ],
   "source": [
    "accuracy_score(Dystonia_Duration_y, y_pred_Dystonia_Duration)"
   ]
  },
  {
   "cell_type": "code",
   "execution_count": 9,
   "metadata": {},
   "outputs": [
    {
     "data": {
      "text/plain": [
       "array([[11,  0,  0,  0,  0],\n",
       "       [ 0,  1,  0,  0,  0],\n",
       "       [ 0,  0,  3,  0,  0],\n",
       "       [ 0,  0,  0,  6,  0],\n",
       "       [ 0,  0,  0,  0, 45]], dtype=int64)"
      ]
     },
     "execution_count": 9,
     "metadata": {},
     "output_type": "execute_result"
    }
   ],
   "source": [
    "confusion_matrix(Dystonia_Duration_y, y_pred_Dystonia_Duration)"
   ]
  },
  {
   "cell_type": "code",
   "execution_count": 10,
   "metadata": {},
   "outputs": [
    {
     "name": "stdout",
     "output_type": "stream",
     "text": [
      "STC  12:53:38 25/05/2023\n",
      "STC train estimate  12:54:03 25/05/2023\n",
      "STC weight = 0.09877138738583764\n",
      "DrCIF  12:54:30 25/05/2023\n",
      "DrCIF train estimate  12:54:34 25/05/2023\n",
      "DrCIF weight = 0.08851854381531314\n",
      "Arsenal  12:55:16 25/05/2023\n",
      "Arsenal train estimate  12:55:18 25/05/2023\n",
      "Arsenal weight = 0.16399153063315347\n",
      "TDE  12:55:30 25/05/2023\n",
      "TDE train estimate  12:55:30 25/05/2023\n",
      "TDE weight = 0.0625\n"
     ]
    }
   ],
   "source": [
    "# Predict the Dyskinesis Amplitude Scores\n",
    "Dystonia_Amplitude_y = y['Dystonia-Amplitude'].astype(str).to_numpy()\n",
    "\n",
    "hc2 =HIVECOTEV2(\n",
    "      stc_params=None,\n",
    "      drcif_params=None,\n",
    "      arsenal_params=None,\n",
    "      tde_params=None,\n",
    "      time_limit_in_minutes=1,\n",
    "      save_component_probas=False,\n",
    "      verbose=1,\n",
    "      n_jobs=-1,\n",
    "      random_state=42,\n",
    ")\n",
    "hc2.fit(X, Dystonia_Amplitude_y)\n",
    "y_pred_Dystonia_Amplitude = hc2.predict(X)\n",
    "\n",
    "\n"
   ]
  },
  {
   "cell_type": "code",
   "execution_count": 11,
   "metadata": {},
   "outputs": [
    {
     "data": {
      "text/plain": [
       "1.0"
      ]
     },
     "execution_count": 11,
     "metadata": {},
     "output_type": "execute_result"
    }
   ],
   "source": [
    "accuracy_score(Dystonia_Amplitude_y, y_pred_Dystonia_Amplitude)"
   ]
  },
  {
   "cell_type": "code",
   "execution_count": 12,
   "metadata": {},
   "outputs": [
    {
     "data": {
      "text/plain": [
       "array([[11,  0,  0,  0,  0],\n",
       "       [ 0,  1,  0,  0,  0],\n",
       "       [ 0,  0,  9,  0,  0],\n",
       "       [ 0,  0,  0, 10,  0],\n",
       "       [ 0,  0,  0,  0, 35]], dtype=int64)"
      ]
     },
     "execution_count": 12,
     "metadata": {},
     "output_type": "execute_result"
    }
   ],
   "source": [
    "confusion_matrix(Dystonia_Amplitude_y, y_pred_Dystonia_Amplitude)"
   ]
  },
  {
   "cell_type": "code",
   "execution_count": 13,
   "metadata": {},
   "outputs": [
    {
     "name": "stdout",
     "output_type": "stream",
     "text": [
      "STC  12:57:26 25/05/2023\n",
      "STC train estimate  12:57:51 25/05/2023\n",
      "STC weight = 0.003453855695278185\n",
      "DrCIF  12:58:18 25/05/2023\n",
      "DrCIF train estimate  12:58:23 25/05/2023\n",
      "DrCIF weight = 0.003453855695278185\n",
      "Arsenal  12:59:06 25/05/2023\n",
      "Arsenal train estimate  12:59:08 25/05/2023\n",
      "Arsenal weight = 0.010249470664572092\n",
      "TDE  12:59:21 25/05/2023\n",
      "TDE train estimate  12:59:21 25/05/2023\n",
      "TDE weight = 0.010249470664572092\n"
     ]
    }
   ],
   "source": [
    "# Predict the Choreoathetosis Duration Scores\n",
    "Choreoathetosis_Duration_y = y['Choreoathetosis-Duration'].astype(str).to_numpy()\n",
    "\n",
    "hc2 =HIVECOTEV2(\n",
    "      stc_params=None,\n",
    "      drcif_params=None,\n",
    "      arsenal_params=None,\n",
    "      tde_params=None,\n",
    "      time_limit_in_minutes=1,\n",
    "      save_component_probas=False,\n",
    "      verbose=1,\n",
    "      n_jobs=-1,\n",
    "      random_state=42,\n",
    ")\n",
    "hc2.fit(X, Choreoathetosis_Duration_y)\n",
    "y_pred_Choreoathetosis_Duration = hc2.predict(X)"
   ]
  },
  {
   "cell_type": "code",
   "execution_count": 14,
   "metadata": {},
   "outputs": [
    {
     "data": {
      "text/plain": [
       "1.0"
      ]
     },
     "execution_count": 14,
     "metadata": {},
     "output_type": "execute_result"
    }
   ],
   "source": [
    "accuracy_score(Choreoathetosis_Duration_y, y_pred_Choreoathetosis_Duration)"
   ]
  },
  {
   "cell_type": "code",
   "execution_count": 15,
   "metadata": {},
   "outputs": [
    {
     "data": {
      "text/plain": [
       "array([[18,  0,  0,  0,  0],\n",
       "       [ 0, 17,  0,  0,  0],\n",
       "       [ 0,  0, 16,  0,  0],\n",
       "       [ 0,  0,  0,  7,  0],\n",
       "       [ 0,  0,  0,  0,  8]], dtype=int64)"
      ]
     },
     "execution_count": 15,
     "metadata": {},
     "output_type": "execute_result"
    }
   ],
   "source": [
    "confusion_matrix(Choreoathetosis_Duration_y, y_pred_Choreoathetosis_Duration)"
   ]
  },
  {
   "cell_type": "code",
   "execution_count": 16,
   "metadata": {},
   "outputs": [
    {
     "name": "stdout",
     "output_type": "stream",
     "text": [
      "STC  13:01:17 25/05/2023\n",
      "STC train estimate  13:01:41 25/05/2023\n",
      "STC weight = 0.010249470664572092\n",
      "DrCIF  13:02:09 25/05/2023\n",
      "DrCIF train estimate  13:02:13 25/05/2023\n",
      "DrCIF weight = 0.010249470664572092\n",
      "Arsenal  13:02:56 25/05/2023\n",
      "Arsenal train estimate  13:02:58 25/05/2023\n",
      "Arsenal weight = 0.0068681324472709415\n",
      "TDE  13:03:10 25/05/2023\n",
      "TDE train estimate  13:03:10 25/05/2023\n",
      "TDE weight = 0.042688340960316914\n"
     ]
    }
   ],
   "source": [
    "# Predict the Choreoathetosis Amplitude Scores\n",
    "Choreoathetosis_Amplitude_y = y['Choreoathetosis-Amplitude'].astype(str).to_numpy()\n",
    "\n",
    "hc2 =HIVECOTEV2(\n",
    "      stc_params=None,\n",
    "      drcif_params=None,\n",
    "      arsenal_params=None,\n",
    "      tde_params=None,\n",
    "      time_limit_in_minutes=1,\n",
    "      save_component_probas=False,\n",
    "      verbose=1,\n",
    "      n_jobs=-1,\n",
    "      random_state=42,\n",
    ")\n",
    "hc2.fit(X, Choreoathetosis_Amplitude_y)\n",
    "y_pred_Choreoathetosis_Amplitude = hc2.predict(X)"
   ]
  },
  {
   "cell_type": "code",
   "execution_count": 17,
   "metadata": {},
   "outputs": [
    {
     "data": {
      "text/plain": [
       "1.0"
      ]
     },
     "execution_count": 17,
     "metadata": {},
     "output_type": "execute_result"
    }
   ],
   "source": [
    "accuracy_score(Choreoathetosis_Amplitude_y, y_pred_Choreoathetosis_Amplitude)"
   ]
  },
  {
   "cell_type": "code",
   "execution_count": 18,
   "metadata": {},
   "outputs": [
    {
     "data": {
      "text/plain": [
       "array([[18,  0,  0,  0,  0],\n",
       "       [ 0, 15,  0,  0,  0],\n",
       "       [ 0,  0, 21,  0,  0],\n",
       "       [ 0,  0,  0,  9,  0],\n",
       "       [ 0,  0,  0,  0,  3]], dtype=int64)"
      ]
     },
     "execution_count": 18,
     "metadata": {},
     "output_type": "execute_result"
    }
   ],
   "source": [
    "confusion_matrix(Choreoathetosis_Amplitude_y, y_pred_Choreoathetosis_Amplitude)"
   ]
  }
 ],
 "metadata": {
  "kernelspec": {
   "display_name": "ml",
   "language": "python",
   "name": "python3"
  },
  "language_info": {
   "codemirror_mode": {
    "name": "ipython",
    "version": 3
   },
   "file_extension": ".py",
   "mimetype": "text/x-python",
   "name": "python",
   "nbconvert_exporter": "python",
   "pygments_lexer": "ipython3",
   "version": "3.9.16"
  },
  "orig_nbformat": 4
 },
 "nbformat": 4,
 "nbformat_minor": 2
}
