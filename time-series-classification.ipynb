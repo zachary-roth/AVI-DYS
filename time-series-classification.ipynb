{
 "cells": [
  {
   "attachments": {},
   "cell_type": "markdown",
   "metadata": {},
   "source": [
    "# AVI-DYS Time Series Classification"
   ]
  },
  {
   "attachments": {},
   "cell_type": "markdown",
   "metadata": {},
   "source": [
    "## Import Libraries"
   ]
  },
  {
   "cell_type": "code",
   "execution_count": 1,
   "metadata": {},
   "outputs": [],
   "source": [
    "import os\n",
    "import numpy as np\n",
    "import pandas as pd"
   ]
  },
  {
   "attachments": {},
   "cell_type": "markdown",
   "metadata": {},
   "source": [
    "## Set User specific parameters"
   ]
  },
  {
   "cell_type": "code",
   "execution_count": 2,
   "metadata": {},
   "outputs": [],
   "source": [
    "IDs = ['001', '003', '004', '005', '115', '116', '117', '118', '120', '121',\n",
    "        '122', '123', '125', '126', '127', '128', '129', '130', '131', '132',\n",
    "        '133', '135', '138', '151', '152', '301', '303', '304', '305', '306',\n",
    "        '307', '308', '309']\n",
    "\n",
    "data_path = \"C:\\\\Users\\\\zacha\\\\Data\\\\AVI-DYS\\\\Results\\\\Post-Processing\\\\5-Concatenated\""
   ]
  },
  {
   "attachments": {},
   "cell_type": "markdown",
   "metadata": {},
   "source": [
    "## Initialize an output DataFrame"
   ]
  },
  {
   "cell_type": "code",
   "execution_count": 3,
   "metadata": {},
   "outputs": [],
   "source": [
    "cols = ['HLX_x', 'HLX_y', 'D1M_x', 'D1M_y', 'D3M_x', 'D3M_y', 'ANK_x',\n",
    "       'ANK_y', 'KNE_x', 'KNE_y', 'KNE_ANK_length',\n",
    "       'KNE_ANK_orientation', 'ANK_D3M_length', 'ANK_D3M_orientation',\n",
    "       'ANK_D1M_length', 'ANK_D1M_orientation', 'D1M_HLX_length',\n",
    "       'D1M_HLX_orientation']\n",
    "\n",
    "df = pd.DataFrame(columns=cols)"
   ]
  },
  {
   "attachments": {},
   "cell_type": "markdown",
   "metadata": {},
   "source": [
    "## Create the 3D numpy array"
   ]
  },
  {
   "cell_type": "code",
   "execution_count": 4,
   "metadata": {},
   "outputs": [],
   "source": [
    "for i in IDs:\n",
    "    left_data = pd.read_csv(os.path.join(data_path,f'{i}-left-data.csv'))\n",
    "    right_data = pd.read_csv(os.path.join(data_path,f'{i}-right-data.csv'))\n",
    "\n",
    "    left_flat = pd.DataFrame(index=[f'{i}-left'])\n",
    "    for c in left_data.columns:\n",
    "        left_flat[c] = [left_data[c].to_numpy()]    \n",
    "    \n",
    "    right_flat = pd.DataFrame(index=[f'{i}-right'])\n",
    "    for c in right_data.columns:\n",
    "        right_flat[c] = [right_data[c].to_numpy()]  \n",
    "    \n",
    "    df = pd.concat([df, left_flat, right_flat])\n",
    "\n",
    "    X = df.to_numpy()"
   ]
  }
 ],
 "metadata": {
  "kernelspec": {
   "display_name": "ml",
   "language": "python",
   "name": "python3"
  },
  "language_info": {
   "codemirror_mode": {
    "name": "ipython",
    "version": 3
   },
   "file_extension": ".py",
   "mimetype": "text/x-python",
   "name": "python",
   "nbconvert_exporter": "python",
   "pygments_lexer": "ipython3",
   "version": "3.9.16"
  },
  "orig_nbformat": 4
 },
 "nbformat": 4,
 "nbformat_minor": 2
}
