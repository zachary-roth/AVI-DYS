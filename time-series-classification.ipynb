{
 "cells": [
  {
   "attachments": {},
   "cell_type": "markdown",
   "metadata": {},
   "source": [
    "# AVI-DYS Time Series Classification"
   ]
  },
  {
   "attachments": {},
   "cell_type": "markdown",
   "metadata": {},
   "source": [
    "## Import Libraries"
   ]
  },
  {
   "cell_type": "code",
   "execution_count": 72,
   "metadata": {},
   "outputs": [],
   "source": [
    "import os\n",
    "import numpy as np\n",
    "import pandas as pd\n",
    "from sklearn.model_selection import train_test_split\n",
    "from sklearn.model_selection import cross_val_score\n",
    "from sklearn.model_selection import cross_validate\n",
    "from sktime.classification.hybrid import HIVECOTEV2\n",
    "from sklearn.metrics import accuracy_score\n",
    "from sklearn.metrics import confusion_matrix\n",
    "from sklearn.metrics import RocCurveDisplay"
   ]
  },
  {
   "attachments": {},
   "cell_type": "markdown",
   "metadata": {},
   "source": [
    "## Set User specific parameters"
   ]
  },
  {
   "cell_type": "code",
   "execution_count": 73,
   "metadata": {},
   "outputs": [],
   "source": [
    "IDs = ['001', '003', '004', '005', '115', '116', '117', '118', '120', '121',\n",
    "        '122', '123', '125', '126', '127', '128', '129', '130', '131', '132',\n",
    "        '133', '135', '138', '151', '152', '301', '303', '304', '305', '306',\n",
    "        '307', '308', '309']\n",
    "\n",
    "data_path = \"C:\\\\Users\\\\zacha\\\\Data\\\\AVI-DYS\\\\Results\\\\Post-Processing\\\\5-Concatenated\""
   ]
  },
  {
   "attachments": {},
   "cell_type": "markdown",
   "metadata": {},
   "source": [
    "## Format the DIS Scores"
   ]
  },
  {
   "cell_type": "code",
   "execution_count": 74,
   "metadata": {},
   "outputs": [],
   "source": [
    "# Initialize an output DataFrame for the DIS scores (y)\n",
    "cols = [\n",
    "       'Dystonia-Duration', 'Dystonia-Amplitude',\n",
    "       'Choreoathetosis-Duration', 'Choreoathetosis-Amplitude',\n",
    "        ]\n",
    "\n",
    "iterables = [IDs, [\"11\", \"12\"]]\n",
    "\n",
    "index = pd.MultiIndex.from_product(iterables, names=[\"ID\", \"Side Code\"])\n",
    "\n",
    "y = pd.DataFrame(index=index, columns=cols)\n",
    "y.reset_index(inplace=True)"
   ]
  },
  {
   "cell_type": "code",
   "execution_count": 75,
   "metadata": {},
   "outputs": [],
   "source": [
    "# Put the DIS scores into a tidy format\n",
    "df = pd.read_excel(\"C:\\\\Users\\\\zacha\\\\Repos\\\\AVI-DYS\\\\DIS-Included.xlsx\")\n",
    "\n",
    "for idx, i in enumerate(IDs):\n",
    "    y['Dystonia-Duration'][idx*2] = df['Dystonia-Right-Duration-11'][idx]\n",
    "    y['Dystonia-Duration'][idx*2+1] = df['Dystonia-Left-Duration-12'][idx]\n",
    "    y['Dystonia-Amplitude'][idx*2] = df['Dystonia-Right-Amplitude-11'][idx]\n",
    "    y['Dystonia-Amplitude'][idx*2+1] = df['Dystonia-Left-Amplitude-12'][idx]\n",
    "    y['Choreoathetosis-Duration'][idx*2] = df['Choreoathetosis-Right-Duration-11'][idx]\n",
    "    y['Choreoathetosis-Duration'][idx*2+1] = df['Choreoathetosis-Left-Duration-12'][idx]\n",
    "    y['Choreoathetosis-Amplitude'][idx*2] = df['Choreoathetosis-Right-Amplitude-11'][idx]\n",
    "    y['Choreoathetosis-Amplitude'][idx*2+1] = df['Choreoathetosis-Left-Amplitude-12'][idx]"
   ]
  },
  {
   "attachments": {},
   "cell_type": "markdown",
   "metadata": {},
   "source": [
    "## Create the 3D numpy array"
   ]
  },
  {
   "cell_type": "code",
   "execution_count": 76,
   "metadata": {},
   "outputs": [],
   "source": [
    "# Initialize an output DataFrame for the Data (X)\n",
    "cols = ['HLX_x', 'HLX_y', 'D1M_x', 'D1M_y', 'D3M_x', 'D3M_y', 'ANK_x',\n",
    "       'ANK_y', 'KNE_x', 'KNE_y', 'KNE_ANK_length',\n",
    "       'KNE_ANK_orientation', 'ANK_D3M_length', 'ANK_D3M_orientation',\n",
    "       'ANK_D1M_length', 'ANK_D1M_orientation', 'D1M_HLX_length',\n",
    "       'D1M_HLX_orientation']\n",
    "\n",
    "df = pd.DataFrame(columns=cols)"
   ]
  },
  {
   "cell_type": "code",
   "execution_count": 77,
   "metadata": {},
   "outputs": [],
   "source": [
    "# Flatten the DataFrame\n",
    "for i in IDs:\n",
    "   \n",
    "    right_data = pd.read_csv(os.path.join(data_path,f'{i}-right-data.csv'))\n",
    "    left_data = pd.read_csv(os.path.join(data_path,f'{i}-left-data.csv'))    \n",
    "    \n",
    "    right_flat = pd.DataFrame(index=[f'{i}-right'])\n",
    "    for c in right_data.columns:\n",
    "        right_flat[c] = [right_data[c].to_numpy()]  \n",
    "\n",
    "    left_flat = pd.DataFrame(index=[f'{i}-left'])\n",
    "    for c in left_data.columns:\n",
    "        left_flat[c] = [left_data[c].to_numpy()]    \n",
    "    \n",
    "    df = pd.concat([df, right_flat, left_flat,])\n",
    "\n",
    "# Extract the values from the DataFrame\n",
    "data = df.values\n",
    "\n",
    "# Create an empty 3D NumPy array\n",
    "num_rows, num_columns = df.shape\n",
    "num_elements = df.iloc[0, 0].shape[0]\n",
    "X = np.empty((num_rows, num_columns, num_elements))\n",
    "\n",
    "# Populate the 3D array with the values from the DataFrame\n",
    "for i in range(num_rows):\n",
    "    for j in range(num_columns):\n",
    "        X[i, j] = data[i, j]"
   ]
  },
  {
   "attachments": {},
   "cell_type": "markdown",
   "metadata": {},
   "source": [
    "## HIVE-COTE v2.0"
   ]
  },
  {
   "attachments": {},
   "cell_type": "markdown",
   "metadata": {},
   "source": [
    "### Fit models using 6 fold cross-validation"
   ]
  },
  {
   "attachments": {},
   "cell_type": "markdown",
   "metadata": {},
   "source": [
    "#### Predict the Dystonia Duration Scores"
   ]
  },
  {
   "cell_type": "code",
   "execution_count": 78,
   "metadata": {},
   "outputs": [
    {
     "name": "stderr",
     "output_type": "stream",
     "text": [
      "[Parallel(n_jobs=-1)]: Using backend LokyBackend with 32 concurrent workers.\n",
      "c:\\Users\\zacha\\anaconda3\\envs\\ml\\lib\\site-packages\\sklearn\\model_selection\\_split.py:700: UserWarning: The least populated class in y has only 1 members, which is less than n_splits=6.\n",
      "  warnings.warn(\n",
      "[Parallel(n_jobs=-1)]: Done   6 out of   6 | elapsed:  6.1min remaining:    0.0s\n",
      "[Parallel(n_jobs=-1)]: Done   6 out of   6 | elapsed:  6.1min finished\n"
     ]
    }
   ],
   "source": [
    "Dystonia_Duration_y = y['Dystonia-Duration'].astype(str).to_numpy()\n",
    "\n",
    "hc2 =HIVECOTEV2(\n",
    "      stc_params=None,\n",
    "      drcif_params=None,\n",
    "      arsenal_params=None,\n",
    "      tde_params=None,\n",
    "      time_limit_in_minutes=1,\n",
    "      save_component_probas=False,\n",
    "      verbose=1,\n",
    "      n_jobs=-1,\n",
    "      random_state=42,\n",
    ")\n",
    "\n",
    "np.random.seed(seed=42)\n",
    "Dystonia_Duration_results = cross_validate(hc2, X, y=Dystonia_Duration_y, cv=6, n_jobs=-1, verbose=1)"
   ]
  },
  {
   "cell_type": "code",
   "execution_count": 79,
   "metadata": {},
   "outputs": [
    {
     "data": {
      "text/plain": [
       "array([0.81818182, 0.90909091, 0.81818182, 0.81818182, 0.72727273,\n",
       "       0.72727273])"
      ]
     },
     "execution_count": 79,
     "metadata": {},
     "output_type": "execute_result"
    }
   ],
   "source": [
    "Dystonia_Duration_results['test_score']"
   ]
  },
  {
   "cell_type": "code",
   "execution_count": 80,
   "metadata": {},
   "outputs": [
    {
     "name": "stdout",
     "output_type": "stream",
     "text": [
      "0.80 accuracy with a standard deviation of 0.06\n"
     ]
    }
   ],
   "source": [
    "print(\"%0.2f accuracy with a standard deviation of %0.2f\" % (Dystonia_Duration_results['test_score'].mean(), Dystonia_Duration_results['test_score'].std()))"
   ]
  },
  {
   "attachments": {},
   "cell_type": "markdown",
   "metadata": {},
   "source": [
    "#### Predict the Dystonia Amplitude Scores"
   ]
  },
  {
   "cell_type": "code",
   "execution_count": 81,
   "metadata": {},
   "outputs": [
    {
     "name": "stderr",
     "output_type": "stream",
     "text": [
      "[Parallel(n_jobs=-1)]: Using backend LokyBackend with 32 concurrent workers.\n",
      "c:\\Users\\zacha\\anaconda3\\envs\\ml\\lib\\site-packages\\sklearn\\model_selection\\_split.py:700: UserWarning: The least populated class in y has only 1 members, which is less than n_splits=6.\n",
      "  warnings.warn(\n",
      "[Parallel(n_jobs=-1)]: Done   6 out of   6 | elapsed:  6.4min remaining:    0.0s\n",
      "[Parallel(n_jobs=-1)]: Done   6 out of   6 | elapsed:  6.4min finished\n"
     ]
    }
   ],
   "source": [
    "Dystonia_Amplitude_y = y['Dystonia-Amplitude'].astype(str).to_numpy()\n",
    "\n",
    "hc2 =HIVECOTEV2(\n",
    "      stc_params=None,\n",
    "      drcif_params=None,\n",
    "      arsenal_params=None,\n",
    "      tde_params=None,\n",
    "      time_limit_in_minutes=1,\n",
    "      save_component_probas=False,\n",
    "      verbose=1,\n",
    "      n_jobs=-1,\n",
    "      random_state=42,\n",
    ")\n",
    "\n",
    "np.random.seed(seed=42)\n",
    "Dystonia_Amplitude_results = cross_validate(hc2, X, y=Dystonia_Amplitude_y, cv=6, n_jobs=-1, verbose=1)"
   ]
  },
  {
   "cell_type": "code",
   "execution_count": 82,
   "metadata": {},
   "outputs": [
    {
     "data": {
      "text/plain": [
       "array([0.54545455, 0.63636364, 0.63636364, 0.63636364, 0.72727273,\n",
       "       0.63636364])"
      ]
     },
     "execution_count": 82,
     "metadata": {},
     "output_type": "execute_result"
    }
   ],
   "source": [
    "Dystonia_Amplitude_results['test_score']"
   ]
  },
  {
   "cell_type": "code",
   "execution_count": 83,
   "metadata": {},
   "outputs": [
    {
     "name": "stdout",
     "output_type": "stream",
     "text": [
      "0.64 accuracy with a standard deviation of 0.05\n"
     ]
    }
   ],
   "source": [
    "print(\"%0.2f accuracy with a standard deviation of %0.2f\" % (Dystonia_Amplitude_results['test_score'].mean(), Dystonia_Amplitude_results['test_score'].std()))"
   ]
  },
  {
   "attachments": {},
   "cell_type": "markdown",
   "metadata": {},
   "source": [
    "#### Predict the Choreoathetosis Duration Scores"
   ]
  },
  {
   "cell_type": "code",
   "execution_count": 84,
   "metadata": {},
   "outputs": [
    {
     "name": "stderr",
     "output_type": "stream",
     "text": [
      "[Parallel(n_jobs=-1)]: Using backend LokyBackend with 32 concurrent workers.\n",
      "[Parallel(n_jobs=-1)]: Done   6 out of   6 | elapsed:  6.7min remaining:    0.0s\n",
      "[Parallel(n_jobs=-1)]: Done   6 out of   6 | elapsed:  6.7min finished\n"
     ]
    }
   ],
   "source": [
    "Choreoathetosis_Duration_y = y['Choreoathetosis-Duration'].astype(str).to_numpy()\n",
    "\n",
    "hc2 =HIVECOTEV2(\n",
    "      stc_params=None,\n",
    "      drcif_params=None,\n",
    "      arsenal_params=None,\n",
    "      tde_params=None,\n",
    "      time_limit_in_minutes=1,\n",
    "      save_component_probas=False,\n",
    "      verbose=1,\n",
    "      n_jobs=-1,\n",
    "      random_state=42,\n",
    ")\n",
    "\n",
    "np.random.seed(seed=42)\n",
    "Choreoathetosis_Duration_results = cross_validate(hc2, X, y=Choreoathetosis_Duration_y, cv=6, n_jobs=-1, verbose=1)"
   ]
  },
  {
   "cell_type": "code",
   "execution_count": 85,
   "metadata": {},
   "outputs": [
    {
     "data": {
      "text/plain": [
       "array([0.54545455, 0.36363636, 0.36363636, 0.09090909, 0.09090909,\n",
       "       0.09090909])"
      ]
     },
     "execution_count": 85,
     "metadata": {},
     "output_type": "execute_result"
    }
   ],
   "source": [
    "Choreoathetosis_Duration_results['test_score']"
   ]
  },
  {
   "cell_type": "code",
   "execution_count": 86,
   "metadata": {},
   "outputs": [
    {
     "name": "stdout",
     "output_type": "stream",
     "text": [
      "0.26 accuracy with a standard deviation of 0.18\n"
     ]
    }
   ],
   "source": [
    "print(\"%0.2f accuracy with a standard deviation of %0.2f\" % (Choreoathetosis_Duration_results['test_score'].mean(), Choreoathetosis_Duration_results['test_score'].std()))"
   ]
  },
  {
   "attachments": {},
   "cell_type": "markdown",
   "metadata": {},
   "source": [
    "#### Predict the Choreoathetosis Amplitude Scores"
   ]
  },
  {
   "cell_type": "code",
   "execution_count": 87,
   "metadata": {},
   "outputs": [
    {
     "name": "stderr",
     "output_type": "stream",
     "text": [
      "[Parallel(n_jobs=-1)]: Using backend LokyBackend with 32 concurrent workers.\n",
      "c:\\Users\\zacha\\anaconda3\\envs\\ml\\lib\\site-packages\\sklearn\\model_selection\\_split.py:700: UserWarning: The least populated class in y has only 3 members, which is less than n_splits=6.\n",
      "  warnings.warn(\n",
      "[Parallel(n_jobs=-1)]: Done   6 out of   6 | elapsed:  6.7min remaining:    0.0s\n",
      "[Parallel(n_jobs=-1)]: Done   6 out of   6 | elapsed:  6.7min finished\n"
     ]
    }
   ],
   "source": [
    "Choreoathetosis_Amplitude_y = y['Choreoathetosis-Amplitude'].astype(str).to_numpy()\n",
    "\n",
    "hc2 =HIVECOTEV2(\n",
    "      stc_params=None,\n",
    "      drcif_params=None,\n",
    "      arsenal_params=None,\n",
    "      tde_params=None,\n",
    "      time_limit_in_minutes=1,\n",
    "      save_component_probas=False,\n",
    "      verbose=1,\n",
    "      n_jobs=-1,\n",
    "      random_state=42,\n",
    ")\n",
    "\n",
    "np.random.seed(seed=42)\n",
    "Choreoathetosis_Amplitude_results = cross_validate(hc2, X, y=Choreoathetosis_Amplitude_y, cv=6, n_jobs=-1, verbose=1)"
   ]
  },
  {
   "cell_type": "code",
   "execution_count": 88,
   "metadata": {},
   "outputs": [
    {
     "data": {
      "text/plain": [
       "array([0.54545455, 0.63636364, 0.63636364, 0.63636364, 0.72727273,\n",
       "       0.63636364])"
      ]
     },
     "execution_count": 88,
     "metadata": {},
     "output_type": "execute_result"
    }
   ],
   "source": [
    "Dystonia_Amplitude_results['test_score']"
   ]
  },
  {
   "cell_type": "code",
   "execution_count": 89,
   "metadata": {},
   "outputs": [
    {
     "name": "stdout",
     "output_type": "stream",
     "text": [
      "0.64 accuracy with a standard deviation of 0.05\n"
     ]
    }
   ],
   "source": [
    "print(\"%0.2f accuracy with a standard deviation of %0.2f\" % (Dystonia_Amplitude_results['test_score'].mean(), Dystonia_Amplitude_results['test_score'].std()))"
   ]
  }
 ],
 "metadata": {
  "kernelspec": {
   "display_name": "ml",
   "language": "python",
   "name": "python3"
  },
  "language_info": {
   "codemirror_mode": {
    "name": "ipython",
    "version": 3
   },
   "file_extension": ".py",
   "mimetype": "text/x-python",
   "name": "python",
   "nbconvert_exporter": "python",
   "pygments_lexer": "ipython3",
   "version": "3.9.16"
  },
  "orig_nbformat": 4
 },
 "nbformat": 4,
 "nbformat_minor": 2
}
